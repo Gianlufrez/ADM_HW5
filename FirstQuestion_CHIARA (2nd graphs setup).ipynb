{
 "cells": [
  {
   "cell_type": "code",
   "execution_count": 1,
   "id": "8f7a35e6",
   "metadata": {},
   "outputs": [],
   "source": [
    "import networkx as nx\n",
    "import pandas as pd\n",
    "import matplotlib.pyplot as plt"
   ]
  },
  {
   "cell_type": "code",
   "execution_count": 27,
   "id": "f6a76d23",
   "metadata": {},
   "outputs": [
    {
     "name": "stdout",
     "output_type": "stream",
     "text": [
      "Requirement already satisfied: scipy in c:\\users\\chiara sammarco\\anaconda3\\lib\\site-packages (1.9.3)\n",
      "Requirement already satisfied: networkx in c:\\users\\chiara sammarco\\anaconda3\\lib\\site-packages (2.8.8)\n",
      "Requirement already satisfied: numpy<1.26.0,>=1.18.5 in c:\\users\\chiara sammarco\\anaconda3\\lib\\site-packages (from scipy) (1.21.5)\n",
      "Note: you may need to restart the kernel to use updated packages.\n"
     ]
    }
   ],
   "source": [
    "pip install --upgrade scipy networkx "
   ]
  },
  {
   "cell_type": "code",
   "execution_count": 28,
   "id": "ef945435",
   "metadata": {},
   "outputs": [],
   "source": [
    "nodes_heros = pd.read_csv('C:/Users/Chiara Sammarco/Desktop/Università/DATA SCIENCE - Magistrale/Esami da fare/ALGORITHMIC METHODS IN DATA MINING/HW 5/nodes.csv')\n",
    "edges_heros = pd.read_csv('C:/Users/Chiara Sammarco/Desktop/Università/DATA SCIENCE - Magistrale/Esami da fare/ALGORITHMIC METHODS IN DATA MINING/HW 5/edges.csv')"
   ]
  },
  {
   "cell_type": "code",
   "execution_count": 29,
   "id": "ff79b274",
   "metadata": {
    "scrolled": true
   },
   "outputs": [
    {
     "data": {
      "text/html": [
       "<div>\n",
       "<style scoped>\n",
       "    .dataframe tbody tr th:only-of-type {\n",
       "        vertical-align: middle;\n",
       "    }\n",
       "\n",
       "    .dataframe tbody tr th {\n",
       "        vertical-align: top;\n",
       "    }\n",
       "\n",
       "    .dataframe thead th {\n",
       "        text-align: right;\n",
       "    }\n",
       "</style>\n",
       "<table border=\"1\" class=\"dataframe\">\n",
       "  <thead>\n",
       "    <tr style=\"text-align: right;\">\n",
       "      <th></th>\n",
       "      <th>hero</th>\n",
       "      <th>comic</th>\n",
       "    </tr>\n",
       "  </thead>\n",
       "  <tbody>\n",
       "    <tr>\n",
       "      <th>0</th>\n",
       "      <td>24-HOUR MAN/EMMANUEL</td>\n",
       "      <td>AA2 35</td>\n",
       "    </tr>\n",
       "    <tr>\n",
       "      <th>1</th>\n",
       "      <td>3-D MAN/CHARLES CHAN</td>\n",
       "      <td>AVF 4</td>\n",
       "    </tr>\n",
       "    <tr>\n",
       "      <th>2</th>\n",
       "      <td>3-D MAN/CHARLES CHAN</td>\n",
       "      <td>AVF 5</td>\n",
       "    </tr>\n",
       "    <tr>\n",
       "      <th>3</th>\n",
       "      <td>3-D MAN/CHARLES CHAN</td>\n",
       "      <td>COC 1</td>\n",
       "    </tr>\n",
       "    <tr>\n",
       "      <th>4</th>\n",
       "      <td>3-D MAN/CHARLES CHAN</td>\n",
       "      <td>H2 251</td>\n",
       "    </tr>\n",
       "    <tr>\n",
       "      <th>...</th>\n",
       "      <td>...</td>\n",
       "      <td>...</td>\n",
       "    </tr>\n",
       "    <tr>\n",
       "      <th>96099</th>\n",
       "      <td>ZZZAX</td>\n",
       "      <td>H2 326</td>\n",
       "    </tr>\n",
       "    <tr>\n",
       "      <th>96100</th>\n",
       "      <td>ZZZAX</td>\n",
       "      <td>H2 327</td>\n",
       "    </tr>\n",
       "    <tr>\n",
       "      <th>96101</th>\n",
       "      <td>ZZZAX</td>\n",
       "      <td>M/CP 8/4</td>\n",
       "    </tr>\n",
       "    <tr>\n",
       "      <th>96102</th>\n",
       "      <td>ZZZAX</td>\n",
       "      <td>PM 47</td>\n",
       "    </tr>\n",
       "    <tr>\n",
       "      <th>96103</th>\n",
       "      <td>ZZZAX</td>\n",
       "      <td>WCA2 12</td>\n",
       "    </tr>\n",
       "  </tbody>\n",
       "</table>\n",
       "<p>96104 rows × 2 columns</p>\n",
       "</div>"
      ],
      "text/plain": [
       "                       hero     comic\n",
       "0      24-HOUR MAN/EMMANUEL    AA2 35\n",
       "1      3-D MAN/CHARLES CHAN     AVF 4\n",
       "2      3-D MAN/CHARLES CHAN     AVF 5\n",
       "3      3-D MAN/CHARLES CHAN     COC 1\n",
       "4      3-D MAN/CHARLES CHAN    H2 251\n",
       "...                     ...       ...\n",
       "96099                 ZZZAX    H2 326\n",
       "96100                 ZZZAX    H2 327\n",
       "96101                 ZZZAX  M/CP 8/4\n",
       "96102                 ZZZAX     PM 47\n",
       "96103                 ZZZAX   WCA2 12\n",
       "\n",
       "[96104 rows x 2 columns]"
      ]
     },
     "execution_count": 29,
     "metadata": {},
     "output_type": "execute_result"
    }
   ],
   "source": [
    "edges_heros"
   ]
  },
  {
   "cell_type": "code",
   "execution_count": 30,
   "id": "c6537880",
   "metadata": {},
   "outputs": [
    {
     "data": {
      "text/html": [
       "<div>\n",
       "<style scoped>\n",
       "    .dataframe tbody tr th:only-of-type {\n",
       "        vertical-align: middle;\n",
       "    }\n",
       "\n",
       "    .dataframe tbody tr th {\n",
       "        vertical-align: top;\n",
       "    }\n",
       "\n",
       "    .dataframe thead th {\n",
       "        text-align: right;\n",
       "    }\n",
       "</style>\n",
       "<table border=\"1\" class=\"dataframe\">\n",
       "  <thead>\n",
       "    <tr style=\"text-align: right;\">\n",
       "      <th></th>\n",
       "      <th>node</th>\n",
       "      <th>type</th>\n",
       "    </tr>\n",
       "  </thead>\n",
       "  <tbody>\n",
       "    <tr>\n",
       "      <th>0</th>\n",
       "      <td>2001 10</td>\n",
       "      <td>comic</td>\n",
       "    </tr>\n",
       "    <tr>\n",
       "      <th>1</th>\n",
       "      <td>2001 8</td>\n",
       "      <td>comic</td>\n",
       "    </tr>\n",
       "    <tr>\n",
       "      <th>2</th>\n",
       "      <td>2001 9</td>\n",
       "      <td>comic</td>\n",
       "    </tr>\n",
       "    <tr>\n",
       "      <th>3</th>\n",
       "      <td>24-HOUR MAN/EMMANUEL</td>\n",
       "      <td>hero</td>\n",
       "    </tr>\n",
       "    <tr>\n",
       "      <th>4</th>\n",
       "      <td>3-D MAN/CHARLES CHAN</td>\n",
       "      <td>hero</td>\n",
       "    </tr>\n",
       "    <tr>\n",
       "      <th>...</th>\n",
       "      <td>...</td>\n",
       "      <td>...</td>\n",
       "    </tr>\n",
       "    <tr>\n",
       "      <th>19085</th>\n",
       "      <td>ZOTA, CARLO</td>\n",
       "      <td>hero</td>\n",
       "    </tr>\n",
       "    <tr>\n",
       "      <th>19086</th>\n",
       "      <td>ZOTA</td>\n",
       "      <td>hero</td>\n",
       "    </tr>\n",
       "    <tr>\n",
       "      <th>19087</th>\n",
       "      <td>ZURAS</td>\n",
       "      <td>hero</td>\n",
       "    </tr>\n",
       "    <tr>\n",
       "      <th>19088</th>\n",
       "      <td>ZURI</td>\n",
       "      <td>hero</td>\n",
       "    </tr>\n",
       "    <tr>\n",
       "      <th>19089</th>\n",
       "      <td>ZZZAX</td>\n",
       "      <td>hero</td>\n",
       "    </tr>\n",
       "  </tbody>\n",
       "</table>\n",
       "<p>19090 rows × 2 columns</p>\n",
       "</div>"
      ],
      "text/plain": [
       "                       node   type\n",
       "0                   2001 10  comic\n",
       "1                    2001 8  comic\n",
       "2                    2001 9  comic\n",
       "3      24-HOUR MAN/EMMANUEL   hero\n",
       "4      3-D MAN/CHARLES CHAN   hero\n",
       "...                     ...    ...\n",
       "19085           ZOTA, CARLO   hero\n",
       "19086                  ZOTA   hero\n",
       "19087                 ZURAS   hero\n",
       "19088                  ZURI   hero\n",
       "19089                 ZZZAX   hero\n",
       "\n",
       "[19090 rows x 2 columns]"
      ]
     },
     "execution_count": 30,
     "metadata": {},
     "output_type": "execute_result"
    }
   ],
   "source": [
    "nodes_heros"
   ]
  },
  {
   "cell_type": "code",
   "execution_count": 33,
   "id": "77b0bc20",
   "metadata": {},
   "outputs": [],
   "source": [
    "G = nx.Graph()\n",
    "G = nx.from_pandas_edgelist(edges_heros, 'comic', 'hero')"
   ]
  },
  {
   "cell_type": "code",
   "execution_count": 34,
   "id": "db280e96",
   "metadata": {},
   "outputs": [
    {
     "name": "stderr",
     "output_type": "stream",
     "text": [
      "C:\\Users\\Chiara Sammarco\\AppData\\Local\\Temp\\ipykernel_10308\\937291259.py:1: DeprecationWarning: info is deprecated and will be removed in version 3.0.\n",
      "\n",
      "  nx.info(G) # Se loro intendono con \"graphs setup\" solamente avere il grafo e non letteralmente il plt.show() allora penso\n"
     ]
    },
    {
     "data": {
      "text/plain": [
       "'Graph with 19090 nodes and 96104 edges'"
      ]
     },
     "execution_count": 34,
     "metadata": {},
     "output_type": "execute_result"
    }
   ],
   "source": [
    "nx.info(G)"
   ]
  },
  {
   "cell_type": "markdown",
   "id": "12409470",
   "metadata": {},
   "source": [
    "We checked that the graph created using ONLY the edges dataframe has the right number of nodes and right number of edges (it does because nx.info() has output: 'Graph with 19090 nodes and 96104 edges' and the nodes dataframe, that we didn't use, has 19090 nodes, so it works)."
   ]
  },
  {
   "cell_type": "code",
   "execution_count": 2,
   "id": "e4529386",
   "metadata": {},
   "outputs": [],
   "source": [
    "# If you want to run the graph as plot:\n",
    "\n",
    "# plt.clf()\n",
    "# nx.draw(G, with_labels=True)\n",
    "# plt.show()\n",
    "\n",
    "# It takes a while so if it's not required I wouldn't run it.\n",
    "# If it is required, then we have to fix it (make it bigger and put different colors depending on the type of node\n",
    "# we have, either a 'comic' node or a 'hero' node)"
   ]
  },
  {
   "cell_type": "code",
   "execution_count": null,
   "id": "de9472c2",
   "metadata": {},
   "outputs": [],
   "source": []
  },
  {
   "cell_type": "code",
   "execution_count": null,
   "id": "c4258db6",
   "metadata": {},
   "outputs": [],
   "source": []
  },
  {
   "cell_type": "code",
   "execution_count": null,
   "id": "5766d771",
   "metadata": {},
   "outputs": [],
   "source": []
  }
 ],
 "metadata": {
  "kernelspec": {
   "display_name": "Python 3 (ipykernel)",
   "language": "python",
   "name": "python3"
  },
  "language_info": {
   "codemirror_mode": {
    "name": "ipython",
    "version": 3
   },
   "file_extension": ".py",
   "mimetype": "text/x-python",
   "name": "python",
   "nbconvert_exporter": "python",
   "pygments_lexer": "ipython3",
   "version": "3.9.12"
  }
 },
 "nbformat": 4,
 "nbformat_minor": 5
}
