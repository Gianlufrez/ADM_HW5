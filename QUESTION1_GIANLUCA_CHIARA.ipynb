{
 "cells": [
  {
   "cell_type": "markdown",
   "id": "8002599b",
   "metadata": {},
   "source": [
    "**ORE SPESE SU QUESTO HOMEWORK**\\\n",
    "- 2 ore il 14-12\n",
    "- 1 ora il 15-12\n",
    "- 2 ore il 16-12\n",
    "- 2 ore il 20-12\n",
    "- 3 ore il 22-12\n",
    "- 2 ore il 23-12\n",
    "- 3 ore il 24-12\n",
    "- 4 ore il 26-12\n",
    "- 2 ore l 27-12\n",
    "- 1 ora il 28-12"
   ]
  },
  {
   "cell_type": "markdown",
   "id": "9025f49f",
   "metadata": {},
   "source": [
    "# TO DO LIST:\n",
    "- cancella le prime librerie importate a fine homewrok, stanno li solo per comodita\n",
    "- sistemare i pesi nel grafo 1\n",
    "\n",
    "\n",
    "# CONTROLLATO TUTTO FINO A:\n",
    "- fun 7 da iniziare , ricontrolla pero la parte di graphs set up\n"
   ]
  },
  {
   "cell_type": "code",
   "execution_count": null,
   "id": "5f72eb6b",
   "metadata": {},
   "outputs": [],
   "source": [
    "#DA CANCELLARE\n",
    "\n",
    "import pandas as pd\n",
    "from datetime import datetime\n",
    "import numpy as np\n",
    "import seaborn as sns\n",
    "import matplotlib.pyplot as plt\n",
    "from sklearn import preprocessing\n",
    "from sklearn.decomposition import PCA\n",
    "from matplotlib.pyplot import figure\n",
    "from scipy.spatial.distance import cdist\n",
    "from random import randint\n",
    "from sklearn.cluster import KMeans\n",
    "from yellowbrick.cluster import KElbowVisualizer\n",
    "from collections import defaultdict\n",
    "from operator import itemgetter\n",
    "from yellowbrick.cluster import SilhouetteVisualizer\n",
    "from sklearn.metrics import calinski_harabasz_score\n",
    "from sklearn.metrics import silhouette_score\n",
    "from sklearn.metrics import davies_bouldin_score\n",
    "from sklearn.cluster import MiniBatchKMeans\n",
    "from sklearn_extra.robust import RobustWeightedKMeans"
   ]
  },
  {
   "cell_type": "code",
   "execution_count": null,
   "id": "894e72ef",
   "metadata": {},
   "outputs": [],
   "source": [
    "import pandas as pd\n",
    "import numpy as np\n",
    "import networkx as nx\n",
    "import matplotlib.pyplot as plt\n",
    "from collections import defaultdict\n",
    "from collections import OrderedDict\n",
    "from itertools import islice\n",
    "import warnings\n",
    "import seaborn as sns\n",
    "import matplotlib.pyplot as plt"
   ]
  },
  {
   "cell_type": "markdown",
   "id": "b357eaa5",
   "metadata": {},
   "source": [
    "## Let's import the datasets\n",
    "**HERO-NETWORK:**\\\n",
    "It contains the network of heroes who have appeared together in the comics."
   ]
  },
  {
   "cell_type": "code",
   "execution_count": 97,
   "id": "d0341305",
   "metadata": {},
   "outputs": [],
   "source": [
    "dfheros = pd.read_csv(r'C:\\Users\\gianl\\Documents\\Università_4°anno(2022-2023\\ADM\\HOMEWORK\\HOMEWORK 5\\hero-network.csv')"
   ]
  },
  {
   "cell_type": "code",
   "execution_count": 4,
   "id": "6cb6ceb5",
   "metadata": {},
   "outputs": [
    {
     "data": {
      "text/html": [
       "<div>\n",
       "<style scoped>\n",
       "    .dataframe tbody tr th:only-of-type {\n",
       "        vertical-align: middle;\n",
       "    }\n",
       "\n",
       "    .dataframe tbody tr th {\n",
       "        vertical-align: top;\n",
       "    }\n",
       "\n",
       "    .dataframe thead th {\n",
       "        text-align: right;\n",
       "    }\n",
       "</style>\n",
       "<table border=\"1\" class=\"dataframe\">\n",
       "  <thead>\n",
       "    <tr style=\"text-align: right;\">\n",
       "      <th></th>\n",
       "      <th>hero1</th>\n",
       "      <th>hero2</th>\n",
       "    </tr>\n",
       "  </thead>\n",
       "  <tbody>\n",
       "    <tr>\n",
       "      <th>0</th>\n",
       "      <td>LITTLE, ABNER</td>\n",
       "      <td>PRINCESS ZANDA</td>\n",
       "    </tr>\n",
       "    <tr>\n",
       "      <th>1</th>\n",
       "      <td>LITTLE, ABNER</td>\n",
       "      <td>BLACK PANTHER/T'CHAL</td>\n",
       "    </tr>\n",
       "    <tr>\n",
       "      <th>2</th>\n",
       "      <td>BLACK PANTHER/T'CHAL</td>\n",
       "      <td>PRINCESS ZANDA</td>\n",
       "    </tr>\n",
       "    <tr>\n",
       "      <th>3</th>\n",
       "      <td>LITTLE, ABNER</td>\n",
       "      <td>PRINCESS ZANDA</td>\n",
       "    </tr>\n",
       "    <tr>\n",
       "      <th>4</th>\n",
       "      <td>LITTLE, ABNER</td>\n",
       "      <td>BLACK PANTHER/T'CHAL</td>\n",
       "    </tr>\n",
       "  </tbody>\n",
       "</table>\n",
       "</div>"
      ],
      "text/plain": [
       "                  hero1                 hero2\n",
       "0         LITTLE, ABNER        PRINCESS ZANDA\n",
       "1         LITTLE, ABNER  BLACK PANTHER/T'CHAL\n",
       "2  BLACK PANTHER/T'CHAL        PRINCESS ZANDA\n",
       "3         LITTLE, ABNER        PRINCESS ZANDA\n",
       "4         LITTLE, ABNER  BLACK PANTHER/T'CHAL"
      ]
     },
     "execution_count": 4,
     "metadata": {},
     "output_type": "execute_result"
    }
   ],
   "source": [
    "dfheros.head(5)"
   ]
  },
  {
   "cell_type": "code",
   "execution_count": 5,
   "id": "28bbbf84",
   "metadata": {},
   "outputs": [
    {
     "data": {
      "text/plain": [
       "(574467, 2)"
      ]
     },
     "execution_count": 5,
     "metadata": {},
     "output_type": "execute_result"
    }
   ],
   "source": [
    "dfheros.shape"
   ]
  },
  {
   "cell_type": "markdown",
   "id": "1fe8f99b",
   "metadata": {},
   "source": [
    "**EDGES:**\\\n",
    "It contains two columns (hero, comic), indicating which comics the heroes appear in."
   ]
  },
  {
   "cell_type": "code",
   "execution_count": 6,
   "id": "a1b1ad43",
   "metadata": {},
   "outputs": [],
   "source": [
    "dfedges = pd.read_csv(r'C:\\Users\\gianl\\Documents\\Università_4°anno(2022-2023\\ADM\\HOMEWORK\\HOMEWORK 5\\edges.csv')"
   ]
  },
  {
   "cell_type": "code",
   "execution_count": 7,
   "id": "ec6a5ab4",
   "metadata": {},
   "outputs": [
    {
     "data": {
      "text/html": [
       "<div>\n",
       "<style scoped>\n",
       "    .dataframe tbody tr th:only-of-type {\n",
       "        vertical-align: middle;\n",
       "    }\n",
       "\n",
       "    .dataframe tbody tr th {\n",
       "        vertical-align: top;\n",
       "    }\n",
       "\n",
       "    .dataframe thead th {\n",
       "        text-align: right;\n",
       "    }\n",
       "</style>\n",
       "<table border=\"1\" class=\"dataframe\">\n",
       "  <thead>\n",
       "    <tr style=\"text-align: right;\">\n",
       "      <th></th>\n",
       "      <th>hero</th>\n",
       "      <th>comic</th>\n",
       "    </tr>\n",
       "  </thead>\n",
       "  <tbody>\n",
       "    <tr>\n",
       "      <th>0</th>\n",
       "      <td>24-HOUR MAN/EMMANUEL</td>\n",
       "      <td>AA2 35</td>\n",
       "    </tr>\n",
       "    <tr>\n",
       "      <th>1</th>\n",
       "      <td>3-D MAN/CHARLES CHAN</td>\n",
       "      <td>AVF 4</td>\n",
       "    </tr>\n",
       "    <tr>\n",
       "      <th>2</th>\n",
       "      <td>3-D MAN/CHARLES CHAN</td>\n",
       "      <td>AVF 5</td>\n",
       "    </tr>\n",
       "    <tr>\n",
       "      <th>3</th>\n",
       "      <td>3-D MAN/CHARLES CHAN</td>\n",
       "      <td>COC 1</td>\n",
       "    </tr>\n",
       "    <tr>\n",
       "      <th>4</th>\n",
       "      <td>3-D MAN/CHARLES CHAN</td>\n",
       "      <td>H2 251</td>\n",
       "    </tr>\n",
       "  </tbody>\n",
       "</table>\n",
       "</div>"
      ],
      "text/plain": [
       "                   hero   comic\n",
       "0  24-HOUR MAN/EMMANUEL  AA2 35\n",
       "1  3-D MAN/CHARLES CHAN   AVF 4\n",
       "2  3-D MAN/CHARLES CHAN   AVF 5\n",
       "3  3-D MAN/CHARLES CHAN   COC 1\n",
       "4  3-D MAN/CHARLES CHAN  H2 251"
      ]
     },
     "execution_count": 7,
     "metadata": {},
     "output_type": "execute_result"
    }
   ],
   "source": [
    "dfedges.head(5)"
   ]
  },
  {
   "cell_type": "code",
   "execution_count": 8,
   "id": "02eafc90",
   "metadata": {},
   "outputs": [
    {
     "data": {
      "text/plain": [
       "(96104, 2)"
      ]
     },
     "execution_count": 8,
     "metadata": {},
     "output_type": "execute_result"
    }
   ],
   "source": [
    "dfedges.shape"
   ]
  },
  {
   "cell_type": "markdown",
   "id": "35c43d95",
   "metadata": {},
   "source": [
    "**NODES:**\\\n",
    "It contains two columns (node, type), indicating the nodes' name and its type (comic, hero)."
   ]
  },
  {
   "cell_type": "code",
   "execution_count": 9,
   "id": "d4cad954",
   "metadata": {},
   "outputs": [],
   "source": [
    "dfnodes = pd.read_csv(r'C:\\Users\\gianl\\Documents\\Università_4°anno(2022-2023\\ADM\\HOMEWORK\\HOMEWORK 5\\nodes.csv')"
   ]
  },
  {
   "cell_type": "code",
   "execution_count": 10,
   "id": "460959ed",
   "metadata": {},
   "outputs": [
    {
     "data": {
      "text/html": [
       "<div>\n",
       "<style scoped>\n",
       "    .dataframe tbody tr th:only-of-type {\n",
       "        vertical-align: middle;\n",
       "    }\n",
       "\n",
       "    .dataframe tbody tr th {\n",
       "        vertical-align: top;\n",
       "    }\n",
       "\n",
       "    .dataframe thead th {\n",
       "        text-align: right;\n",
       "    }\n",
       "</style>\n",
       "<table border=\"1\" class=\"dataframe\">\n",
       "  <thead>\n",
       "    <tr style=\"text-align: right;\">\n",
       "      <th></th>\n",
       "      <th>node</th>\n",
       "      <th>type</th>\n",
       "    </tr>\n",
       "  </thead>\n",
       "  <tbody>\n",
       "    <tr>\n",
       "      <th>0</th>\n",
       "      <td>2001 10</td>\n",
       "      <td>comic</td>\n",
       "    </tr>\n",
       "    <tr>\n",
       "      <th>1</th>\n",
       "      <td>2001 8</td>\n",
       "      <td>comic</td>\n",
       "    </tr>\n",
       "    <tr>\n",
       "      <th>2</th>\n",
       "      <td>2001 9</td>\n",
       "      <td>comic</td>\n",
       "    </tr>\n",
       "    <tr>\n",
       "      <th>3</th>\n",
       "      <td>24-HOUR MAN/EMMANUEL</td>\n",
       "      <td>hero</td>\n",
       "    </tr>\n",
       "    <tr>\n",
       "      <th>4</th>\n",
       "      <td>3-D MAN/CHARLES CHAN</td>\n",
       "      <td>hero</td>\n",
       "    </tr>\n",
       "  </tbody>\n",
       "</table>\n",
       "</div>"
      ],
      "text/plain": [
       "                   node   type\n",
       "0               2001 10  comic\n",
       "1                2001 8  comic\n",
       "2                2001 9  comic\n",
       "3  24-HOUR MAN/EMMANUEL   hero\n",
       "4  3-D MAN/CHARLES CHAN   hero"
      ]
     },
     "execution_count": 10,
     "metadata": {},
     "output_type": "execute_result"
    }
   ],
   "source": [
    "dfnodes.head(5)"
   ]
  },
  {
   "cell_type": "code",
   "execution_count": 11,
   "id": "40261dfe",
   "metadata": {},
   "outputs": [
    {
     "data": {
      "text/plain": [
       "(19090, 2)"
      ]
     },
     "execution_count": 11,
     "metadata": {},
     "output_type": "execute_result"
    }
   ],
   "source": [
    "dfnodes.shape"
   ]
  },
  {
   "cell_type": "markdown",
   "id": "bcc8b693",
   "metadata": {},
   "source": [
    "# QUESTION 1: DATA"
   ]
  },
  {
   "cell_type": "markdown",
   "id": "0f715a3d",
   "metadata": {},
   "source": [
    "## DATA PREPROCESSING\n",
    "### 1)"
   ]
  },
  {
   "cell_type": "markdown",
   "id": "0f30ae6c",
   "metadata": {},
   "source": [
    "**1.1**"
   ]
  },
  {
   "cell_type": "markdown",
   "id": "425c6636",
   "metadata": {},
   "source": [
    "\"Some heroes' names in 'hero-netowrk.csv' have extra spaces at the end of their names compared to their names in 'edges.csv'\" :"
   ]
  },
  {
   "cell_type": "markdown",
   "id": "4bfc7c32",
   "metadata": {},
   "source": [
    "- The following command gets the string of heroes inside column 'hero1' (in dataset heros) that have a space in the last position: '  '. Once we have these heroes, we edit the string by deleting the space in the last position."
   ]
  },
  {
   "cell_type": "code",
   "execution_count": 98,
   "id": "c2c9ab09",
   "metadata": {},
   "outputs": [],
   "source": [
    "for i in range(len(dfheros.hero1)):\n",
    "    if dfheros.hero1[i][-1] == ' ':\n",
    "        dfheros.hero1[i]= dfheros.hero1[i][0:-1]"
   ]
  },
  {
   "cell_type": "markdown",
   "id": "91afb7cc",
   "metadata": {},
   "source": [
    "**1.2**"
   ]
  },
  {
   "cell_type": "markdown",
   "id": "2732b704",
   "metadata": {},
   "source": [
    "Some heroes' names in 'hero-netowrk.csv' have an extra '/' at the end of their names compared to their names in 'edges.csv'."
   ]
  },
  {
   "cell_type": "markdown",
   "id": "bfb12a3f",
   "metadata": {},
   "source": [
    "- We could do the same thing of above, but we noticed that in the column hero (dataset edges) we have heros which have in the last position a slash: '/'. So we can't just remove all '/' in last position in hero (dataset edges) otherwise we will end up in the opposite situation, i.e. heroes that have an extra '/' in the heroes dataset but don't have it in the edges dataset. Instead we should remove only the heroes that within hero1 (in dataset heros) have a slash in the last position, while in hero (dataset edges) they don't.\n",
    "\n",
    "- However, to make things easier, we decided to remove the / in the last position in all heroes even those that are normally registered with the / in the last position (for example 8-BALL/ it is normally registered with the / in the last position because it has it in both the heros and edges datasets, but to make things easier we will remove the / even for 8-BALL/ in both dataset)\n",
    "\n",
    "- The following query, therefore, removes the / in last position (to whoever has it) to all heroes in 'hero1' (dataset heros) and in 'hero' (dataset edges):"
   ]
  },
  {
   "cell_type": "code",
   "execution_count": 99,
   "id": "7bd8a4b3",
   "metadata": {},
   "outputs": [],
   "source": [
    "#for the dataset 'dfheros' in column 'hero1'\n",
    "for i in range(len(dfheros.hero1)):\n",
    "    if dfheros.hero1[i][-1] == '/':\n",
    "        dfheros.hero1[i]= dfheros.hero1[i][0:-1]\n",
    "        \n",
    "#for the dataset 'dfheros' in column 'hero2'\n",
    "for i in range(len(dfheros.hero2)):\n",
    "    if dfheros.hero2[i][-1] == '/':\n",
    "        dfheros.hero2[i]= dfheros.hero2[i][0:-1]\n",
    "        \n",
    "#for the dataset 'dfedges' in column 'hero'\n",
    "for i in range(len(dfedges.hero)):\n",
    "    if dfedges.hero[i][-1] == '/':\n",
    "        dfedges.hero[i]= dfedges.hero[i][0:-1]"
   ]
  },
  {
   "cell_type": "markdown",
   "id": "40d2d726",
   "metadata": {},
   "source": [
    "**1.3**"
   ]
  },
  {
   "cell_type": "markdown",
   "id": "385b6ffb",
   "metadata": {},
   "source": [
    "The hero name 'SPIDER-MAN/PETER PARKER' in 'edges.csv' has been changed to 'SPIDER-MAN/PETER PAR' in 'hero-network.csv' due to a string length limit in 'hero-network.csv'"
   ]
  },
  {
   "cell_type": "markdown",
   "id": "08f11de2",
   "metadata": {},
   "source": [
    "We can see inside the dataset edges there are 1577 times the name 'SPIDER-MAN/PETER PARKER' in the column 'hero'."
   ]
  },
  {
   "cell_type": "code",
   "execution_count": 14,
   "id": "13eb7563",
   "metadata": {},
   "outputs": [
    {
     "data": {
      "text/plain": [
       "(1577, 2)"
      ]
     },
     "execution_count": 14,
     "metadata": {},
     "output_type": "execute_result"
    }
   ],
   "source": [
    "dfedges[dfedges.hero == 'SPIDER-MAN/PETER PARKER'].shape"
   ]
  },
  {
   "cell_type": "markdown",
   "id": "6673f839",
   "metadata": {},
   "source": [
    "In order to avoid the problem of having two different name for the same hero in two different dataset, we decided to change inside the dataset edges, the name of the hero 'SPIDER-MAN/PETER PARKER' in 'SPIDER-MAN/PETER PAR'."
   ]
  },
  {
   "cell_type": "code",
   "execution_count": 15,
   "id": "1ebf9a67",
   "metadata": {},
   "outputs": [],
   "source": [
    "dfedges.hero = dfedges.hero.replace('SPIDER-MAN/PETER PARKER', 'SPIDER-MAN/PETER PAR')"
   ]
  },
  {
   "cell_type": "markdown",
   "id": "2057311d",
   "metadata": {},
   "source": [
    "Altought before were 1577 rows, now we can see that 'SPIDER-MAN/PETER PARKER' doesn't appear anymore."
   ]
  },
  {
   "cell_type": "code",
   "execution_count": 16,
   "id": "44e3ec62",
   "metadata": {},
   "outputs": [
    {
     "data": {
      "text/plain": [
       "(0, 2)"
      ]
     },
     "execution_count": 16,
     "metadata": {},
     "output_type": "execute_result"
    }
   ],
   "source": [
    "dfedges[dfedges.hero == 'SPIDER-MAN/PETER PARKER'].shape"
   ]
  },
  {
   "cell_type": "markdown",
   "id": "c8f906fe",
   "metadata": {},
   "source": [
    "### 2)"
   ]
  },
  {
   "cell_type": "markdown",
   "id": "e8c0cf80",
   "metadata": {},
   "source": [
    "Some entries in the 'hero-network.csv' have the same hero in both columns. In the graph, these entries form a self-loop. Because a self-loop makes no sense in this network, you can safely remove those from the dataset."
   ]
  },
  {
   "cell_type": "markdown",
   "id": "adae7bfd",
   "metadata": {},
   "source": [
    "- We can observe from the following cell that the rows we need to delete are 2232."
   ]
  },
  {
   "cell_type": "code",
   "execution_count": 17,
   "id": "e2e1fd77",
   "metadata": {},
   "outputs": [
    {
     "name": "stdout",
     "output_type": "stream",
     "text": [
      "The number of total rows are:  574467 \n",
      "Instead, the number of rows that have the same hero in 'hero1' and 'hero2' are:  2232\n"
     ]
    }
   ],
   "source": [
    "counter = 0\n",
    "for i in range(len(dfheros.hero1)):\n",
    "    if dfheros.hero1[i] == dfheros.hero2[i]:\n",
    "        counter += 1\n",
    "print('The number of total rows are: ', len(dfheros), \"\\nInstead, the number of rows that have the same hero in 'hero1' and 'hero2' are: \", counter)"
   ]
  },
  {
   "cell_type": "markdown",
   "id": "1425141f",
   "metadata": {},
   "source": [
    "- The following code iterates through the heros dataframe, if it encounters a row that has the same name in 'hero1' and 'hero2' then it deletes that row."
   ]
  },
  {
   "cell_type": "code",
   "execution_count": 18,
   "id": "89227f22",
   "metadata": {},
   "outputs": [],
   "source": [
    "for i in range(len(dfheros.hero1)):\n",
    "    if dfheros.hero1[i] == dfheros.hero2[i]:\n",
    "        dfheros = dfheros.drop(i)"
   ]
  },
  {
   "cell_type": "markdown",
   "id": "3992f85c",
   "metadata": {},
   "source": [
    "- Let's verify that 2232 rows have actually been deleted!\n",
    "\n",
    "- Before we had a length of 574467, subtracting 2232 from it, we should obtain that the length of the dataframe is now equal to 572235:"
   ]
  },
  {
   "cell_type": "code",
   "execution_count": 19,
   "id": "a379f579",
   "metadata": {},
   "outputs": [
    {
     "data": {
      "text/plain": [
       "572235"
      ]
     },
     "execution_count": 19,
     "metadata": {},
     "output_type": "execute_result"
    }
   ],
   "source": [
    "len(dfheros)"
   ]
  },
  {
   "cell_type": "markdown",
   "id": "e806b021",
   "metadata": {},
   "source": [
    "## GRAPHS SETUP\n",
    "### 1)"
   ]
  },
  {
   "cell_type": "markdown",
   "id": "cb4a22ec",
   "metadata": {},
   "source": [
    "- An edge between two heroes can be found if they have appeared in the same comic together. DIRE QUALCOSA SUI PESI!!!! Let's find all edges"
   ]
  },
  {
   "cell_type": "code",
   "execution_count": 20,
   "id": "98346a29",
   "metadata": {},
   "outputs": [],
   "source": [
    "#SISTEMARE I PESI, NON CAPISCO COME CAZZO DOBBIAMO FARLI, LEGGI ANCHE SLACK NEL CASO\n",
    "edges = dfheros.groupby(['hero1', 'hero2']).size().reset_index(name='weight')\n",
    "\n",
    "# crea il grafo\n",
    "G1 = nx.from_pandas_edgelist(edges, 'hero1', 'hero2', edge_attr='weight')"
   ]
  },
  {
   "cell_type": "code",
   "execution_count": 27,
   "id": "95e4d7f9",
   "metadata": {},
   "outputs": [
    {
     "data": {
      "text/plain": [
       "'Graph with 6947 nodes and 181383 edges'"
      ]
     },
     "execution_count": 27,
     "metadata": {},
     "output_type": "execute_result"
    }
   ],
   "source": [
    "warnings.filterwarnings(\"ignore\", category=DeprecationWarning) #this command is used to don't visualize the warnings\n",
    "nx.info(G1)"
   ]
  },
  {
   "cell_type": "code",
   "execution_count": 22,
   "id": "c5e25522",
   "metadata": {},
   "outputs": [
    {
     "name": "stdout",
     "output_type": "stream",
     "text": [
      "L'arco (CAPTAIN AMERICA, IRON MAN/TONY STARK ) ha peso 220\n"
     ]
    }
   ],
   "source": [
    "for u, v, d in G1.edges(data=True):\n",
    "    if (d['weight']) == 220:\n",
    "        print(f\"L'arco ({u}, {v}) ha peso {d['weight']}\")"
   ]
  },
  {
   "cell_type": "markdown",
   "id": "e47b14ee",
   "metadata": {},
   "source": [
    "### 2)"
   ]
  },
  {
   "cell_type": "markdown",
   "id": "41f7514a",
   "metadata": {},
   "source": [
    "- The following graph has all heroes and comics as nodes, taken from the \"node\" column of the \"dfnodes\" dataset. Here there will not be edges connecting two heroes or two comics together, but just edges connecting hero and comic. A hero is connected by a edge to the comic only if that hero has appeared in that specific comic."
   ]
  },
  {
   "cell_type": "code",
   "execution_count": 23,
   "id": "8af80d9a",
   "metadata": {},
   "outputs": [],
   "source": [
    "G2 = nx.Graph()\n",
    "G2 = nx.from_pandas_edgelist(dfedges, 'comic', 'hero')\n",
    "\n",
    "# we add the type of each node, hero or comic (we will need in functionality 1)for index, row in dfedges.iterrows():\n",
    "G2.add_node(row['hero'], type='hero')\n",
    "G2.add_node(row['comic'], type='comic')"
   ]
  },
  {
   "cell_type": "code",
   "execution_count": 24,
   "id": "ce4d1202",
   "metadata": {},
   "outputs": [
    {
     "data": {
      "text/plain": [
       "'Graph with 19087 nodes and 96104 edges'"
      ]
     },
     "execution_count": 24,
     "metadata": {},
     "output_type": "execute_result"
    }
   ],
   "source": [
    "warnings.filterwarnings(\"ignore\", category=DeprecationWarning) #this command is used to hide the warnings\n",
    "nx.info(G2)"
   ]
  },
  {
   "cell_type": "markdown",
   "id": "49cb4633",
   "metadata": {},
   "source": [
    "# QUESTION 2: BACKEND IMPLEMENTATION"
   ]
  },
  {
   "cell_type": "markdown",
   "id": "9c8bdc5f",
   "metadata": {},
   "source": [
    "## Functionality 1 - extract the graph's features"
   ]
  },
  {
   "cell_type": "markdown",
   "id": "2adac404",
   "metadata": {},
   "source": [
    "**Top N heroes**: The top N heroes who have appeared in the most number of comics."
   ]
  },
  {
   "cell_type": "code",
   "execution_count": 25,
   "id": "e4067272",
   "metadata": {},
   "outputs": [],
   "source": [
    "def top_N_heroes(df, N = None):\n",
    "    if N == None:\n",
    "        N = len(df)\n",
    "    \n",
    "    # group by 'hero' and count the number of comics where each hero has appeared\n",
    "    df_counts = df.groupby('hero').comic.count().reset_index(name='count')\n",
    "    df_counts = df_counts.sort_values(by='count', ascending=False)\n",
    "    \n",
    "    # take the N heroes who have appeared in the most number of comics\n",
    "    top_N = df_counts[:N]\n",
    "    \n",
    "    # names of top N heroes\n",
    "    names_topN = top_N['hero']\n",
    "    \n",
    "    return list(names_topN)"
   ]
  },
  {
   "cell_type": "markdown",
   "id": "8ae60b6a",
   "metadata": {},
   "source": [
    "#### F1.1 The number of nodes in the network (if type 2, report for both node types)"
   ]
  },
  {
   "cell_type": "markdown",
   "id": "d9ba4548",
   "metadata": {},
   "source": [
    "- The following function takes as input the graph and the type of graph, if the type of graph is 1, it returns the number of total nodes, if instead the type of graph is 2, it returns the number of total nodes that refer to a hero and the number of total nodes that refer to a comic."
   ]
  },
  {
   "cell_type": "code",
   "execution_count": 100,
   "id": "3123f5b9",
   "metadata": {},
   "outputs": [],
   "source": [
    "def nodes(graph, graph_type):\n",
    "    # if graph type is equal to 1, return the total number of nodes\n",
    "    if graph_type == 1:\n",
    "        return (f\"The graph has {graph.number_of_nodes()} nodes\")\n",
    "        \n",
    "    #if instead graph type is equal to 2, count all nodes that refer to a hero and all nodes that refer to a comic and return them.\n",
    "    else:   \n",
    "        attributes = nx.get_node_attributes(graph, 'type')\n",
    "        count_hero = list(attributes.values()).count('hero')\n",
    "        count_comic = list(attributes.values()).count('comic')\n",
    "        return (f\"The graph has {count_hero} nodes referring to heros.\")\n",
    "        return (f\"The graph has {count_comic} nodes referring to comics.\")"
   ]
  },
  {
   "cell_type": "markdown",
   "id": "925bb5ee",
   "metadata": {},
   "source": [
    "#### F1.2 The number of collaborations of each superhero with the others (only if type 1)"
   ]
  },
  {
   "cell_type": "markdown",
   "id": "30fe6dcf",
   "metadata": {},
   "source": [
    "- The following function takes as input the graph, the type of graph and the number of top N heroes to be considered and outputs the number of collaborations of each hero with the others."
   ]
  },
  {
   "cell_type": "code",
   "execution_count": 105,
   "id": "176e570c",
   "metadata": {},
   "outputs": [],
   "source": [
    "def collaborations(graph, graph_type, N= None):\n",
    "    # If graph type is equal to 2 we can't compute it.\n",
    "    if graph_type == 2:\n",
    "        return (\"Sorry, I can't compute the number of collaborations of each superhero with the others for type 2 graphs, only for type 1 graphs.\")\n",
    "        \n",
    "    else:\n",
    "        \n",
    "        # Create a new empty dictionary\n",
    "        node_degrees = {}\n",
    "    \n",
    "        # Compute the degree of each node and add it to the dictionary\n",
    "        for node in graph:\n",
    "            degree = graph.degree(node)\n",
    "            node_degrees[node] = degree\n",
    "            \n",
    "        # Sort the dictionary by its values\n",
    "        sorted_dict = dict(sorted(node_degrees.items(), key=lambda x: x[1], reverse=True))\n",
    "        \n",
    "        \n",
    "        # So far we have created an ordered dictionary where we have heroes as keys and as values the number of collaborations\n",
    "        # they have. How ever we want a dictionary sorted by top N heroes. Let's do it!\n",
    "        \n",
    "        \n",
    "        # Create a new empty dictionary\n",
    "        dizionario_filtrato = {}\n",
    "        \n",
    "        # Go through the list of top N heroes and add hero after hero to the dictionary, with its corresponding value of collaborations.\n",
    "        for elemento in top_N_heroes(dfedges, N = None):\n",
    "            if elemento in sorted_dict:\n",
    "                dizionario_filtrato[elemento] = sorted_dict[elemento]\n",
    "                \n",
    "        # Return the first N element of the dictionary (which are the top N heroes)  \n",
    "        return dict(islice(dizionario_filtrato.items(), N))"
   ]
  },
  {
   "cell_type": "markdown",
   "id": "2341bc78",
   "metadata": {},
   "source": [
    "**F1.3 The number of heroes that have appeared in each comic (only if type 2)**"
   ]
  },
  {
   "cell_type": "markdown",
   "id": "cc5999f0",
   "metadata": {},
   "source": [
    "- The following function takes as input the graph, the type of graph and an integer N and returns as output an ordered dictionary of length N, in which there are comics as key and as values the number of heroes appeared in that comic. \n",
    "\n",
    "\n",
    "- The decision to give N as input (which in the final function 'features' actually indicates the number of top N heroes) is due to the fact that taking the whole dictionary (and not just the first N elements), the function returns a dictionary of length 12651, and in terms of visualization for the final function it wasn't confortable."
   ]
  },
  {
   "cell_type": "code",
   "execution_count": 128,
   "id": "6491e503",
   "metadata": {},
   "outputs": [],
   "source": [
    "def heros_per_comic(graph, graph_type, N= None):\n",
    "    # If graph type is equal to 1 we can't compute it.\n",
    "    if graph_type == 1:\n",
    "        return (\"Sorry, I can't compute the number of heroes that have appeared in each comic for type 1 graphs, only for type 2 graphs.\")\n",
    "    \n",
    "    else:\n",
    "        # Create a dictionary that has the node as the key and the type of that node as the value (comic or hero)\n",
    "        attributes = nx.get_node_attributes(graph, 'type')\n",
    "        \n",
    "        # Crea filtered_d, ovvero un dizionario che ha come elementi solo nodi di tipo 'comic'\n",
    "        filtered_d = {k: v for k, v in attributes.items() if v != 'hero'}\n",
    "        \n",
    "        # Create a new empty dictionary\n",
    "        final_d = {}\n",
    "        \n",
    "        # For each key in filtered_d (which would all be nodes of type comic), calculate the degree and add to the final_d \n",
    "        # dictionary that node as the key and the degree as the value\n",
    "        for i in filtered_d:\n",
    "            final_d[i] = graph.degree(i)\n",
    "            \n",
    "        # Sort the dictionary by its values\n",
    "        sorted_d = dict(sorted(final_d.items(), key=lambda item: item[1], reverse = True))\n",
    "        \n",
    "        # Returns the first N elements of the dictionary\n",
    "        return dict(islice(sorted_d.items(), N))"
   ]
  },
  {
   "cell_type": "markdown",
   "id": "74c2dffb",
   "metadata": {},
   "source": [
    "**F1.4 The network's density**"
   ]
  },
  {
   "cell_type": "markdown",
   "id": "70a227f0",
   "metadata": {},
   "source": [
    "- In a network, density refers to the number of edges in the network compared to the total number of possible edges. A network with a high density has a large number of edges, while a network with a low density has few of them.\n",
    "\n",
    "\n",
    "- To compute the density of a network, we need to use the following formula:\n",
    "  - Density = (Number of edges in the network) / (Total number of possible edges)"
   ]
  },
  {
   "cell_type": "code",
   "execution_count": 129,
   "id": "a4a9ebbc",
   "metadata": {},
   "outputs": [],
   "source": [
    "def density(graph):\n",
    "    # Compute the total number of nodes\n",
    "    num_edges = graph.number_of_edges()\n",
    "    # Compute the total number of edges\n",
    "    num_possible_edges = (graph.number_of_nodes() * (graph.number_of_nodes() - 1)) / 2\n",
    "    # Compute the density\n",
    "    density = num_edges / num_possible_edges\n",
    "    return round(density,4)"
   ]
  },
  {
   "cell_type": "markdown",
   "id": "f5b43f12",
   "metadata": {},
   "source": [
    "**F1.5 The network's degree distribution**"
   ]
  },
  {
   "cell_type": "markdown",
   "id": "52bcd6be",
   "metadata": {},
   "source": [
    "- The distribution degree of a graph is a measure of how often different degrees of nodes appear within the graph. The following function takes the graph as input and returns the degree distribution, i.e. a dictionary whose keys are the degrees of the nodes of the graph and as values it has the number of nodes within the graph that have that degree."
   ]
  },
  {
   "cell_type": "code",
   "execution_count": 158,
   "id": "c41df720",
   "metadata": {},
   "outputs": [],
   "source": [
    "def distribution(graph):\n",
    "  # Create an empty dictionary to count the number of nodes with each degree\n",
    "  degree_count = {}\n",
    "\n",
    "  # Iterate over the nodes of the graph\n",
    "  for node in graph.nodes():\n",
    "    # Get the degree of the current node using the degree method of NetworkX\n",
    "    degree = graph.degree(node)\n",
    "\n",
    "    # If the degree is not yet in the dictionary, add a new entry\n",
    "    if degree not in degree_count:\n",
    "        degree_count[degree] = 0\n",
    "\n",
    "    # Increment the counter for the current degree\n",
    "    degree_count[degree] += 1\n",
    "\n",
    "  # Sort the dictionary by keys (the degrees of the nodes) in ascending order\n",
    "  degree_count = sorted(degree_count.items(), key=lambda x: x[0])\n",
    "\n",
    "  # Return the sorted dictionary\n",
    "  return dict(degree_count)"
   ]
  },
  {
   "cell_type": "markdown",
   "id": "2e796624",
   "metadata": {},
   "source": [
    "**F1.6 The average degree of the network**"
   ]
  },
  {
   "cell_type": "markdown",
   "id": "f2feb2ba",
   "metadata": {},
   "source": [
    "- The following function takes a graph as input and returns the average degree of that graph. The average degree would be the sum of all the degrees of the nodes, divided by how many nodes there are within the graph."
   ]
  },
  {
   "cell_type": "code",
   "execution_count": 162,
   "id": "773ce17d",
   "metadata": {},
   "outputs": [],
   "source": [
    "def average_degree(graph):\n",
    "    # Initialize the total degree counter to zero\n",
    "    total_degree = 0\n",
    "  \n",
    "    # Iterate over the nodes of the graph and add the degree of every node to the total degree counter\n",
    "    for node in graph:\n",
    "        total_degree += len(graph[node])\n",
    "  \n",
    "    # Divide the total degree by the number of nodes in the graph and return the rounded result\n",
    "    return round(total_degree / len(graph))"
   ]
  },
  {
   "cell_type": "markdown",
   "id": "e73ef193",
   "metadata": {},
   "source": [
    "**F1.7 The network's Hubs (hubs are nodes having degrees more extensive than the 95th percentile of the degree distribution)**"
   ]
  },
  {
   "cell_type": "code",
   "execution_count": 49,
   "id": "a23d81c8",
   "metadata": {},
   "outputs": [],
   "source": [
    "#cambia nomi ecc\n",
    "def get_hubs(graph, percentile = 95):\n",
    "    dist = distribution(graph)\n",
    "\n",
    "    threshold = np.percentile(dist.degree, percentile)\n",
    "\n",
    "    return list(dist[dist.degree >= threshold].node.values)"
   ]
  },
  {
   "cell_type": "markdown",
   "id": "6dff1c2a",
   "metadata": {},
   "source": [
    "**F1.8 Whether the Network is sparse or dense**"
   ]
  },
  {
   "cell_type": "code",
   "execution_count": 50,
   "id": "c81ff738",
   "metadata": {},
   "outputs": [],
   "source": [
    "def dense_or_sparse(graph):\n",
    "    if density(graph) < 0.5:\n",
    "        return 'Sparse'\n",
    "    else:\n",
    "        return 'Dense'"
   ]
  },
  {
   "cell_type": "markdown",
   "id": "a39f9d67",
   "metadata": {},
   "source": [
    "# **ADESSO CHE HO DEFINITO TUTTE LE FUNZIONI, FACCIAMO UN'UNICA FUNZIONE PER PLOTTARCI TUTTO QUANTO INSIEME**"
   ]
  },
  {
   "cell_type": "code",
   "execution_count": 68,
   "id": "eaab744b",
   "metadata": {},
   "outputs": [],
   "source": [
    "def features(graph, graph_type, N = None):\n",
    "    if (graph_type != 1) & (graph_type != 2):\n",
    "        return 'The type of graph entered is no correct.'\n",
    "    else:\n",
    "        nodi = nodes(graph, graph_type)\n",
    "        n_collaborations = collaborations(graph, graph_type, N)\n",
    "        n_heros_each_comic = heros_per_comic(graph, graph_type, N)\n",
    "        densità = density(graph)\n",
    "        network_degree_distribution = degree_nodes(graph, N)\n",
    "        average_degree = average_degre(graph)\n",
    "        #hubs = get_hubs(graph, percentile = 95)\n",
    "        dense_sparse = dense_or_sparse(graph)\n",
    "    return nodi, n_collaborations, 'The number of heroes that have appeared in each comic are: ',  n_heros_each_comic, 'The density of the graph is ' + str(densità), 'The average degree of the network is ' + str(average_degree), 'The average degree of the network is ' + dense_sparse"
   ]
  },
  {
   "cell_type": "code",
   "execution_count": 69,
   "id": "0d4b3d72",
   "metadata": {},
   "outputs": [
    {
     "data": {
      "text/plain": [
       "('The graph has 6436 nodes referring to heros.',\n",
       " \"Sorry, I can't compute the number of collaborations of each superhero with the others for type 2 graphs, only for type 1 graphs.\",\n",
       " 'The number of heroes that have appeared in each comic are: ',\n",
       " {'COC 1': 111,\n",
       "  'IW 3': 91,\n",
       "  'IW 1': 90,\n",
       "  'H2 279': 87,\n",
       "  'IW 4': 80,\n",
       "  'IW 2': 76,\n",
       "  'MAXSEC 3': 72,\n",
       "  'FF 370': 62,\n",
       "  'IW 6': 60,\n",
       "  'M/GN 1': 60},\n",
       " 'The density of the graph is 0.0005',\n",
       " 'The average degree of the network is 10',\n",
       " 'The average degree of the network is Sparse')"
      ]
     },
     "execution_count": 69,
     "metadata": {},
     "output_type": "execute_result"
    }
   ],
   "source": [
    "features(G2, 2, 10)"
   ]
  },
  {
   "cell_type": "markdown",
   "id": "5debd9ce",
   "metadata": {},
   "source": [
    "## Functionality 2 - Find top superheroes!"
   ]
  },
  {
   "cell_type": "code",
   "execution_count": null,
   "id": "c2b83e27",
   "metadata": {},
   "outputs": [],
   "source": [
    "G_fun2 = nx.Graph()"
   ]
  },
  {
   "cell_type": "code",
   "execution_count": null,
   "id": "fddf7df7",
   "metadata": {},
   "outputs": [],
   "source": [
    "G_fun2 = nx.from_pandas_edgelist(dfedges, 'comic', 'hero')"
   ]
  },
  {
   "cell_type": "code",
   "execution_count": null,
   "id": "3e9c86da",
   "metadata": {},
   "outputs": [],
   "source": [
    "ln_N = len(G_fun2.nodes()) # This will be helpful to set up our main function"
   ]
  },
  {
   "cell_type": "markdown",
   "id": "50b1a540",
   "metadata": {},
   "source": [
    "We tried building and/or manipulating some given algorithms for the centrality measures. We could only do 3 out of 4 functions from scratch (DegreeCentrality, PageRank and ClosenessCentrality), meanwhile for the Betweenness we use the built-in function in networkx.\n",
    "These functions will then be implemented in our main function."
   ]
  },
  {
   "cell_type": "markdown",
   "id": "85968cce",
   "metadata": {},
   "source": [
    "#### Degree Centrality"
   ]
  },
  {
   "cell_type": "code",
   "execution_count": null,
   "id": "76e79835",
   "metadata": {},
   "outputs": [],
   "source": [
    "def degreeCentrality(G):\n",
    "    output_list = []\n",
    "    N = len(G.nodes())\n",
    "    degrees = G.degree()\n",
    "    for i in degrees:\n",
    "        output_sol = i[1]/(N-1)\n",
    "        output = i[0], output_sol\n",
    "        output_list.append(output)\n",
    "    return output_list"
   ]
  },
  {
   "cell_type": "markdown",
   "id": "6bf35b4a",
   "metadata": {},
   "source": [
    "#### PageRank"
   ]
  },
  {
   "cell_type": "code",
   "execution_count": null,
   "id": "fe786bb9",
   "metadata": {},
   "outputs": [],
   "source": [
    "def pageRank(G):\n",
    "    if len(G) == 0:\n",
    "        return {}\n",
    "    if not G.is_directed():\n",
    "        D = G.to_directed()\n",
    "    else:\n",
    "        D = G\n",
    "    W = nx.stochastic_graph(D, weight = 'weight')\n",
    "    N = W.number_of_nodes()\n",
    "    x = dict.fromkeys(W, 1.0 / N)\n",
    "    p = dict.fromkeys(W, 1.0 / N)\n",
    "    dweights = p\n",
    "    dnodes = [n for n in W if W.out_degree(n, weight = 'weight') == 0.0]\n",
    "    for i in range(100):\n",
    "        xlast = x\n",
    "        x = dict.fromkeys(xlast.keys(), 0)\n",
    "        dsum = 0.85*sum(xlast[n] for n in dnodes)\n",
    "        for n in x:\n",
    "            for number in W[n]:\n",
    "                x[number] += 0.85*xlast[n] * W[n][number]['weight']\n",
    "            x[n] += dsum * dweights[n] + (0.15)*p[n]\n",
    "        err = sum([abs(x[n] - xlast[n]) for n in x])\n",
    "        if err < N*(1.0e-6):\n",
    "            return x"
   ]
  },
  {
   "cell_type": "markdown",
   "id": "54b00526",
   "metadata": {},
   "source": [
    "#### Closeness Centrality"
   ]
  },
  {
   "cell_type": "code",
   "execution_count": null,
   "id": "4462eeab",
   "metadata": {},
   "outputs": [],
   "source": [
    "def closenessCentrality(G):\n",
    "    path_length = nx.single_source_shortest_path_length\n",
    "    nodes = G.nodes()\n",
    "    closeness_centrality = {}\n",
    "    for n in nodes:\n",
    "        sp = path_length(G,n)\n",
    "        totsp = sum(sp.values())\n",
    "        if totsp > 0.0 and len(G) > 1:\n",
    "            closeness_centrality[n] = (len(sp)-1.0) / totsp\n",
    "            s = (len(sp)-1.0) / ( len(G) - 1 )\n",
    "            closeness_centrality[n] *= s\n",
    "        else:\n",
    "            closeness_centrality[n] = 0.0\n",
    "    return closeness_centrality"
   ]
  },
  {
   "cell_type": "markdown",
   "id": "1e3f8c4b",
   "metadata": {},
   "source": [
    "From the exercise request, we understand that we need the data for only the top N superheros.\n",
    "Sometimes this N is given, but it should be set to ln_N, which means that we need to consider the whole graph.\n",
    "If we set up a specific N number, then we need to build a graph which takes only the top N superheros with their data (so their edges with 'comic' nodes)."
   ]
  },
  {
   "cell_type": "code",
   "execution_count": null,
   "id": "fe451e29",
   "metadata": {},
   "outputs": [],
   "source": [
    "def topNsuperherosGraph(G, N=ln_N):\n",
    "    \n",
    "    G_top_N_def = nx.Graph()\n",
    "    ln_N = len(G.nodes())\n",
    "    \n",
    "    if N != ln_N:\n",
    "        G_sorted_bydeg = sorted(G, key=lambda x: G.degree(x), reverse=True)\n",
    "        top_N_superheros = []\n",
    "        for i in G_sorted_bydeg:\n",
    "            if i in list(dfedges.hero):\n",
    "                top_N_superheros.append(i)\n",
    "            if len(top_N_superheros) >= N:\n",
    "                break\n",
    "\n",
    "        edges_top_N_superheros = []\n",
    "        for i in top_N_superheros:\n",
    "            edges_top_N_superheros.append(list(G.edges(i)))\n",
    "    \n",
    "        G_top_N_def.add_nodes_from(top_N_superheros)\n",
    "        for i in edges_top_N_superheros:\n",
    "            G_top_N_def.add_edges_from(i)\n",
    "        return G_top_N_def\n",
    "    \n",
    "    else:\n",
    "        G_top_N_def = G\n",
    "        return G_top_N_def"
   ]
  },
  {
   "cell_type": "markdown",
   "id": "f3be3025",
   "metadata": {},
   "source": [
    "Our main function is now ready to be set up."
   ]
  },
  {
   "cell_type": "code",
   "execution_count": null,
   "id": "5e6fd762",
   "metadata": {},
   "outputs": [],
   "source": [
    "def centralityMeasures(G, node, measure, N=ln_N):\n",
    "    \"\"\"\n",
    "    INPUT:\n",
    "    'G' is our graph data\n",
    "    'Node' is the given node (which can be both a comic node or a hero node)\n",
    "    'Measure' is the centrality measure chosen by the user\n",
    "    'N' is the number of top heros that we consider for our calculations\n",
    "    \n",
    "    OUTPUT:\n",
    "    First number is the given node's centrality value.\n",
    "    Second list is the metric's value over the considered graph.\n",
    "    \"\"\"\n",
    "\n",
    "    G_top_N = topNsuperherosGraph(G, N)\n",
    "    \n",
    "    if node in list(G_top_N.nodes()):\n",
    "        if measure == 'Betweenness':\n",
    "            centrality = nx.betweenness_centrality(G_top_N)\n",
    "            return centrality[node], centrality\n",
    "        elif measure == 'PageRank':\n",
    "            centrality = pageRank(G_top_N)\n",
    "            return centrality[node], centrality\n",
    "        elif measure == 'ClosenessCentrality':\n",
    "            centrality = closenessCentrality(G_top_N)\n",
    "            return centrality[node], centrality\n",
    "        elif measure == 'DegreeCentrality':\n",
    "            centrality = degreeCentrality(G_top_N)\n",
    "            for i in range(len(centrality)):\n",
    "                if centrality[i][0] == node:\n",
    "                    return centrality[i][1], centrality\n",
    "    else:\n",
    "        return 'Node not available'"
   ]
  },
  {
   "cell_type": "markdown",
   "id": "879cf883",
   "metadata": {},
   "source": [
    "### Betweenness Centrality"
   ]
  },
  {
   "cell_type": "code",
   "execution_count": null,
   "id": "85c9a7b2",
   "metadata": {},
   "outputs": [],
   "source": [
    "bet_centrality = centralityMeasures(G_fun2, 'SPIDER-MAN/PETER PARKER', 'Betweenness', 1000)"
   ]
  },
  {
   "cell_type": "code",
   "execution_count": null,
   "id": "eeeb41d4",
   "metadata": {},
   "outputs": [],
   "source": [
    "bet_centrality"
   ]
  },
  {
   "cell_type": "code",
   "execution_count": null,
   "id": "2ffca304",
   "metadata": {},
   "outputs": [],
   "source": [
    "bet_centralities = bet_centrality[1]\n",
    "avg_centrality_bet = sum(bet_centralities.values())/len(bet_centrality)\n",
    "centrality_node_bet = bet_centrality[0]"
   ]
  },
  {
   "cell_type": "markdown",
   "id": "45d98ac0",
   "metadata": {},
   "source": [
    "### PageRank"
   ]
  },
  {
   "cell_type": "code",
   "execution_count": null,
   "id": "79224b65",
   "metadata": {},
   "outputs": [],
   "source": [
    "pr_centrality = centralityMeasures(G_fun2, 'SPIDER-MAN/PETER PARKER', 'PageRank', 1000)"
   ]
  },
  {
   "cell_type": "code",
   "execution_count": null,
   "id": "f29dec6f",
   "metadata": {},
   "outputs": [],
   "source": [
    "pr_centrality"
   ]
  },
  {
   "cell_type": "code",
   "execution_count": null,
   "id": "9a9fe629",
   "metadata": {},
   "outputs": [],
   "source": [
    "pr_centralities = pr_centrality[1]\n",
    "avg_centrality_pr = sum(pr_centralities.values())/len(pr_centrality)\n",
    "centrality_node_pr = pr_centrality[0]"
   ]
  },
  {
   "cell_type": "markdown",
   "id": "a21a3dab",
   "metadata": {},
   "source": [
    "### Closeness Centrality"
   ]
  },
  {
   "cell_type": "code",
   "execution_count": null,
   "id": "66b7c358",
   "metadata": {},
   "outputs": [],
   "source": [
    "cl_centrality = centralityMeasures(G_fun2, 'SPIDER-MAN/PETER PARKER', 'ClosenessCentrality', 1000)"
   ]
  },
  {
   "cell_type": "code",
   "execution_count": null,
   "id": "376443a0",
   "metadata": {},
   "outputs": [],
   "source": [
    "cl_centrality"
   ]
  },
  {
   "cell_type": "code",
   "execution_count": null,
   "id": "b120d72d",
   "metadata": {},
   "outputs": [],
   "source": [
    "cl_centralities = cl_centrality[1]\n",
    "avg_centrality_cl = sum(cl_centralities.values())/len(cl_centrality)\n",
    "centrality_node_cl = cl_centrality[0]"
   ]
  },
  {
   "cell_type": "markdown",
   "id": "e40577af",
   "metadata": {},
   "source": [
    "### Degree Centrality"
   ]
  },
  {
   "cell_type": "code",
   "execution_count": null,
   "id": "d56ccd3c",
   "metadata": {},
   "outputs": [],
   "source": [
    "deg_centrality = centralityMeasures(G_fun2, 'VISION', 'DegreeCentrality', 1000)"
   ]
  },
  {
   "cell_type": "code",
   "execution_count": null,
   "id": "153a1ed7",
   "metadata": {},
   "outputs": [],
   "source": [
    "deg_centrality"
   ]
  },
  {
   "cell_type": "code",
   "execution_count": null,
   "id": "9993ea28",
   "metadata": {},
   "outputs": [],
   "source": [
    "deg_centralities = deg_centrality[1]\n",
    "sum_deg_centralities = 0\n",
    "for i in range(len(deg_centralities)):\n",
    "    sum_deg_centralities += deg_centralities[i][1]\n",
    "avg_centrality_deg = sum_deg_centralities/len(deg_centrality)\n",
    "centrality_node_deg = deg_centrality[0]"
   ]
  },
  {
   "cell_type": "markdown",
   "id": "5aa0075f",
   "metadata": {},
   "source": [
    "## Functionality 3 - Shortest ordered Route"
   ]
  },
  {
   "cell_type": "code",
   "execution_count": null,
   "id": "8e9e2483",
   "metadata": {},
   "outputs": [],
   "source": []
  },
  {
   "cell_type": "code",
   "execution_count": null,
   "id": "747f1e9d",
   "metadata": {},
   "outputs": [],
   "source": []
  },
  {
   "cell_type": "code",
   "execution_count": null,
   "id": "baceac72",
   "metadata": {},
   "outputs": [],
   "source": []
  },
  {
   "cell_type": "code",
   "execution_count": null,
   "id": "f9e65759",
   "metadata": {},
   "outputs": [],
   "source": []
  },
  {
   "cell_type": "code",
   "execution_count": null,
   "id": "3534e997",
   "metadata": {},
   "outputs": [],
   "source": []
  },
  {
   "cell_type": "markdown",
   "id": "7483efcc",
   "metadata": {},
   "source": [
    "## Functionality 4 - Disconnecting Graphs"
   ]
  },
  {
   "cell_type": "code",
   "execution_count": null,
   "id": "a351de2b",
   "metadata": {},
   "outputs": [],
   "source": [
    "G_fun4 = nx.Graph()"
   ]
  },
  {
   "cell_type": "code",
   "execution_count": null,
   "id": "c8172c25",
   "metadata": {},
   "outputs": [],
   "source": [
    "G_fun4 = nx.from_pandas_edgelist(dfedges, 'comic, hero')"
   ]
  },
  {
   "cell_type": "code",
   "execution_count": null,
   "id": "4b0f18d6",
   "metadata": {},
   "outputs": [],
   "source": [
    "ln_N = len(G_fun4.nodes())"
   ]
  },
  {
   "cell_type": "markdown",
   "id": "c30ed0b6",
   "metadata": {},
   "source": [
    "Since the function for the point 2.4 only asks how many links are required to disconnect the graph into two subgraphs, the function's output will be a number. So, for every 'comic' node that the two heros have in common, it will add 1 to a count set to 0 at the beginning. If we remove all the nodes 'in common', then the graph will be disconnected.\n",
    "For this function we will also implement the 'topNsuperherosGraph' function written and used for Functionality 2."
   ]
  },
  {
   "cell_type": "code",
   "execution_count": null,
   "id": "0aacca04",
   "metadata": {},
   "outputs": [],
   "source": [
    "def disconnectGraph(G, heroA, heroB, N=ln_N):\n",
    "    \"\"\"\n",
    "    INPUT:\n",
    "    'G' is the graph data\n",
    "    'heroA' is the superhero to which will relate sub-graph G_a\n",
    "    'heroB' is the superhero to which will relate sub-graph G_b\n",
    "    'N' is the number of top heros that we consider for our calculations\n",
    "    \n",
    "    OUTPUT:\n",
    "    A number that represents the links we should remove to disconnect the graph into the two subgraphs\n",
    "    \"\"\"\n",
    "    \n",
    "    G_top_N = topNsuperherosGraph(G, N)\n",
    "    \n",
    "    count = 0\n",
    "    \n",
    "    if heroA in G_top_N.nodes() and heroB in G_top_N.nodes():\n",
    "        edges_A = list(G_top_N.edges(heroA))\n",
    "        edges_B = list(G_top_N.edges(heroB))\n",
    "        for i in edges_A:\n",
    "            for j in edges_B:\n",
    "                if i[1] == j[1]:\n",
    "                    count += 1\n",
    "        return \"Minimum number of links to disconnect the graph is:\", count\n",
    "    else:\n",
    "        return 'Nodes not found'"
   ]
  },
  {
   "cell_type": "code",
   "execution_count": null,
   "id": "4e3008f7",
   "metadata": {},
   "outputs": [],
   "source": [
    "# Example\n",
    "disconnectGraph(G_fun4, 'VISION', 'SPIDER-MAN/PETER PARKER', 1000)"
   ]
  },
  {
   "cell_type": "code",
   "execution_count": null,
   "id": "32eda636",
   "metadata": {},
   "outputs": [],
   "source": []
  },
  {
   "cell_type": "code",
   "execution_count": null,
   "id": "ce4265ce",
   "metadata": {},
   "outputs": [],
   "source": []
  },
  {
   "cell_type": "code",
   "execution_count": null,
   "id": "59c6ac2e",
   "metadata": {},
   "outputs": [],
   "source": []
  },
  {
   "cell_type": "markdown",
   "id": "327b16cd",
   "metadata": {},
   "source": [
    "## Functionality 5 - Extracting Communities"
   ]
  },
  {
   "cell_type": "code",
   "execution_count": null,
   "id": "88184b21",
   "metadata": {},
   "outputs": [],
   "source": []
  },
  {
   "cell_type": "code",
   "execution_count": null,
   "id": "c51a3ba6",
   "metadata": {},
   "outputs": [],
   "source": []
  },
  {
   "cell_type": "markdown",
   "id": "46cbcf4d",
   "metadata": {},
   "source": [
    "# QUESTION 3: FRONTED IMPLEMENTATION"
   ]
  },
  {
   "cell_type": "markdown",
   "id": "de37faf8",
   "metadata": {},
   "source": [
    "## Visualization 1 - Visualize some features of the network "
   ]
  },
  {
   "cell_type": "markdown",
   "id": "8fced120",
   "metadata": {},
   "source": [
    "**V1.1  A table containing the following general information about the graph:**\n",
    "\n",
    "- Number of nodes in the network\n",
    "- Density of the network\n",
    "- Average degree of the network\n",
    "- Whether the network is sparse or dense"
   ]
  },
  {
   "cell_type": "code",
   "execution_count": 165,
   "id": "a7002f62",
   "metadata": {},
   "outputs": [],
   "source": [
    "def table(graph):\n",
    "    dataframe = pd.DataFrame([{'nodes' : G1.number_of_nodes(), 'densità' : density(graph),\n",
    "                  'average_degree' : average_degre(graph), 'sparse_dense' : dense_or_sparse(graph)}])\n",
    "    return dataframe.set_index(['nodes', 'densità', 'average_degree', 'sparse_dense'])"
   ]
  },
  {
   "cell_type": "code",
   "execution_count": 166,
   "id": "bff099dc",
   "metadata": {},
   "outputs": [
    {
     "data": {
      "text/html": [
       "<div>\n",
       "<style scoped>\n",
       "    .dataframe tbody tr th:only-of-type {\n",
       "        vertical-align: middle;\n",
       "    }\n",
       "\n",
       "    .dataframe tbody tr th {\n",
       "        vertical-align: top;\n",
       "    }\n",
       "\n",
       "    .dataframe thead th {\n",
       "        text-align: right;\n",
       "    }\n",
       "</style>\n",
       "<table border=\"1\" class=\"dataframe\">\n",
       "  <thead>\n",
       "    <tr style=\"text-align: right;\">\n",
       "      <th></th>\n",
       "      <th></th>\n",
       "      <th></th>\n",
       "      <th></th>\n",
       "    </tr>\n",
       "    <tr>\n",
       "      <th>nodes</th>\n",
       "      <th>densità</th>\n",
       "      <th>average_degree</th>\n",
       "      <th>sparse_dense</th>\n",
       "    </tr>\n",
       "  </thead>\n",
       "  <tbody>\n",
       "    <tr>\n",
       "      <th>6947</th>\n",
       "      <th>0.0075</th>\n",
       "      <th>52</th>\n",
       "      <th>Sparse</th>\n",
       "    </tr>\n",
       "  </tbody>\n",
       "</table>\n",
       "</div>"
      ],
      "text/plain": [
       "Empty DataFrame\n",
       "Columns: []\n",
       "Index: [(6947, 0.0075, 52, Sparse)]"
      ]
     },
     "execution_count": 166,
     "metadata": {},
     "output_type": "execute_result"
    }
   ],
   "source": [
    "table(G1)"
   ]
  },
  {
   "cell_type": "markdown",
   "id": "80ca1206",
   "metadata": {},
   "source": [
    "**V1.2  A table that lists the network's hubs**"
   ]
  },
  {
   "cell_type": "code",
   "execution_count": null,
   "id": "a34095c6",
   "metadata": {},
   "outputs": [],
   "source": []
  },
  {
   "cell_type": "markdown",
   "id": "edb03e40",
   "metadata": {},
   "source": [
    "**V1.3 A plot depicting the number of collaborations of each hero in descending order (if the graph is type 1)**"
   ]
  },
  {
   "cell_type": "code",
   "execution_count": 62,
   "id": "41c3afeb",
   "metadata": {},
   "outputs": [
    {
     "data": {
      "image/png": "[encoded data removed]",
      "text/plain": [
       "<Figure size 576x396 with 1 Axes>"
      ]
     },
     "metadata": {},
     "output_type": "display_data"
    }
   ],
   "source": [
    "#abbiamo inserito 3 come N perche senno i nomi vengono tutti attaccati\n",
    "plot_sort_hero = sorted(collaborations(G1,1,3).items(), key=lambda x: x[1], reverse = True)\n",
    "\n",
    "# Make a random dataset:\n",
    "height = [t[1] for t in plot_sort_hero]\n",
    "bars = [t[0] for t in plot_sort_hero]\n",
    "y_pos = np.arange(len(bars))\n",
    "\n",
    "# Create bars\n",
    "plt.bar(y_pos, height)\n",
    "\n",
    "# Create names on the x-axis\n",
    "plt.xticks(y_pos, bars)\n",
    "\n",
    "# Show graphic\n",
    "plt.show()"
   ]
  },
  {
   "cell_type": "markdown",
   "id": "cac9de5d",
   "metadata": {},
   "source": [
    "**V1.4 A plot depicting the number of heroes who appeared in each comic, sorted in descending order (if the graph is type 2)**"
   ]
  },
  {
   "cell_type": "code",
   "execution_count": 74,
   "id": "fabcc0fa",
   "metadata": {},
   "outputs": [
    {
     "data": {
      "image/png": "[encoded data removed]",
      "text/plain": [
       "<Figure size 576x396 with 1 Axes>"
      ]
     },
     "metadata": {},
     "output_type": "display_data"
    }
   ],
   "source": [
    "#abbiamo messo 10 come N perche senno si sovrapponevano i nomi\n",
    "plot_sort_comic = sorted(heros_per_comic(G2, 2, 10).items(), key=lambda x: x[1], reverse = True)\n",
    "\n",
    "\n",
    "# Make a random dataset:\n",
    "height = [t[1] for t in plot_sort_comic]\n",
    "bars = [t[0] for t in plot_sort_comic]\n",
    "y_pos = np.arange(len(bars))\n",
    "\n",
    "# Create bars\n",
    "plt.bar(y_pos, height)\n",
    "\n",
    "# Create names on the x-axis\n",
    "plt.xticks(y_pos, bars)\n",
    "\n",
    "# Show graphic\n",
    "plt.show()"
   ]
  },
  {
   "cell_type": "markdown",
   "id": "edf95639",
   "metadata": {},
   "source": [
    "**V1.5 A plot depicting the degree distribution of the network**"
   ]
  },
  {
   "cell_type": "code",
   "execution_count": 92,
   "id": "59fda732",
   "metadata": {},
   "outputs": [
    {
     "data": {
      "image/png": "[encoded data removed]",
      "text/plain": [
       "<Figure size 576x396 with 1 Axes>"
      ]
     },
     "metadata": {},
     "output_type": "display_data"
    }
   ],
   "source": [
    "#QUESTO PENSO SIA SBAGLIATO... NON MI TORNANO I VALORI, RICONTROLLA\n",
    "values = list(distribution(G1))\n",
    "\n",
    "# Plot the density graph\n",
    "plt.hist(values, density=True, bins=10)\n",
    "plt.xlabel('Value')\n",
    "plt.ylabel('Density')\n",
    "plt.title('Density plot of values in the dictionary')\n",
    "plt.show()"
   ]
  },
  {
   "cell_type": "code",
   "execution_count": 84,
   "id": "18bfe083",
   "metadata": {
    "scrolled": true
   },
   "outputs": [
    {
     "data": {
      "text/plain": [
       "{1: 95,\n",
       " 2: 121,\n",
       " 3: 135,\n",
       " 4: 174,\n",
       " 5: 209,\n",
       " 6: 215,\n",
       " 7: 224,\n",
       " 8: 239,\n",
       " 9: 241,\n",
       " 10: 260,\n",
       " 11: 246,\n",
       " 12: 225,\n",
       " 13: 199,\n",
       " 14: 183,\n",
       " 15: 175,\n",
       " 16: 148,\n",
       " 17: 140,\n",
       " 18: 139,\n",
       " 19: 124,\n",
       " 20: 108,\n",
       " 21: 127,\n",
       " 22: 121,\n",
       " 23: 88,\n",
       " 24: 74,\n",
       " 25: 104,\n",
       " 26: 81,\n",
       " 27: 82,\n",
       " 28: 59,\n",
       " 29: 57,\n",
       " 30: 70,\n",
       " 31: 68,\n",
       " 32: 61,\n",
       " 33: 54,\n",
       " 34: 43,\n",
       " 35: 52,\n",
       " 36: 41,\n",
       " 37: 52,\n",
       " 38: 63,\n",
       " 39: 63,\n",
       " 40: 38,\n",
       " 41: 54,\n",
       " 42: 36,\n",
       " 43: 34,\n",
       " 44: 44,\n",
       " 45: 39,\n",
       " 46: 30,\n",
       " 47: 35,\n",
       " 48: 43,\n",
       " 49: 33,\n",
       " 50: 31,\n",
       " 51: 36,\n",
       " 52: 23,\n",
       " 53: 23,\n",
       " 54: 27,\n",
       " 55: 26,\n",
       " 56: 16,\n",
       " 57: 17,\n",
       " 58: 25,\n",
       " 59: 22,\n",
       " 60: 28,\n",
       " 61: 22,\n",
       " 62: 16,\n",
       " 63: 25,\n",
       " 64: 17,\n",
       " 65: 19,\n",
       " 66: 12,\n",
       " 67: 23,\n",
       " 68: 16,\n",
       " 69: 16,\n",
       " 70: 22,\n",
       " 71: 15,\n",
       " 72: 16,\n",
       " 73: 15,\n",
       " 74: 10,\n",
       " 75: 17,\n",
       " 76: 18,\n",
       " 77: 18,\n",
       " 78: 8,\n",
       " 79: 13,\n",
       " 80: 14,\n",
       " 81: 14,\n",
       " 82: 13,\n",
       " 83: 11,\n",
       " 84: 11,\n",
       " 85: 18,\n",
       " 86: 12,\n",
       " 87: 14,\n",
       " 88: 18,\n",
       " 89: 19,\n",
       " 90: 10,\n",
       " 91: 7,\n",
       " 92: 10,\n",
       " 93: 10,\n",
       " 94: 4,\n",
       " 95: 7,\n",
       " 96: 6,\n",
       " 97: 7,\n",
       " 98: 7,\n",
       " 99: 5,\n",
       " 100: 9,\n",
       " 101: 7,\n",
       " 102: 7,\n",
       " 103: 9,\n",
       " 104: 5,\n",
       " 105: 8,\n",
       " 106: 11,\n",
       " 107: 6,\n",
       " 108: 10,\n",
       " 109: 3,\n",
       " 110: 6,\n",
       " 111: 3,\n",
       " 112: 7,\n",
       " 113: 6,\n",
       " 114: 10,\n",
       " 115: 4,\n",
       " 116: 4,\n",
       " 117: 4,\n",
       " 118: 2,\n",
       " 119: 6,\n",
       " 120: 4,\n",
       " 121: 7,\n",
       " 122: 4,\n",
       " 123: 9,\n",
       " 124: 2,\n",
       " 125: 8,\n",
       " 126: 9,\n",
       " 127: 6,\n",
       " 128: 8,\n",
       " 129: 8,\n",
       " 130: 8,\n",
       " 131: 5,\n",
       " 132: 1,\n",
       " 133: 2,\n",
       " 134: 4,\n",
       " 135: 7,\n",
       " 136: 9,\n",
       " 137: 6,\n",
       " 138: 2,\n",
       " 139: 3,\n",
       " 140: 4,\n",
       " 141: 4,\n",
       " 142: 6,\n",
       " 143: 3,\n",
       " 144: 7,\n",
       " 145: 6,\n",
       " 146: 2,\n",
       " 147: 3,\n",
       " 148: 9,\n",
       " 149: 4,\n",
       " 150: 9,\n",
       " 151: 7,\n",
       " 152: 8,\n",
       " 153: 3,\n",
       " 154: 4,\n",
       " 155: 6,\n",
       " 156: 6,\n",
       " 157: 6,\n",
       " 158: 2,\n",
       " 159: 3,\n",
       " 160: 4,\n",
       " 161: 1,\n",
       " 162: 3,\n",
       " 163: 4,\n",
       " 164: 3,\n",
       " 165: 3,\n",
       " 166: 4,\n",
       " 167: 2,\n",
       " 169: 6,\n",
       " 170: 3,\n",
       " 171: 1,\n",
       " 172: 4,\n",
       " 174: 2,\n",
       " 175: 3,\n",
       " 176: 6,\n",
       " 177: 3,\n",
       " 178: 1,\n",
       " 179: 1,\n",
       " 180: 1,\n",
       " 181: 6,\n",
       " 182: 4,\n",
       " 184: 4,\n",
       " 185: 2,\n",
       " 186: 1,\n",
       " 187: 3,\n",
       " 188: 2,\n",
       " 189: 2,\n",
       " 190: 1,\n",
       " 191: 2,\n",
       " 192: 3,\n",
       " 193: 1,\n",
       " 194: 6,\n",
       " 195: 1,\n",
       " 196: 3,\n",
       " 197: 1,\n",
       " 198: 3,\n",
       " 199: 4,\n",
       " 200: 2,\n",
       " 201: 3,\n",
       " 202: 1,\n",
       " 203: 1,\n",
       " 204: 2,\n",
       " 205: 2,\n",
       " 206: 2,\n",
       " 207: 1,\n",
       " 208: 4,\n",
       " 210: 2,\n",
       " 211: 1,\n",
       " 212: 4,\n",
       " 213: 3,\n",
       " 214: 3,\n",
       " 215: 4,\n",
       " 216: 1,\n",
       " 217: 4,\n",
       " 218: 6,\n",
       " 219: 2,\n",
       " 220: 3,\n",
       " 221: 2,\n",
       " 222: 2,\n",
       " 224: 2,\n",
       " 226: 2,\n",
       " 228: 1,\n",
       " 229: 1,\n",
       " 230: 3,\n",
       " 231: 1,\n",
       " 232: 1,\n",
       " 234: 2,\n",
       " 236: 3,\n",
       " 237: 1,\n",
       " 239: 2,\n",
       " 241: 2,\n",
       " 242: 1,\n",
       " 243: 2,\n",
       " 244: 3,\n",
       " 245: 3,\n",
       " 246: 3,\n",
       " 247: 2,\n",
       " 248: 2,\n",
       " 249: 3,\n",
       " 250: 1,\n",
       " 251: 3,\n",
       " 252: 2,\n",
       " 253: 2,\n",
       " 254: 2,\n",
       " 255: 2,\n",
       " 256: 2,\n",
       " 257: 1,\n",
       " 260: 1,\n",
       " 261: 1,\n",
       " 263: 2,\n",
       " 267: 1,\n",
       " 268: 1,\n",
       " 269: 3,\n",
       " 270: 2,\n",
       " 273: 4,\n",
       " 274: 1,\n",
       " 275: 1,\n",
       " 277: 1,\n",
       " 280: 1,\n",
       " 281: 2,\n",
       " 282: 1,\n",
       " 284: 1,\n",
       " 286: 1,\n",
       " 288: 1,\n",
       " 289: 1,\n",
       " 290: 5,\n",
       " 292: 2,\n",
       " 294: 1,\n",
       " 295: 3,\n",
       " 296: 3,\n",
       " 297: 1,\n",
       " 299: 1,\n",
       " 301: 3,\n",
       " 304: 1,\n",
       " 305: 1,\n",
       " 307: 1,\n",
       " 308: 3,\n",
       " 309: 1,\n",
       " 312: 2,\n",
       " 314: 1,\n",
       " 316: 1,\n",
       " 317: 1,\n",
       " 318: 2,\n",
       " 320: 1,\n",
       " 323: 1,\n",
       " 324: 2,\n",
       " 325: 2,\n",
       " 329: 2,\n",
       " 334: 1,\n",
       " 336: 1,\n",
       " 337: 1,\n",
       " 338: 1,\n",
       " 347: 1,\n",
       " 348: 1,\n",
       " 350: 1,\n",
       " 351: 1,\n",
       " 352: 1,\n",
       " 356: 1,\n",
       " 357: 2,\n",
       " 362: 1,\n",
       " 364: 1,\n",
       " 368: 1,\n",
       " 371: 2,\n",
       " 377: 1,\n",
       " 379: 1,\n",
       " 388: 1,\n",
       " 390: 1,\n",
       " 392: 1,\n",
       " 393: 2,\n",
       " 395: 1,\n",
       " 397: 1,\n",
       " 400: 2,\n",
       " 401: 1,\n",
       " 402: 1,\n",
       " 404: 2,\n",
       " 407: 1,\n",
       " 412: 1,\n",
       " 414: 1,\n",
       " 415: 2,\n",
       " 417: 2,\n",
       " 418: 1,\n",
       " 420: 1,\n",
       " 424: 1,\n",
       " 427: 1,\n",
       " 429: 1,\n",
       " 432: 1,\n",
       " 436: 1,\n",
       " 437: 1,\n",
       " 439: 1,\n",
       " 440: 1,\n",
       " 441: 1,\n",
       " 445: 2,\n",
       " 449: 2,\n",
       " 450: 1,\n",
       " 454: 1,\n",
       " 456: 2,\n",
       " 457: 1,\n",
       " 460: 1,\n",
       " 461: 1,\n",
       " 463: 2,\n",
       " 464: 1,\n",
       " 468: 1,\n",
       " 469: 2,\n",
       " 473: 1,\n",
       " 476: 1,\n",
       " 477: 1,\n",
       " 478: 1,\n",
       " 480: 1,\n",
       " 483: 1,\n",
       " 489: 1,\n",
       " 490: 1,\n",
       " 492: 1,\n",
       " 502: 1,\n",
       " 504: 1,\n",
       " 508: 1,\n",
       " 512: 1,\n",
       " 521: 1,\n",
       " 522: 2,\n",
       " 523: 1,\n",
       " 524: 1,\n",
       " 532: 1,\n",
       " 538: 1,\n",
       " 543: 1,\n",
       " 545: 1,\n",
       " 546: 1,\n",
       " 547: 1,\n",
       " 549: 1,\n",
       " 553: 1,\n",
       " 558: 1,\n",
       " 559: 1,\n",
       " 561: 1,\n",
       " 563: 1,\n",
       " 565: 1,\n",
       " 568: 1,\n",
       " 569: 1,\n",
       " 571: 1,\n",
       " 581: 1,\n",
       " 588: 1,\n",
       " 595: 1,\n",
       " 601: 1,\n",
       " 602: 1,\n",
       " 610: 2,\n",
       " 613: 1,\n",
       " 622: 1,\n",
       " 624: 1,\n",
       " 629: 1,\n",
       " 633: 1,\n",
       " 636: 1,\n",
       " 642: 1,\n",
       " 646: 1,\n",
       " 649: 1,\n",
       " 651: 2,\n",
       " 666: 1,\n",
       " 673: 1,\n",
       " 677: 1,\n",
       " 690: 1,\n",
       " 696: 1,\n",
       " 702: 1,\n",
       " 707: 1,\n",
       " 725: 1,\n",
       " 729: 1,\n",
       " 731: 1,\n",
       " 743: 1,\n",
       " 753: 1,\n",
       " 756: 1,\n",
       " 760: 1,\n",
       " 768: 1,\n",
       " 777: 1,\n",
       " 778: 1,\n",
       " 779: 1,\n",
       " 877: 1,\n",
       " 894: 1,\n",
       " 898: 1,\n",
       " 919: 2,\n",
       " 924: 1,\n",
       " 928: 1,\n",
       " 962: 1,\n",
       " 1000: 1,\n",
       " 1004: 1,\n",
       " 1012: 1,\n",
       " 1018: 1,\n",
       " 1031: 1,\n",
       " 1036: 1,\n",
       " 1049: 1,\n",
       " 1065: 1,\n",
       " 1081: 1,\n",
       " 1106: 1,\n",
       " 1116: 1,\n",
       " 1118: 2,\n",
       " 1121: 1,\n",
       " 1131: 2,\n",
       " 1132: 1,\n",
       " 1230: 1,\n",
       " 1318: 1,\n",
       " 1340: 1,\n",
       " 1403: 1,\n",
       " 1425: 1,\n",
       " 1470: 1,\n",
       " 1803: 1,\n",
       " 1993: 1}"
      ]
     },
     "execution_count": 84,
     "metadata": {},
     "output_type": "execute_result"
    }
   ],
   "source": [
    "distribution(G1)"
   ]
  },
  {
   "cell_type": "code",
   "execution_count": 93,
   "id": "a55e2610",
   "metadata": {},
   "outputs": [
    {
     "data": {
      "text/plain": [
       "<AxesSubplot:ylabel='Density'>"
      ]
     },
     "execution_count": 93,
     "metadata": {},
     "output_type": "execute_result"
    },
    {
     "data": {
      "image/png": "[encoded data removed]",
      "text/plain": [
       "<Figure size 576x396 with 1 Axes>"
      ]
     },
     "metadata": {},
     "output_type": "display_data"
    }
   ],
   "source": [
    "#POTREI FARE ANCHE QUESTO\n",
    "values = list(distribution(G1))\n",
    "\n",
    "# Plot the density curve\n",
    "sns.kdeplot(values)"
   ]
  },
  {
   "cell_type": "code",
   "execution_count": 95,
   "id": "25b516ae",
   "metadata": {},
   "outputs": [
    {
     "name": "stderr",
     "output_type": "stream",
     "text": [
      "C:\\Users\\gianl\\anaconda3\\lib\\site-packages\\seaborn\\distributions.py:2619: FutureWarning: `distplot` is a deprecated function and will be removed in a future version. Please adapt your code to use either `displot` (a figure-level function with similar flexibility) or `histplot` (an axes-level function for histograms).\n",
      "  warnings.warn(msg, FutureWarning)\n"
     ]
    },
    {
     "data": {
      "text/plain": [
       "<AxesSubplot:ylabel='Density'>"
      ]
     },
     "execution_count": 95,
     "metadata": {},
     "output_type": "execute_result"
    },
    {
     "data": {
      "image/png": "[encoded data removed]",
      "text/plain": [
       "<Figure size 576x396 with 1 Axes>"
      ]
     },
     "metadata": {},
     "output_type": "display_data"
    }
   ],
   "source": [
    "#OPPURE QUESTO\n",
    "values = list(distribution(G1))\n",
    "\n",
    "# Plot the density curve and histogram\n",
    "sns.distplot(values)"
   ]
  },
  {
   "cell_type": "markdown",
   "id": "e993072c",
   "metadata": {},
   "source": [
    "## Visualization 2 - Visualize centrality measures"
   ]
  },
  {
   "cell_type": "code",
   "execution_count": null,
   "id": "a4156d28",
   "metadata": {},
   "outputs": [],
   "source": [
    "df_vis2 = pd.DataFrame()"
   ]
  },
  {
   "cell_type": "code",
   "execution_count": null,
   "id": "7e80645a",
   "metadata": {},
   "outputs": [],
   "source": [
    "names_centralities = ['Betweenness', 'PageRank', 'Closeness', 'DegreeCentrality']\n",
    "avg_centralities = [avg_centrality_bet, avg_centrality_pr, avg_centrality_cl, avg_centrality_deg]\n",
    "centralities_node = [centrality_node_bet, centrality_node_pr, centrality_node_cl, centrality_node_deg]"
   ]
  },
  {
   "cell_type": "code",
   "execution_count": null,
   "id": "aff580ef",
   "metadata": {},
   "outputs": [],
   "source": [
    "df_vis2['Centrality'] = names_centralities"
   ]
  },
  {
   "cell_type": "code",
   "execution_count": null,
   "id": "5a8fc343",
   "metadata": {},
   "outputs": [],
   "source": [
    "df_vis2['Avg Centrality'] = avg_centralities"
   ]
  },
  {
   "cell_type": "code",
   "execution_count": null,
   "id": "753eca29",
   "metadata": {},
   "outputs": [],
   "source": [
    "df_vis2['Nodes centrality'] = centralities_node"
   ]
  },
  {
   "cell_type": "code",
   "execution_count": null,
   "id": "04ea9d8f",
   "metadata": {},
   "outputs": [],
   "source": [
    "df_vis2"
   ]
  },
  {
   "cell_type": "code",
   "execution_count": null,
   "id": "4374d2de",
   "metadata": {},
   "outputs": [],
   "source": []
  },
  {
   "cell_type": "code",
   "execution_count": null,
   "id": "d133434a",
   "metadata": {},
   "outputs": [],
   "source": []
  },
  {
   "cell_type": "code",
   "execution_count": null,
   "id": "9529fca8",
   "metadata": {},
   "outputs": [],
   "source": []
  },
  {
   "cell_type": "code",
   "execution_count": null,
   "id": "3e98ba69",
   "metadata": {},
   "outputs": [],
   "source": []
  },
  {
   "cell_type": "markdown",
   "id": "c79e8af2",
   "metadata": {},
   "source": [
    "## Visualization 3 - Visualize the shortest-ordered route"
   ]
  },
  {
   "cell_type": "code",
   "execution_count": null,
   "id": "2d4abac0",
   "metadata": {},
   "outputs": [],
   "source": []
  },
  {
   "cell_type": "code",
   "execution_count": null,
   "id": "70099db0",
   "metadata": {},
   "outputs": [],
   "source": []
  },
  {
   "cell_type": "code",
   "execution_count": null,
   "id": "e5f0c9ad",
   "metadata": {},
   "outputs": [],
   "source": []
  },
  {
   "cell_type": "code",
   "execution_count": null,
   "id": "28f9a4a7",
   "metadata": {},
   "outputs": [],
   "source": []
  },
  {
   "cell_type": "code",
   "execution_count": null,
   "id": "61b441ad",
   "metadata": {},
   "outputs": [],
   "source": []
  },
  {
   "cell_type": "code",
   "execution_count": null,
   "id": "ad80113b",
   "metadata": {},
   "outputs": [],
   "source": []
  },
  {
   "cell_type": "code",
   "execution_count": null,
   "id": "e679fe5a",
   "metadata": {},
   "outputs": [],
   "source": []
  },
  {
   "cell_type": "code",
   "execution_count": null,
   "id": "1c33e016",
   "metadata": {},
   "outputs": [],
   "source": []
  },
  {
   "cell_type": "code",
   "execution_count": null,
   "id": "eee64ead",
   "metadata": {},
   "outputs": [],
   "source": []
  },
  {
   "cell_type": "code",
   "execution_count": null,
   "id": "0122f7e8",
   "metadata": {},
   "outputs": [],
   "source": []
  },
  {
   "cell_type": "markdown",
   "id": "cc09c4ca",
   "metadata": {},
   "source": [
    "## Visualization 4 - Visualize the disconnected graph"
   ]
  },
  {
   "cell_type": "markdown",
   "id": "f9017cfe",
   "metadata": {},
   "source": [
    "#### First request"
   ]
  },
  {
   "cell_type": "code",
   "execution_count": null,
   "id": "e4063893",
   "metadata": {},
   "outputs": [],
   "source": [
    "# Example\n",
    "disconnectGraph(G_fun4, 'CAPTAIN AMERICA', 'SPIDER-MAN/PETER PARKER', 1000)"
   ]
  },
  {
   "cell_type": "markdown",
   "id": "e7d9afbb",
   "metadata": {},
   "source": [
    "#### Second request: before disconnecting graph"
   ]
  },
  {
   "cell_type": "code",
   "execution_count": null,
   "id": "76e8e005",
   "metadata": {},
   "outputs": [],
   "source": [
    "# Takes a while to run\n",
    "plt.plot()\n",
    "nx.draw(G_fun4)\n",
    "plt.show()"
   ]
  },
  {
   "cell_type": "markdown",
   "id": "00cd0a06",
   "metadata": {},
   "source": [
    "#### Third request: after disconnecting graph"
   ]
  },
  {
   "cell_type": "markdown",
   "id": "14093025",
   "metadata": {},
   "source": [
    "To disconnect the graph, we need to remove the edge (for one of the two nodes) that connects the nodes to a common node (which is a 'comic' node).\n",
    "This way we create two subgraphs for the two heros."
   ]
  },
  {
   "cell_type": "code",
   "execution_count": null,
   "id": "a8fbad00",
   "metadata": {},
   "outputs": [],
   "source": [
    "def disconnectGraphPlot(G, heroA, heroB, N=ln_N):\n",
    "    \"\"\"\n",
    "    INPUT:\n",
    "    'G' is the graph data\n",
    "    'heroA' is the superhero to which will relate sub-graph G_a\n",
    "    'heroB' is the superhero to which will relate sub-graph G_b\n",
    "    'N' is the number of top heros that we consider for our calculations\n",
    "    \n",
    "    OUTPUT:\n",
    "    The graph divided into the two subgraphs\n",
    "    \"\"\"\n",
    "    \n",
    "    G_top_N = topNsuperherosGraph(G, N)\n",
    "    \n",
    "    if heroA in G_top_N.nodes() and heroB in G_top_N.nodes():\n",
    "        edges_A = list(G_top_N.edges(heroA))\n",
    "        edges_B = list(G_top_N.edges(heroB))\n",
    "        for i in edges_A:\n",
    "            for j in edges_B:\n",
    "                if i[1] == j[1]:\n",
    "                    G_top_N.remove_edge(i[0], i[1])\n",
    "                \n",
    "    return G_top_N"
   ]
  },
  {
   "cell_type": "code",
   "execution_count": null,
   "id": "90807acf",
   "metadata": {},
   "outputs": [],
   "source": [
    "disconnectedGraph = disconnectGraphPlot(G_fun4, 'CAPTAIN AMERICA', 'SPIDER-MAN/PETER PARKER', 100)"
   ]
  },
  {
   "cell_type": "code",
   "execution_count": null,
   "id": "537ed65a",
   "metadata": {},
   "outputs": [],
   "source": [
    "plt.plot()\n",
    "nx.draw(disconnectedGraph, with_labels=True)\n",
    "plt.show()"
   ]
  },
  {
   "cell_type": "code",
   "execution_count": null,
   "id": "3e967284",
   "metadata": {},
   "outputs": [],
   "source": []
  },
  {
   "cell_type": "code",
   "execution_count": null,
   "id": "a76afc93",
   "metadata": {},
   "outputs": [],
   "source": []
  },
  {
   "cell_type": "code",
   "execution_count": null,
   "id": "b544addf",
   "metadata": {},
   "outputs": [],
   "source": []
  },
  {
   "cell_type": "code",
   "execution_count": null,
   "id": "b7466557",
   "metadata": {},
   "outputs": [],
   "source": []
  },
  {
   "cell_type": "code",
   "execution_count": null,
   "id": "574c543b",
   "metadata": {},
   "outputs": [],
   "source": []
  },
  {
   "cell_type": "code",
   "execution_count": null,
   "id": "c82b7350",
   "metadata": {},
   "outputs": [],
   "source": []
  },
  {
   "cell_type": "code",
   "execution_count": null,
   "id": "1588d0da",
   "metadata": {},
   "outputs": [],
   "source": []
  },
  {
   "cell_type": "code",
   "execution_count": null,
   "id": "f19ec01f",
   "metadata": {},
   "outputs": [],
   "source": []
  },
  {
   "cell_type": "code",
   "execution_count": null,
   "id": "7c2a08c1",
   "metadata": {},
   "outputs": [],
   "source": []
  },
  {
   "cell_type": "code",
   "execution_count": null,
   "id": "1a577f72",
   "metadata": {},
   "outputs": [],
   "source": []
  },
  {
   "cell_type": "code",
   "execution_count": null,
   "id": "45b7252a",
   "metadata": {},
   "outputs": [],
   "source": []
  }
 ],
 "metadata": {
  "kernelspec": {
   "display_name": "Python 3 (ipykernel)",
   "language": "python",
   "name": "python3"
  },
  "language_info": {
   "codemirror_mode": {
    "name": "ipython",
    "version": 3
   },
   "file_extension": ".py",
   "mimetype": "text/x-python",
   "name": "python",
   "nbconvert_exporter": "python",
   "pygments_lexer": "ipython3",
   "version": "3.9.12"
  }
 },
 "nbformat": 4,
 "nbformat_minor": 5
}
