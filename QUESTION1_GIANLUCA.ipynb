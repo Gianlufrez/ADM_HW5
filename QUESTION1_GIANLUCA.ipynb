{
 "cells": [
  {
   "cell_type": "markdown",
   "id": "8002599b",
   "metadata": {},
   "source": [
    "**ORE SPESE SU QUESTO HOMEWORK**\\\n",
    "- 2 ora e mezza il 14-12\n",
    "- 1 ora il 15-12\n",
    "- 1 ora e mezza il 16-12"
   ]
  },
  {
   "cell_type": "code",
   "execution_count": 332,
   "id": "894e72ef",
   "metadata": {},
   "outputs": [],
   "source": [
    "import pandas as pd\n",
    "import numpy as np\n",
    "import networkx as nx"
   ]
  },
  {
   "cell_type": "markdown",
   "id": "b357eaa5",
   "metadata": {},
   "source": [
    "### Let's import the datasets\n",
    "**HERO-NETWORK:**\\\n",
    "It contains the network of heroes who have appeared together in the comics."
   ]
  },
  {
   "cell_type": "code",
   "execution_count": 317,
   "id": "d0341305",
   "metadata": {},
   "outputs": [],
   "source": [
    "dfheros = pd.read_csv(r'C:\\Users\\gianl\\Documents\\Università_4°anno(2022-2023\\ADM\\HOMEWORK\\HOMEWORK 5\\hero-network.csv')"
   ]
  },
  {
   "cell_type": "code",
   "execution_count": 299,
   "id": "6cb6ceb5",
   "metadata": {},
   "outputs": [
    {
     "data": {
      "text/html": [
       "<div>\n",
       "<style scoped>\n",
       "    .dataframe tbody tr th:only-of-type {\n",
       "        vertical-align: middle;\n",
       "    }\n",
       "\n",
       "    .dataframe tbody tr th {\n",
       "        vertical-align: top;\n",
       "    }\n",
       "\n",
       "    .dataframe thead th {\n",
       "        text-align: right;\n",
       "    }\n",
       "</style>\n",
       "<table border=\"1\" class=\"dataframe\">\n",
       "  <thead>\n",
       "    <tr style=\"text-align: right;\">\n",
       "      <th></th>\n",
       "      <th>hero1</th>\n",
       "      <th>hero2</th>\n",
       "    </tr>\n",
       "  </thead>\n",
       "  <tbody>\n",
       "    <tr>\n",
       "      <th>0</th>\n",
       "      <td>LITTLE, ABNER</td>\n",
       "      <td>PRINCESS ZANDA</td>\n",
       "    </tr>\n",
       "    <tr>\n",
       "      <th>1</th>\n",
       "      <td>LITTLE, ABNER</td>\n",
       "      <td>BLACK PANTHER/T'CHAL</td>\n",
       "    </tr>\n",
       "    <tr>\n",
       "      <th>2</th>\n",
       "      <td>BLACK PANTHER/T'CHAL</td>\n",
       "      <td>PRINCESS ZANDA</td>\n",
       "    </tr>\n",
       "    <tr>\n",
       "      <th>3</th>\n",
       "      <td>LITTLE, ABNER</td>\n",
       "      <td>PRINCESS ZANDA</td>\n",
       "    </tr>\n",
       "    <tr>\n",
       "      <th>4</th>\n",
       "      <td>LITTLE, ABNER</td>\n",
       "      <td>BLACK PANTHER/T'CHAL</td>\n",
       "    </tr>\n",
       "  </tbody>\n",
       "</table>\n",
       "</div>"
      ],
      "text/plain": [
       "                  hero1                 hero2\n",
       "0         LITTLE, ABNER        PRINCESS ZANDA\n",
       "1         LITTLE, ABNER  BLACK PANTHER/T'CHAL\n",
       "2  BLACK PANTHER/T'CHAL        PRINCESS ZANDA\n",
       "3         LITTLE, ABNER        PRINCESS ZANDA\n",
       "4         LITTLE, ABNER  BLACK PANTHER/T'CHAL"
      ]
     },
     "execution_count": 299,
     "metadata": {},
     "output_type": "execute_result"
    }
   ],
   "source": [
    "dfheros.head(5)"
   ]
  },
  {
   "cell_type": "code",
   "execution_count": 300,
   "id": "28bbbf84",
   "metadata": {},
   "outputs": [
    {
     "data": {
      "text/plain": [
       "(574467, 2)"
      ]
     },
     "execution_count": 300,
     "metadata": {},
     "output_type": "execute_result"
    }
   ],
   "source": [
    "dfheros.shape"
   ]
  },
  {
   "cell_type": "markdown",
   "id": "1fe8f99b",
   "metadata": {},
   "source": [
    "**EDGES:**\\\n",
    "It contains two columns (hero, comic), indicating which comics the heroes appear in."
   ]
  },
  {
   "cell_type": "code",
   "execution_count": 301,
   "id": "a1b1ad43",
   "metadata": {},
   "outputs": [],
   "source": [
    "dfedges = pd.read_csv(r'C:\\Users\\gianl\\Documents\\Università_4°anno(2022-2023\\ADM\\HOMEWORK\\HOMEWORK 5\\edges.csv')"
   ]
  },
  {
   "cell_type": "code",
   "execution_count": 302,
   "id": "ec6a5ab4",
   "metadata": {},
   "outputs": [
    {
     "data": {
      "text/html": [
       "<div>\n",
       "<style scoped>\n",
       "    .dataframe tbody tr th:only-of-type {\n",
       "        vertical-align: middle;\n",
       "    }\n",
       "\n",
       "    .dataframe tbody tr th {\n",
       "        vertical-align: top;\n",
       "    }\n",
       "\n",
       "    .dataframe thead th {\n",
       "        text-align: right;\n",
       "    }\n",
       "</style>\n",
       "<table border=\"1\" class=\"dataframe\">\n",
       "  <thead>\n",
       "    <tr style=\"text-align: right;\">\n",
       "      <th></th>\n",
       "      <th>hero</th>\n",
       "      <th>comic</th>\n",
       "    </tr>\n",
       "  </thead>\n",
       "  <tbody>\n",
       "    <tr>\n",
       "      <th>0</th>\n",
       "      <td>24-HOUR MAN/EMMANUEL</td>\n",
       "      <td>AA2 35</td>\n",
       "    </tr>\n",
       "    <tr>\n",
       "      <th>1</th>\n",
       "      <td>3-D MAN/CHARLES CHAN</td>\n",
       "      <td>AVF 4</td>\n",
       "    </tr>\n",
       "    <tr>\n",
       "      <th>2</th>\n",
       "      <td>3-D MAN/CHARLES CHAN</td>\n",
       "      <td>AVF 5</td>\n",
       "    </tr>\n",
       "    <tr>\n",
       "      <th>3</th>\n",
       "      <td>3-D MAN/CHARLES CHAN</td>\n",
       "      <td>COC 1</td>\n",
       "    </tr>\n",
       "    <tr>\n",
       "      <th>4</th>\n",
       "      <td>3-D MAN/CHARLES CHAN</td>\n",
       "      <td>H2 251</td>\n",
       "    </tr>\n",
       "  </tbody>\n",
       "</table>\n",
       "</div>"
      ],
      "text/plain": [
       "                   hero   comic\n",
       "0  24-HOUR MAN/EMMANUEL  AA2 35\n",
       "1  3-D MAN/CHARLES CHAN   AVF 4\n",
       "2  3-D MAN/CHARLES CHAN   AVF 5\n",
       "3  3-D MAN/CHARLES CHAN   COC 1\n",
       "4  3-D MAN/CHARLES CHAN  H2 251"
      ]
     },
     "execution_count": 302,
     "metadata": {},
     "output_type": "execute_result"
    }
   ],
   "source": [
    "dfedges.head(5)"
   ]
  },
  {
   "cell_type": "code",
   "execution_count": 303,
   "id": "02eafc90",
   "metadata": {},
   "outputs": [
    {
     "data": {
      "text/plain": [
       "(96104, 2)"
      ]
     },
     "execution_count": 303,
     "metadata": {},
     "output_type": "execute_result"
    }
   ],
   "source": [
    "dfedges.shape"
   ]
  },
  {
   "cell_type": "markdown",
   "id": "35c43d95",
   "metadata": {},
   "source": [
    "**NODES:**\\\n",
    "It contains two columns (node, type), indicating the nodes' name and type (comic, hero)."
   ]
  },
  {
   "cell_type": "code",
   "execution_count": 304,
   "id": "d4cad954",
   "metadata": {},
   "outputs": [],
   "source": [
    "dfnodes = pd.read_csv(r'C:\\Users\\gianl\\Documents\\Università_4°anno(2022-2023\\ADM\\HOMEWORK\\HOMEWORK 5\\nodes.csv')"
   ]
  },
  {
   "cell_type": "code",
   "execution_count": 305,
   "id": "460959ed",
   "metadata": {},
   "outputs": [
    {
     "data": {
      "text/html": [
       "<div>\n",
       "<style scoped>\n",
       "    .dataframe tbody tr th:only-of-type {\n",
       "        vertical-align: middle;\n",
       "    }\n",
       "\n",
       "    .dataframe tbody tr th {\n",
       "        vertical-align: top;\n",
       "    }\n",
       "\n",
       "    .dataframe thead th {\n",
       "        text-align: right;\n",
       "    }\n",
       "</style>\n",
       "<table border=\"1\" class=\"dataframe\">\n",
       "  <thead>\n",
       "    <tr style=\"text-align: right;\">\n",
       "      <th></th>\n",
       "      <th>node</th>\n",
       "      <th>type</th>\n",
       "    </tr>\n",
       "  </thead>\n",
       "  <tbody>\n",
       "    <tr>\n",
       "      <th>0</th>\n",
       "      <td>2001 10</td>\n",
       "      <td>comic</td>\n",
       "    </tr>\n",
       "    <tr>\n",
       "      <th>1</th>\n",
       "      <td>2001 8</td>\n",
       "      <td>comic</td>\n",
       "    </tr>\n",
       "    <tr>\n",
       "      <th>2</th>\n",
       "      <td>2001 9</td>\n",
       "      <td>comic</td>\n",
       "    </tr>\n",
       "    <tr>\n",
       "      <th>3</th>\n",
       "      <td>24-HOUR MAN/EMMANUEL</td>\n",
       "      <td>hero</td>\n",
       "    </tr>\n",
       "    <tr>\n",
       "      <th>4</th>\n",
       "      <td>3-D MAN/CHARLES CHAN</td>\n",
       "      <td>hero</td>\n",
       "    </tr>\n",
       "  </tbody>\n",
       "</table>\n",
       "</div>"
      ],
      "text/plain": [
       "                   node   type\n",
       "0               2001 10  comic\n",
       "1                2001 8  comic\n",
       "2                2001 9  comic\n",
       "3  24-HOUR MAN/EMMANUEL   hero\n",
       "4  3-D MAN/CHARLES CHAN   hero"
      ]
     },
     "execution_count": 305,
     "metadata": {},
     "output_type": "execute_result"
    }
   ],
   "source": [
    "dfnodes.head(5)"
   ]
  },
  {
   "cell_type": "code",
   "execution_count": 306,
   "id": "40261dfe",
   "metadata": {},
   "outputs": [
    {
     "data": {
      "text/plain": [
       "(19090, 2)"
      ]
     },
     "execution_count": 306,
     "metadata": {},
     "output_type": "execute_result"
    }
   ],
   "source": [
    "dfnodes.shape"
   ]
  },
  {
   "cell_type": "markdown",
   "id": "bcc8b693",
   "metadata": {},
   "source": [
    "# QUESTION 1: DATA"
   ]
  },
  {
   "cell_type": "markdown",
   "id": "a2128cf7",
   "metadata": {},
   "source": [
    "## GRAPHS SETUP\n",
    "### 1)"
   ]
  },
  {
   "cell_type": "markdown",
   "id": "81a50a9a",
   "metadata": {},
   "source": [
    "An edge between two heroes can be found if they have appeared in the same comic together. The number of edges between two heroes represents the number of times they have collaborated in different comics. Let's find all edges"
   ]
  },
  {
   "cell_type": "code",
   "execution_count": 333,
   "id": "7d5841dc",
   "metadata": {},
   "outputs": [],
   "source": [
    "G_heros = nx.MultiGraph()"
   ]
  },
  {
   "cell_type": "code",
   "execution_count": 335,
   "id": "87a0e8c5",
   "metadata": {},
   "outputs": [],
   "source": [
    "primo = heros.apply(lambda row:G_heros.add_edge(row['hero1'], row['hero2']),axis=1)"
   ]
  },
  {
   "cell_type": "markdown",
   "id": "06ee2a74",
   "metadata": {},
   "source": [
    "### 2)"
   ]
  },
  {
   "cell_type": "code",
   "execution_count": null,
   "id": "5d7d67b9",
   "metadata": {},
   "outputs": [],
   "source": []
  },
  {
   "cell_type": "code",
   "execution_count": null,
   "id": "3ed38e5b",
   "metadata": {},
   "outputs": [],
   "source": []
  },
  {
   "cell_type": "markdown",
   "id": "0f715a3d",
   "metadata": {},
   "source": [
    "## DATA PREPROCESSING\n",
    "### 1)"
   ]
  },
  {
   "cell_type": "markdown",
   "id": "0f30ae6c",
   "metadata": {},
   "source": [
    "**1.1**"
   ]
  },
  {
   "cell_type": "markdown",
   "id": "425c6636",
   "metadata": {},
   "source": [
    "\"Some heroes' names in 'hero-netowrk.csv' have extra spaces at the end of their names compared to their names in 'edges.csv'\" :"
   ]
  },
  {
   "cell_type": "markdown",
   "id": "4bfc7c32",
   "metadata": {},
   "source": [
    "The following command gets the string of heroes inside column 'hero1' (in dataset heros) that have a space in the last position: '  '. Once we have these heroes, we edit the string by deleting the space in the last position."
   ]
  },
  {
   "cell_type": "code",
   "execution_count": 318,
   "id": "c2c9ab09",
   "metadata": {},
   "outputs": [],
   "source": [
    "for i in range(len(dfheros.hero1)):\n",
    "    if dfheros.hero1[i][-1] == ' ':\n",
    "        dfheros.hero1[i]= dfheros.hero1[i][0:-1]"
   ]
  },
  {
   "cell_type": "markdown",
   "id": "91afb7cc",
   "metadata": {},
   "source": [
    "**1.2**"
   ]
  },
  {
   "cell_type": "markdown",
   "id": "2732b704",
   "metadata": {},
   "source": [
    "Some heroes' names in 'hero-netowrk.csv' have an extra '/' at the end of their names compared to their names in 'edges.csv'."
   ]
  },
  {
   "cell_type": "markdown",
   "id": "bfb12a3f",
   "metadata": {},
   "source": [
    "- We could do the same things of above, but we noticed that in the column hero (dataset edges) we have heros which have in the last position a slash: '/'. So we can't remove these heros but we have to remove only the heroes that within hero1 (in dataset heros) have a slash in the last position, while in hero (dataset edges) they don't.\n",
    "\n",
    "- However, to make things easier, we decided to remove the / in the last position in all heroes even those that are normally registered with the / in the last position (for example 8-BALL/ it is normally registered with the / in the last position because it has it in both the heros and edges datasets, but to make things easier we will remove the / even for 8-BALL/ in both dataset)\n",
    "\n",
    "- The following query, therefore, removes the / in last position (to whoever has it) to all heroes in 'hero1' (dataset heros) and in 'hero' (dataset edges):"
   ]
  },
  {
   "cell_type": "code",
   "execution_count": 308,
   "id": "7bd8a4b3",
   "metadata": {},
   "outputs": [],
   "source": [
    "#for the dataset 'dfheros'\n",
    "for i in range(len(dfheros.hero1)):\n",
    "    if dfheros.hero1[i][-1] == '/':\n",
    "        dfheros.hero1[i]= dfheros.hero1[i][0:-1]\n",
    "        \n",
    "#for the dataset 'dfedges'\n",
    "for i in range(len(dfedges.hero)):\n",
    "    if dfedges.hero[i][-1] == '/':\n",
    "        dfedges.hero[i]= dfedges.hero[i][0:-1]"
   ]
  },
  {
   "cell_type": "markdown",
   "id": "40d2d726",
   "metadata": {},
   "source": [
    "**1.3**"
   ]
  },
  {
   "cell_type": "markdown",
   "id": "385b6ffb",
   "metadata": {},
   "source": [
    "The hero name 'SPIDER-MAN/PETER PARKER' in 'edges.csv' has been changed to 'SPIDER-MAN/PETER PAR' in 'hero-network.csv' due to a string length limit in 'hero-network.csv'"
   ]
  },
  {
   "cell_type": "markdown",
   "id": "08f11de2",
   "metadata": {},
   "source": [
    "We can see inside the dataset edges there are 1577 times the name 'SPIDER-MAN/PETER PARKER' in the column 'hero'."
   ]
  },
  {
   "cell_type": "code",
   "execution_count": 183,
   "id": "13eb7563",
   "metadata": {},
   "outputs": [
    {
     "data": {
      "text/plain": [
       "(1577, 2)"
      ]
     },
     "execution_count": 183,
     "metadata": {},
     "output_type": "execute_result"
    }
   ],
   "source": [
    "dfedges[dfedges.hero == 'SPIDER-MAN/PETER PARKER'].shape"
   ]
  },
  {
   "cell_type": "markdown",
   "id": "6673f839",
   "metadata": {},
   "source": [
    "In order to avoid the problem of having two different name for the same hero in two different dataset, we decided to change inside the dataset edges, the name of the hero 'SPIDER-MAN/PETER PARKER' in 'SPIDER-MAN/PETER PAR'."
   ]
  },
  {
   "cell_type": "code",
   "execution_count": 185,
   "id": "1ebf9a67",
   "metadata": {},
   "outputs": [],
   "source": [
    "dfedges.hero = dfedges.hero.replace('SPIDER-MAN/PETER PARKER', 'SPIDER-MAN/PETER PAR')"
   ]
  },
  {
   "cell_type": "markdown",
   "id": "2057311d",
   "metadata": {},
   "source": [
    "Altought before were 1577 rows, now we can see that 'SPIDER-MAN/PETER PARKER' doesn't appear anymore."
   ]
  },
  {
   "cell_type": "code",
   "execution_count": 186,
   "id": "44e3ec62",
   "metadata": {},
   "outputs": [
    {
     "data": {
      "text/plain": [
       "(0, 2)"
      ]
     },
     "execution_count": 186,
     "metadata": {},
     "output_type": "execute_result"
    }
   ],
   "source": [
    "dfedges[dfedges.hero == 'SPIDER-MAN/PETER PARKER'].shape"
   ]
  },
  {
   "cell_type": "markdown",
   "id": "c8f906fe",
   "metadata": {},
   "source": [
    "### 2)"
   ]
  },
  {
   "cell_type": "markdown",
   "id": "e8c0cf80",
   "metadata": {},
   "source": [
    "Some entries in the 'hero-network.csv' have the same hero in both columns. In the graph, these entries form a self-loop. Because a self-loop makes no sense in this network, you can safely remove those from the dataset."
   ]
  },
  {
   "cell_type": "markdown",
   "id": "adae7bfd",
   "metadata": {},
   "source": [
    "We can observe from the following cell that the rows we need to delete are 2232."
   ]
  },
  {
   "cell_type": "code",
   "execution_count": 269,
   "id": "e2e1fd77",
   "metadata": {},
   "outputs": [
    {
     "name": "stdout",
     "output_type": "stream",
     "text": [
      "The number of total rows are:  574467 \n",
      "Instead the number of lines that have the same hero in 'hero1' and 'hero2' are:  2232\n"
     ]
    }
   ],
   "source": [
    "counter = 0\n",
    "for i in range(len(dfheros.hero1)):\n",
    "    if dfheros.hero1[i] == dfheros.hero2[i]:\n",
    "        counter += 1\n",
    "print('The number of total rows are: ', len(dfheros), \"\\nInstead, the number of rows that have the same hero in 'hero1' and 'hero2' are: \", counter)"
   ]
  },
  {
   "cell_type": "markdown",
   "id": "1425141f",
   "metadata": {},
   "source": [
    "The following code iterates through the heros dataframe, if it encounters a row that has the same name in 'hero1' and 'hero2' then it deletes that row."
   ]
  },
  {
   "cell_type": "code",
   "execution_count": 270,
   "id": "89227f22",
   "metadata": {},
   "outputs": [],
   "source": [
    "for i in range(len(dfheros.hero1)):\n",
    "    if dfheros.hero1[i] == dfheros.hero2[i]:\n",
    "        dfheros = dfheros.drop(i)"
   ]
  },
  {
   "cell_type": "markdown",
   "id": "3992f85c",
   "metadata": {},
   "source": [
    "Let's verify that 2232 rows have actually been deleted!\n",
    "\n",
    "Before we had a length of 574467, subtracting 2232 from it, we should obtain that the length of the dataframe is now equal to 572235:"
   ]
  },
  {
   "cell_type": "code",
   "execution_count": 271,
   "id": "a379f579",
   "metadata": {},
   "outputs": [
    {
     "data": {
      "text/plain": [
       "572235"
      ]
     },
     "execution_count": 271,
     "metadata": {},
     "output_type": "execute_result"
    }
   ],
   "source": [
    "len(dfheros)"
   ]
  },
  {
   "cell_type": "markdown",
   "id": "49cb4633",
   "metadata": {},
   "source": [
    "# QUESTION 2: BACKEND IMPLEMENTATION"
   ]
  },
  {
   "cell_type": "markdown",
   "id": "9c8bdc5f",
   "metadata": {},
   "source": [
    "## Functionality 1 - extract the graph's features"
   ]
  },
  {
   "cell_type": "markdown",
   "id": "8ae60b6a",
   "metadata": {},
   "source": [
    "#### F1.1 The number of nodes in the network (if type 2, report for both node types)"
   ]
  },
  {
   "cell_type": "code",
   "execution_count": null,
   "id": "3123f5b9",
   "metadata": {},
   "outputs": [],
   "source": []
  },
  {
   "cell_type": "markdown",
   "id": "925bb5ee",
   "metadata": {},
   "source": [
    "#### F1.2 The number of collaborations of each superhero with the others (only if type 1"
   ]
  },
  {
   "cell_type": "code",
   "execution_count": 336,
   "id": "b55f32f7",
   "metadata": {},
   "outputs": [
    {
     "data": {
      "text/plain": [
       "0          8\n",
       "1          7\n",
       "2          6\n",
       "3          9\n",
       "4          8\n",
       "          ..\n",
       "574462    55\n",
       "574463    45\n",
       "574464    17\n",
       "574465    23\n",
       "574466     3\n",
       "Length: 574467, dtype: int64"
      ]
     },
     "execution_count": 336,
     "metadata": {},
     "output_type": "execute_result"
    }
   ],
   "source": [
    "primo"
   ]
  },
  {
   "cell_type": "code",
   "execution_count": 342,
   "id": "2201293b",
   "metadata": {},
   "outputs": [
    {
     "data": {
      "text/html": [
       "<div>\n",
       "<style scoped>\n",
       "    .dataframe tbody tr th:only-of-type {\n",
       "        vertical-align: middle;\n",
       "    }\n",
       "\n",
       "    .dataframe tbody tr th {\n",
       "        vertical-align: top;\n",
       "    }\n",
       "\n",
       "    .dataframe thead th {\n",
       "        text-align: right;\n",
       "    }\n",
       "</style>\n",
       "<table border=\"1\" class=\"dataframe\">\n",
       "  <thead>\n",
       "    <tr style=\"text-align: right;\">\n",
       "      <th></th>\n",
       "      <th>hero1</th>\n",
       "      <th>hero2</th>\n",
       "    </tr>\n",
       "  </thead>\n",
       "  <tbody>\n",
       "    <tr>\n",
       "      <th>0</th>\n",
       "      <td>LITTLE, ABNER</td>\n",
       "      <td>PRINCESS ZANDA</td>\n",
       "    </tr>\n",
       "    <tr>\n",
       "      <th>1</th>\n",
       "      <td>LITTLE, ABNER</td>\n",
       "      <td>BLACK PANTHER/T'CHAL</td>\n",
       "    </tr>\n",
       "    <tr>\n",
       "      <th>2</th>\n",
       "      <td>BLACK PANTHER/T'CHAL</td>\n",
       "      <td>PRINCESS ZANDA</td>\n",
       "    </tr>\n",
       "    <tr>\n",
       "      <th>3</th>\n",
       "      <td>LITTLE, ABNER</td>\n",
       "      <td>PRINCESS ZANDA</td>\n",
       "    </tr>\n",
       "    <tr>\n",
       "      <th>4</th>\n",
       "      <td>LITTLE, ABNER</td>\n",
       "      <td>BLACK PANTHER/T'CHAL</td>\n",
       "    </tr>\n",
       "    <tr>\n",
       "      <th>...</th>\n",
       "      <td>...</td>\n",
       "      <td>...</td>\n",
       "    </tr>\n",
       "    <tr>\n",
       "      <th>574462</th>\n",
       "      <td>COLOSSUS II/PETER RA</td>\n",
       "      <td>CALLISTO</td>\n",
       "    </tr>\n",
       "    <tr>\n",
       "      <th>574463</th>\n",
       "      <td>CALLISTO</td>\n",
       "      <td>ROGUE /</td>\n",
       "    </tr>\n",
       "    <tr>\n",
       "      <th>574464</th>\n",
       "      <td>CALLISTO</td>\n",
       "      <td>CALIBAN/</td>\n",
       "    </tr>\n",
       "    <tr>\n",
       "      <th>574465</th>\n",
       "      <td>CALIBAN/</td>\n",
       "      <td>ROGUE /</td>\n",
       "    </tr>\n",
       "    <tr>\n",
       "      <th>574466</th>\n",
       "      <td>HULK/DR. ROBERT BRUC</td>\n",
       "      <td>MARKS, DR. SHIELA</td>\n",
       "    </tr>\n",
       "  </tbody>\n",
       "</table>\n",
       "<p>574467 rows × 2 columns</p>\n",
       "</div>"
      ],
      "text/plain": [
       "                       hero1                 hero2\n",
       "0              LITTLE, ABNER        PRINCESS ZANDA\n",
       "1              LITTLE, ABNER  BLACK PANTHER/T'CHAL\n",
       "2       BLACK PANTHER/T'CHAL        PRINCESS ZANDA\n",
       "3              LITTLE, ABNER        PRINCESS ZANDA\n",
       "4              LITTLE, ABNER  BLACK PANTHER/T'CHAL\n",
       "...                      ...                   ...\n",
       "574462  COLOSSUS II/PETER RA              CALLISTO\n",
       "574463              CALLISTO               ROGUE /\n",
       "574464              CALLISTO              CALIBAN/\n",
       "574465              CALIBAN/               ROGUE /\n",
       "574466  HULK/DR. ROBERT BRUC     MARKS, DR. SHIELA\n",
       "\n",
       "[574467 rows x 2 columns]"
      ]
     },
     "execution_count": 342,
     "metadata": {},
     "output_type": "execute_result"
    }
   ],
   "source": [
    "dfheros"
   ]
  },
  {
   "cell_type": "code",
   "execution_count": null,
   "id": "46619bf4",
   "metadata": {},
   "outputs": [],
   "source": []
  }
 ],
 "metadata": {
  "kernelspec": {
   "display_name": "Python 3 (ipykernel)",
   "language": "python",
   "name": "python3"
  },
  "language_info": {
   "codemirror_mode": {
    "name": "ipython",
    "version": 3
   },
   "file_extension": ".py",
   "mimetype": "text/x-python",
   "name": "python",
   "nbconvert_exporter": "python",
   "pygments_lexer": "ipython3",
   "version": "3.9.12"
  }
 },
 "nbformat": 4,
 "nbformat_minor": 5
}
