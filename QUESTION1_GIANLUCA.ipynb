{
 "cells": [
  {
   "cell_type": "markdown",
   "id": "8002599b",
   "metadata": {},
   "source": [
    "**ORE SPESE SU QUESTO HOMEWORK**\\\n",
    "- 2 ore il 14-12\n",
    "- 1 ora il 15-12\n",
    "- 2 ore il 16-12\n",
    "- 2 ore il 20-12\n",
    "- 3 ore il 22-12\n",
    "- 2 ore il 23-12\n",
    "- 3 ore il 24-12\n",
    "- 4 ore il 26-12\n",
    "- 2 ore l 27-12\n",
    "- 1 ora il 28-12\n",
    "- 2 ore il 29-12\n",
    "- 3 ore il 30-12\n",
    "- 2 ore il 02-01"
   ]
  },
  {
   "cell_type": "markdown",
   "id": "9025f49f",
   "metadata": {},
   "source": [
    "# TO DO LIST:\n",
    "- cancella le prime librerie importate a fine homewrok, stanno li solo per comodita\n",
    "- sistemare i pesi nel grafo 1\n",
    "\n",
    "\n",
    "# CONTROLLATO TUTTO FINO A:\n",
    "- dall'inizio alla fun 7 (esclusa) è tutto ricontrollato alla perfezione , tranne la parte di graphs set up\n",
    "- vis1: tutto ricontrollato tranne il punto 2 della vis1"
   ]
  },
  {
   "cell_type": "code",
   "execution_count": 1,
   "id": "894e72ef",
   "metadata": {},
   "outputs": [],
   "source": [
    "import pandas as pd\n",
    "import numpy as np\n",
    "import networkx as nx\n",
    "import matplotlib.pyplot as plt\n",
    "from collections import defaultdict\n",
    "from collections import OrderedDict\n",
    "from itertools import islice\n",
    "import warnings\n",
    "import seaborn as sns\n",
    "import matplotlib.pyplot as plt"
   ]
  },
  {
   "cell_type": "markdown",
   "id": "b357eaa5",
   "metadata": {},
   "source": [
    "## Let's import the datasets\n",
    "**HERO-NETWORK:**\\\n",
    "It contains the network of heroes who have appeared together in the comics."
   ]
  },
  {
   "cell_type": "code",
   "execution_count": 4,
   "id": "d0341305",
   "metadata": {},
   "outputs": [],
   "source": [
    "dfheros = pd.read_csv(r'C:\\Users\\gianl\\Documents\\Università_4°anno(2022-2023\\ADM\\HOMEWORK\\HOMEWORK 5\\hero-network.csv')"
   ]
  },
  {
   "cell_type": "code",
   "execution_count": 5,
   "id": "6cb6ceb5",
   "metadata": {},
   "outputs": [
    {
     "data": {
      "text/html": [
       "<div>\n",
       "<style scoped>\n",
       "    .dataframe tbody tr th:only-of-type {\n",
       "        vertical-align: middle;\n",
       "    }\n",
       "\n",
       "    .dataframe tbody tr th {\n",
       "        vertical-align: top;\n",
       "    }\n",
       "\n",
       "    .dataframe thead th {\n",
       "        text-align: right;\n",
       "    }\n",
       "</style>\n",
       "<table border=\"1\" class=\"dataframe\">\n",
       "  <thead>\n",
       "    <tr style=\"text-align: right;\">\n",
       "      <th></th>\n",
       "      <th>hero1</th>\n",
       "      <th>hero2</th>\n",
       "    </tr>\n",
       "  </thead>\n",
       "  <tbody>\n",
       "    <tr>\n",
       "      <th>0</th>\n",
       "      <td>LITTLE, ABNER</td>\n",
       "      <td>PRINCESS ZANDA</td>\n",
       "    </tr>\n",
       "    <tr>\n",
       "      <th>1</th>\n",
       "      <td>LITTLE, ABNER</td>\n",
       "      <td>BLACK PANTHER/T'CHAL</td>\n",
       "    </tr>\n",
       "    <tr>\n",
       "      <th>2</th>\n",
       "      <td>BLACK PANTHER/T'CHAL</td>\n",
       "      <td>PRINCESS ZANDA</td>\n",
       "    </tr>\n",
       "    <tr>\n",
       "      <th>3</th>\n",
       "      <td>LITTLE, ABNER</td>\n",
       "      <td>PRINCESS ZANDA</td>\n",
       "    </tr>\n",
       "    <tr>\n",
       "      <th>4</th>\n",
       "      <td>LITTLE, ABNER</td>\n",
       "      <td>BLACK PANTHER/T'CHAL</td>\n",
       "    </tr>\n",
       "  </tbody>\n",
       "</table>\n",
       "</div>"
      ],
      "text/plain": [
       "                  hero1                 hero2\n",
       "0         LITTLE, ABNER        PRINCESS ZANDA\n",
       "1         LITTLE, ABNER  BLACK PANTHER/T'CHAL\n",
       "2  BLACK PANTHER/T'CHAL        PRINCESS ZANDA\n",
       "3         LITTLE, ABNER        PRINCESS ZANDA\n",
       "4         LITTLE, ABNER  BLACK PANTHER/T'CHAL"
      ]
     },
     "execution_count": 5,
     "metadata": {},
     "output_type": "execute_result"
    }
   ],
   "source": [
    "dfheros.head(5)"
   ]
  },
  {
   "cell_type": "code",
   "execution_count": 6,
   "id": "28bbbf84",
   "metadata": {},
   "outputs": [
    {
     "data": {
      "text/plain": [
       "(574467, 2)"
      ]
     },
     "execution_count": 6,
     "metadata": {},
     "output_type": "execute_result"
    }
   ],
   "source": [
    "dfheros.shape"
   ]
  },
  {
   "cell_type": "markdown",
   "id": "1fe8f99b",
   "metadata": {},
   "source": [
    "**EDGES:**\\\n",
    "It contains two columns (hero, comic), indicating which comics the heroes appear in."
   ]
  },
  {
   "cell_type": "code",
   "execution_count": 7,
   "id": "a1b1ad43",
   "metadata": {},
   "outputs": [],
   "source": [
    "dfedges = pd.read_csv(r'C:\\Users\\gianl\\Documents\\Università_4°anno(2022-2023\\ADM\\HOMEWORK\\HOMEWORK 5\\edges.csv')"
   ]
  },
  {
   "cell_type": "code",
   "execution_count": 8,
   "id": "ec6a5ab4",
   "metadata": {},
   "outputs": [
    {
     "data": {
      "text/html": [
       "<div>\n",
       "<style scoped>\n",
       "    .dataframe tbody tr th:only-of-type {\n",
       "        vertical-align: middle;\n",
       "    }\n",
       "\n",
       "    .dataframe tbody tr th {\n",
       "        vertical-align: top;\n",
       "    }\n",
       "\n",
       "    .dataframe thead th {\n",
       "        text-align: right;\n",
       "    }\n",
       "</style>\n",
       "<table border=\"1\" class=\"dataframe\">\n",
       "  <thead>\n",
       "    <tr style=\"text-align: right;\">\n",
       "      <th></th>\n",
       "      <th>hero</th>\n",
       "      <th>comic</th>\n",
       "    </tr>\n",
       "  </thead>\n",
       "  <tbody>\n",
       "    <tr>\n",
       "      <th>0</th>\n",
       "      <td>24-HOUR MAN/EMMANUEL</td>\n",
       "      <td>AA2 35</td>\n",
       "    </tr>\n",
       "    <tr>\n",
       "      <th>1</th>\n",
       "      <td>3-D MAN/CHARLES CHAN</td>\n",
       "      <td>AVF 4</td>\n",
       "    </tr>\n",
       "    <tr>\n",
       "      <th>2</th>\n",
       "      <td>3-D MAN/CHARLES CHAN</td>\n",
       "      <td>AVF 5</td>\n",
       "    </tr>\n",
       "    <tr>\n",
       "      <th>3</th>\n",
       "      <td>3-D MAN/CHARLES CHAN</td>\n",
       "      <td>COC 1</td>\n",
       "    </tr>\n",
       "    <tr>\n",
       "      <th>4</th>\n",
       "      <td>3-D MAN/CHARLES CHAN</td>\n",
       "      <td>H2 251</td>\n",
       "    </tr>\n",
       "  </tbody>\n",
       "</table>\n",
       "</div>"
      ],
      "text/plain": [
       "                   hero   comic\n",
       "0  24-HOUR MAN/EMMANUEL  AA2 35\n",
       "1  3-D MAN/CHARLES CHAN   AVF 4\n",
       "2  3-D MAN/CHARLES CHAN   AVF 5\n",
       "3  3-D MAN/CHARLES CHAN   COC 1\n",
       "4  3-D MAN/CHARLES CHAN  H2 251"
      ]
     },
     "execution_count": 8,
     "metadata": {},
     "output_type": "execute_result"
    }
   ],
   "source": [
    "dfedges.head(5)"
   ]
  },
  {
   "cell_type": "code",
   "execution_count": 9,
   "id": "02eafc90",
   "metadata": {},
   "outputs": [
    {
     "data": {
      "text/plain": [
       "(96104, 2)"
      ]
     },
     "execution_count": 9,
     "metadata": {},
     "output_type": "execute_result"
    }
   ],
   "source": [
    "dfedges.shape"
   ]
  },
  {
   "cell_type": "markdown",
   "id": "35c43d95",
   "metadata": {},
   "source": [
    "**NODES:**\\\n",
    "It contains two columns (node, type), indicating the nodes' name and its type (comic, hero)."
   ]
  },
  {
   "cell_type": "code",
   "execution_count": 10,
   "id": "d4cad954",
   "metadata": {},
   "outputs": [],
   "source": [
    "dfnodes = pd.read_csv(r'C:\\Users\\gianl\\Documents\\Università_4°anno(2022-2023\\ADM\\HOMEWORK\\HOMEWORK 5\\nodes.csv')"
   ]
  },
  {
   "cell_type": "code",
   "execution_count": 11,
   "id": "460959ed",
   "metadata": {},
   "outputs": [
    {
     "data": {
      "text/html": [
       "<div>\n",
       "<style scoped>\n",
       "    .dataframe tbody tr th:only-of-type {\n",
       "        vertical-align: middle;\n",
       "    }\n",
       "\n",
       "    .dataframe tbody tr th {\n",
       "        vertical-align: top;\n",
       "    }\n",
       "\n",
       "    .dataframe thead th {\n",
       "        text-align: right;\n",
       "    }\n",
       "</style>\n",
       "<table border=\"1\" class=\"dataframe\">\n",
       "  <thead>\n",
       "    <tr style=\"text-align: right;\">\n",
       "      <th></th>\n",
       "      <th>node</th>\n",
       "      <th>type</th>\n",
       "    </tr>\n",
       "  </thead>\n",
       "  <tbody>\n",
       "    <tr>\n",
       "      <th>0</th>\n",
       "      <td>2001 10</td>\n",
       "      <td>comic</td>\n",
       "    </tr>\n",
       "    <tr>\n",
       "      <th>1</th>\n",
       "      <td>2001 8</td>\n",
       "      <td>comic</td>\n",
       "    </tr>\n",
       "    <tr>\n",
       "      <th>2</th>\n",
       "      <td>2001 9</td>\n",
       "      <td>comic</td>\n",
       "    </tr>\n",
       "    <tr>\n",
       "      <th>3</th>\n",
       "      <td>24-HOUR MAN/EMMANUEL</td>\n",
       "      <td>hero</td>\n",
       "    </tr>\n",
       "    <tr>\n",
       "      <th>4</th>\n",
       "      <td>3-D MAN/CHARLES CHAN</td>\n",
       "      <td>hero</td>\n",
       "    </tr>\n",
       "  </tbody>\n",
       "</table>\n",
       "</div>"
      ],
      "text/plain": [
       "                   node   type\n",
       "0               2001 10  comic\n",
       "1                2001 8  comic\n",
       "2                2001 9  comic\n",
       "3  24-HOUR MAN/EMMANUEL   hero\n",
       "4  3-D MAN/CHARLES CHAN   hero"
      ]
     },
     "execution_count": 11,
     "metadata": {},
     "output_type": "execute_result"
    }
   ],
   "source": [
    "dfnodes.head(5)"
   ]
  },
  {
   "cell_type": "code",
   "execution_count": 12,
   "id": "40261dfe",
   "metadata": {},
   "outputs": [
    {
     "data": {
      "text/plain": [
       "(19090, 2)"
      ]
     },
     "execution_count": 12,
     "metadata": {},
     "output_type": "execute_result"
    }
   ],
   "source": [
    "dfnodes.shape"
   ]
  },
  {
   "cell_type": "markdown",
   "id": "bcc8b693",
   "metadata": {},
   "source": [
    "# QUESTION 1: DATA"
   ]
  },
  {
   "cell_type": "markdown",
   "id": "0f715a3d",
   "metadata": {},
   "source": [
    "## DATA PREPROCESSING\n",
    "### 1)"
   ]
  },
  {
   "cell_type": "markdown",
   "id": "0f30ae6c",
   "metadata": {},
   "source": [
    "**1.1**"
   ]
  },
  {
   "cell_type": "markdown",
   "id": "425c6636",
   "metadata": {},
   "source": [
    "\"Some heroes' names in 'hero-netowrk.csv' have extra spaces at the end of their names compared to their names in 'edges.csv'\" :"
   ]
  },
  {
   "cell_type": "markdown",
   "id": "4bfc7c32",
   "metadata": {},
   "source": [
    "- The following command gets the string of heroes inside column 'hero1' (in dataset heros) that have a space in the last position: '  '. Once we have these heroes, we edit the string by deleting the space in the last position."
   ]
  },
  {
   "cell_type": "code",
   "execution_count": 13,
   "id": "c2c9ab09",
   "metadata": {},
   "outputs": [],
   "source": [
    "for i in range(len(dfheros.hero1)):\n",
    "    if dfheros.hero1[i][-1] == ' ':\n",
    "        dfheros.hero1[i]= dfheros.hero1[i][0:-1]"
   ]
  },
  {
   "cell_type": "markdown",
   "id": "91afb7cc",
   "metadata": {},
   "source": [
    "**1.2**"
   ]
  },
  {
   "cell_type": "markdown",
   "id": "2732b704",
   "metadata": {},
   "source": [
    "Some heroes' names in 'hero-netowrk.csv' have an extra '/' at the end of their names compared to their names in 'edges.csv'."
   ]
  },
  {
   "cell_type": "markdown",
   "id": "bfb12a3f",
   "metadata": {},
   "source": [
    "- We could do the same thing of above, but we noticed that in the column hero (dataset edges) we have heros which have in the last position a slash: '/'. So we can't just remove all '/' in last position in hero (dataset edges) otherwise we will end up in the opposite situation, i.e. heroes that have an extra '/' in the heroes dataset but don't have it in the edges dataset. Instead we should remove only the heroes that within hero1 (in dataset heros) have a slash in the last position, while in hero (dataset edges) they don't.\n",
    "\n",
    "- However, to make things easier, we decided to remove the / in the last position in all heroes even those that are normally registered with the / in the last position (for example 8-BALL/ it is normally registered with the / in the last position because it has it in both the heros and edges datasets, but to make things easier we will remove the / even for 8-BALL/ in both dataset)\n",
    "\n",
    "- The following query, therefore, removes the / in last position (to whoever has it) to all heroes in 'hero1' (dataset heros) and in 'hero' (dataset edges):"
   ]
  },
  {
   "cell_type": "code",
   "execution_count": 14,
   "id": "7bd8a4b3",
   "metadata": {},
   "outputs": [],
   "source": [
    "#for the dataset 'dfheros' in column 'hero1'\n",
    "for i in range(len(dfheros.hero1)):\n",
    "    if dfheros.hero1[i][-1] == '/':\n",
    "        dfheros.hero1[i]= dfheros.hero1[i][0:-1]\n",
    "        \n",
    "#for the dataset 'dfheros' in column 'hero2'\n",
    "for i in range(len(dfheros.hero2)):\n",
    "    if dfheros.hero2[i][-1] == '/':\n",
    "        dfheros.hero2[i]= dfheros.hero2[i][0:-1]\n",
    "        \n",
    "#for the dataset 'dfedges' in column 'hero'\n",
    "for i in range(len(dfedges.hero)):\n",
    "    if dfedges.hero[i][-1] == '/':\n",
    "        dfedges.hero[i]= dfedges.hero[i][0:-1]"
   ]
  },
  {
   "cell_type": "markdown",
   "id": "40d2d726",
   "metadata": {},
   "source": [
    "**1.3**"
   ]
  },
  {
   "cell_type": "markdown",
   "id": "385b6ffb",
   "metadata": {},
   "source": [
    "The hero name 'SPIDER-MAN/PETER PARKER' in 'edges.csv' has been changed to 'SPIDER-MAN/PETER PAR' in 'hero-network.csv' due to a string length limit in 'hero-network.csv'"
   ]
  },
  {
   "cell_type": "markdown",
   "id": "08f11de2",
   "metadata": {},
   "source": [
    "We can see inside the dataset edges there are 1577 times the name 'SPIDER-MAN/PETER PARKER' in the column 'hero'."
   ]
  },
  {
   "cell_type": "code",
   "execution_count": 15,
   "id": "13eb7563",
   "metadata": {},
   "outputs": [
    {
     "data": {
      "text/plain": [
       "(1577, 2)"
      ]
     },
     "execution_count": 15,
     "metadata": {},
     "output_type": "execute_result"
    }
   ],
   "source": [
    "dfedges[dfedges.hero == 'SPIDER-MAN/PETER PARKER'].shape"
   ]
  },
  {
   "cell_type": "markdown",
   "id": "6673f839",
   "metadata": {},
   "source": [
    "In order to avoid the problem of having two different name for the same hero in two different dataset, we decided to change inside the dataset edges, the name of the hero 'SPIDER-MAN/PETER PARKER' in 'SPIDER-MAN/PETER PAR'."
   ]
  },
  {
   "cell_type": "code",
   "execution_count": 16,
   "id": "1ebf9a67",
   "metadata": {},
   "outputs": [],
   "source": [
    "dfedges.hero = dfedges.hero.replace('SPIDER-MAN/PETER PARKER', 'SPIDER-MAN/PETER PAR')"
   ]
  },
  {
   "cell_type": "markdown",
   "id": "2057311d",
   "metadata": {},
   "source": [
    "Altought before were 1577 rows, now we can see that 'SPIDER-MAN/PETER PARKER' doesn't appear anymore."
   ]
  },
  {
   "cell_type": "code",
   "execution_count": 17,
   "id": "44e3ec62",
   "metadata": {},
   "outputs": [
    {
     "data": {
      "text/plain": [
       "(0, 2)"
      ]
     },
     "execution_count": 17,
     "metadata": {},
     "output_type": "execute_result"
    }
   ],
   "source": [
    "dfedges[dfedges.hero == 'SPIDER-MAN/PETER PARKER'].shape"
   ]
  },
  {
   "cell_type": "markdown",
   "id": "c8f906fe",
   "metadata": {},
   "source": [
    "### 2)"
   ]
  },
  {
   "cell_type": "markdown",
   "id": "e8c0cf80",
   "metadata": {},
   "source": [
    "Some entries in the 'hero-network.csv' have the same hero in both columns. In the graph, these entries form a self-loop. Because a self-loop makes no sense in this network, you can safely remove those from the dataset."
   ]
  },
  {
   "cell_type": "markdown",
   "id": "adae7bfd",
   "metadata": {},
   "source": [
    "- We can observe from the following cell that the rows we need to delete are 2232."
   ]
  },
  {
   "cell_type": "code",
   "execution_count": 18,
   "id": "e2e1fd77",
   "metadata": {},
   "outputs": [
    {
     "name": "stdout",
     "output_type": "stream",
     "text": [
      "The number of total rows are:  574467 \n",
      "Instead, the number of rows that have the same hero in 'hero1' and 'hero2' are:  2232\n"
     ]
    }
   ],
   "source": [
    "counter = 0\n",
    "for i in range(len(dfheros.hero1)):\n",
    "    if dfheros.hero1[i] == dfheros.hero2[i]:\n",
    "        counter += 1\n",
    "print('The number of total rows are: ', len(dfheros), \"\\nInstead, the number of rows that have the same hero in 'hero1' and 'hero2' are: \", counter)"
   ]
  },
  {
   "cell_type": "markdown",
   "id": "1425141f",
   "metadata": {},
   "source": [
    "- The following code iterates through the heros dataframe, if it encounters a row that has the same name in 'hero1' and 'hero2' then it deletes that row."
   ]
  },
  {
   "cell_type": "code",
   "execution_count": 19,
   "id": "89227f22",
   "metadata": {},
   "outputs": [],
   "source": [
    "for i in range(len(dfheros.hero1)):\n",
    "    if dfheros.hero1[i] == dfheros.hero2[i]:\n",
    "        dfheros = dfheros.drop(i)"
   ]
  },
  {
   "cell_type": "markdown",
   "id": "3992f85c",
   "metadata": {},
   "source": [
    "- Let's verify that 2232 rows have actually been deleted!\n",
    "\n",
    "\n",
    "- Before we had a length of 574467, subtracting 2232 from it, we should obtain that the length of the dataframe is now equal to 572235:"
   ]
  },
  {
   "cell_type": "code",
   "execution_count": 20,
   "id": "a379f579",
   "metadata": {},
   "outputs": [
    {
     "data": {
      "text/plain": [
       "572235"
      ]
     },
     "execution_count": 20,
     "metadata": {},
     "output_type": "execute_result"
    }
   ],
   "source": [
    "len(dfheros)"
   ]
  },
  {
   "cell_type": "markdown",
   "id": "e806b021",
   "metadata": {},
   "source": [
    "## GRAPHS SETUP\n",
    "### 1)"
   ]
  },
  {
   "cell_type": "markdown",
   "id": "cb4a22ec",
   "metadata": {},
   "source": [
    "- An edge between two heroes can be found if they have appeared in the same comic together. DIRE QUALCOSA SUI PESI!!!! Let's find all edges"
   ]
  },
  {
   "cell_type": "code",
   "execution_count": 21,
   "id": "98346a29",
   "metadata": {},
   "outputs": [],
   "source": [
    "#SISTEMARE I PESI, NON CAPISCO COME CAZZO DOBBIAMO FARLI, LEGGI ANCHE SLACK NEL CASO\n",
    "edges = dfheros.groupby(['hero1', 'hero2']).size().reset_index(name='weight')\n",
    "\n",
    "# QUESTO COMANDO MI RENDE I PESI INVERSAMENTE PROPORZIONALI\n",
    "edges.weight = round(1/ edges.weight,4)\n",
    "\n",
    "# crea il grafo\n",
    "G1 = nx.from_pandas_edgelist(edges, 'hero1', 'hero2', edge_attr = 'weight')"
   ]
  },
  {
   "cell_type": "code",
   "execution_count": 22,
   "id": "95e4d7f9",
   "metadata": {},
   "outputs": [
    {
     "data": {
      "text/plain": [
       "'Graph with 6559 nodes and 178133 edges'"
      ]
     },
     "execution_count": 22,
     "metadata": {},
     "output_type": "execute_result"
    }
   ],
   "source": [
    "warnings.filterwarnings(\"ignore\", category=DeprecationWarning) #this command is used to don't visualize the warnings\n",
    "nx.info(G1)"
   ]
  },
  {
   "cell_type": "code",
   "execution_count": 23,
   "id": "c5e25522",
   "metadata": {},
   "outputs": [
    {
     "name": "stdout",
     "output_type": "stream",
     "text": [
      "L'arco (CAPTAIN AMERICA, IRON MAN/TONY STARK ) ha peso 0.0045\n"
     ]
    }
   ],
   "source": [
    "#PROVA\n",
    "for u, v, d in G1.edges(data=True):\n",
    "    if (d['weight']) == 0.0045:\n",
    "        print(f\"L'arco ({u}, {v}) ha peso {d['weight']}\")"
   ]
  },
  {
   "cell_type": "markdown",
   "id": "e47b14ee",
   "metadata": {},
   "source": [
    "### 2)"
   ]
  },
  {
   "cell_type": "markdown",
   "id": "ddd4c93b",
   "metadata": {},
   "source": [
    "- The following graph has all heroes and comics as nodes, taken from the \"node\" column of the \"dfnodes\" dataset. Here there will not be edges connecting two heroes or two comics together, but just edges connecting hero and comic. A hero is connected by a edge to the comic only if that hero has appeared in that specific comic."
   ]
  },
  {
   "cell_type": "code",
   "execution_count": 24,
   "id": "8af80d9a",
   "metadata": {},
   "outputs": [],
   "source": [
    "G2 = nx.Graph()\n",
    "G2 = nx.from_pandas_edgelist(dfedges, 'comic', 'hero')\n",
    "\n",
    "# we add the type of each node, hero or comic (we will need in functionality 1)\n",
    "for index, row in dfedges.iterrows():\n",
    "    G2.add_node(row['hero'], type='hero')\n",
    "    G2.add_node(row['comic'], type='comic')"
   ]
  },
  {
   "cell_type": "code",
   "execution_count": 25,
   "id": "ce4d1202",
   "metadata": {},
   "outputs": [
    {
     "data": {
      "text/plain": [
       "'Graph with 19087 nodes and 96104 edges'"
      ]
     },
     "execution_count": 25,
     "metadata": {},
     "output_type": "execute_result"
    }
   ],
   "source": [
    "warnings.filterwarnings(\"ignore\", category=DeprecationWarning) #this command is used to hide the warnings\n",
    "nx.info(G2)"
   ]
  },
  {
   "cell_type": "code",
   "execution_count": 39,
   "id": "8bdd7070",
   "metadata": {},
   "outputs": [],
   "source": [
    "comic_nodes = [node for node in G2.nodes(data=True) if node[1]['type'] == 'comic']"
   ]
  },
  {
   "cell_type": "code",
   "execution_count": 40,
   "id": "91b7da0c",
   "metadata": {},
   "outputs": [
    {
     "data": {
      "text/plain": [
       "[('AVF 4', {'type': 'comic'}),\n",
       " ('AVF 5', {'type': 'comic'}),\n",
       " ('COC 1', {'type': 'comic'}),\n",
       " ('H2 251', {'type': 'comic'}),\n",
       " ('H2 252', {'type': 'comic'}),\n",
       " ('M/PRM 35', {'type': 'comic'}),\n",
       " ('M/PRM 36', {'type': 'comic'}),\n",
       " ('M/PRM 37', {'type': 'comic'}),\n",
       " ('WI? 9', {'type': 'comic'}),\n",
       " ('CA3 36', {'type': 'comic'}),\n",
       " ('CM 51', {'type': 'comic'}),\n",
       " ('Q 14', {'type': 'comic'}),\n",
       " ('Q 16', {'type': 'comic'}),\n",
       " ('T 208', {'type': 'comic'}),\n",
       " ('T 214', {'type': 'comic'}),\n",
       " ('T 215', {'type': 'comic'}),\n",
       " ('T 216', {'type': 'comic'}),\n",
       " ('T 440', {'type': 'comic'}),\n",
       " ('SLEEP 1', {'type': 'comic'}),\n",
       " ('SLEEP 19', {'type': 'comic'}),\n",
       " ('SLEEP 2', {'type': 'comic'}),\n",
       " ('DD/SM 1', {'type': 'comic'}),\n",
       " ('W2 52', {'type': 'comic'}),\n",
       " ('W2 53', {'type': 'comic'}),\n",
       " ('XFOR 108', {'type': 'comic'}),\n",
       " ('XFOR 109', {'type': 'comic'}),\n",
       " ('ABOM 2', {'type': 'comic'}),\n",
       " ('ABOM 3', {'type': 'comic'}),\n",
       " ('ASM 23', {'type': 'comic'}),\n",
       " ('H 15', {'type': 'comic'}),\n",
       " ('H 20', {'type': 'comic'}),\n",
       " ('H2 136', {'type': 'comic'}),\n",
       " ('H2 137', {'type': 'comic'}),\n",
       " ('H2 159', {'type': 'comic'}),\n",
       " ('H2 171', {'type': 'comic'}),\n",
       " ('H2 194', {'type': 'comic'}),\n",
       " ('H2 195', {'type': 'comic'}),\n",
       " ('H2 196', {'type': 'comic'}),\n",
       " ('H2 270', {'type': 'comic'}),\n",
       " ('H2 278', {'type': 'comic'}),\n",
       " ('H2 287', {'type': 'comic'}),\n",
       " ('H2 288', {'type': 'comic'}),\n",
       " ('H2 289', {'type': 'comic'}),\n",
       " ('H2 290', {'type': 'comic'}),\n",
       " ('H2 364', {'type': 'comic'}),\n",
       " ('H2 366', {'type': 'comic'}),\n",
       " ('H2 382', {'type': 'comic'}),\n",
       " ('H2 383', {'type': 'comic'}),\n",
       " ('H2 384', {'type': 'comic'}),\n",
       " ('H2 431', {'type': 'comic'}),\n",
       " ('H2 432', {'type': 'comic'}),\n",
       " ('H2 459', {'type': 'comic'}),\n",
       " ('H2 472', {'type': 'comic'}),\n",
       " ('H2 473', {'type': 'comic'}),\n",
       " ('H2 474', {'type': 'comic'}),\n",
       " ('H3 24', {'type': 'comic'}),\n",
       " ('H3 25', {'type': 'comic'}),\n",
       " ('M/SH3 6', {'type': 'comic'}),\n",
       " ('M/SH3 7', {'type': 'comic'}),\n",
       " ('M/SH3 8', {'type': 'comic'}),\n",
       " ('N 58', {'type': 'comic'}),\n",
       " ('N 59', {'type': 'comic'}),\n",
       " ('SOLOA 12', {'type': 'comic'}),\n",
       " ('SS 12', {'type': 'comic'}),\n",
       " ('SWII 7', {'type': 'comic'}),\n",
       " ('T 178', {'type': 'comic'}),\n",
       " ('TTA 90/2', {'type': 'comic'}),\n",
       " ('TTA 91/2', {'type': 'comic'}),\n",
       " ('WCA2 25', {'type': 'comic'}),\n",
       " ('X 74', {'type': 'comic'}),\n",
       " ('XM 32', {'type': 'comic'}),\n",
       " (\"MX '01\", {'type': 'comic'}),\n",
       " ('S-H2 21', {'type': 'comic'}),\n",
       " ('S-H2 22', {'type': 'comic'}),\n",
       " ('S-H2 23', {'type': 'comic'}),\n",
       " ('AA2 22', {'type': 'comic'}),\n",
       " ('AA2 23', {'type': 'comic'}),\n",
       " ('AA2 24', {'type': 'comic'}),\n",
       " (\"FF '01\", {'type': 'comic'}),\n",
       " ('GAM3 14', {'type': 'comic'}),\n",
       " ('XFOR 10', {'type': 'comic'}),\n",
       " ('XFOR 53', {'type': 'comic'}),\n",
       " ('XFOR 54', {'type': 'comic'}),\n",
       " ('A 183', {'type': 'comic'}),\n",
       " ('A 184', {'type': 'comic'}),\n",
       " ('A 20/4', {'type': 'comic'}),\n",
       " ('A 270', {'type': 'comic'}),\n",
       " ('A 273', {'type': 'comic'}),\n",
       " ('A 274', {'type': 'comic'}),\n",
       " ('A 275', {'type': 'comic'}),\n",
       " ('ASM 283', {'type': 'comic'}),\n",
       " ('ASM 429', {'type': 'comic'}),\n",
       " ('ASPOT 29/2', {'type': 'comic'}),\n",
       " ('AUP 3', {'type': 'comic'}),\n",
       " ('AUP 4', {'type': 'comic'}),\n",
       " ('CA3 24', {'type': 'comic'}),\n",
       " ('DAZZ 17', {'type': 'comic'}),\n",
       " ('DAZZ 18', {'type': 'comic'}),\n",
       " ('DAZZ 19', {'type': 'comic'}),\n",
       " ('DD 1', {'type': 'comic'}),\n",
       " ('DD 359', {'type': 'comic'}),\n",
       " ('DD:Y 1', {'type': 'comic'}),\n",
       " ('DPOOL3 43', {'type': 'comic'}),\n",
       " ('FF3 22', {'type': 'comic'}),\n",
       " ('H 18', {'type': 'comic'}),\n",
       " ('H2 125', {'type': 'comic'}),\n",
       " ('H2 208', {'type': 'comic'}),\n",
       " ('H2 209', {'type': 'comic'}),\n",
       " ('H2 261', {'type': 'comic'}),\n",
       " ('H2 347', {'type': 'comic'}),\n",
       " ('H2 348', {'type': 'comic'}),\n",
       " ('H2 456', {'type': 'comic'}),\n",
       " ('H2 457', {'type': 'comic'}),\n",
       " ('HFH 17', {'type': 'comic'}),\n",
       " ('JIM 114', {'type': 'comic'}),\n",
       " ('JIM 115', {'type': 'comic'}),\n",
       " ('JIM 120', {'type': 'comic'}),\n",
       " ('JIM 121', {'type': 'comic'}),\n",
       " ('JIM 122', {'type': 'comic'}),\n",
       " ('JIM 123', {'type': 'comic'}),\n",
       " ('M/CP 160/4', {'type': 'comic'}),\n",
       " ('M/SHSW 1', {'type': 'comic'}),\n",
       " ('M/SHSW 10', {'type': 'comic'}),\n",
       " ('M/SHSW 11', {'type': 'comic'}),\n",
       " ('M/SHSW 12', {'type': 'comic'}),\n",
       " ('M/SHSW 2', {'type': 'comic'}),\n",
       " ('M/SHSW 3', {'type': 'comic'}),\n",
       " ('M/SHSW 4', {'type': 'comic'}),\n",
       " ('M/SHSW 5', {'type': 'comic'}),\n",
       " ('M/SHSW 6', {'type': 'comic'}),\n",
       " ('M/SHSW 7', {'type': 'comic'}),\n",
       " ('M/SHSW 8', {'type': 'comic'}),\n",
       " ('M/SHSW 9', {'type': 'comic'}),\n",
       " ('M/VS 1/4', {'type': 'comic'}),\n",
       " ('Q 5', {'type': 'comic'}),\n",
       " ('T 2', {'type': 'comic'}),\n",
       " ('T 206', {'type': 'comic'}),\n",
       " ('T 207', {'type': 'comic'}),\n",
       " ('T2 14', {'type': 'comic'}),\n",
       " ('T2 25', {'type': 'comic'}),\n",
       " ('T2 26', {'type': 'comic'}),\n",
       " ('T2 27', {'type': 'comic'}),\n",
       " ('T 235', {'type': 'comic'}),\n",
       " ('T 236', {'type': 'comic'}),\n",
       " ('T 375', {'type': 'comic'}),\n",
       " ('T 376', {'type': 'comic'}),\n",
       " ('T 383', {'type': 'comic'}),\n",
       " ('T 436', {'type': 'comic'}),\n",
       " ('T 447', {'type': 'comic'}),\n",
       " ('T 448', {'type': 'comic'}),\n",
       " ('T 490', {'type': 'comic'}),\n",
       " ('TS 16', {'type': 'comic'}),\n",
       " ('W2 164', {'type': 'comic'}),\n",
       " ('Q 25', {'type': 'comic'}),\n",
       " ('BP3 10', {'type': 'comic'}),\n",
       " ('BP3 11', {'type': 'comic'}),\n",
       " ('BP3 12', {'type': 'comic'}),\n",
       " ('BP3 13', {'type': 'comic'}),\n",
       " ('BP3 23', {'type': 'comic'}),\n",
       " ('BP3 3', {'type': 'comic'}),\n",
       " ('BP3 4', {'type': 'comic'}),\n",
       " ('BP3 5', {'type': 'comic'}),\n",
       " ('BP3 8', {'type': 'comic'}),\n",
       " ('BP3 9', {'type': 'comic'}),\n",
       " ('DPOOL3 44', {'type': 'comic'}),\n",
       " ('CAGE 9', {'type': 'comic'}),\n",
       " ('H 17/5', {'type': 'comic'}),\n",
       " ('H 18/3', {'type': 'comic'}),\n",
       " ('H 20/3', {'type': 'comic'}),\n",
       " ('H2 379', {'type': 'comic'}),\n",
       " ('H2 381', {'type': 'comic'}),\n",
       " ('H2 386', {'type': 'comic'}),\n",
       " ('H2 387', {'type': 'comic'}),\n",
       " ('H2 395', {'type': 'comic'}),\n",
       " ('H2 397', {'type': 'comic'}),\n",
       " ('H2 421', {'type': 'comic'}),\n",
       " ('H2 423', {'type': 'comic'}),\n",
       " ('H2 424', {'type': 'comic'}),\n",
       " ('H2 425', {'type': 'comic'}),\n",
       " ('T 8', {'type': 'comic'}),\n",
       " ('CA:SL2 11', {'type': 'comic'}),\n",
       " ('ST 106', {'type': 'comic'}),\n",
       " ('ST 114', {'type': 'comic'}),\n",
       " ('AA2 27', {'type': 'comic'}),\n",
       " ('AA2 28', {'type': 'comic'}),\n",
       " ('AA2 29', {'type': 'comic'}),\n",
       " ('AA2 31', {'type': 'comic'}),\n",
       " ('ROM 60', {'type': 'comic'}),\n",
       " ('ROM 61', {'type': 'comic'}),\n",
       " ('ROM 62', {'type': 'comic'}),\n",
       " ('ROM 63', {'type': 'comic'}),\n",
       " ('ROM 64', {'type': 'comic'}),\n",
       " ('ROM 65', {'type': 'comic'}),\n",
       " ('ROM 66', {'type': 'comic'}),\n",
       " ('ROM 67', {'type': 'comic'}),\n",
       " ('ROM 71', {'type': 'comic'}),\n",
       " ('ROM 72', {'type': 'comic'}),\n",
       " ('DB 1', {'type': 'comic'}),\n",
       " ('A 77', {'type': 'comic'}),\n",
       " ('BP3 1', {'type': 'comic'}),\n",
       " ('BP3 14', {'type': 'comic'}),\n",
       " ('BP3 15', {'type': 'comic'}),\n",
       " ('BP3 16', {'type': 'comic'}),\n",
       " ('BP3 17', {'type': 'comic'}),\n",
       " ('BP3 18', {'type': 'comic'}),\n",
       " ('BP3 19', {'type': 'comic'}),\n",
       " ('BP3 2', {'type': 'comic'}),\n",
       " ('BP3 20', {'type': 'comic'}),\n",
       " ('BP3 22', {'type': 'comic'}),\n",
       " ('BP3 24', {'type': 'comic'}),\n",
       " ('BP3 25', {'type': 'comic'}),\n",
       " ('BP3 27', {'type': 'comic'}),\n",
       " ('BP3 6', {'type': 'comic'}),\n",
       " ('BP3 7', {'type': 'comic'}),\n",
       " ('ST 174', {'type': 'comic'}),\n",
       " ('ST 176', {'type': 'comic'}),\n",
       " ('ST 177', {'type': 'comic'}),\n",
       " ('CM4 2', {'type': 'comic'}),\n",
       " ('CM4 3', {'type': 'comic'}),\n",
       " ('X 38', {'type': 'comic'}),\n",
       " ('X 39', {'type': 'comic'}),\n",
       " ('NW 53', {'type': 'comic'}),\n",
       " ('NW 54', {'type': 'comic'}),\n",
       " ('NW 55', {'type': 'comic'}),\n",
       " ('NW 56', {'type': 'comic'}),\n",
       " ('NW 58', {'type': 'comic'}),\n",
       " ('NW 62', {'type': 'comic'}),\n",
       " ('NW 65', {'type': 'comic'}),\n",
       " ('NW 74', {'type': 'comic'}),\n",
       " ('A 260', {'type': 'comic'}),\n",
       " ('NO2 14', {'type': 'comic'}),\n",
       " ('NW 42', {'type': 'comic'}),\n",
       " ('FF 204', {'type': 'comic'}),\n",
       " ('FF 205', {'type': 'comic'}),\n",
       " ('FF 206', {'type': 'comic'}),\n",
       " ('FF 208', {'type': 'comic'}),\n",
       " ('FF 209', {'type': 'comic'}),\n",
       " ('FF 214', {'type': 'comic'}),\n",
       " ('NO2 15', {'type': 'comic'}),\n",
       " ('NO2 17', {'type': 'comic'}),\n",
       " ('NO2 18', {'type': 'comic'}),\n",
       " ('ROM 24', {'type': 'comic'}),\n",
       " ('DRSTR2 56', {'type': 'comic'}),\n",
       " ('ST 141/2', {'type': 'comic'}),\n",
       " ('ST 142/2', {'type': 'comic'}),\n",
       " ('ST 143/2', {'type': 'comic'}),\n",
       " ('T2 10', {'type': 'comic'}),\n",
       " ('T2 11', {'type': 'comic'}),\n",
       " ('T2 12', {'type': 'comic'}),\n",
       " ('T2 4', {'type': 'comic'}),\n",
       " ('T2 5', {'type': 'comic'}),\n",
       " ('T2 7', {'type': 'comic'}),\n",
       " ('T2 8', {'type': 'comic'}),\n",
       " ('T2 9', {'type': 'comic'}),\n",
       " ('NW 69', {'type': 'comic'}),\n",
       " ('NW 70', {'type': 'comic'}),\n",
       " ('NW 71', {'type': 'comic'}),\n",
       " ('UX 187', {'type': 'comic'}),\n",
       " ('UX 188', {'type': 'comic'}),\n",
       " ('UX 220', {'type': 'comic'}),\n",
       " ('UX 221', {'type': 'comic'}),\n",
       " ('UX 222', {'type': 'comic'}),\n",
       " ('UX 223', {'type': 'comic'}),\n",
       " ('UX 224', {'type': 'comic'}),\n",
       " ('UX 225', {'type': 'comic'}),\n",
       " ('UX 226', {'type': 'comic'}),\n",
       " ('UX 227', {'type': 'comic'}),\n",
       " ('XF 119', {'type': 'comic'}),\n",
       " ('XF 120', {'type': 'comic'}),\n",
       " ('XF 121', {'type': 'comic'}),\n",
       " ('NW2 1', {'type': 'comic'}),\n",
       " ('NW2 10', {'type': 'comic'}),\n",
       " ('NW2 2', {'type': 'comic'}),\n",
       " ('NW2 3', {'type': 'comic'}),\n",
       " ('NW2 4', {'type': 'comic'}),\n",
       " ('NW2 5', {'type': 'comic'}),\n",
       " ('NW2 6', {'type': 'comic'}),\n",
       " ('NW2 7', {'type': 'comic'}),\n",
       " ('NW2 8', {'type': 'comic'}),\n",
       " ('NW2 9', {'type': 'comic'}),\n",
       " ('W2 149', {'type': 'comic'}),\n",
       " ('C2 79', {'type': 'comic'}),\n",
       " ('C2 80', {'type': 'comic'}),\n",
       " ('C2 81', {'type': 'comic'}),\n",
       " ('C2 82', {'type': 'comic'}),\n",
       " ('C2 83', {'type': 'comic'}),\n",
       " ('C2 84', {'type': 'comic'}),\n",
       " ('DRSTR3 88', {'type': 'comic'}),\n",
       " ('DRSTR3 89', {'type': 'comic'}),\n",
       " ('M/TIO 10', {'type': 'comic'}),\n",
       " ('H 18/2', {'type': 'comic'}),\n",
       " ('H2 376', {'type': 'comic'}),\n",
       " ('H2 398', {'type': 'comic'}),\n",
       " ('H2 399', {'type': 'comic'}),\n",
       " ('H2 400', {'type': 'comic'}),\n",
       " ('H2 422', {'type': 'comic'}),\n",
       " ('DRSTR2 1', {'type': 'comic'}),\n",
       " ('DRSTR2 5', {'type': 'comic'}),\n",
       " ('DRSTR3 32', {'type': 'comic'}),\n",
       " ('DRSTR3 43', {'type': 'comic'}),\n",
       " ('DRSTR3 48', {'type': 'comic'}),\n",
       " ('DRSTR3 49', {'type': 'comic'}),\n",
       " ('DRSTR3 50', {'type': 'comic'}),\n",
       " ('DRSTR3 6', {'type': 'comic'}),\n",
       " ('DRSTR3 7', {'type': 'comic'}),\n",
       " ('M/PRM 5', {'type': 'comic'}),\n",
       " ('M/PRM 8', {'type': 'comic'}),\n",
       " ('M/TU 77', {'type': 'comic'}),\n",
       " ('ABOM 1', {'type': 'comic'}),\n",
       " ('DRSTR2 10', {'type': 'comic'}),\n",
       " ('DRSTR2 11', {'type': 'comic'}),\n",
       " ('DRSTR2 12', {'type': 'comic'}),\n",
       " ('DRSTR2 57', {'type': 'comic'}),\n",
       " ('DRSTR2 7', {'type': 'comic'}),\n",
       " ('DRSTR2 9', {'type': 'comic'}),\n",
       " ('DSDDGN', {'type': 'comic'}),\n",
       " ('ST 136/2', {'type': 'comic'}),\n",
       " ('UX 353', {'type': 'comic'}),\n",
       " ('UX 355', {'type': 'comic'}),\n",
       " ('UX 356', {'type': 'comic'}),\n",
       " ('UX 357', {'type': 'comic'}),\n",
       " ('UX 359', {'type': 'comic'}),\n",
       " ('C2 59', {'type': 'comic'}),\n",
       " ('C2 60', {'type': 'comic'}),\n",
       " ('C2 61', {'type': 'comic'}),\n",
       " ('C2 62', {'type': 'comic'}),\n",
       " ('INV 1', {'type': 'comic'}),\n",
       " ('INV 26', {'type': 'comic'}),\n",
       " ('INV 27', {'type': 'comic'}),\n",
       " ('INV 28', {'type': 'comic'}),\n",
       " ('GR3 29', {'type': 'comic'}),\n",
       " ('SSWP 7', {'type': 'comic'}),\n",
       " ('DS 2/5', {'type': 'comic'}),\n",
       " ('ST 119/2', {'type': 'comic'}),\n",
       " ('A 248', {'type': 'comic'}),\n",
       " ('E 11', {'type': 'comic'}),\n",
       " ('T 291', {'type': 'comic'}),\n",
       " ('INH2 1', {'type': 'comic'}),\n",
       " ('MK3 44', {'type': 'comic'}),\n",
       " ('FF3 3', {'type': 'comic'}),\n",
       " ('FF3 4', {'type': 'comic'}),\n",
       " ('FF3 5', {'type': 'comic'}),\n",
       " ('C2 71', {'type': 'comic'}),\n",
       " ('FF 23', {'type': 'comic'}),\n",
       " ('NM 6', {'type': 'comic'}),\n",
       " ('UX 14', {'type': 'comic'}),\n",
       " ('UX 199', {'type': 'comic'}),\n",
       " ('UX 377', {'type': 'comic'}),\n",
       " ('X 96', {'type': 'comic'}),\n",
       " ('X 97', {'type': 'comic'}),\n",
       " ('XCAL 35', {'type': 'comic'}),\n",
       " ('XCAL 52', {'type': 'comic'}),\n",
       " ('XCAL 66', {'type': 'comic'}),\n",
       " ('XF 5', {'type': 'comic'}),\n",
       " ('E2 10', {'type': 'comic'}),\n",
       " ('E2 2', {'type': 'comic'}),\n",
       " ('E2 5', {'type': 'comic'}),\n",
       " ('E2 7', {'type': 'comic'}),\n",
       " ('E2 9', {'type': 'comic'}),\n",
       " ('AR 2', {'type': 'comic'}),\n",
       " ('FF 402', {'type': 'comic'}),\n",
       " ('FF 411', {'type': 'comic'}),\n",
       " ('FF 413', {'type': 'comic'}),\n",
       " ('FFU 11', {'type': 'comic'}),\n",
       " ('I:GR', {'type': 'comic'}),\n",
       " ('INHUMANS GRAPHIC NOV', {'type': 'comic'}),\n",
       " ('W2 119', {'type': 'comic'}),\n",
       " ('W2 121', {'type': 'comic'}),\n",
       " ('X 77', {'type': 'comic'}),\n",
       " ('X 78', {'type': 'comic'}),\n",
       " ('IM3 1', {'type': 'comic'}),\n",
       " (\"IM '99\", {'type': 'comic'}),\n",
       " ('AA2 1', {'type': 'comic'}),\n",
       " ('AA2 2', {'type': 'comic'}),\n",
       " ('FF 47', {'type': 'comic'}),\n",
       " ('FF 83', {'type': 'comic'}),\n",
       " ('H 1', {'type': 'comic'}),\n",
       " ('H2 119', {'type': 'comic'}),\n",
       " ('INH 4', {'type': 'comic'}),\n",
       " ('INH 5', {'type': 'comic'}),\n",
       " ('INH 6', {'type': 'comic'}),\n",
       " ('M/FAN 14/2', {'type': 'comic'}),\n",
       " ('NW 29', {'type': 'comic'}),\n",
       " ('NW 30', {'type': 'comic'}),\n",
       " ('NW 7', {'type': 'comic'}),\n",
       " ('NW 8', {'type': 'comic'}),\n",
       " ('NW 9', {'type': 'comic'}),\n",
       " ('SS 18', {'type': 'comic'}),\n",
       " ('M/SH3 11/2', {'type': 'comic'}),\n",
       " ('FF 120', {'type': 'comic'}),\n",
       " ('FF 121', {'type': 'comic'}),\n",
       " ('SS3 106', {'type': 'comic'}),\n",
       " ('SS3 107', {'type': 'comic'}),\n",
       " ('SS3 108', {'type': 'comic'}),\n",
       " ('SS3 109', {'type': 'comic'}),\n",
       " ('SS3 73', {'type': 'comic'}),\n",
       " ('SS3 74', {'type': 'comic'}),\n",
       " ('SS3 75', {'type': 'comic'}),\n",
       " ('SS 7', {'type': 'comic'}),\n",
       " ('T 305', {'type': 'comic'}),\n",
       " ('T 306', {'type': 'comic'}),\n",
       " ('E 12', {'type': 'comic'}),\n",
       " ('E 2', {'type': 'comic'}),\n",
       " ('E 3', {'type': 'comic'}),\n",
       " ('E 4', {'type': 'comic'}),\n",
       " ('E 7', {'type': 'comic'}),\n",
       " ('E:HEROD', {'type': 'comic'}),\n",
       " ('IM 6', {'type': 'comic'}),\n",
       " ('T 284', {'type': 'comic'}),\n",
       " ('T 300', {'type': 'comic'}),\n",
       " ('T 301', {'type': 'comic'}),\n",
       " ('T 7', {'type': 'comic'}),\n",
       " ('DRSTR 2', {'type': 'comic'}),\n",
       " ('H2 391', {'type': 'comic'}),\n",
       " ('H2 392', {'type': 'comic'}),\n",
       " ('H2 393', {'type': 'comic'}),\n",
       " ('H2 394', {'type': 'comic'}),\n",
       " ('H2 444', {'type': 'comic'}),\n",
       " ('H2 446', {'type': 'comic'}),\n",
       " ('H2 448', {'type': 'comic'}),\n",
       " ('DPOOL3 15', {'type': 'comic'}),\n",
       " ('DPOOL3 16', {'type': 'comic'}),\n",
       " ('DPOOL3 19', {'type': 'comic'}),\n",
       " ('XF 76', {'type': 'comic'}),\n",
       " ('TB 45', {'type': 'comic'}),\n",
       " ('BP3 31', {'type': 'comic'}),\n",
       " ('BP3 33', {'type': 'comic'}),\n",
       " ('M/CO 71/2', {'type': 'comic'}),\n",
       " ('M/CP 69/2', {'type': 'comic'}),\n",
       " ('M/CP 70/2', {'type': 'comic'}),\n",
       " ('CA3 1', {'type': 'comic'}),\n",
       " ('CA3 21', {'type': 'comic'}),\n",
       " ('MAXSEC:DP', {'type': 'comic'}),\n",
       " ('GENX 42', {'type': 'comic'}),\n",
       " ('W2 37', {'type': 'comic'}),\n",
       " ('W2 38', {'type': 'comic'}),\n",
       " ('W2 39', {'type': 'comic'}),\n",
       " ('W2 40', {'type': 'comic'}),\n",
       " ('W2 41', {'type': 'comic'}),\n",
       " ('W2 42', {'type': 'comic'}),\n",
       " ('W2 43', {'type': 'comic'}),\n",
       " ('W2 45', {'type': 'comic'}),\n",
       " ('W2 46', {'type': 'comic'}),\n",
       " ('W2 51', {'type': 'comic'}),\n",
       " ('W2 82', {'type': 'comic'}),\n",
       " ('W2 83', {'type': 'comic'}),\n",
       " ('W2 84', {'type': 'comic'}),\n",
       " ('W2 86', {'type': 'comic'}),\n",
       " ('HAWK2', {'type': 'comic'}),\n",
       " ('NOM2 3', {'type': 'comic'}),\n",
       " ('XCAL 57', {'type': 'comic'}),\n",
       " ('XCAL 58', {'type': 'comic'}),\n",
       " ('XF 40', {'type': 'comic'}),\n",
       " ('XF 41', {'type': 'comic'}),\n",
       " ('A:T', {'type': 'comic'}),\n",
       " ('IM 28', {'type': 'comic'}),\n",
       " ('IM 326', {'type': 'comic'}),\n",
       " ('IM 327', {'type': 'comic'}),\n",
       " ('XFOR 71', {'type': 'comic'}),\n",
       " ('XFOR 72', {'type': 'comic'}),\n",
       " ('XFOR 73', {'type': 'comic'}),\n",
       " ('XFOR 74', {'type': 'comic'}),\n",
       " ('M/SH3 10/2', {'type': 'comic'}),\n",
       " ('N 1', {'type': 'comic'}),\n",
       " ('N 1/3', {'type': 'comic'}),\n",
       " ('N 17', {'type': 'comic'}),\n",
       " ('N 19', {'type': 'comic'}),\n",
       " ('N 2', {'type': 'comic'}),\n",
       " ('N 26', {'type': 'comic'}),\n",
       " ('N 28', {'type': 'comic'}),\n",
       " ('N 3', {'type': 'comic'}),\n",
       " ('N 6', {'type': 'comic'}),\n",
       " ('N 8', {'type': 'comic'}),\n",
       " ('N 9', {'type': 'comic'}),\n",
       " ('N 13', {'type': 'comic'}),\n",
       " ('N 15', {'type': 'comic'}),\n",
       " ('N 16', {'type': 'comic'}),\n",
       " ('N 18', {'type': 'comic'}),\n",
       " ('N 2/4', {'type': 'comic'}),\n",
       " ('N 4', {'type': 'comic'}),\n",
       " ('N 54', {'type': 'comic'}),\n",
       " ('N 55', {'type': 'comic'}),\n",
       " ('N 56', {'type': 'comic'}),\n",
       " ('N 57', {'type': 'comic'}),\n",
       " ('WOSM 73', {'type': 'comic'}),\n",
       " ('LSHOT 5', {'type': 'comic'}),\n",
       " ('NM 2', {'type': 'comic'}),\n",
       " ('UX 10', {'type': 'comic'}),\n",
       " ('AVF 9', {'type': 'comic'}),\n",
       " ('JIM 508', {'type': 'comic'}),\n",
       " ('SS3 112', {'type': 'comic'}),\n",
       " ('DOOM2 1', {'type': 'comic'}),\n",
       " ('DOOM2 2', {'type': 'comic'}),\n",
       " ('FF3 40', {'type': 'comic'}),\n",
       " ('GAM3 17', {'type': 'comic'}),\n",
       " ('GAM3 22', {'type': 'comic'}),\n",
       " ('FF 15', {'type': 'comic'}),\n",
       " ('FF 16', {'type': 'comic'}),\n",
       " ('ASM 220', {'type': 'comic'}),\n",
       " ('ASM 357', {'type': 'comic'}),\n",
       " ('HMAG 11/2', {'type': 'comic'}),\n",
       " ('HMAG 12/2', {'type': 'comic'}),\n",
       " ('HMAG 13/2', {'type': 'comic'}),\n",
       " ('HMAG 14/2', {'type': 'comic'}),\n",
       " ('HMAG 17/2', {'type': 'comic'}),\n",
       " ('HMAG 18/2', {'type': 'comic'}),\n",
       " ('HMAG 20/2', {'type': 'comic'}),\n",
       " ('M/FAN 30', {'type': 'comic'}),\n",
       " ('MK 1', {'type': 'comic'}),\n",
       " ('MK 10', {'type': 'comic'}),\n",
       " ('MK 11', {'type': 'comic'}),\n",
       " ('MK 12', {'type': 'comic'}),\n",
       " ('MK 13', {'type': 'comic'}),\n",
       " ('MK 14', {'type': 'comic'}),\n",
       " ('MK 15', {'type': 'comic'}),\n",
       " ('MK 16', {'type': 'comic'}),\n",
       " ('MK 17', {'type': 'comic'}),\n",
       " ('MK 18', {'type': 'comic'}),\n",
       " ('MK 2', {'type': 'comic'}),\n",
       " ('MK 20', {'type': 'comic'}),\n",
       " ('MK2 1', {'type': 'comic'}),\n",
       " ('MK 22', {'type': 'comic'}),\n",
       " ('MK2 2', {'type': 'comic'}),\n",
       " ('MK 23', {'type': 'comic'}),\n",
       " ('MK2 3', {'type': 'comic'}),\n",
       " ('MK 24', {'type': 'comic'}),\n",
       " ('MK2 4', {'type': 'comic'}),\n",
       " ('MK 25', {'type': 'comic'}),\n",
       " ('MK 26/2', {'type': 'comic'}),\n",
       " ('MK 27', {'type': 'comic'}),\n",
       " ('MK 28', {'type': 'comic'}),\n",
       " ('MK 29', {'type': 'comic'}),\n",
       " ('MK 3', {'type': 'comic'}),\n",
       " ('MK 30', {'type': 'comic'}),\n",
       " ('MK3 1', {'type': 'comic'}),\n",
       " ('MK3 11', {'type': 'comic'}),\n",
       " ('MK3 14', {'type': 'comic'}),\n",
       " ('MK3 15', {'type': 'comic'}),\n",
       " ('MK3 16', {'type': 'comic'}),\n",
       " ('MK3 17', {'type': 'comic'}),\n",
       " ('MK3 18', {'type': 'comic'}),\n",
       " ('MK3 19', {'type': 'comic'}),\n",
       " ('MK 32', {'type': 'comic'}),\n",
       " ('MK3 2', {'type': 'comic'}),\n",
       " ('MK 32/2', {'type': 'comic'}),\n",
       " ('MK3 22', {'type': 'comic'}),\n",
       " ('MK3 23', {'type': 'comic'}),\n",
       " ('MK3 25', {'type': 'comic'}),\n",
       " ('MK3 26', {'type': 'comic'}),\n",
       " ('MK3 28', {'type': 'comic'}),\n",
       " ('MK3 29', {'type': 'comic'}),\n",
       " ('MK3 3', {'type': 'comic'}),\n",
       " ('MK3 31', {'type': 'comic'}),\n",
       " ('MK3 32', {'type': 'comic'}),\n",
       " ('MK3 33', {'type': 'comic'}),\n",
       " ('MK3 34', {'type': 'comic'}),\n",
       " ('MK3 35', {'type': 'comic'}),\n",
       " ('MK3 38', {'type': 'comic'}),\n",
       " ('MK3 4', {'type': 'comic'}),\n",
       " ('MK 34/2', {'type': 'comic'}),\n",
       " ('MK 35', {'type': 'comic'}),\n",
       " ('MK3 5', {'type': 'comic'}),\n",
       " ('MK 36', {'type': 'comic'}),\n",
       " ('MK 37', {'type': 'comic'}),\n",
       " ('MK 38', {'type': 'comic'}),\n",
       " ('MK4 1', {'type': 'comic'}),\n",
       " ('MK4 2', {'type': 'comic'}),\n",
       " ('MK4 3', {'type': 'comic'}),\n",
       " ('MK4 4', {'type': 'comic'}),\n",
       " ('MK 6', {'type': 'comic'}),\n",
       " ('MK 7', {'type': 'comic'}),\n",
       " ('MK 8', {'type': 'comic'}),\n",
       " ('MK 9', {'type': 'comic'}),\n",
       " ('M/PRV 21', {'type': 'comic'}),\n",
       " ('M/SPT 28', {'type': 'comic'}),\n",
       " ('M/SPT 29', {'type': 'comic'}),\n",
       " ('M/TU 4', {'type': 'comic'}),\n",
       " ('PM&IF 87', {'type': 'comic'}),\n",
       " ('PPTSS 23', {'type': 'comic'}),\n",
       " ('UX 338', {'type': 'comic'}),\n",
       " ('UX 340', {'type': 'comic'}),\n",
       " ('X 59', {'type': 'comic'}),\n",
       " ('FW 8', {'type': 'comic'}),\n",
       " ('IM 238', {'type': 'comic'}),\n",
       " ('IM 239', {'type': 'comic'}),\n",
       " ('IM 241', {'type': 'comic'}),\n",
       " ('IM 242', {'type': 'comic'}),\n",
       " ('IM 243', {'type': 'comic'}),\n",
       " ('IM 245', {'type': 'comic'}),\n",
       " ('IM 246', {'type': 'comic'}),\n",
       " ('IM 247', {'type': 'comic'}),\n",
       " ('IM 248', {'type': 'comic'}),\n",
       " ('IM 256', {'type': 'comic'}),\n",
       " ('IM 281', {'type': 'comic'}),\n",
       " ('IM 283', {'type': 'comic'}),\n",
       " ('IM 284', {'type': 'comic'}),\n",
       " ('IM 285', {'type': 'comic'}),\n",
       " ('IM 286', {'type': 'comic'}),\n",
       " ('IM 306', {'type': 'comic'}),\n",
       " ('IM 310', {'type': 'comic'}),\n",
       " ('WARM 8', {'type': 'comic'}),\n",
       " ('FFOR 16', {'type': 'comic'}),\n",
       " ('FFOR 2', {'type': 'comic'}),\n",
       " ('FFOR 3', {'type': 'comic'}),\n",
       " ('FFOR 5', {'type': 'comic'}),\n",
       " ('FFOR 8', {'type': 'comic'}),\n",
       " ('FFOR 9', {'type': 'comic'}),\n",
       " ('REMNANTS', {'type': 'comic'}),\n",
       " ('HFH 12', {'type': 'comic'}),\n",
       " ('A 353', {'type': 'comic'}),\n",
       " ('A 354', {'type': 'comic'}),\n",
       " ('COC 3', {'type': 'comic'}),\n",
       " ('H2 279', {'type': 'comic'}),\n",
       " ('M/CP 27/4', {'type': 'comic'}),\n",
       " ('M/TIO 6', {'type': 'comic'}),\n",
       " ('A 85', {'type': 'comic'}),\n",
       " ('ELEK 11', {'type': 'comic'}),\n",
       " ('ELEK 12', {'type': 'comic'}),\n",
       " ('ELEK 13', {'type': 'comic'}),\n",
       " ('CA 428', {'type': 'comic'}),\n",
       " ('CA 429', {'type': 'comic'}),\n",
       " ('CA 430', {'type': 'comic'}),\n",
       " ('ELEK 15', {'type': 'comic'}),\n",
       " ('KP&W 5', {'type': 'comic'}),\n",
       " ('UX 181', {'type': 'comic'}),\n",
       " ('W2 150', {'type': 'comic'}),\n",
       " ('W2 151', {'type': 'comic'}),\n",
       " ('W2 152', {'type': 'comic'}),\n",
       " ('W2 153', {'type': 'comic'}),\n",
       " ('W2 158', {'type': 'comic'}),\n",
       " ('NM 7/2', {'type': 'comic'}),\n",
       " ('UX 15/2', {'type': 'comic'}),\n",
       " ('XF 6/2', {'type': 'comic'}),\n",
       " ('A 377', {'type': 'comic'}),\n",
       " ('DEF2 2', {'type': 'comic'}),\n",
       " ('A 148', {'type': 'comic'}),\n",
       " ('A 149', {'type': 'comic'}),\n",
       " ('AWC 4/5', {'type': 'comic'}),\n",
       " ('DEF 112', {'type': 'comic'}),\n",
       " ('DEF 113', {'type': 'comic'}),\n",
       " ('DEF 114', {'type': 'comic'}),\n",
       " ('SQS 1', {'type': 'comic'}),\n",
       " ('SQS 2', {'type': 'comic'}),\n",
       " ('SQS 3', {'type': 'comic'}),\n",
       " ('SQS 4', {'type': 'comic'}),\n",
       " ('SQS 5', {'type': 'comic'}),\n",
       " ('SQS 6', {'type': 'comic'}),\n",
       " ('SQS:NWO', {'type': 'comic'}),\n",
       " ('A 105', {'type': 'comic'}),\n",
       " ('M/FAN 1', {'type': 'comic'}),\n",
       " ('M/FAN 2', {'type': 'comic'}),\n",
       " ('M/FAN 3', {'type': 'comic'}),\n",
       " ('M/FAN 4', {'type': 'comic'}),\n",
       " ('UX 12', {'type': 'comic'}),\n",
       " ('UX 249', {'type': 'comic'}),\n",
       " ('UX 250', {'type': 'comic'}),\n",
       " ('UX 274', {'type': 'comic'}),\n",
       " ('UX 62', {'type': 'comic'}),\n",
       " ('UX 63', {'type': 'comic'}),\n",
       " ('W2 69', {'type': 'comic'}),\n",
       " ('X:HY 1', {'type': 'comic'}),\n",
       " ('X:HY 10', {'type': 'comic'}),\n",
       " ('X:HY 11', {'type': 'comic'}),\n",
       " ('X:HY 12', {'type': 'comic'}),\n",
       " ('X:HY 3', {'type': 'comic'}),\n",
       " ('X:HY 4', {'type': 'comic'}),\n",
       " ('CA 307', {'type': 'comic'}),\n",
       " ('CA 308', {'type': 'comic'}),\n",
       " ('CA 309', {'type': 'comic'}),\n",
       " ('CA 310', {'type': 'comic'}),\n",
       " ('CA 311', {'type': 'comic'}),\n",
       " ('CA 313', {'type': 'comic'}),\n",
       " ('CA 315', {'type': 'comic'}),\n",
       " ('CA 319', {'type': 'comic'}),\n",
       " ('CA 341', {'type': 'comic'}),\n",
       " ('CA 342', {'type': 'comic'}),\n",
       " ('CA 343', {'type': 'comic'}),\n",
       " ('CA 365/2', {'type': 'comic'}),\n",
       " ('CA 367/2', {'type': 'comic'}),\n",
       " ('CA 371', {'type': 'comic'}),\n",
       " ('CA 380', {'type': 'comic'}),\n",
       " ('CA 381', {'type': 'comic'}),\n",
       " ('CA 382', {'type': 'comic'}),\n",
       " ('CA 385/2', {'type': 'comic'}),\n",
       " ('CA 386/2', {'type': 'comic'}),\n",
       " ('CA 387', {'type': 'comic'}),\n",
       " ('CA 388', {'type': 'comic'}),\n",
       " ('CA 389', {'type': 'comic'}),\n",
       " ('CA 390', {'type': 'comic'}),\n",
       " ('CA 391', {'type': 'comic'}),\n",
       " ('CA 403/2', {'type': 'comic'}),\n",
       " ('CA 434', {'type': 'comic'}),\n",
       " ('CA 435', {'type': 'comic'}),\n",
       " ('CA 436', {'type': 'comic'}),\n",
       " ('CA 437', {'type': 'comic'}),\n",
       " ('IM 160', {'type': 'comic'}),\n",
       " ('M/TIO 64', {'type': 'comic'}),\n",
       " ('M/TIO 65', {'type': 'comic'}),\n",
       " ('UX 13', {'type': 'comic'}),\n",
       " ('X:SC 1', {'type': 'comic'}),\n",
       " ('X:SC 2', {'type': 'comic'}),\n",
       " ('X:SC 3', {'type': 'comic'}),\n",
       " ('X:SC 4', {'type': 'comic'}),\n",
       " ('FFU 9', {'type': 'comic'}),\n",
       " ('T 475', {'type': 'comic'}),\n",
       " ('T 476', {'type': 'comic'}),\n",
       " ('T 477', {'type': 'comic'}),\n",
       " ('T 480', {'type': 'comic'}),\n",
       " ('T 481', {'type': 'comic'}),\n",
       " ('T 482', {'type': 'comic'}),\n",
       " ('T 483', {'type': 'comic'}),\n",
       " ('T 484', {'type': 'comic'}),\n",
       " ('T 486', {'type': 'comic'}),\n",
       " ('T 487', {'type': 'comic'}),\n",
       " ('T 488', {'type': 'comic'}),\n",
       " ('T 489', {'type': 'comic'}),\n",
       " ('H2 176', {'type': 'comic'}),\n",
       " ('H2 178', {'type': 'comic'}),\n",
       " ('IM 112', {'type': 'comic'}),\n",
       " ('T 132', {'type': 'comic'}),\n",
       " ('T 133', {'type': 'comic'}),\n",
       " ('T 134', {'type': 'comic'}),\n",
       " ('T 155', {'type': 'comic'}),\n",
       " ('T 156', {'type': 'comic'}),\n",
       " ('T 160', {'type': 'comic'}),\n",
       " ('T 161', {'type': 'comic'}),\n",
       " ('T 162', {'type': 'comic'}),\n",
       " ('T 256', {'type': 'comic'}),\n",
       " ('T 257', {'type': 'comic'}),\n",
       " ('T 258', {'type': 'comic'}),\n",
       " ('T 259', {'type': 'comic'}),\n",
       " ('T 260', {'type': 'comic'}),\n",
       " ('T 261', {'type': 'comic'}),\n",
       " ('T 262', {'type': 'comic'}),\n",
       " ('T 263', {'type': 'comic'}),\n",
       " ('T 264', {'type': 'comic'}),\n",
       " ('T 265', {'type': 'comic'}),\n",
       " ('T 266', {'type': 'comic'}),\n",
       " ('T 267', {'type': 'comic'}),\n",
       " ('T 407', {'type': 'comic'}),\n",
       " ('T 419', {'type': 'comic'}),\n",
       " ('T 422', {'type': 'comic'}),\n",
       " ('T 423', {'type': 'comic'}),\n",
       " ('T 424', {'type': 'comic'}),\n",
       " ('T 425', {'type': 'comic'}),\n",
       " ('T 449/2', {'type': 'comic'}),\n",
       " ('T 450/2', {'type': 'comic'}),\n",
       " ('UX 137', {'type': 'comic'}),\n",
       " ('WLOCK 8', {'type': 'comic'}),\n",
       " ('AWC 72', {'type': 'comic'}),\n",
       " ('DPOOL3 46', {'type': 'comic'}),\n",
       " ('DPOOL3 47', {'type': 'comic'}),\n",
       " ('DPOOL3 48', {'type': 'comic'}),\n",
       " ('XFOR 116', {'type': 'comic'}),\n",
       " ('XFOR 117', {'type': 'comic'}),\n",
       " ('FW 6', {'type': 'comic'}),\n",
       " ('FW 7', {'type': 'comic'}),\n",
       " ('IM 312', {'type': 'comic'}),\n",
       " ('WARM 9', {'type': 'comic'}),\n",
       " ('AF 6/2', {'type': 'comic'}),\n",
       " ('ASPOT 37', {'type': 'comic'}),\n",
       " ('MX 32', {'type': 'comic'}),\n",
       " ('DEF 107', {'type': 'comic'}),\n",
       " ('DRSTR 1', {'type': 'comic'}),\n",
       " ('DRSTR 170', {'type': 'comic'}),\n",
       " ('DRSTR 174', {'type': 'comic'}),\n",
       " ('DRSTR 177', {'type': 'comic'}),\n",
       " ('DRSTR 178', {'type': 'comic'}),\n",
       " ('DRSTR2 13', {'type': 'comic'}),\n",
       " ('DRSTR2 19', {'type': 'comic'}),\n",
       " ('DRSTR2 26', {'type': 'comic'}),\n",
       " ('DRSTR2 27', {'type': 'comic'}),\n",
       " ('DRSTR2 28', {'type': 'comic'}),\n",
       " ('DRSTR2 4', {'type': 'comic'}),\n",
       " ('DRSTR2 51', {'type': 'comic'}),\n",
       " ('DRSTR2 75', {'type': 'comic'}),\n",
       " ('DRSTR3 23/2', {'type': 'comic'}),\n",
       " ('DRSTR3 8/2', {'type': 'comic'}),\n",
       " ('DRSTR3 84', {'type': 'comic'}),\n",
       " ('DRSTR3 85', {'type': 'comic'}),\n",
       " ('DRSTR3 87', {'type': 'comic'}),\n",
       " ('DS:WDS', {'type': 'comic'}),\n",
       " ('M/FEA 1/3', {'type': 'comic'}),\n",
       " ('M/FEA 2', {'type': 'comic'}),\n",
       " ('M/PRM 10', {'type': 'comic'}),\n",
       " ('M/PRM 3', {'type': 'comic'}),\n",
       " ('M/PRM 4', {'type': 'comic'}),\n",
       " ('M/PRM 6', {'type': 'comic'}),\n",
       " ('M/PRM 9', {'type': 'comic'}),\n",
       " ('ST 110/2', {'type': 'comic'}),\n",
       " ('ST 111/2', {'type': 'comic'}),\n",
       " ('ST 114/2', {'type': 'comic'}),\n",
       " ('ST 115/2', {'type': 'comic'}),\n",
       " ('ST 116/2', {'type': 'comic'}),\n",
       " ('ST 117/2', {'type': 'comic'}),\n",
       " ('ST 124/2', {'type': 'comic'}),\n",
       " ('ST 125/2', {'type': 'comic'}),\n",
       " ('ST 126/2', {'type': 'comic'}),\n",
       " ('ST 127/2', {'type': 'comic'}),\n",
       " ('ST 129/2', {'type': 'comic'}),\n",
       " ('ST 130/2', {'type': 'comic'}),\n",
       " ('ST 132/2', {'type': 'comic'}),\n",
       " ('ST 133/2', {'type': 'comic'}),\n",
       " ('ST 134/2', {'type': 'comic'}),\n",
       " ('ST 137/2', {'type': 'comic'}),\n",
       " ('ST 138/2', {'type': 'comic'}),\n",
       " ('ST 139/2', {'type': 'comic'}),\n",
       " ('ST 140/2', {'type': 'comic'}),\n",
       " ('ST 144/2', {'type': 'comic'}),\n",
       " ('ST 146/2', {'type': 'comic'}),\n",
       " ('ST 147/2', {'type': 'comic'}),\n",
       " ('ST 148', {'type': 'comic'}),\n",
       " ('ST 148/2', {'type': 'comic'}),\n",
       " ('ST 149/2', {'type': 'comic'}),\n",
       " ('ST 150/2', {'type': 'comic'}),\n",
       " ('ST 153/2', {'type': 'comic'}),\n",
       " ('ST 155/2', {'type': 'comic'}),\n",
       " ('ST 156/2', {'type': 'comic'}),\n",
       " ('ST 157/2', {'type': 'comic'}),\n",
       " ('ST 166', {'type': 'comic'}),\n",
       " ('ST 167/2', {'type': 'comic'}),\n",
       " ('ST 168', {'type': 'comic'}),\n",
       " ('ST3 11', {'type': 'comic'}),\n",
       " ('ST3 7/2', {'type': 'comic'}),\n",
       " ('UTSM:SE', {'type': 'comic'}),\n",
       " ('UX 33', {'type': 'comic'}),\n",
       " ('CAGE 5', {'type': 'comic'}),\n",
       " ('CAGE 6', {'type': 'comic'}),\n",
       " ('CAGE 7', {'type': 'comic'}),\n",
       " (\"PPSM '00\", {'type': 'comic'}),\n",
       " ('ASM 268', {'type': 'comic'}),\n",
       " ('SOLOA 17/2', {'type': 'comic'}),\n",
       " ('WOSM 6', {'type': 'comic'}),\n",
       " ('IM:IA 1', {'type': 'comic'}),\n",
       " ('FF3 12', {'type': 'comic'}),\n",
       " ('X 1', {'type': 'comic'}),\n",
       " ('X 2', {'type': 'comic'}),\n",
       " ('X 3', {'type': 'comic'}),\n",
       " ('C2 92', {'type': 'comic'}),\n",
       " ('C2 95', {'type': 'comic'}),\n",
       " ('UX 60', {'type': 'comic'}),\n",
       " ('UX 61', {'type': 'comic'}),\n",
       " ('XFOR 5', {'type': 'comic'}),\n",
       " ('CAGE 10', {'type': 'comic'}),\n",
       " ('CAGE 2', {'type': 'comic'}),\n",
       " ('CAGE 3', {'type': 'comic'}),\n",
       " ('CAGE 4', {'type': 'comic'}),\n",
       " ('AWC 4', {'type': 'comic'}),\n",
       " ('DAMCON3 4', {'type': 'comic'}),\n",
       " ('DEF 146', {'type': 'comic'}),\n",
       " ('DEF 147', {'type': 'comic'}),\n",
       " ('DEF 149', {'type': 'comic'}),\n",
       " ('DEF 150', {'type': 'comic'}),\n",
       " ('DEF 151', {'type': 'comic'}),\n",
       " ('DEF 152', {'type': 'comic'}),\n",
       " ('DRSTR3 3', {'type': 'comic'}),\n",
       " ('DRSTR3 4', {'type': 'comic'}),\n",
       " ('FF 22', {'type': 'comic'}),\n",
       " ('IM 10/2', {'type': 'comic'}),\n",
       " ('N 52', {'type': 'comic'}),\n",
       " ('N 53', {'type': 'comic'}),\n",
       " ('N 60', {'type': 'comic'}),\n",
       " ('N 61', {'type': 'comic'}),\n",
       " ('N 62', {'type': 'comic'}),\n",
       " ('ST2 5/2', {'type': 'comic'}),\n",
       " ('ST2 6/2', {'type': 'comic'}),\n",
       " ('ST2 7', {'type': 'comic'}),\n",
       " ('ST2 7/2', {'type': 'comic'}),\n",
       " ('T 14', {'type': 'comic'}),\n",
       " ('XF 4', {'type': 'comic'}),\n",
       " ('ASM 411', {'type': 'comic'}),\n",
       " ('PPTSS 234', {'type': 'comic'}),\n",
       " ('S-M 68', {'type': 'comic'}),\n",
       " ('S-M 69', {'type': 'comic'}),\n",
       " ('Q 42', {'type': 'comic'}),\n",
       " ('Q 43', {'type': 'comic'}),\n",
       " ('A 94', {'type': 'comic'}),\n",
       " ('A 97', {'type': 'comic'}),\n",
       " ('CM 2', {'type': 'comic'}),\n",
       " ('FF 257', {'type': 'comic'}),\n",
       " ('FF 37', {'type': 'comic'}),\n",
       " ('ASPOT 26', {'type': 'comic'}),\n",
       " ('ASPOT 28', {'type': 'comic'}),\n",
       " ('DD 100', {'type': 'comic'}),\n",
       " ('DD 101', {'type': 'comic'}),\n",
       " ('DD 105', {'type': 'comic'}),\n",
       " ('DD 106', {'type': 'comic'}),\n",
       " ('DD 107', {'type': 'comic'}),\n",
       " ('DEF 43', {'type': 'comic'}),\n",
       " ('IF 1', {'type': 'comic'}),\n",
       " ('IF 5', {'type': 'comic'}),\n",
       " ('IF 6', {'type': 'comic'}),\n",
       " ('IF 7', {'type': 'comic'}),\n",
       " ('M/CP 97/4', {'type': 'comic'}),\n",
       " ('M/PRM 25', {'type': 'comic'}),\n",
       " ('NF3 33', {'type': 'comic'}),\n",
       " ('NF3 34', {'type': 'comic'}),\n",
       " ('NF3 35', {'type': 'comic'}),\n",
       " ('S-W 34', {'type': 'comic'}),\n",
       " ('S-W 35', {'type': 'comic'}),\n",
       " ('S-W 50', {'type': 'comic'}),\n",
       " (\"TB '97\", {'type': 'comic'}),\n",
       " ('PHOENIX 1', {'type': 'comic'}),\n",
       " ('FF 370', {'type': 'comic'}),\n",
       " ('CA 442', {'type': 'comic'}),\n",
       " ('M/SH3 7/2', {'type': 'comic'}),\n",
       " ('USA 4', {'type': 'comic'}),\n",
       " ('S-M 70', {'type': 'comic'}),\n",
       " ('S-M 71', {'type': 'comic'}),\n",
       " ('S-M 74', {'type': 'comic'}),\n",
       " ('SMMM', {'type': 'comic'}),\n",
       " ('CAGE 1', {'type': 'comic'}),\n",
       " ('A 111', {'type': 'comic'}),\n",
       " ('A 151', {'type': 'comic'}),\n",
       " ('A 211', {'type': 'comic'}),\n",
       " ('A 214', {'type': 'comic'}),\n",
       " ('A 3', {'type': 'comic'}),\n",
       " ('A 53', {'type': 'comic'}),\n",
       " ('A 60', {'type': 'comic'}),\n",
       " (\"A '99\", {'type': 'comic'}),\n",
       " ('AA2 11', {'type': 'comic'}),\n",
       " ('AA2 15', {'type': 'comic'}),\n",
       " ('AF 111', {'type': 'comic'}),\n",
       " ('ARCHANGEL', {'type': 'comic'}),\n",
       " ('ASM 1', {'type': 'comic'}),\n",
       " ('ASM 282', {'type': 'comic'}),\n",
       " ('ASTONX2 1', {'type': 'comic'}),\n",
       " ('ASTONX2 2', {'type': 'comic'}),\n",
       " ('ASTONX2 3', {'type': 'comic'}),\n",
       " ('BSHP 4', {'type': 'comic'}),\n",
       " ('C2 16', {'type': 'comic'}),\n",
       " ('C2 20', {'type': 'comic'}),\n",
       " ('C2 31', {'type': 'comic'}),\n",
       " ('CA 174', {'type': 'comic'}),\n",
       " ('CA 175', {'type': 'comic'}),\n",
       " ('CD 2', {'type': 'comic'}),\n",
       " ('CD 3', {'type': 'comic'}),\n",
       " ('CD 4', {'type': 'comic'}),\n",
       " ('CHAMP 1', {'type': 'comic'}),\n",
       " ('CHAMP 10', {'type': 'comic'}),\n",
       " ('CHAMP 11', {'type': 'comic'}),\n",
       " ('CHAMP 12', {'type': 'comic'}),\n",
       " ('CHAMP 13', {'type': 'comic'}),\n",
       " ('CHAMP 14', {'type': 'comic'}),\n",
       " ('CHAMP 15', {'type': 'comic'}),\n",
       " ('CHAMP 16', {'type': 'comic'}),\n",
       " ('CHAMP 17', {'type': 'comic'}),\n",
       " ('CHAMP 2', {'type': 'comic'}),\n",
       " ('CHAMP 3', {'type': 'comic'}),\n",
       " ('CHAMP 4', {'type': 'comic'}),\n",
       " ('CHAMP 5', {'type': 'comic'}),\n",
       " ('CHAMP 6', {'type': 'comic'}),\n",
       " ('CHAMP 7', {'type': 'comic'}),\n",
       " ('CHAMP 8', {'type': 'comic'}),\n",
       " ('CHAMP 9', {'type': 'comic'}),\n",
       " ('COH 2', {'type': 'comic'}),\n",
       " ('COH 3', {'type': 'comic'}),\n",
       " ('CX 1', {'type': 'comic'}),\n",
       " ('DAZZ 2', {'type': 'comic'}),\n",
       " ('DAZZ 20', {'type': 'comic'}),\n",
       " ('DAZZ 21', {'type': 'comic'}),\n",
       " ('DAZZ 22', {'type': 'comic'}),\n",
       " ('DAZZ 23', {'type': 'comic'}),\n",
       " ('DAZZ 24', {'type': 'comic'}),\n",
       " ('DAZZ 27', {'type': 'comic'}),\n",
       " ('DAZZ 28', {'type': 'comic'}),\n",
       " ('DEF 125', {'type': 'comic'}),\n",
       " ('DEF 126', {'type': 'comic'}),\n",
       " ('DEF 127', {'type': 'comic'}),\n",
       " ('DEF 128', {'type': 'comic'}),\n",
       " ('DEF 129', {'type': 'comic'}),\n",
       " ('DEF 130', {'type': 'comic'}),\n",
       " ('DEF 131', {'type': 'comic'}),\n",
       " ('DEF 132', {'type': 'comic'}),\n",
       " ('DEF 133', {'type': 'comic'}),\n",
       " ('DEF 134', {'type': 'comic'}),\n",
       " ('DEF 135', {'type': 'comic'}),\n",
       " ('DEF 136', {'type': 'comic'}),\n",
       " ('DEF 137', {'type': 'comic'}),\n",
       " ('DEF 138', {'type': 'comic'}),\n",
       " ('DEF 139', {'type': 'comic'}),\n",
       " ('DEF 140', {'type': 'comic'}),\n",
       " ('DEF 141', {'type': 'comic'}),\n",
       " ('DEF 142', {'type': 'comic'}),\n",
       " ('DEF 143', {'type': 'comic'}),\n",
       " ('DEF 144', {'type': 'comic'}),\n",
       " ('DEF 145', {'type': 'comic'}),\n",
       " ('E2 8', {'type': 'comic'}),\n",
       " ('FF 28', {'type': 'comic'}),\n",
       " ('FF 3', {'type': 'comic'}),\n",
       " ('FF 36', {'type': 'comic'}),\n",
       " ('FF 368', {'type': 'comic'}),\n",
       " ('FF 369', {'type': 'comic'}),\n",
       " (\"GAM '00\", {'type': 'comic'}),\n",
       " ('GAM3 19', {'type': 'comic'}),\n",
       " ('GR2 23', {'type': 'comic'}),\n",
       " ('GR3 9', {'type': 'comic'}),\n",
       " ('GSX 1', {'type': 'comic'}),\n",
       " ('GZIL 3', {'type': 'comic'}),\n",
       " ('H 7', {'type': 'comic'}),\n",
       " ...]"
      ]
     },
     "execution_count": 40,
     "metadata": {},
     "output_type": "execute_result"
    }
   ],
   "source": [
    "comic_nodes"
   ]
  },
  {
   "cell_type": "markdown",
   "id": "49cb4633",
   "metadata": {},
   "source": [
    "# QUESTION 2: BACKEND IMPLEMENTATION"
   ]
  },
  {
   "cell_type": "markdown",
   "id": "9c8bdc5f",
   "metadata": {},
   "source": [
    "## Functionality 1 - extract the graph's features"
   ]
  },
  {
   "cell_type": "markdown",
   "id": "2adac404",
   "metadata": {},
   "source": [
    "**Top N heroes**: The top N heroes who have appeared in the most number of comics."
   ]
  },
  {
   "cell_type": "code",
   "execution_count": 47,
   "id": "939a4d05",
   "metadata": {},
   "outputs": [],
   "source": [
    "def topNsuperherosGraph(G, N=None):\n",
    "    \n",
    "    G_sorted_bydeg = sorted(G, key=lambda x: G.degree(x), reverse=True) \n",
    "    # This sorts our nodes in descending order based on their degree value.\n",
    "    \n",
    "    if N != None: \n",
    "        # If we set the N in the function then we have to return a different graph, if we don't set the N then\n",
    "        # the function will return the same graph.\n",
    "        if G == G2:\n",
    "            # If we have both the 'comic' nodes and the 'hero' nodes we have to create another graph.\n",
    "            G_top_N_def = nx.Graph()\n",
    "            # This will be helpful to check what node is a 'hero' node.\n",
    "            hero_nodes = [node for node in G.nodes(data=True) if node[1]['type'] == 'hero']\n",
    "            for i in G_sorted_bydeg:\n",
    "                if i not in [i[0] for i in hero_nodes]:\n",
    "                    G_sorted_bydeg.remove(i)\n",
    "            G_top_N_def.add_nodes_from(G_sorted_bydeg[:N]) # We add our top N heros nodes.\n",
    "            edges_top_N_superheros = []\n",
    "            for i in G_sorted_bydeg[:N]:\n",
    "                edges_top_N_superheros.append(list(G.edges(i)))\n",
    "            for i in edges_top_N_superheros:\n",
    "                G_top_N_def.add_edges_from(i) \n",
    "                # This adds the edges (so also the 'comic' nodes) connecting the top N heros\n",
    "                # to the comics in which they appear.\n",
    "            return G_top_N_def\n",
    "        else:\n",
    "            # This will work if we have the G1 graph, which is an only heros graph. So we don't have to check if a node\n",
    "            # is a 'hero' node or a 'comic' node.\n",
    "            \n",
    "            # In this case we create a copy of the graph so we don't directly modify the graph we input.\n",
    "            G_top_N_def = G.copy()\n",
    "            for i in list(G_top_N_def.nodes()):\n",
    "                if i not in G_sorted_bydeg[:N]:\n",
    "                    G_top_N_def.remove_node(i) \n",
    "                    # We directly remove the nodes that aren't in the top N superheros list without then removing the edges\n",
    "                    # that connect said top N heros.\n",
    "            return G_top_N_def\n",
    "    else:\n",
    "        # If we don't set the N, then it'll return the full initial graph.\n",
    "        return G"
   ]
  },
  {
   "cell_type": "markdown",
   "id": "8ae60b6a",
   "metadata": {},
   "source": [
    "#### F1.1 The number of nodes in the network (if type 2, report for both node types)"
   ]
  },
  {
   "cell_type": "markdown",
   "id": "ed14e7ff",
   "metadata": {},
   "source": [
    "- The following function takes as input the graph and the type of graph, if the type of graph is 1, it returns the number of total nodes, if instead the type of graph is 2, it returns the number of total nodes that refer to a hero and the number of total nodes that refer to a comic."
   ]
  },
  {
   "cell_type": "code",
   "execution_count": 26,
   "id": "3123f5b9",
   "metadata": {},
   "outputs": [],
   "source": [
    "def nodes(graph, graph_type):\n",
    "    # if graph type is equal to 1, return the total number of nodes\n",
    "    if graph_type == 1:\n",
    "        return (f\"The graph has {graph.number_of_nodes()} nodes\")\n",
    "        \n",
    "    #if instead graph type is equal to 2, count all nodes that refer to a hero and all nodes that refer to a comic and return them.\n",
    "    else:   \n",
    "        attributes = nx.get_node_attributes(graph, 'type')\n",
    "        count_hero = list(attributes.values()).count('hero')\n",
    "        count_comic = list(attributes.values()).count('comic')\n",
    "        return (f\"The graph has {count_hero} nodes referring to heros and {count_comic} nodes referring to comics.\")"
   ]
  },
  {
   "cell_type": "markdown",
   "id": "925bb5ee",
   "metadata": {},
   "source": [
    "#### F1.2 The number of collaborations of each superhero with the others (only if type 1)"
   ]
  },
  {
   "cell_type": "markdown",
   "id": "30fe6dcf",
   "metadata": {},
   "source": [
    "- The following function takes as input the graph, the type of graph and the number of top N heroes to be considered and outputs the number of collaborations of each hero with the others."
   ]
  },
  {
   "cell_type": "code",
   "execution_count": 27,
   "id": "176e570c",
   "metadata": {},
   "outputs": [],
   "source": [
    "def collaborations(graph, graph_type, N= None):\n",
    "    # If graph type is equal to 2 we can't compute it.\n",
    "    if graph_type == 2:\n",
    "        return (\"Sorry, I can't compute the number of collaborations of each superhero with the others for type 2 graphs, only for type 1 graphs.\")\n",
    "        \n",
    "    else:\n",
    "        \n",
    "        # Create a new empty dictionary\n",
    "        node_degrees = {}\n",
    "    \n",
    "        # Compute the degree of each node and add it to the dictionary\n",
    "        for node in graph:\n",
    "            degree = graph.degree(node)\n",
    "            node_degrees[node] = degree\n",
    "            \n",
    "        # Sort the dictionary by its values\n",
    "        sorted_dict = dict(sorted(node_degrees.items(), key=lambda x: x[1], reverse=True))\n",
    "        \n",
    "        \n",
    "        # So far we have created an ordered dictionary where we have heroes as keys and as values the number of collaborations\n",
    "        # they have. How ever we want a dictionary sorted by top N heroes. Let's do it!\n",
    "        \n",
    "        \n",
    "        # Create a new empty dictionary\n",
    "        dizionario_filtrato = {}\n",
    "        \n",
    "        # Go through the list of top N heroes and add hero after hero to the dictionary, with its corresponding value of collaborations.\n",
    "        for elemento in top_N_heroes(dfedges, N = None):\n",
    "            if elemento in sorted_dict:\n",
    "                dizionario_filtrato[elemento] = sorted_dict[elemento]\n",
    "                \n",
    "        # Return the first N element of the dictionary (which are the top N heroes)  \n",
    "        return dict(islice(dizionario_filtrato.items(), N))"
   ]
  },
  {
   "cell_type": "markdown",
   "id": "2341bc78",
   "metadata": {},
   "source": [
    "**F1.3 The number of heroes that have appeared in each comic (only if type 2)**"
   ]
  },
  {
   "cell_type": "markdown",
   "id": "a3faf83e",
   "metadata": {},
   "source": [
    "- The following function takes as input the graph, the type of graph and an integer N and returns as output an ordered dictionary of length N, in which there are comics as key and as values the number of heroes appeared in that comic. \n",
    "\n",
    "\n",
    "- The decision to give N as input (which in the final function 'features' actually indicates the number of top N heroes) is due to the fact that taking the whole dictionary (and not just the first N elements), the function returns a dictionary of length 12651, and in terms of visualization for the final function it wasn't confortable."
   ]
  },
  {
   "cell_type": "code",
   "execution_count": 28,
   "id": "6491e503",
   "metadata": {},
   "outputs": [],
   "source": [
    "def heros_per_comic(graph, graph_type, N= None):\n",
    "    # If graph type is equal to 1 we can't compute it.\n",
    "    if graph_type == 1:\n",
    "        return (\"Sorry, I can't compute the number of heroes that have appeared in each comic for type 1 graphs, only for type 2 graphs.\")\n",
    "    \n",
    "    else:\n",
    "        # Create a dictionary that has the node as the key and the type of that node as the value (comic or hero)\n",
    "        attributes = nx.get_node_attributes(graph, 'type')\n",
    "        \n",
    "        # Crea filtered_d, ovvero un dizionario che ha come elementi solo nodi di tipo 'comic'\n",
    "        filtered_d = {k: v for k, v in attributes.items() if v != 'hero'}\n",
    "        \n",
    "        # Create a new empty dictionary\n",
    "        final_d = {}\n",
    "        \n",
    "        # For each key in filtered_d (which would all be nodes of type comic), calculate the degree and add to the final_d \n",
    "        # dictionary that node as the key and the degree as the value\n",
    "        for i in filtered_d:\n",
    "            final_d[i] = graph.degree(i)\n",
    "            \n",
    "        # Sort the dictionary by its values\n",
    "        sorted_d = dict(sorted(final_d.items(), key=lambda item: item[1], reverse = True))\n",
    "        \n",
    "        # Returns the first N elements of the dictionary\n",
    "        return dict(islice(sorted_d.items(), N))"
   ]
  },
  {
   "cell_type": "markdown",
   "id": "74c2dffb",
   "metadata": {},
   "source": [
    "**F1.4 The network's density**"
   ]
  },
  {
   "cell_type": "markdown",
   "id": "70a227f0",
   "metadata": {},
   "source": [
    "- In a network, density refers to the number of edges in the network compared to the total number of possible edges. A network with a high density has a large number of edges, while a network with a low density has few of them.\n",
    "\n",
    "\n",
    "- To compute the density of a network, we need to use the following formula:\n",
    "  - Density = (Number of edges in the network) / (Total number of possible edges)"
   ]
  },
  {
   "cell_type": "code",
   "execution_count": 29,
   "id": "a4a9ebbc",
   "metadata": {},
   "outputs": [],
   "source": [
    "def density(graph):\n",
    "    # Compute the total number of nodes\n",
    "    num_edges = graph.number_of_edges()\n",
    "    # Compute the total number of edges\n",
    "    num_possible_edges = (graph.number_of_nodes() * (graph.number_of_nodes() - 1)) / 2\n",
    "    # Compute the density\n",
    "    density = num_edges / num_possible_edges\n",
    "    return round(density,4)"
   ]
  },
  {
   "cell_type": "markdown",
   "id": "f5b43f12",
   "metadata": {},
   "source": [
    "**F1.5 The network's degree distribution**"
   ]
  },
  {
   "cell_type": "markdown",
   "id": "4e7c234d",
   "metadata": {},
   "source": [
    "- The distribution degree of a graph is a measure of how often different degrees of nodes appear within the graph. The following function takes the graph as input and returns the degree distribution, i.e. a dictionary whose keys are the degrees of the nodes of the graph and as values it has the number of nodes within the graph that have that degree."
   ]
  },
  {
   "cell_type": "code",
   "execution_count": 81,
   "id": "c41df720",
   "metadata": {},
   "outputs": [],
   "source": [
    "def distribution(graph):\n",
    "  # Create an empty dictionary to count the number of nodes with each degree\n",
    "  degree_count = {}\n",
    "\n",
    "  # Iterate over the nodes of the graph\n",
    "  for node in graph.nodes():\n",
    "    # Get the degree of the current node using the degree method of NetworkX\n",
    "    degree = graph.degree(node)\n",
    "\n",
    "    # If the degree is not yet in the dictionary, add a new entry\n",
    "    if degree not in degree_count:\n",
    "        degree_count[degree] = 0\n",
    "\n",
    "    # Increment the counter for the current degree\n",
    "    degree_count[degree] += 1\n",
    "\n",
    "  # Sort the dictionary by keys (the degrees of the nodes) in ascending order\n",
    "  degree_count = sorted(degree_count.items(), key=lambda x: x[0])\n",
    "\n",
    "  # Return the sorted dictionary\n",
    "  return dict(degree_count)"
   ]
  },
  {
   "cell_type": "markdown",
   "id": "2e796624",
   "metadata": {},
   "source": [
    "**F1.6 The average degree of the network**"
   ]
  },
  {
   "cell_type": "markdown",
   "id": "25faa8ae",
   "metadata": {},
   "source": [
    "- The following function takes a graph as input and returns the average degree of that graph. The average degree would be the sum of all the degrees of the nodes, divided by how many nodes there are within the graph."
   ]
  },
  {
   "cell_type": "code",
   "execution_count": 31,
   "id": "773ce17d",
   "metadata": {},
   "outputs": [],
   "source": [
    "def average_degre(graph):\n",
    "    # Initialize the total degree counter to zero\n",
    "    total_degree = 0\n",
    "  \n",
    "    # Iterate over the nodes of the graph and add the degree of every node to the total degree counter\n",
    "    for node in graph:\n",
    "        total_degree += len(graph[node])\n",
    "  \n",
    "    # Divide the total degree by the number of nodes in the graph and return the rounded result\n",
    "    return round(total_degree / len(graph))"
   ]
  },
  {
   "cell_type": "markdown",
   "id": "e73ef193",
   "metadata": {},
   "source": [
    "**F1.7 The network's Hubs (hubs are nodes having degrees more extensive than the 95th percentile of the degree distribution)**"
   ]
  },
  {
   "cell_type": "code",
   "execution_count": 32,
   "id": "a23d81c8",
   "metadata": {},
   "outputs": [],
   "source": [
    "#cambia nomi ecc\n",
    "def get_hubs(graph, percentile = 95):\n",
    "    dist = distribution(graph)\n",
    "\n",
    "    threshold = np.percentile(dist.degree, percentile)\n",
    "\n",
    "    return list(dist[dist.degree >= threshold].node.values)"
   ]
  },
  {
   "cell_type": "markdown",
   "id": "6dff1c2a",
   "metadata": {},
   "source": [
    "**F1.8 Whether the Network is sparse or dense**"
   ]
  },
  {
   "cell_type": "code",
   "execution_count": 33,
   "id": "c81ff738",
   "metadata": {},
   "outputs": [],
   "source": [
    "def dense_or_sparse(graph):\n",
    "    if density(graph) < 0.5:\n",
    "        return 'Sparse'\n",
    "    else:\n",
    "        return 'Dense'"
   ]
  },
  {
   "cell_type": "markdown",
   "id": "a39f9d67",
   "metadata": {},
   "source": [
    "### Final function of FUNCIONALITY 1"
   ]
  },
  {
   "cell_type": "code",
   "execution_count": 34,
   "id": "eaab744b",
   "metadata": {},
   "outputs": [],
   "source": [
    "def features(graph, graph_type, N = None):\n",
    "    if (graph_type != 1) & (graph_type != 2):\n",
    "        return 'The type of graph entered is no correct.'\n",
    "    else:\n",
    "        nodi = nodes(graph, graph_type)\n",
    "        n_collaborations = collaborations(graph, graph_type, N)\n",
    "        n_heros_each_comic = heros_per_comic(graph, graph_type, N)\n",
    "        densità = density(graph)\n",
    "        network_degree_distribution = distribution(graph)\n",
    "        average_degree = average_degre(graph)\n",
    "        #hubs = get_hubs(graph, percentile = 95)\n",
    "        dense_sparse = dense_or_sparse(graph)\n",
    "    print('1)', nodi)\n",
    "    print('****'*25)\n",
    "    print('2)', n_collaborations)\n",
    "    print('****'*25)\n",
    "    print('3) The number of heroes that have appeared in each comic are: ', n_heros_each_comic)\n",
    "    print('****'*25)\n",
    "    print('4) The density of the graph is ', densità)\n",
    "    print('****'*25)\n",
    "    print('5) The network degree distribution is: ', network_degree_distribution)\n",
    "    print('****'*25)\n",
    "    print('6) The average degree of the network is ', average_degree)\n",
    "    print('****'*25)\n",
    "    #SCRCIVI CHE PRINTI GLI HUBS\n",
    "    print('****'*25)\n",
    "    print('7) The graph is ', dense_sparse)\n",
    "    #return nodi, n_collaborations, 'The number of heroes that have appeared in each comic are: ',  n_heros_each_comic, 'The density of the graph is ' + str(densità), 'The average degree of the network is ' + str(average_degree), 'The average degree of the network is ' + dense_sparse"
   ]
  },
  {
   "cell_type": "code",
   "execution_count": 35,
   "id": "0d4b3d72",
   "metadata": {},
   "outputs": [
    {
     "name": "stdout",
     "output_type": "stream",
     "text": [
      "1) The graph has 6436 nodes referring to heros and 12651 nodes referring to comics.\n",
      "****************************************************************************************************\n",
      "2) Sorry, I can't compute the number of collaborations of each superhero with the others for type 2 graphs, only for type 1 graphs.\n",
      "****************************************************************************************************\n",
      "3) The number of heroes that have appeared in each comic are:  {'COC 1': 111, 'IW 3': 91, 'IW 1': 90, 'H2 279': 87, 'IW 4': 80, 'IW 2': 76, 'MAXSEC 3': 72, 'FF 370': 62, 'IW 6': 60, 'M/GN 1': 60}\n",
      "****************************************************************************************************\n",
      "4) The density of the graph is  0.0005\n",
      "****************************************************************************************************\n",
      "5) The network degree distribution is:  {1: 3274, 2: 2027, 3: 1738, 4: 1469, 5: 1409, 6: 1223, 7: 1027, 8: 990, 9: 803, 10: 688, 11: 608, 12: 559, 13: 427, 14: 375, 15: 287, 16: 256, 17: 221, 18: 201, 19: 163, 20: 147, 21: 113, 22: 89, 23: 66, 24: 61, 25: 41, 26: 55, 27: 32, 28: 37, 29: 30, 30: 26, 31: 23, 32: 30, 33: 23, 34: 13, 35: 29, 36: 20, 37: 21, 38: 18, 39: 17, 40: 13, 41: 12, 42: 14, 43: 5, 44: 8, 45: 10, 46: 11, 47: 4, 48: 10, 49: 12, 50: 7, 51: 5, 52: 6, 53: 3, 54: 6, 55: 8, 56: 6, 57: 6, 58: 10, 59: 3, 60: 5, 61: 2, 62: 3, 63: 3, 64: 4, 65: 6, 66: 5, 67: 3, 68: 1, 69: 3, 70: 2, 71: 8, 72: 5, 73: 3, 74: 4, 75: 1, 76: 2, 78: 3, 79: 3, 80: 3, 81: 2, 82: 4, 83: 2, 84: 5, 85: 3, 86: 2, 87: 5, 88: 3, 90: 1, 91: 5, 92: 1, 93: 2, 94: 1, 95: 1, 96: 4, 97: 4, 99: 2, 100: 1, 101: 2, 102: 2, 103: 3, 104: 1, 105: 2, 107: 2, 108: 1, 110: 1, 111: 3, 113: 5, 114: 5, 115: 3, 116: 1, 117: 1, 119: 3, 120: 3, 121: 3, 124: 1, 126: 2, 127: 1, 129: 3, 130: 1, 131: 4, 132: 1, 134: 2, 135: 3, 136: 1, 139: 2, 141: 3, 143: 1, 145: 2, 151: 1, 154: 1, 156: 1, 158: 1, 160: 1, 163: 3, 165: 1, 167: 1, 169: 1, 172: 3, 174: 3, 175: 1, 176: 2, 177: 1, 179: 1, 182: 1, 184: 1, 187: 1, 188: 1, 189: 1, 191: 1, 192: 1, 197: 1, 199: 1, 206: 1, 211: 1, 212: 1, 213: 1, 215: 1, 221: 2, 223: 1, 224: 1, 225: 1, 227: 1, 232: 1, 233: 1, 234: 2, 240: 1, 243: 1, 248: 1, 249: 1, 250: 1, 253: 1, 255: 2, 258: 1, 259: 1, 262: 1, 270: 2, 278: 1, 279: 1, 299: 1, 307: 1, 310: 1, 318: 1, 320: 1, 321: 1, 322: 1, 329: 1, 342: 1, 353: 1, 377: 1, 380: 1, 384: 1, 390: 1, 399: 1, 415: 1, 427: 1, 444: 2, 452: 1, 466: 1, 471: 1, 496: 1, 523: 1, 530: 1, 561: 1, 577: 1, 581: 1, 585: 1, 603: 1, 605: 1, 619: 1, 622: 1, 631: 1, 635: 1, 643: 1, 762: 1, 819: 1, 835: 1, 854: 1, 886: 1, 956: 1, 963: 1, 1150: 1, 1334: 1, 1577: 1}\n",
      "****************************************************************************************************\n",
      "6) The average degree of the network is  10\n",
      "****************************************************************************************************\n",
      "****************************************************************************************************\n",
      "7) The graph is  Sparse\n"
     ]
    }
   ],
   "source": [
    "features(G2, 2, 10)"
   ]
  },
  {
   "cell_type": "markdown",
   "id": "5debd9ce",
   "metadata": {},
   "source": [
    "## Functionality 2 - Find top superheroes!"
   ]
  },
  {
   "cell_type": "code",
   "execution_count": 92,
   "id": "c2b83e27",
   "metadata": {},
   "outputs": [],
   "source": [
    "G_fun2 = nx.Graph()"
   ]
  },
  {
   "cell_type": "code",
   "execution_count": 93,
   "id": "fddf7df7",
   "metadata": {},
   "outputs": [],
   "source": [
    "G_fun2 = nx.from_pandas_edgelist(dfedges, 'comic', 'hero')"
   ]
  },
  {
   "cell_type": "code",
   "execution_count": 94,
   "id": "76e79835",
   "metadata": {},
   "outputs": [],
   "source": [
    "ln_N = len(G_fun2.nodes()) # This will be helpful to set up our main function"
   ]
  },
  {
   "cell_type": "markdown",
   "id": "1bbdc1c2",
   "metadata": {},
   "source": [
    "We tried building and/or manipulating some given algorithms for the centrality measures. We could only do 3 out of 4 functions from scratch (DegreeCentrality, PageRank and ClosenessCentrality), meanwhile for the Betweenness we use the built-in function in networkx. These functions will then be implemented in our main function."
   ]
  },
  {
   "cell_type": "markdown",
   "id": "73bee2f0",
   "metadata": {},
   "source": [
    "**Degree Centrality**"
   ]
  },
  {
   "cell_type": "code",
   "execution_count": 62,
   "id": "0fface7d",
   "metadata": {},
   "outputs": [],
   "source": [
    "def degreeCentrality(G):\n",
    "    output_list = []\n",
    "    N = len(G.nodes())\n",
    "    degrees = G.degree()\n",
    "    for i in degrees:\n",
    "        output_sol = i[1]/(N-1)\n",
    "        output = i[0], output_sol\n",
    "        output_list.append(output)\n",
    "    return output_list"
   ]
  },
  {
   "cell_type": "markdown",
   "id": "e559df1f",
   "metadata": {},
   "source": [
    "**PageRank**"
   ]
  },
  {
   "cell_type": "code",
   "execution_count": 63,
   "id": "17b1d195",
   "metadata": {},
   "outputs": [],
   "source": [
    "def pageRank(G):\n",
    "    if len(G) == 0:\n",
    "        return {}\n",
    "    if not G.is_directed():\n",
    "        D = G.to_directed()\n",
    "    else:\n",
    "        D = G\n",
    "    W = nx.stochastic_graph(D, weight = 'weight')\n",
    "    N = W.number_of_nodes()\n",
    "    x = dict.fromkeys(W, 1.0 / N)\n",
    "    p = dict.fromkeys(W, 1.0 / N)\n",
    "    dweights = p\n",
    "    dnodes = [n for n in W if W.out_degree(n, weight = 'weight') == 0.0]\n",
    "    for i in range(100):\n",
    "        xlast = x\n",
    "        x = dict.fromkeys(xlast.keys(), 0)\n",
    "        dsum = 0.85*sum(xlast[n] for n in dnodes)\n",
    "        for n in x:\n",
    "            for number in W[n]:\n",
    "                x[number] += 0.85*xlast[n] * W[n][number]['weight']\n",
    "            x[n] += dsum * dweights[n] + (0.15)*p[n]\n",
    "        err = sum([abs(x[n] - xlast[n]) for n in x])\n",
    "        if err < N*(1.0e-6):\n",
    "            return x"
   ]
  },
  {
   "cell_type": "markdown",
   "id": "ac4b8b83",
   "metadata": {},
   "source": [
    "**Closeness Centrality**"
   ]
  },
  {
   "cell_type": "code",
   "execution_count": 64,
   "id": "70d12af6",
   "metadata": {},
   "outputs": [],
   "source": [
    "def closenessCentrality(G):\n",
    "    path_length = nx.single_source_shortest_path_length\n",
    "    nodes = G.nodes()\n",
    "    closeness_centrality = {}\n",
    "    for n in nodes:\n",
    "        sp = path_length(G,n)\n",
    "        totsp = sum(sp.values())\n",
    "        if totsp > 0.0 and len(G) > 1:\n",
    "            closeness_centrality[n] = (len(sp)-1.0) / totsp\n",
    "            s = (len(sp)-1.0) / ( len(G) - 1 )\n",
    "            closeness_centrality[n] *= s\n",
    "        else:\n",
    "            closeness_centrality[n] = 0.0\n",
    "    return closeness_centrality"
   ]
  },
  {
   "cell_type": "markdown",
   "id": "38faf823",
   "metadata": {},
   "source": [
    "From the exercise request, we understand that we need the data for only the top N superheros. Sometimes this N is given, but it should be set to ln_N, which means that we need to consider the whole graph. If we set up a specific N number, then we need to build a graph which takes only the top N superheros with their data (so their edges with 'comic' nodes)."
   ]
  },
  {
   "cell_type": "code",
   "execution_count": 27,
   "id": "256463d9",
   "metadata": {},
   "outputs": [],
   "source": [
    "def topNsuperherosGraph(G, N):\n",
    "    \n",
    "    G_top_N_def = nx.Graph()\n",
    "    ln_N = len(G.nodes())\n",
    "    \n",
    "    if N != ln_N:\n",
    "        G_sorted_bydeg = sorted(G, key=lambda x: G.degree(x), reverse=True)\n",
    "        top_N_superheros = []\n",
    "        for i in G_sorted_bydeg:\n",
    "            if i in list(dfedges.hero):\n",
    "                top_N_superheros.append(i)\n",
    "            if len(top_N_superheros) >= N:\n",
    "                break\n",
    "\n",
    "        edges_top_N_superheros = []\n",
    "        for i in top_N_superheros:\n",
    "            edges_top_N_superheros.append(list(G.edges(i)))\n",
    "    \n",
    "        G_top_N_def.add_nodes_from(top_N_superheros)\n",
    "        for i in edges_top_N_superheros:\n",
    "            G_top_N_def.add_edges_from(i)\n",
    "        return G_top_N_def\n",
    "    \n",
    "    else:\n",
    "        G_top_N_def = G\n",
    "        return G_top_N_def"
   ]
  },
  {
   "cell_type": "markdown",
   "id": "a9696236",
   "metadata": {},
   "source": [
    "Our main function is now ready to be set up."
   ]
  },
  {
   "cell_type": "code",
   "execution_count": 66,
   "id": "42df58d6",
   "metadata": {},
   "outputs": [],
   "source": [
    "def centralityMeasures(G, node, measure, N=ln_N):\n",
    "    \"\"\"\n",
    "    INPUT:\n",
    "    'G' is our graph data\n",
    "    'Node' is the given node (which can be both a comic node or a hero node)\n",
    "    'Measure' is the centrality measure chosen by the user. It can either be: 'Betweenness', 'PageRank',\n",
    "              'ClosenessCentrality' or 'DegreeCentrality'\n",
    "    'N' is the number of top heros that we consider for our calculations\n",
    "    \n",
    "    OUTPUT:\n",
    "    First number is the given node's centrality value.\n",
    "    Second list is the metric's value over the considered graph.\n",
    "    \"\"\"\n",
    "    # We create the top N heros graph with the function we created before.\n",
    "    G_top_N = topNsuperherosGraph(G, N)\n",
    "    \n",
    "    if node in list(G_top_N.nodes()):\n",
    "        # We check if the node we chose is actually in the top N heros list or is a comic connected to a top N hero.\n",
    "        if measure == 'Betweenness':\n",
    "            centrality = nx.betweenness_centrality(G_top_N)\n",
    "            return centrality[node], centrality\n",
    "        elif measure == 'PageRank':\n",
    "            centrality = pageRank(G_top_N)\n",
    "            return centrality[node], centrality\n",
    "        elif measure == 'ClosenessCentrality':\n",
    "            centrality = closenessCentrality(G_top_N)\n",
    "            return centrality[node], centrality\n",
    "        elif measure == 'DegreeCentrality':\n",
    "            centrality = degreeCentrality(G_top_N)\n",
    "            # The degree centrality function returns a different type of list so we cannot\n",
    "            # use 'centrality[node]' because it doesn't work. \n",
    "            # This is what we do to get the centrality for the node instead:\n",
    "            for i in range(len(centrality)):\n",
    "                if centrality[i][0] == node:\n",
    "                    return centrality[i][1], centrality\n",
    "    else:\n",
    "        return 'Node not available'"
   ]
  },
  {
   "cell_type": "markdown",
   "id": "05b758c2",
   "metadata": {},
   "source": [
    "### Betweenness Centrality"
   ]
  },
  {
   "cell_type": "code",
   "execution_count": 67,
   "id": "accd4634",
   "metadata": {},
   "outputs": [
    {
     "ename": "KeyboardInterrupt",
     "evalue": "",
     "output_type": "error",
     "traceback": [
      "\u001b[1;31m---------------------------------------------------------------------------\u001b[0m",
      "\u001b[1;31mKeyboardInterrupt\u001b[0m                         Traceback (most recent call last)",
      "Input \u001b[1;32mIn [67]\u001b[0m, in \u001b[0;36m<cell line: 1>\u001b[1;34m()\u001b[0m\n\u001b[1;32m----> 1\u001b[0m bet_centrality \u001b[38;5;241m=\u001b[39m \u001b[43mcentralityMeasures\u001b[49m\u001b[43m(\u001b[49m\u001b[43mG_fun2\u001b[49m\u001b[43m,\u001b[49m\u001b[43m \u001b[49m\u001b[38;5;124;43m'\u001b[39;49m\u001b[38;5;124;43mSPIDER-MAN/PETER PARKER\u001b[39;49m\u001b[38;5;124;43m'\u001b[39;49m\u001b[43m,\u001b[49m\u001b[43m \u001b[49m\u001b[38;5;124;43m'\u001b[39;49m\u001b[38;5;124;43mBetweenness\u001b[39;49m\u001b[38;5;124;43m'\u001b[39;49m\u001b[43m,\u001b[49m\u001b[43m \u001b[49m\u001b[38;5;241;43m1000\u001b[39;49m\u001b[43m)\u001b[49m\n",
      "Input \u001b[1;32mIn [66]\u001b[0m, in \u001b[0;36mcentralityMeasures\u001b[1;34m(G, node, measure, N)\u001b[0m\n\u001b[0;32m      1\u001b[0m \u001b[38;5;28;01mdef\u001b[39;00m \u001b[38;5;21mcentralityMeasures\u001b[39m(G, node, measure, N\u001b[38;5;241m=\u001b[39mln_N):\n\u001b[0;32m      2\u001b[0m     \u001b[38;5;124;03m\"\"\"\u001b[39;00m\n\u001b[0;32m      3\u001b[0m \u001b[38;5;124;03m    INPUT:\u001b[39;00m\n\u001b[0;32m      4\u001b[0m \u001b[38;5;124;03m    'G' is our graph data\u001b[39;00m\n\u001b[1;32m   (...)\u001b[0m\n\u001b[0;32m     11\u001b[0m \u001b[38;5;124;03m    Second list is the metric's value over the considered graph.\u001b[39;00m\n\u001b[0;32m     12\u001b[0m \u001b[38;5;124;03m    \"\"\"\u001b[39;00m\n\u001b[1;32m---> 14\u001b[0m     G_top_N \u001b[38;5;241m=\u001b[39m \u001b[43mtopNsuperherosGraph\u001b[49m\u001b[43m(\u001b[49m\u001b[43mG\u001b[49m\u001b[43m,\u001b[49m\u001b[43m \u001b[49m\u001b[43mN\u001b[49m\u001b[43m)\u001b[49m\n\u001b[0;32m     16\u001b[0m     \u001b[38;5;28;01mif\u001b[39;00m node \u001b[38;5;129;01min\u001b[39;00m \u001b[38;5;28mlist\u001b[39m(G_top_N\u001b[38;5;241m.\u001b[39mnodes()):\n\u001b[0;32m     17\u001b[0m         \u001b[38;5;28;01mif\u001b[39;00m measure \u001b[38;5;241m==\u001b[39m \u001b[38;5;124m'\u001b[39m\u001b[38;5;124mBetweenness\u001b[39m\u001b[38;5;124m'\u001b[39m:\n",
      "Input \u001b[1;32mIn [65]\u001b[0m, in \u001b[0;36mtopNsuperherosGraph\u001b[1;34m(G, N)\u001b[0m\n\u001b[0;32m     10\u001b[0m     \u001b[38;5;28;01mif\u001b[39;00m i \u001b[38;5;129;01min\u001b[39;00m \u001b[38;5;28mlist\u001b[39m(dfedges\u001b[38;5;241m.\u001b[39mhero):\n\u001b[0;32m     11\u001b[0m         top_N_superheros\u001b[38;5;241m.\u001b[39mappend(i)\n\u001b[1;32m---> 12\u001b[0m     \u001b[38;5;28;01mif\u001b[39;00m \u001b[38;5;28;43mlen\u001b[39;49m(top_N_superheros) \u001b[38;5;241m>\u001b[39m\u001b[38;5;241m=\u001b[39m N:\n\u001b[0;32m     13\u001b[0m         \u001b[38;5;28;01mbreak\u001b[39;00m\n\u001b[0;32m     15\u001b[0m edges_top_N_superheros \u001b[38;5;241m=\u001b[39m []\n",
      "\u001b[1;31mKeyboardInterrupt\u001b[0m: "
     ]
    }
   ],
   "source": [
    "bet_centrality = centralityMeasures(G_fun2, 'SPIDER-MAN/PETER PARKER', 'Betweenness', 1000)"
   ]
  },
  {
   "cell_type": "code",
   "execution_count": null,
   "id": "444d4c97",
   "metadata": {},
   "outputs": [],
   "source": [
    "bet_centrality"
   ]
  },
  {
   "cell_type": "code",
   "execution_count": null,
   "id": "303da91d",
   "metadata": {},
   "outputs": [],
   "source": [
    "bet_centralities = bet_centrality[1]\n",
    "avg_centrality_bet = sum(bet_centralities.values())/len(bet_centrality)\n",
    "centrality_node_bet = bet_centrality[0]"
   ]
  },
  {
   "cell_type": "markdown",
   "id": "45c13e0e",
   "metadata": {},
   "source": [
    "### PageRank"
   ]
  },
  {
   "cell_type": "code",
   "execution_count": null,
   "id": "ed78898c",
   "metadata": {},
   "outputs": [],
   "source": [
    "pr_centrality = centralityMeasures(G_fun2, 'SPIDER-MAN/PETER PARKER', 'PageRank', 1000)"
   ]
  },
  {
   "cell_type": "code",
   "execution_count": null,
   "id": "0728c130",
   "metadata": {},
   "outputs": [],
   "source": [
    "pr_centrality"
   ]
  },
  {
   "cell_type": "code",
   "execution_count": null,
   "id": "a7f1ccf8",
   "metadata": {},
   "outputs": [],
   "source": [
    "pr_centralities = pr_centrality[1]\n",
    "avg_centrality_pr = sum(pr_centralities.values())/len(pr_centrality)\n",
    "centrality_node_pr = pr_centrality[0]"
   ]
  },
  {
   "cell_type": "markdown",
   "id": "ce51d7a8",
   "metadata": {},
   "source": [
    "### Closeness Centrality"
   ]
  },
  {
   "cell_type": "code",
   "execution_count": null,
   "id": "aa9afbc7",
   "metadata": {},
   "outputs": [],
   "source": [
    "cl_centrality = centralityMeasures(G_fun2, 'SPIDER-MAN/PETER PARKER', 'ClosenessCentrality', 1000)"
   ]
  },
  {
   "cell_type": "code",
   "execution_count": null,
   "id": "b9e12f76",
   "metadata": {},
   "outputs": [],
   "source": [
    "cl_centrality"
   ]
  },
  {
   "cell_type": "code",
   "execution_count": null,
   "id": "46911002",
   "metadata": {},
   "outputs": [],
   "source": [
    "cl_centralities = cl_centrality[1]\n",
    "avg_centrality_cl = sum(cl_centralities.values())/len(cl_centrality)\n",
    "centrality_node_cl = cl_centrality[0]"
   ]
  },
  {
   "cell_type": "markdown",
   "id": "9ab880df",
   "metadata": {},
   "source": [
    "### Degree Centrality"
   ]
  },
  {
   "cell_type": "code",
   "execution_count": null,
   "id": "a0c5480b",
   "metadata": {},
   "outputs": [],
   "source": [
    "deg_centrality = centralityMeasures(G_fun2, 'VISION', 'DegreeCentrality', 1000)"
   ]
  },
  {
   "cell_type": "code",
   "execution_count": null,
   "id": "9b46992d",
   "metadata": {},
   "outputs": [],
   "source": [
    "deg_centrality"
   ]
  },
  {
   "cell_type": "code",
   "execution_count": null,
   "id": "ea73ec3a",
   "metadata": {},
   "outputs": [],
   "source": [
    "deg_centralities = deg_centrality[1]\n",
    "sum_deg_centralities = 0\n",
    "for i in range(len(deg_centralities)):\n",
    "    sum_deg_centralities += deg_centralities[i][1]\n",
    "avg_centrality_deg = sum_deg_centralities/len(deg_centrality)\n",
    "centrality_node_deg = deg_centrality[0]"
   ]
  },
  {
   "cell_type": "markdown",
   "id": "5aa0075f",
   "metadata": {},
   "source": [
    "## Functionality 3 - Shortest ordered Route"
   ]
  },
  {
   "cell_type": "code",
   "execution_count": null,
   "id": "8e9e2483",
   "metadata": {},
   "outputs": [],
   "source": []
  },
  {
   "cell_type": "code",
   "execution_count": null,
   "id": "747f1e9d",
   "metadata": {},
   "outputs": [],
   "source": []
  },
  {
   "cell_type": "code",
   "execution_count": null,
   "id": "baceac72",
   "metadata": {},
   "outputs": [],
   "source": []
  },
  {
   "cell_type": "code",
   "execution_count": null,
   "id": "f9e65759",
   "metadata": {},
   "outputs": [],
   "source": []
  },
  {
   "cell_type": "code",
   "execution_count": null,
   "id": "3534e997",
   "metadata": {},
   "outputs": [],
   "source": []
  },
  {
   "cell_type": "markdown",
   "id": "7483efcc",
   "metadata": {},
   "source": [
    "## Functionality 4 - Disconnecting Graphs"
   ]
  },
  {
   "cell_type": "code",
   "execution_count": 68,
   "id": "a8fbe006",
   "metadata": {},
   "outputs": [],
   "source": [
    "G_fun4 = nx.Graph()"
   ]
  },
  {
   "cell_type": "code",
   "execution_count": 71,
   "id": "4e3008f7",
   "metadata": {},
   "outputs": [],
   "source": [
    "G_fun4 = nx.from_pandas_edgelist(dfedges, 'comic, hero')"
   ]
  },
  {
   "cell_type": "code",
   "execution_count": 72,
   "id": "158ff2b8",
   "metadata": {},
   "outputs": [],
   "source": [
    "ln_N = len(G_fun4.nodes())"
   ]
  },
  {
   "cell_type": "markdown",
   "id": "9b839132",
   "metadata": {},
   "source": [
    "Since the function for the point 2.4 only asks how many links are required to disconnect the graph into two subgraphs, the function's output will be a number. So, for every 'comic' node that the two heros have in common, it will add 1 to a count set to 0 at the beginning. If we remove all the nodes 'in common', then the graph will be disconnected. For this function we will also implement the 'topNsuperherosGraph' function written and used for Functionality 2."
   ]
  },
  {
   "cell_type": "code",
   "execution_count": 73,
   "id": "ce4265ce",
   "metadata": {},
   "outputs": [],
   "source": [
    "def minimumCut(G, heroA, heroB, N=ln_N):\n",
    "    \"\"\"\n",
    "    INPUT:\n",
    "    'G' is the graph data\n",
    "    'heroA' is the superhero to which will relate sub-graph G_a\n",
    "    'heroB' is the superhero to which will relate sub-graph G_b\n",
    "    'N' is the number of top heros that we consider for our calculations\n",
    "    \n",
    "    OUTPUT:\n",
    "    A number that represents the links we should remove to disconnect the graph into the two subgraphs\n",
    "    \"\"\"\n",
    "    # We create the top N superheros graph with the function written before.\n",
    "    G_top_N = topNsuperherosGraph(G, N)\n",
    "    \n",
    "    G_copy = G_top_N.copy()\n",
    "    \n",
    "    minCut = float('inf') # Initialized minimum cut to the maximum value possible\n",
    "    \n",
    "    G_copy.add_edge(heroA, heroB)\n",
    "    \n",
    "    component = nx.node_connected_component(G_copy, heroA)  # This gets the set of nodes in the same component as heroA\n",
    "    cutSize = sum([G_copy.degree(x) for x in component]) # Calculate the size of the cut\n",
    "    minCut = min(minCut, cutSize) # Update the minimum cut\n",
    "    \n",
    "    G_copy.remove_edge(heroA, heroB)\n",
    "    \n",
    "    G_a = list(component) # Create a list of the nodes in the first subgraph\n",
    "    G_b = [x for x in G_top_N.nodes() if x not in component] # Create a list of the nodes in the second subgraph\n",
    "    \n",
    "    return minCut, G_a, G_b"
   ]
  },
  {
   "cell_type": "markdown",
   "id": "09b6efd4",
   "metadata": {},
   "source": [
    "The function first creates a copy of the top N vertices subgraph and adds an edge between heroA and heroB. It then calculates the size of the cut as the sum of the degrees of all the vertices in the same connected component as heroA. The minimum cut is then updated to the minimum of the current minimum cut and the size of the cut. The function then removes the edge between heroA and heroB and creates lists of the vertices in each of the two subgraphs. Finally, the function returns the minimum cut and the two subgraphs.\n",
    "\n",
    "However, keep in mind that it only finds the minimum cut between heroA and heroB, but it does not find the minimum cut between any other pairs of vertices."
   ]
  },
  {
   "cell_type": "code",
   "execution_count": 76,
   "id": "59c6ac2e",
   "metadata": {},
   "outputs": [
    {
     "ename": "KeyboardInterrupt",
     "evalue": "",
     "output_type": "error",
     "traceback": [
      "\u001b[1;31m---------------------------------------------------------------------------\u001b[0m",
      "\u001b[1;31mKeyboardInterrupt\u001b[0m                         Traceback (most recent call last)",
      "Input \u001b[1;32mIn [76]\u001b[0m, in \u001b[0;36m<cell line: 2>\u001b[1;34m()\u001b[0m\n\u001b[0;32m      1\u001b[0m \u001b[38;5;66;03m# Example\u001b[39;00m\n\u001b[1;32m----> 2\u001b[0m \u001b[43mdisconnectGraph\u001b[49m\u001b[43m(\u001b[49m\u001b[43mG_fun4\u001b[49m\u001b[43m,\u001b[49m\u001b[43m \u001b[49m\u001b[38;5;124;43m'\u001b[39;49m\u001b[38;5;124;43mVISION\u001b[39;49m\u001b[38;5;124;43m'\u001b[39;49m\u001b[43m,\u001b[49m\u001b[43m \u001b[49m\u001b[38;5;124;43m'\u001b[39;49m\u001b[38;5;124;43mSPIDER-MAN/PETER PARKER\u001b[39;49m\u001b[38;5;124;43m'\u001b[39;49m\u001b[43m,\u001b[49m\u001b[43m \u001b[49m\u001b[38;5;241;43m1000\u001b[39;49m\u001b[43m)\u001b[49m\n",
      "Input \u001b[1;32mIn [73]\u001b[0m, in \u001b[0;36mdisconnectGraph\u001b[1;34m(G, heroA, heroB, N)\u001b[0m\n\u001b[0;32m      1\u001b[0m \u001b[38;5;28;01mdef\u001b[39;00m \u001b[38;5;21mdisconnectGraph\u001b[39m(G, heroA, heroB, N\u001b[38;5;241m=\u001b[39mln_N):\n\u001b[0;32m      2\u001b[0m     \u001b[38;5;124;03m\"\"\"\u001b[39;00m\n\u001b[0;32m      3\u001b[0m \u001b[38;5;124;03m    INPUT:\u001b[39;00m\n\u001b[0;32m      4\u001b[0m \u001b[38;5;124;03m    'G' is the graph data\u001b[39;00m\n\u001b[1;32m   (...)\u001b[0m\n\u001b[0;32m     10\u001b[0m \u001b[38;5;124;03m    A number that represents the links we should remove to disconnect the graph into the two subgraphs\u001b[39;00m\n\u001b[0;32m     11\u001b[0m \u001b[38;5;124;03m    \"\"\"\u001b[39;00m\n\u001b[1;32m---> 13\u001b[0m     G_top_N \u001b[38;5;241m=\u001b[39m \u001b[43mtopNsuperherosGraph\u001b[49m\u001b[43m(\u001b[49m\u001b[43mG\u001b[49m\u001b[43m,\u001b[49m\u001b[43m \u001b[49m\u001b[43mN\u001b[49m\u001b[43m)\u001b[49m\n\u001b[0;32m     15\u001b[0m     count \u001b[38;5;241m=\u001b[39m \u001b[38;5;241m0\u001b[39m\n\u001b[0;32m     17\u001b[0m     \u001b[38;5;28;01mif\u001b[39;00m heroA \u001b[38;5;129;01min\u001b[39;00m G_top_N\u001b[38;5;241m.\u001b[39mnodes() \u001b[38;5;129;01mand\u001b[39;00m heroB \u001b[38;5;129;01min\u001b[39;00m G_top_N\u001b[38;5;241m.\u001b[39mnodes():\n",
      "Input \u001b[1;32mIn [65]\u001b[0m, in \u001b[0;36mtopNsuperherosGraph\u001b[1;34m(G, N)\u001b[0m\n\u001b[0;32m      9\u001b[0m \u001b[38;5;28;01mfor\u001b[39;00m i \u001b[38;5;129;01min\u001b[39;00m G_sorted_bydeg:\n\u001b[0;32m     10\u001b[0m     \u001b[38;5;28;01mif\u001b[39;00m i \u001b[38;5;129;01min\u001b[39;00m \u001b[38;5;28mlist\u001b[39m(dfedges\u001b[38;5;241m.\u001b[39mhero):\n\u001b[1;32m---> 11\u001b[0m         \u001b[43mtop_N_superheros\u001b[49m\u001b[38;5;241;43m.\u001b[39;49m\u001b[43mappend\u001b[49m(i)\n\u001b[0;32m     12\u001b[0m     \u001b[38;5;28;01mif\u001b[39;00m \u001b[38;5;28mlen\u001b[39m(top_N_superheros) \u001b[38;5;241m>\u001b[39m\u001b[38;5;241m=\u001b[39m N:\n\u001b[0;32m     13\u001b[0m         \u001b[38;5;28;01mbreak\u001b[39;00m\n",
      "\u001b[1;31mKeyboardInterrupt\u001b[0m: "
     ]
    }
   ],
   "source": [
    "# Example\n",
    "disconnectGraph(G_fun4, 'VISION', 'SPIDER-MAN/PETER PARKER', 1000)"
   ]
  },
  {
   "cell_type": "markdown",
   "id": "327b16cd",
   "metadata": {},
   "source": [
    "## Functionality 5 - Extracting Communities"
   ]
  },
  {
   "cell_type": "code",
   "execution_count": 83,
   "id": "c95f9125",
   "metadata": {},
   "outputs": [],
   "source": [
    "supereroi = topNsuperherosGraph(G1,100)"
   ]
  },
  {
   "cell_type": "markdown",
   "id": "a00ea1dd",
   "metadata": {},
   "source": [
    "**F5.1 The minimum number of edges that should be removed to form communities**"
   ]
  },
  {
   "cell_type": "code",
   "execution_count": 84,
   "id": "11b2c6ce",
   "metadata": {},
   "outputs": [],
   "source": [
    "def edge_to_remove(graph):\n",
    "    G_dict = nx.edge_betweenness_centrality(graph)\n",
    "    edge = ()\n",
    "\n",
    "    # extract the edge with highest edge betweenness centrality score\n",
    "    for key, value in sorted(G_dict.items(), key=lambda item: item[1], reverse = True):\n",
    "        edge = key\n",
    "        break\n",
    "\n",
    "    return edge"
   ]
  },
  {
   "cell_type": "code",
   "execution_count": 85,
   "id": "94784373",
   "metadata": {},
   "outputs": [],
   "source": [
    "def girvan_newman(graph):\n",
    "    # find number of connected components\n",
    "    sg = nx.connected_components(graph)\n",
    "    sg_count = nx.number_connected_components(graph)\n",
    "    contatore = 0\n",
    "\n",
    "    while sg_count == 1:\n",
    "        graph.remove_edge(edge_to_remove(graph)[0], edge_to_remove(graph)[1])\n",
    "        sg = nx.connected_components(graph)\n",
    "        sg_count = nx.number_connected_components(graph)\n",
    "        contatore += 1\n",
    "\n",
    "    return contatore"
   ]
  },
  {
   "cell_type": "markdown",
   "id": "b69ddf9b",
   "metadata": {},
   "source": [
    "**F5.2 A list of communities, each containing a list of heroes that belong to them.**"
   ]
  },
  {
   "cell_type": "code",
   "execution_count": 160,
   "id": "d222981c",
   "metadata": {},
   "outputs": [],
   "source": [
    "def list_communities(graph):\n",
    "    \n",
    "    communities = nx.connected_components(graph)\n",
    "\n",
    "    # find the nodes forming the communities\n",
    "    node_groups = []\n",
    "\n",
    "    for community in communities:\n",
    "        node_groups.append(list(community))\n",
    "\n",
    "    return node_groups"
   ]
  },
  {
   "cell_type": "markdown",
   "id": "99cfd6d2",
   "metadata": {},
   "source": [
    "**F5.3 If the Hero_1 and Hero_2 belongs to the same community**"
   ]
  },
  {
   "cell_type": "code",
   "execution_count": 145,
   "id": "c6fcb273",
   "metadata": {},
   "outputs": [],
   "source": [
    "def heroes_same_communities(graph, hero1, hero2):\n",
    "    communities = list_communities(graph)\n",
    "    for i in communities:\n",
    "        if hero1 in i and hero2 in i:\n",
    "            return ('The hero', hero1, 'is in the same communities of the hero', hero2)\n",
    "    return ('The hero', hero1, 'is NOT in the same communities of the hero', hero2)"
   ]
  },
  {
   "cell_type": "markdown",
   "id": "9807a83c",
   "metadata": {},
   "source": [
    "### Final function of FUNCIONALITY 5"
   ]
  },
  {
   "cell_type": "code",
   "execution_count": 146,
   "id": "6d997288",
   "metadata": {},
   "outputs": [],
   "source": [
    "def functionality5(graph, N, hero1, hero2):\n",
    "    \n",
    "    top_heroes = topNsuperherosGraph(graph,N)\n",
    "    \n",
    "    min_edges = girvan_newman(top_heroes)\n",
    "    \n",
    "    communities = list_communities(top_heroes)\n",
    "    \n",
    "    same_communities = heroes_same_communities(graph, hero1, hero2)\n",
    "\n",
    "    print ('1) The minimum number of edges that should be removed to form communities are ', min_edges)\n",
    "    print ('****'*25)\n",
    "    print(\"2) The heroes that are found within the communities are :\", communities)\n",
    "    print ('****'*25)\n",
    "    print('3)', same_communities)\n",
    "    "
   ]
  },
  {
   "cell_type": "code",
   "execution_count": 147,
   "id": "58e2b28f",
   "metadata": {},
   "outputs": [
    {
     "name": "stdout",
     "output_type": "stream",
     "text": [
      "1) The minimum number of edges that should be removed to form communities are  9\n",
      "****************************************************************************************************\n",
      "2) The heroes that are found within the communities are : [['CAPTAIN AMERICA'], ['HAWK', 'MR. FANTASTIC/REED R', 'BEAST/HENRY &HANK& P', 'THOR/DR. DONALD BLAK', 'ANT-MAN/DR. HENRY J.', 'SPIDER-MAN/PETER PAR', 'THING/BENJAMIN J. GR', 'IRON MAN/TONY STARK', 'HUMAN TORCH/JOHNNY S']]\n",
      "****************************************************************************************************\n",
      "3) ('The hero', 'HAWK', 'is in the same communities of the hero', 'HUMAN TORCH/JOHNNY S')\n"
     ]
    }
   ],
   "source": [
    "functionality5(G1, 10, 'HAWK', 'HUMAN TORCH/JOHNNY S')"
   ]
  },
  {
   "cell_type": "markdown",
   "id": "46cbcf4d",
   "metadata": {},
   "source": [
    "# QUESTION 3: FRONTED IMPLEMENTATION"
   ]
  },
  {
   "cell_type": "markdown",
   "id": "de37faf8",
   "metadata": {},
   "source": [
    "## Visualization 1 - Visualize some features of the network "
   ]
  },
  {
   "cell_type": "markdown",
   "id": "8fced120",
   "metadata": {},
   "source": [
    "**V1.1  A table containing the following general information about the graph:**\n",
    "\n",
    "- Number of nodes in the network\n",
    "- Density of the network\n",
    "- Average degree of the network\n",
    "- Whether the network is sparse or dense"
   ]
  },
  {
   "cell_type": "code",
   "execution_count": 165,
   "id": "a7002f62",
   "metadata": {},
   "outputs": [],
   "source": [
    "def table(graph):\n",
    "    dataframe = pd.DataFrame([{'nodes' : G1.number_of_nodes(), 'densità' : density(graph),\n",
    "                  'average_degree' : average_degre(graph), 'sparse_dense' : dense_or_sparse(graph)}])\n",
    "    return dataframe.set_index(['nodes', 'densità', 'average_degree', 'sparse_dense'])"
   ]
  },
  {
   "cell_type": "code",
   "execution_count": 166,
   "id": "bff099dc",
   "metadata": {},
   "outputs": [
    {
     "data": {
      "text/html": [
       "<div>\n",
       "<style scoped>\n",
       "    .dataframe tbody tr th:only-of-type {\n",
       "        vertical-align: middle;\n",
       "    }\n",
       "\n",
       "    .dataframe tbody tr th {\n",
       "        vertical-align: top;\n",
       "    }\n",
       "\n",
       "    .dataframe thead th {\n",
       "        text-align: right;\n",
       "    }\n",
       "</style>\n",
       "<table border=\"1\" class=\"dataframe\">\n",
       "  <thead>\n",
       "    <tr style=\"text-align: right;\">\n",
       "      <th></th>\n",
       "      <th></th>\n",
       "      <th></th>\n",
       "      <th></th>\n",
       "    </tr>\n",
       "    <tr>\n",
       "      <th>nodes</th>\n",
       "      <th>densità</th>\n",
       "      <th>average_degree</th>\n",
       "      <th>sparse_dense</th>\n",
       "    </tr>\n",
       "  </thead>\n",
       "  <tbody>\n",
       "    <tr>\n",
       "      <th>6947</th>\n",
       "      <th>0.0075</th>\n",
       "      <th>52</th>\n",
       "      <th>Sparse</th>\n",
       "    </tr>\n",
       "  </tbody>\n",
       "</table>\n",
       "</div>"
      ],
      "text/plain": [
       "Empty DataFrame\n",
       "Columns: []\n",
       "Index: [(6947, 0.0075, 52, Sparse)]"
      ]
     },
     "execution_count": 166,
     "metadata": {},
     "output_type": "execute_result"
    }
   ],
   "source": [
    "table(G1)"
   ]
  },
  {
   "cell_type": "markdown",
   "id": "80ca1206",
   "metadata": {},
   "source": [
    "**V1.2  A table that lists the network's hubs**"
   ]
  },
  {
   "cell_type": "code",
   "execution_count": null,
   "id": "a34095c6",
   "metadata": {},
   "outputs": [],
   "source": []
  },
  {
   "cell_type": "markdown",
   "id": "edb03e40",
   "metadata": {},
   "source": [
    "**V1.3 A plot depicting the number of collaborations of each hero in descending order (if the graph is type 1)**"
   ]
  },
  {
   "cell_type": "markdown",
   "id": "c8d1a69b",
   "metadata": {},
   "source": [
    "- Inside the 'collaborations' function we have given as input N = 3, so the graph is displayed only for the first top 3 heroes. This choice is due to the fact that an N > 3 made the heroes' names all stick together (in the x-axis of the graph), so in terms of display it was not the best choice."
   ]
  },
  {
   "cell_type": "code",
   "execution_count": 195,
   "id": "41c3afeb",
   "metadata": {},
   "outputs": [
    {
     "data": {
      "image/png": "[encoded data removed]",
      "text/plain": [
       "<Figure size 576x396 with 1 Axes>"
      ]
     },
     "metadata": {},
     "output_type": "display_data"
    }
   ],
   "source": [
    "# We create a list of tuples, where inside each tuple is the name of the hero and the number of collaborations it has made.\n",
    "plot_sort_hero = sorted(collaborations(G1,1,3).items(), key=lambda x: x[1], reverse = True)\n",
    "\n",
    "height = [t[1] for t in plot_sort_hero]\n",
    "bars = [t[0] for t in plot_sort_hero]\n",
    "y_pos = np.arange(len(bars))\n",
    "\n",
    "plt.bar(y_pos, height)\n",
    "plt.xticks(y_pos, bars)\n",
    "plt.show()"
   ]
  },
  {
   "cell_type": "markdown",
   "id": "cac9de5d",
   "metadata": {},
   "source": [
    "**V1.4 A plot depicting the number of heroes who appeared in each comic, sorted in descending order (if the graph is type 2)**"
   ]
  },
  {
   "cell_type": "markdown",
   "id": "19579c64",
   "metadata": {},
   "source": [
    "- Same reason of above, inside the 'heros_per_comic' function we have given as input N = 9, so the graph is displayed only for the first top 9 comics (top in terms of number of heroes appeared). This choice is due to the fact that an N > 9 made the comics' names all stick together (in the x-axis of the graph), so in terms of display it was not the best choice."
   ]
  },
  {
   "cell_type": "code",
   "execution_count": 203,
   "id": "fabcc0fa",
   "metadata": {},
   "outputs": [
    {
     "data": {
      "image/png": "[encoded data removed]",
      "text/plain": [
       "<Figure size 576x396 with 1 Axes>"
      ]
     },
     "metadata": {},
     "output_type": "display_data"
    }
   ],
   "source": [
    "# We create a list of tuples, where inside each tuple is the name of the comic and the number of heroes appeared in that comic.\n",
    "plot_sort_comic = sorted(heros_per_comic(G2, 2, 9).items(), key=lambda x: x[1], reverse = True)\n",
    "\n",
    "height = [t[1] for t in plot_sort_comic]\n",
    "bars = [t[0] for t in plot_sort_comic]\n",
    "y_pos = np.arange(len(bars))\n",
    "\n",
    "plt.bar(y_pos, height)\n",
    "plt.xticks(y_pos, bars)\n",
    "plt.show()"
   ]
  },
  {
   "cell_type": "markdown",
   "id": "aa202b0b",
   "metadata": {},
   "source": [
    "**V1.5 A plot depicting the degree distribution of the network**"
   ]
  },
  {
   "cell_type": "markdown",
   "id": "e4990ec0",
   "metadata": {},
   "source": [
    "- We decided to make two graphs that visualize the degree distribution for each graph:\n",
    "  - Histogram\n",
    "  - Scatter plot"
   ]
  },
  {
   "cell_type": "code",
   "execution_count": 271,
   "id": "59fda732",
   "metadata": {},
   "outputs": [],
   "source": [
    "def histogram(graph):\n",
    "    # Let's recall the distribution function and save it inside plot_v5_G1\n",
    "    plot_v5 = distribution(graph)\n",
    "\n",
    "    # Extract the dictionary keys and values into two separate lists\n",
    "    keys = list(plot_v5.keys())\n",
    "    values = list(plot_v5.values())\n",
    "\n",
    "    # We decided to create the histogram choosing 40 bins\n",
    "    plt.hist(values, bins=40, align='left')\n",
    "    plt.show()"
   ]
  },
  {
   "cell_type": "code",
   "execution_count": 272,
   "id": "4eed92df",
   "metadata": {},
   "outputs": [],
   "source": [
    "def scatter_plot(graph):\n",
    "    plot_v5 = distribution(graph)\n",
    "    \n",
    "    # Extract the dictionary keys and values into two separate lists\n",
    "    keys = list(plot_v5.keys())\n",
    "    values = list(plot_v5.values())\n",
    "\n",
    "    plt.scatter(keys, values)\n",
    "    plt.show()"
   ]
  },
  {
   "cell_type": "markdown",
   "id": "c304e43c",
   "metadata": {},
   "source": [
    "- Let's visualize the histogram for the first graph (G1)"
   ]
  },
  {
   "cell_type": "code",
   "execution_count": 273,
   "id": "dc63cb9c",
   "metadata": {},
   "outputs": [
    {
     "data": {
      "image/png": "[encoded data removed]",
      "text/plain": [
       "<Figure size 576x396 with 1 Axes>"
      ]
     },
     "metadata": {},
     "output_type": "display_data"
    }
   ],
   "source": [
    "histogram(G1)"
   ]
  },
  {
   "cell_type": "markdown",
   "id": "26cd2c07",
   "metadata": {},
   "source": [
    "- Let's visualize the scatter plot for the first graph (G1)"
   ]
  },
  {
   "cell_type": "code",
   "execution_count": 277,
   "id": "f49546bd",
   "metadata": {},
   "outputs": [
    {
     "data": {
      "image/png": "[encoded data removed]",
      "text/plain": [
       "<Figure size 576x396 with 1 Axes>"
      ]
     },
     "metadata": {},
     "output_type": "display_data"
    }
   ],
   "source": [
    "scatter_plot(G1)"
   ]
  },
  {
   "cell_type": "markdown",
   "id": "d0e274a1",
   "metadata": {},
   "source": [
    "- Let's visualize the histogram for the second graph (G2)"
   ]
  },
  {
   "cell_type": "code",
   "execution_count": 279,
   "id": "c61719e0",
   "metadata": {
    "scrolled": true
   },
   "outputs": [
    {
     "data": {
      "image/png": "[encoded data removed]",
      "text/plain": [
       "<Figure size 576x396 with 1 Axes>"
      ]
     },
     "metadata": {},
     "output_type": "display_data"
    }
   ],
   "source": [
    "histogram(G2)"
   ]
  },
  {
   "cell_type": "markdown",
   "id": "c55d6c2b",
   "metadata": {},
   "source": [
    "- Let's visualize the scatter plot for the second graph (G2)"
   ]
  },
  {
   "cell_type": "code",
   "execution_count": 280,
   "id": "defff4e6",
   "metadata": {},
   "outputs": [
    {
     "data": {
      "image/png": "[encoded data removed]",
      "text/plain": [
       "<Figure size 576x396 with 1 Axes>"
      ]
     },
     "metadata": {},
     "output_type": "display_data"
    }
   ],
   "source": [
    "scatter_plot(G2)"
   ]
  },
  {
   "cell_type": "markdown",
   "id": "cc28ca8c",
   "metadata": {},
   "source": [
    "## Visualization 2 - Visualize centrality measures"
   ]
  },
  {
   "cell_type": "code",
   "execution_count": null,
   "id": "9729beb8",
   "metadata": {},
   "outputs": [],
   "source": [
    "df_vis2 = pd.DataFrame() # We create a new dataframe with all of our needed values."
   ]
  },
  {
   "cell_type": "code",
   "execution_count": null,
   "id": "98e3ac19",
   "metadata": {},
   "outputs": [],
   "source": [
    "names_centralities = ['Betweenness', 'PageRank', 'Closeness', 'DegreeCentrality']\n",
    "avg_centralities = [avg_centrality_bet, avg_centrality_pr, avg_centrality_cl, avg_centrality_deg]\n",
    "centralities_node = [centrality_node_bet, centrality_node_pr, centrality_node_cl, centrality_node_deg]"
   ]
  },
  {
   "cell_type": "code",
   "execution_count": null,
   "id": "f0a0da74",
   "metadata": {},
   "outputs": [],
   "source": [
    "df_vis2['Centrality'] = names_centralities"
   ]
  },
  {
   "cell_type": "code",
   "execution_count": null,
   "id": "9a0d4908",
   "metadata": {},
   "outputs": [],
   "source": [
    "df_vis2['Avg Centrality'] = avg_centralities"
   ]
  },
  {
   "cell_type": "code",
   "execution_count": null,
   "id": "46021c86",
   "metadata": {},
   "outputs": [],
   "source": [
    "df_vis2['Nodes centrality'] = centralities_node"
   ]
  },
  {
   "cell_type": "code",
   "execution_count": null,
   "id": "e5697ffc",
   "metadata": {},
   "outputs": [],
   "source": [
    "df_vis2"
   ]
  },
  {
   "cell_type": "markdown",
   "id": "4137246f",
   "metadata": {},
   "source": [
    "Since we used the node 'CAPTAIN AMERICA' which is one of the top 5 superheros in the Marvel universe, we can understand why our closeness value is higher than the rest of our measures, since it represents the average length of the shortest path between the node and all the other nodes in the graph. But if we look at the rest of the centrality measures used, we understand that all of them have a way lower value regarding the average centrality. This probably means that there are way less 'central' nodes (which makes sense because there are more 'comic' nodes than 'hero' nodes, and they have a lower centrality value). We notice that the betweeness centrality value for this given node is also a high number, since it quantifies the number of times the node acts as a bridge along the shortest path between two other nodes, and it makes sense because we used the node 'CAPTAIN AMERICA', which appears in a lot of comics. The pagerank value, though, is lower: it means that every node is pretty important so it takes the value down by a bunch.\n",
    "\n",
    "We understand that this analysis we did will change if we choose a 'comic' node, instead of a 'hero' node."
   ]
  },
  {
   "cell_type": "markdown",
   "id": "306af51e",
   "metadata": {},
   "source": [
    "## Visualization 3 - Visualize the shortest-ordered route"
   ]
  },
  {
   "cell_type": "code",
   "execution_count": null,
   "id": "fec6a6b1",
   "metadata": {},
   "outputs": [],
   "source": []
  },
  {
   "cell_type": "code",
   "execution_count": null,
   "id": "dc865daf",
   "metadata": {},
   "outputs": [],
   "source": []
  },
  {
   "cell_type": "code",
   "execution_count": null,
   "id": "884bdd7c",
   "metadata": {},
   "outputs": [],
   "source": []
  },
  {
   "cell_type": "code",
   "execution_count": null,
   "id": "3a01f7a9",
   "metadata": {},
   "outputs": [],
   "source": []
  },
  {
   "cell_type": "code",
   "execution_count": null,
   "id": "caac429e",
   "metadata": {},
   "outputs": [],
   "source": []
  },
  {
   "cell_type": "code",
   "execution_count": null,
   "id": "1c8a879d",
   "metadata": {},
   "outputs": [],
   "source": []
  },
  {
   "cell_type": "code",
   "execution_count": null,
   "id": "b4094dba",
   "metadata": {},
   "outputs": [],
   "source": []
  },
  {
   "cell_type": "code",
   "execution_count": null,
   "id": "a9ac1708",
   "metadata": {},
   "outputs": [],
   "source": []
  },
  {
   "cell_type": "code",
   "execution_count": null,
   "id": "206fd98b",
   "metadata": {},
   "outputs": [],
   "source": []
  },
  {
   "cell_type": "code",
   "execution_count": null,
   "id": "ebb9e985",
   "metadata": {},
   "outputs": [],
   "source": []
  },
  {
   "cell_type": "markdown",
   "id": "e44876e9",
   "metadata": {},
   "source": [
    "## Visualization 4 - Visualize the disconnected graph"
   ]
  },
  {
   "cell_type": "markdown",
   "id": "19cd4153",
   "metadata": {},
   "source": [
    "**First request**"
   ]
  },
  {
   "cell_type": "code",
   "execution_count": null,
   "id": "16b9444d",
   "metadata": {},
   "outputs": [],
   "source": [
    "# Example\n",
    "disconnectGraph(G_fun4, 'CAPTAIN AMERICA', 'SPIDER-MAN/PETER PARKER', 1000)"
   ]
  },
  {
   "cell_type": "markdown",
   "id": "9510c43a",
   "metadata": {},
   "source": [
    "**Second request: before disconnecting graph**"
   ]
  },
  {
   "cell_type": "code",
   "execution_count": null,
   "id": "83078990",
   "metadata": {},
   "outputs": [],
   "source": [
    "# Takes a while to run\n",
    "plt.plot()\n",
    "nx.draw(G_fun4)\n",
    "plt.show()"
   ]
  },
  {
   "cell_type": "markdown",
   "id": "2a8c133f",
   "metadata": {},
   "source": [
    "**Third request: after disconnecting graph**"
   ]
  },
  {
   "cell_type": "markdown",
   "id": "be7dadb7",
   "metadata": {},
   "source": [
    "To disconnect the graph, we need to remove the edge (for one of the two nodes) that connects the nodes to a common node (which is a 'comic' node). This way we create two subgraphs for the two heros."
   ]
  },
  {
   "cell_type": "code",
   "execution_count": null,
   "id": "cf51832f",
   "metadata": {},
   "outputs": [],
   "source": [
    "## SBAGLIATO... DEVO CAMBIARLO! \n",
    "\n",
    "def disconnectGraphPlot(G, heroA, heroB, N=ln_N):\n",
    "    \"\"\"\n",
    "    INPUT:\n",
    "    'G' is the graph data\n",
    "    'heroA' is the superhero to which will relate sub-graph G_a\n",
    "    'heroB' is the superhero to which will relate sub-graph G_b\n",
    "    'N' is the number of top heros that we consider for our calculations\n",
    "    \n",
    "    OUTPUT:\n",
    "    The graph divided into the two subgraphs\n",
    "    \"\"\"\n",
    "    \n",
    "    G_top_N = topNsuperherosGraph(G, N)\n",
    "    \n",
    "    if heroA in G_top_N.nodes() and heroB in G_top_N.nodes():\n",
    "        edges_A = list(G_top_N.edges(heroA))\n",
    "        edges_B = list(G_top_N.edges(heroB))\n",
    "        for i in edges_A:\n",
    "            for j in edges_B:\n",
    "                if i[1] == j[1]:\n",
    "                    G_top_N.remove_edge(i[0], i[1])\n",
    "                \n",
    "    return G_top_N"
   ]
  },
  {
   "cell_type": "markdown",
   "id": "36ddfe64",
   "metadata": {},
   "source": [
    "## Visualization 5 - Visualize the communities"
   ]
  },
  {
   "cell_type": "markdown",
   "id": "aade3555",
   "metadata": {},
   "source": [
    "For the visualization we have decided to take the graph 1 (quello che ha come nodi solo gli eroi) containing only the top 20 heroes, in order to have a better visualization. So, in the following cell we call 'G_visualization' a graph containing only the first top 20 heroes."
   ]
  },
  {
   "cell_type": "code",
   "execution_count": 189,
   "id": "ea86f1f1",
   "metadata": {},
   "outputs": [],
   "source": [
    "G_visualization = topNsuperherosGraph(G1, 20)"
   ]
  },
  {
   "cell_type": "code",
   "execution_count": 191,
   "id": "f641aedf",
   "metadata": {},
   "outputs": [
    {
     "name": "stdout",
     "output_type": "stream",
     "text": [
      "ANGEL/WARREN KENNETH\n",
      "CAPTAIN AMERICA\n",
      "CYCLOPS/SCOTT SUMMER\n",
      "HAWK\n",
      "SHE-HULK/JENNIFER WA\n",
      "THING/BENJAMIN J. GR\n",
      "IRON MAN/TONY STARK \n",
      "THOR/DR. DONALD BLAK\n",
      "COLOSSUS II/PETER RA\n",
      "BEAST/HENRY &HANK& P\n",
      "MR. FANTASTIC/REED R\n",
      "ANT-MAN/DR. HENRY J.\n",
      "HULK/DR. ROBERT BRUC\n",
      "STORM/ORORO MUNROE S\n",
      "WONDER MAN/SIMON WIL\n",
      "HUMAN TORCH/JOHNNY S\n",
      "SPIDER-MAN/PETER PAR\n",
      "MARVEL GIRL/JEAN GRE\n",
      "IRON MAN/TONY STARK\n",
      "WOLVERINE/LOGAN\n"
     ]
    }
   ],
   "source": [
    "for i in G_visualization.nodes():\n",
    "    print(i)"
   ]
  },
  {
   "cell_type": "markdown",
   "id": "e5c17e25",
   "metadata": {},
   "source": [
    "**Print the number of links that should be removed to have the communities**"
   ]
  },
  {
   "cell_type": "code",
   "execution_count": 186,
   "id": "5b6423cc",
   "metadata": {},
   "outputs": [
    {
     "data": {
      "text/plain": [
       "17"
      ]
     },
     "execution_count": 186,
     "metadata": {},
     "output_type": "execute_result"
    }
   ],
   "source": [
    "girvan_newman(G_visualization)"
   ]
  },
  {
   "cell_type": "markdown",
   "id": "f2d76149",
   "metadata": {},
   "source": [
    "**A table depicting the communities and the heroes that belong to each community**"
   ]
  },
  {
   "cell_type": "code",
   "execution_count": null,
   "id": "14bb4a47",
   "metadata": {},
   "outputs": [],
   "source": []
  },
  {
   "cell_type": "markdown",
   "id": "e9051aba",
   "metadata": {},
   "source": [
    "**Plot the original graph**"
   ]
  },
  {
   "cell_type": "code",
   "execution_count": 155,
   "id": "609aedcc",
   "metadata": {},
   "outputs": [
    {
     "data": {
      "image/png": "[encoded data removed]",
      "text/plain": [
       "<Figure size 432x288 with 1 Axes>"
      ]
     },
     "metadata": {},
     "output_type": "display_data"
    }
   ],
   "source": [
    "nx.draw(G_visualization, with_labels=True)\n",
    "plt.show()"
   ]
  },
  {
   "cell_type": "markdown",
   "id": "22c33c6e",
   "metadata": {},
   "source": [
    "**Plot the graph showing the communities in the network**"
   ]
  },
  {
   "cell_type": "code",
   "execution_count": 187,
   "id": "d7446296",
   "metadata": {},
   "outputs": [
    {
     "data": {
      "image/png": "[encoded data removed]",
      "text/plain": [
       "<Figure size 432x288 with 1 Axes>"
      ]
     },
     "metadata": {},
     "output_type": "display_data"
    }
   ],
   "source": [
    "lista_ = list_communities(G_visualization)\n",
    "color_map = []\n",
    "for nodo in G_visualization:\n",
    "    if nodo in lista_[0]:\n",
    "        color_map.append('blu')\n",
    "    else: \n",
    "        color_map.append('green')  \n",
    "\n",
    "nx.draw(G_visualization, with_labels=True)\n",
    "plt.show()"
   ]
  },
  {
   "cell_type": "markdown",
   "id": "d2ad35c7",
   "metadata": {},
   "source": [
    "**Plot the final graph and identify the community/communities of Hero_1 and Hero_2**"
   ]
  },
  {
   "cell_type": "code",
   "execution_count": 192,
   "id": "4966a953",
   "metadata": {},
   "outputs": [],
   "source": [
    "hero_1 = 'CAPTAIN AMERICA'\n",
    "hero_2 = 'IRON MAN/TONY STARK'"
   ]
  },
  {
   "cell_type": "code",
   "execution_count": null,
   "id": "6c5c0884",
   "metadata": {},
   "outputs": [],
   "source": []
  },
  {
   "cell_type": "code",
   "execution_count": null,
   "id": "9891b74f",
   "metadata": {},
   "outputs": [],
   "source": []
  },
  {
   "cell_type": "code",
   "execution_count": null,
   "id": "ceee0fca",
   "metadata": {},
   "outputs": [],
   "source": []
  },
  {
   "cell_type": "code",
   "execution_count": 188,
   "id": "cf2a3e70",
   "metadata": {},
   "outputs": [
    {
     "data": {
      "image/png": "[encoded data removed]",
      "text/plain": [
       "<Figure size 432x288 with 1 Axes>"
      ]
     },
     "metadata": {},
     "output_type": "display_data"
    }
   ],
   "source": [
    "\n",
    "community_1 = lista_[0]\n",
    "community_2 = lista_[1]\n",
    "pos = nx.spring_layout(G_visualization)\n",
    "nx.draw_networkx_nodes(G_visualization, pos, nodelist=community_1, node_color='r')\n",
    "nx.draw_networkx_nodes(G_visualization, pos, nodelist=community_2, node_color='b')\n",
    "nx.draw_networkx_edges(G_visualization, pos)\n",
    "\n",
    "plt.show()"
   ]
  },
  {
   "cell_type": "code",
   "execution_count": null,
   "id": "d92acf86",
   "metadata": {},
   "outputs": [],
   "source": []
  },
  {
   "cell_type": "code",
   "execution_count": null,
   "id": "2d79a86b",
   "metadata": {},
   "outputs": [],
   "source": []
  },
  {
   "cell_type": "code",
   "execution_count": null,
   "id": "d3ed4e4b",
   "metadata": {},
   "outputs": [],
   "source": []
  },
  {
   "cell_type": "code",
   "execution_count": null,
   "id": "4f3c6d36",
   "metadata": {},
   "outputs": [],
   "source": []
  },
  {
   "cell_type": "code",
   "execution_count": null,
   "id": "286968f6",
   "metadata": {},
   "outputs": [],
   "source": []
  },
  {
   "cell_type": "code",
   "execution_count": null,
   "id": "66746512",
   "metadata": {},
   "outputs": [],
   "source": []
  },
  {
   "cell_type": "markdown",
   "id": "c1159f2e",
   "metadata": {},
   "source": [
    "# QUESTION 6: ALGORITHMIC QUESTION"
   ]
  },
  {
   "cell_type": "code",
   "execution_count": 77,
   "id": "4a28269c",
   "metadata": {},
   "outputs": [],
   "source": [
    "def password(directions):\n",
    "    # This first part will be helpful for len(directions) equal to 5 and 6.\n",
    "    # If the number of UNIQUE directions, for each type of direction, exceeds 2 then it's not possible because\n",
    "    # that wouldn't fit in the 3x3 grid.\n",
    "    count_D = 0\n",
    "    count_L = 0\n",
    "    count_R = 0\n",
    "    count_U = 0\n",
    "    for i in directions:\n",
    "        if i == 'D':\n",
    "            count_D += 1\n",
    "        elif i == 'L':\n",
    "            count_L += 1\n",
    "        elif i == 'R':\n",
    "            count_R += 1\n",
    "        elif i == 'U':\n",
    "            count_U += 1\n",
    "    # We notice that for the len(directions) > 6 the solution would always be 0, because it's impossible\n",
    "    # to find a password that has 7 different unique directions without them ever intersecting. So we study every possible\n",
    "    # length from 1 to 6.\n",
    "    if len(directions) == 1 or len(directions) == 2:\n",
    "        return 9\n",
    "    elif len(directions) == 3:\n",
    "        return 15\n",
    "    elif len(directions) == 4:\n",
    "        if directions[0] == directions[2] and directions[1] == directions[3]:\n",
    "            return 1\n",
    "        # Examples: 'DRDR', 'LULU', 'DLDL'.\n",
    "        # These have only one option (each 'step' has the length of 1 segment)\n",
    "        # because the grid wouldn't fit more than 2 segments.\n",
    "        else:\n",
    "            return 5\n",
    "        # Examples: 'DRDL', 'URDR', 'DLUL', 'RULD', 'DLUR', 'LDRU'\n",
    "    elif len(directions) == 5:\n",
    "        if count_D > 2 or count_L > 2 or count_R > 2 or count_U > 2:\n",
    "            return 0\n",
    "        if directions == directions[::-1]:\n",
    "            return 8\n",
    "        # Examples: 'DRURD', 'LDRDL', 'RULUR'\n",
    "        # For this option we have 8 different options: this is because if the string is equal to its reverse then it creates\n",
    "        # a sort of 'S'. So we have 8 different options, counting if we decide to start from the top (for examples) or\n",
    "        # from the middle.\n",
    "        else:\n",
    "            if directions[0] == directions[-1]:\n",
    "                return 4\n",
    "            # Examples: 'DLURD', 'LDRUL', 'ULDRU'\n",
    "            # These directions have 4 possibilities without the line intersecting.\n",
    "            else:\n",
    "                return 2\n",
    "            # Examples: 'DLDRU', 'LDRUR', 'RDRUL'.\n",
    "            # Two different options for these directions. Mostly because we can only have either 1 or 2 directions of\n",
    "            # length = 2 segments, because then the 'busy' points, so the points where a segment has already passed through\n",
    "            # would be 8 (and 9, in these cases, is impossible).\n",
    "    elif len(directions) == 6:\n",
    "        if count_D > 2 or count_L > 2 or count_R > 2 or count_U > 2:\n",
    "            return 0\n",
    "        else:\n",
    "            if directions[0] != directions[4] and directions[1] == directions[5]:\n",
    "                return 2\n",
    "            # Example: 'DRULUR' = first D can either be 1 segment long or 2 segments long.\n",
    "            elif directions[0] != directions[4] and directions[1] != directions[5] and directions[0:1] == directions[2:3]:\n",
    "                return 1\n",
    "            elif directions[0] == directions[4] and directions[1] != directions[5]:\n",
    "                return 1\n",
    "            elif directions[0] != directions[4] and directions[1] != directions[5] and directions[0:1] != directions[2:3]:\n",
    "                return 3\n",
    "            # Examples: 'DRDRUL' = 1 option, 'RDLDLU' = 3 options, 'DRULUR' = 2 options.\n",
    "            elif directions[0] == directions[4] and directions[1] == directions[5]:\n",
    "                return 0\n",
    "    elif len(directions) > 6:\n",
    "        return 0"
   ]
  },
  {
   "cell_type": "markdown",
   "id": "71b53383",
   "metadata": {},
   "source": [
    "**Let's do some examples..**"
   ]
  },
  {
   "cell_type": "code",
   "execution_count": 78,
   "id": "5b3ab2ae",
   "metadata": {},
   "outputs": [
    {
     "data": {
      "text/plain": [
       "5"
      ]
     },
     "execution_count": 78,
     "metadata": {},
     "output_type": "execute_result"
    }
   ],
   "source": [
    "directions = 'DRDL'\n",
    "password(directions)"
   ]
  },
  {
   "cell_type": "code",
   "execution_count": 79,
   "id": "297fe3a2",
   "metadata": {},
   "outputs": [
    {
     "data": {
      "text/plain": [
       "8"
      ]
     },
     "execution_count": 79,
     "metadata": {},
     "output_type": "execute_result"
    }
   ],
   "source": [
    "directions = 'DRURD'\n",
    "password(directions)"
   ]
  },
  {
   "cell_type": "code",
   "execution_count": 80,
   "id": "00dd5b5b",
   "metadata": {},
   "outputs": [
    {
     "data": {
      "text/plain": [
       "15"
      ]
     },
     "execution_count": 80,
     "metadata": {},
     "output_type": "execute_result"
    }
   ],
   "source": [
    "directions = 'DRU'\n",
    "password(directions)"
   ]
  },
  {
   "cell_type": "code",
   "execution_count": 81,
   "id": "f8c29e96",
   "metadata": {},
   "outputs": [
    {
     "data": {
      "text/plain": [
       "0"
      ]
     },
     "execution_count": 81,
     "metadata": {},
     "output_type": "execute_result"
    }
   ],
   "source": [
    "directions = 'DRULDR'\n",
    "password(directions)"
   ]
  }
 ],
 "metadata": {
  "kernelspec": {
   "display_name": "Python 3 (ipykernel)",
   "language": "python",
   "name": "python3"
  },
  "language_info": {
   "codemirror_mode": {
    "name": "ipython",
    "version": 3
   },
   "file_extension": ".py",
   "mimetype": "text/x-python",
   "name": "python",
   "nbconvert_exporter": "python",
   "pygments_lexer": "ipython3",
   "version": "3.9.12"
  }
 },
 "nbformat": 4,
 "nbformat_minor": 5
}
