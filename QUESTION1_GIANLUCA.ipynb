{
 "cells": [
  {
   "cell_type": "markdown",
   "id": "8002599b",
   "metadata": {},
   "source": [
    "**ORE SPESE SU QUESTO HOMEWORK**\\\n",
    "- 2 ora e mezza il 14-12\n",
    "- 1 ora il 15-12\n",
    "- 1 ora e mezza il 16-12\n",
    "- 2 ore il 20-12"
   ]
  },
  {
   "cell_type": "code",
   "execution_count": 21,
   "id": "70436a62",
   "metadata": {},
   "outputs": [],
   "source": [
    "import pandas as pd\n",
    "from datetime import datetime\n",
    "import numpy as np\n",
    "import seaborn as sns\n",
    "import matplotlib.pyplot as plt\n",
    "from sklearn import preprocessing\n",
    "from sklearn.decomposition import PCA\n",
    "from matplotlib.pyplot import figure\n",
    "from scipy.spatial.distance import cdist\n",
    "from random import randint\n",
    "from sklearn.cluster import KMeans\n",
    "from yellowbrick.cluster import KElbowVisualizer\n",
    "from collections import defaultdict\n",
    "from operator import itemgetter\n",
    "from yellowbrick.cluster import SilhouetteVisualizer\n",
    "from sklearn.metrics import calinski_harabasz_score\n",
    "from sklearn.metrics import silhouette_score\n",
    "from sklearn.metrics import davies_bouldin_score\n",
    "from sklearn.cluster import MiniBatchKMeans\n",
    "from sklearn_extra.robust import RobustWeightedKMeans"
   ]
  },
  {
   "cell_type": "code",
   "execution_count": 128,
   "id": "894e72ef",
   "metadata": {},
   "outputs": [],
   "source": [
    "import pandas as pd\n",
    "import numpy as np\n",
    "import networkx as nx\n",
    "import matplotlib.pyplot as plt\n",
    "from collections import defaultdict\n",
    "from collections import OrderedDict\n",
    "from itertools import islice\n",
    "import warnings"
   ]
  },
  {
   "cell_type": "markdown",
   "id": "b357eaa5",
   "metadata": {},
   "source": [
    "### Let's import the datasets\n",
    "**HERO-NETWORK:**\\\n",
    "It contains the network of heroes who have appeared together in the comics."
   ]
  },
  {
   "cell_type": "code",
   "execution_count": 23,
   "id": "d0341305",
   "metadata": {},
   "outputs": [],
   "source": [
    "dfheros = pd.read_csv(r'C:\\Users\\gianl\\Documents\\Università_4°anno(2022-2023\\ADM\\HOMEWORK\\HOMEWORK 5\\hero-network.csv')"
   ]
  },
  {
   "cell_type": "code",
   "execution_count": 24,
   "id": "6cb6ceb5",
   "metadata": {},
   "outputs": [
    {
     "data": {
      "text/html": [
       "<div>\n",
       "<style scoped>\n",
       "    .dataframe tbody tr th:only-of-type {\n",
       "        vertical-align: middle;\n",
       "    }\n",
       "\n",
       "    .dataframe tbody tr th {\n",
       "        vertical-align: top;\n",
       "    }\n",
       "\n",
       "    .dataframe thead th {\n",
       "        text-align: right;\n",
       "    }\n",
       "</style>\n",
       "<table border=\"1\" class=\"dataframe\">\n",
       "  <thead>\n",
       "    <tr style=\"text-align: right;\">\n",
       "      <th></th>\n",
       "      <th>hero1</th>\n",
       "      <th>hero2</th>\n",
       "    </tr>\n",
       "  </thead>\n",
       "  <tbody>\n",
       "    <tr>\n",
       "      <th>0</th>\n",
       "      <td>LITTLE, ABNER</td>\n",
       "      <td>PRINCESS ZANDA</td>\n",
       "    </tr>\n",
       "    <tr>\n",
       "      <th>1</th>\n",
       "      <td>LITTLE, ABNER</td>\n",
       "      <td>BLACK PANTHER/T'CHAL</td>\n",
       "    </tr>\n",
       "    <tr>\n",
       "      <th>2</th>\n",
       "      <td>BLACK PANTHER/T'CHAL</td>\n",
       "      <td>PRINCESS ZANDA</td>\n",
       "    </tr>\n",
       "    <tr>\n",
       "      <th>3</th>\n",
       "      <td>LITTLE, ABNER</td>\n",
       "      <td>PRINCESS ZANDA</td>\n",
       "    </tr>\n",
       "    <tr>\n",
       "      <th>4</th>\n",
       "      <td>LITTLE, ABNER</td>\n",
       "      <td>BLACK PANTHER/T'CHAL</td>\n",
       "    </tr>\n",
       "  </tbody>\n",
       "</table>\n",
       "</div>"
      ],
      "text/plain": [
       "                  hero1                 hero2\n",
       "0         LITTLE, ABNER        PRINCESS ZANDA\n",
       "1         LITTLE, ABNER  BLACK PANTHER/T'CHAL\n",
       "2  BLACK PANTHER/T'CHAL        PRINCESS ZANDA\n",
       "3         LITTLE, ABNER        PRINCESS ZANDA\n",
       "4         LITTLE, ABNER  BLACK PANTHER/T'CHAL"
      ]
     },
     "execution_count": 24,
     "metadata": {},
     "output_type": "execute_result"
    }
   ],
   "source": [
    "dfheros.head(5)"
   ]
  },
  {
   "cell_type": "code",
   "execution_count": 25,
   "id": "28bbbf84",
   "metadata": {},
   "outputs": [
    {
     "data": {
      "text/plain": [
       "(574467, 2)"
      ]
     },
     "execution_count": 25,
     "metadata": {},
     "output_type": "execute_result"
    }
   ],
   "source": [
    "dfheros.shape"
   ]
  },
  {
   "cell_type": "markdown",
   "id": "1fe8f99b",
   "metadata": {},
   "source": [
    "**EDGES:**\\\n",
    "It contains two columns (hero, comic), indicating which comics the heroes appear in."
   ]
  },
  {
   "cell_type": "code",
   "execution_count": 26,
   "id": "a1b1ad43",
   "metadata": {},
   "outputs": [],
   "source": [
    "dfedges = pd.read_csv(r'C:\\Users\\gianl\\Documents\\Università_4°anno(2022-2023\\ADM\\HOMEWORK\\HOMEWORK 5\\edges.csv')"
   ]
  },
  {
   "cell_type": "code",
   "execution_count": 27,
   "id": "ec6a5ab4",
   "metadata": {},
   "outputs": [
    {
     "data": {
      "text/html": [
       "<div>\n",
       "<style scoped>\n",
       "    .dataframe tbody tr th:only-of-type {\n",
       "        vertical-align: middle;\n",
       "    }\n",
       "\n",
       "    .dataframe tbody tr th {\n",
       "        vertical-align: top;\n",
       "    }\n",
       "\n",
       "    .dataframe thead th {\n",
       "        text-align: right;\n",
       "    }\n",
       "</style>\n",
       "<table border=\"1\" class=\"dataframe\">\n",
       "  <thead>\n",
       "    <tr style=\"text-align: right;\">\n",
       "      <th></th>\n",
       "      <th>hero</th>\n",
       "      <th>comic</th>\n",
       "    </tr>\n",
       "  </thead>\n",
       "  <tbody>\n",
       "    <tr>\n",
       "      <th>0</th>\n",
       "      <td>24-HOUR MAN/EMMANUEL</td>\n",
       "      <td>AA2 35</td>\n",
       "    </tr>\n",
       "    <tr>\n",
       "      <th>1</th>\n",
       "      <td>3-D MAN/CHARLES CHAN</td>\n",
       "      <td>AVF 4</td>\n",
       "    </tr>\n",
       "    <tr>\n",
       "      <th>2</th>\n",
       "      <td>3-D MAN/CHARLES CHAN</td>\n",
       "      <td>AVF 5</td>\n",
       "    </tr>\n",
       "    <tr>\n",
       "      <th>3</th>\n",
       "      <td>3-D MAN/CHARLES CHAN</td>\n",
       "      <td>COC 1</td>\n",
       "    </tr>\n",
       "    <tr>\n",
       "      <th>4</th>\n",
       "      <td>3-D MAN/CHARLES CHAN</td>\n",
       "      <td>H2 251</td>\n",
       "    </tr>\n",
       "  </tbody>\n",
       "</table>\n",
       "</div>"
      ],
      "text/plain": [
       "                   hero   comic\n",
       "0  24-HOUR MAN/EMMANUEL  AA2 35\n",
       "1  3-D MAN/CHARLES CHAN   AVF 4\n",
       "2  3-D MAN/CHARLES CHAN   AVF 5\n",
       "3  3-D MAN/CHARLES CHAN   COC 1\n",
       "4  3-D MAN/CHARLES CHAN  H2 251"
      ]
     },
     "execution_count": 27,
     "metadata": {},
     "output_type": "execute_result"
    }
   ],
   "source": [
    "dfedges.head(5)"
   ]
  },
  {
   "cell_type": "code",
   "execution_count": 28,
   "id": "02eafc90",
   "metadata": {},
   "outputs": [
    {
     "data": {
      "text/plain": [
       "(96104, 2)"
      ]
     },
     "execution_count": 28,
     "metadata": {},
     "output_type": "execute_result"
    }
   ],
   "source": [
    "dfedges.shape"
   ]
  },
  {
   "cell_type": "markdown",
   "id": "35c43d95",
   "metadata": {},
   "source": [
    "**NODES:**\\\n",
    "It contains two columns (node, type), indicating the nodes' name and type (comic, hero)."
   ]
  },
  {
   "cell_type": "code",
   "execution_count": 29,
   "id": "d4cad954",
   "metadata": {},
   "outputs": [],
   "source": [
    "dfnodes = pd.read_csv(r'C:\\Users\\gianl\\Documents\\Università_4°anno(2022-2023\\ADM\\HOMEWORK\\HOMEWORK 5\\nodes.csv')"
   ]
  },
  {
   "cell_type": "code",
   "execution_count": 30,
   "id": "460959ed",
   "metadata": {},
   "outputs": [
    {
     "data": {
      "text/html": [
       "<div>\n",
       "<style scoped>\n",
       "    .dataframe tbody tr th:only-of-type {\n",
       "        vertical-align: middle;\n",
       "    }\n",
       "\n",
       "    .dataframe tbody tr th {\n",
       "        vertical-align: top;\n",
       "    }\n",
       "\n",
       "    .dataframe thead th {\n",
       "        text-align: right;\n",
       "    }\n",
       "</style>\n",
       "<table border=\"1\" class=\"dataframe\">\n",
       "  <thead>\n",
       "    <tr style=\"text-align: right;\">\n",
       "      <th></th>\n",
       "      <th>node</th>\n",
       "      <th>type</th>\n",
       "    </tr>\n",
       "  </thead>\n",
       "  <tbody>\n",
       "    <tr>\n",
       "      <th>0</th>\n",
       "      <td>2001 10</td>\n",
       "      <td>comic</td>\n",
       "    </tr>\n",
       "    <tr>\n",
       "      <th>1</th>\n",
       "      <td>2001 8</td>\n",
       "      <td>comic</td>\n",
       "    </tr>\n",
       "    <tr>\n",
       "      <th>2</th>\n",
       "      <td>2001 9</td>\n",
       "      <td>comic</td>\n",
       "    </tr>\n",
       "    <tr>\n",
       "      <th>3</th>\n",
       "      <td>24-HOUR MAN/EMMANUEL</td>\n",
       "      <td>hero</td>\n",
       "    </tr>\n",
       "    <tr>\n",
       "      <th>4</th>\n",
       "      <td>3-D MAN/CHARLES CHAN</td>\n",
       "      <td>hero</td>\n",
       "    </tr>\n",
       "  </tbody>\n",
       "</table>\n",
       "</div>"
      ],
      "text/plain": [
       "                   node   type\n",
       "0               2001 10  comic\n",
       "1                2001 8  comic\n",
       "2                2001 9  comic\n",
       "3  24-HOUR MAN/EMMANUEL   hero\n",
       "4  3-D MAN/CHARLES CHAN   hero"
      ]
     },
     "execution_count": 30,
     "metadata": {},
     "output_type": "execute_result"
    }
   ],
   "source": [
    "dfnodes.head(5)"
   ]
  },
  {
   "cell_type": "code",
   "execution_count": 31,
   "id": "40261dfe",
   "metadata": {},
   "outputs": [
    {
     "data": {
      "text/plain": [
       "(19090, 2)"
      ]
     },
     "execution_count": 31,
     "metadata": {},
     "output_type": "execute_result"
    }
   ],
   "source": [
    "dfnodes.shape"
   ]
  },
  {
   "cell_type": "markdown",
   "id": "bcc8b693",
   "metadata": {},
   "source": [
    "# QUESTION 1: DATA"
   ]
  },
  {
   "cell_type": "markdown",
   "id": "a2128cf7",
   "metadata": {},
   "source": [
    "## GRAPHS SETUP\n",
    "### 1)"
   ]
  },
  {
   "cell_type": "markdown",
   "id": "81a50a9a",
   "metadata": {},
   "source": [
    "An edge between two heroes can be found if they have appeared in the same comic together. The number of edges between two heroes represents the number of times they have collaborated in different comics. Let's find all edges"
   ]
  },
  {
   "cell_type": "code",
   "execution_count": 17,
   "id": "7d5841dc",
   "metadata": {},
   "outputs": [],
   "source": [
    "G_heros = nx.MultiGraph()"
   ]
  },
  {
   "cell_type": "code",
   "execution_count": 18,
   "id": "87a0e8c5",
   "metadata": {},
   "outputs": [],
   "source": [
    "primo = dfheros.apply(lambda row:G_heros.add_edge(row['hero1'], row['hero2']),axis=1)"
   ]
  },
  {
   "cell_type": "code",
   "execution_count": 38,
   "id": "2bec0f36",
   "metadata": {},
   "outputs": [
    {
     "name": "stderr",
     "output_type": "stream",
     "text": [
      "C:\\Users\\gianl\\AppData\\Local\\Temp\\ipykernel_19244\\1862108493.py:1: DeprecationWarning: info is deprecated and will be removed in version 3.0.\n",
      "\n",
      "  nx.info(G_heros)\n"
     ]
    },
    {
     "data": {
      "text/plain": [
       "'MultiGraph with 6426 nodes and 574467 edges'"
      ]
     },
     "execution_count": 38,
     "metadata": {},
     "output_type": "execute_result"
    }
   ],
   "source": [
    "nx.info(G_heros)"
   ]
  },
  {
   "cell_type": "code",
   "execution_count": 125,
   "id": "a5b8fdd5",
   "metadata": {},
   "outputs": [
    {
     "data": {
      "text/plain": [
       "6211"
      ]
     },
     "execution_count": 125,
     "metadata": {},
     "output_type": "execute_result"
    }
   ],
   "source": [
    "#I NODI SOPRA SONO 6426 PER DOVREBBERO ESSERE 6211 BO\n",
    "c = dfheros.hero1.value_counts()\n",
    "c.size"
   ]
  },
  {
   "cell_type": "code",
   "execution_count": 20,
   "id": "5999aab5",
   "metadata": {
    "collapsed": true
   },
   "outputs": [
    {
     "data": {
      "image/png": "[encoded data removed]",
      "text/plain": [
       "<Figure size 1296x1296 with 1 Axes>"
      ]
     },
     "metadata": {},
     "output_type": "display_data"
    }
   ],
   "source": [
    "fig = plt.figure(figsize=(18,18))\n",
    "nx.draw(G_heros, with_labels=True,node_size=300)\n",
    "plt.show()"
   ]
  },
  {
   "cell_type": "markdown",
   "id": "06ee2a74",
   "metadata": {},
   "source": [
    "# 1 fatta in altro modo (mi sa sbagliato)"
   ]
  },
  {
   "cell_type": "markdown",
   "id": "705df795",
   "metadata": {},
   "source": [
    "- Crea un dizionario vuoto chiamato graph che userai per memorizzare i nodi del grafo e i loro archi.\n",
    "- Itera attraverso le righe del tuo dataset.\n",
    "- Per ogni riga, estrai i valori delle due colonne. Se entrambi i valori sono presenti nella riga, aggiungi un arco tra i due nodi nel grafo. Se uno dei due valori non è presente nella riga, salta questo passaggio.\n",
    "- Se un arco tra i due nodi esiste già nel grafo, incrementa il peso dell'arco di 1. Altrimenti, aggiungi un nuovo arco al grafo con peso 1."
   ]
  },
  {
   "cell_type": "code",
   "execution_count": 15,
   "id": "5d7d67b9",
   "metadata": {},
   "outputs": [],
   "source": [
    "from collections import defaultdict\n",
    "\n",
    "def build_graph(df):\n",
    "    graph = defaultdict(list)\n",
    "    for _, row in df.iterrows():\n",
    "        hero1, hero2 = row['hero1'], row['hero2']\n",
    "        if hero1 and hero2:\n",
    "          # Aggiungi un arco tra i due nodi\n",
    "            graph[hero1].append(hero2)\n",
    "            graph[hero2].append(hero1)\n",
    "    return graph"
   ]
  },
  {
   "cell_type": "code",
   "execution_count": 64,
   "id": "dd7432f1",
   "metadata": {
    "collapsed": true
   },
   "outputs": [
    {
     "name": "stdout",
     "output_type": "stream",
     "text": [
      "Collecting scipy==1.8.1\n",
      "  Downloading scipy-1.8.1-cp39-cp39-win_amd64.whl (36.9 MB)\n",
      "Requirement already satisfied: numpy<1.25.0,>=1.17.3 in c:\\users\\gianl\\anaconda3\\lib\\site-packages (from scipy==1.8.1) (1.21.5)\n",
      "Installing collected packages: scipy\n",
      "  Attempting uninstall: scipy\n",
      "    Found existing installation: scipy 1.7.3\n",
      "    Uninstalling scipy-1.7.3:\n",
      "      Successfully uninstalled scipy-1.7.3\n",
      "Successfully installed scipy-1.8.1\n",
      "Note: you may need to restart the kernel to use updated packages.\n"
     ]
    }
   ],
   "source": [
    "#pip install scipy==1.8.1"
   ]
  },
  {
   "cell_type": "code",
   "execution_count": 53,
   "id": "9068fe55",
   "metadata": {
    "collapsed": true
   },
   "outputs": [
    {
     "name": "stderr",
     "output_type": "stream",
     "text": [
      "C:\\Users\\gianl\\AppData\\Local\\Temp\\ipykernel_19244\\968434106.py:1: DeprecationWarning: info is deprecated and will be removed in version 3.0.\n",
      "\n",
      "  nx.info(G1)\n"
     ]
    },
    {
     "data": {
      "text/plain": [
       "'Graph with 6426 nodes and 167219 edges'"
      ]
     },
     "execution_count": 53,
     "metadata": {},
     "output_type": "execute_result"
    }
   ],
   "source": [
    "nx.info(G1)"
   ]
  },
  {
   "cell_type": "code",
   "execution_count": 16,
   "id": "37650da7",
   "metadata": {
    "collapsed": true
   },
   "outputs": [
    {
     "data": {
      "image/png": "[encoded data removed]",
      "text/plain": [
       "<Figure size 576x396 with 1 Axes>"
      ]
     },
     "metadata": {},
     "output_type": "display_data"
    }
   ],
   "source": [
    "import networkx as nx\n",
    "import matplotlib.pyplot as plt\n",
    "\n",
    "# Costruisci il grafo utilizzando il metodo che hai scelto\n",
    "graph = build_graph(dfheros)\n",
    "\n",
    "# Crea un oggetto grafo di networkx dal grafo che hai costruito\n",
    "G1 = nx.Graph()\n",
    "\n",
    "# Aggiungi i nodi e gli archi al grafo di networkx\n",
    "for node, edges in graph.items():\n",
    "    G1.add_node(node)\n",
    "    for edge in edges:\n",
    "        G1.add_edge(node, edge)\n",
    "\n",
    "# Disegna il grafo utilizzando la funzione nx.draw()\n",
    "nx.draw(G1, with_labels=True)\n",
    "\n",
    "# Mostra il grafo\n",
    "plt.show()"
   ]
  },
  {
   "cell_type": "code",
   "execution_count": null,
   "id": "0a890920",
   "metadata": {},
   "outputs": [],
   "source": [
    "import csv\n",
    "import networkx as nx\n",
    "\n",
    "# create an empty graph\n",
    "G = nx.Graph()\n",
    "\n",
    "# open the csv file and read the data\n",
    "with open('hero-network.csv', 'r') as f:\n",
    "  reader = csv.reader(f)\n",
    "  \n",
    "  # add each edge to the graph\n",
    "  for row in reader:\n",
    "    hero1, hero2, weight = row[0], row[1], int(row[2])\n",
    "    G.add_edge(hero1, hero2, weight=weight)"
   ]
  },
  {
   "cell_type": "markdown",
   "id": "fe1071b7",
   "metadata": {},
   "source": [
    "### 2)"
   ]
  },
  {
   "cell_type": "code",
   "execution_count": 135,
   "id": "f462bf0b",
   "metadata": {},
   "outputs": [],
   "source": [
    "G2 = nx.Graph()\n",
    "G2 = nx.from_pandas_edgelist(dfedges, 'comic', 'hero')"
   ]
  },
  {
   "cell_type": "code",
   "execution_count": 136,
   "id": "bac09122",
   "metadata": {},
   "outputs": [
    {
     "data": {
      "text/plain": [
       "'Graph with 19090 nodes and 96104 edges'"
      ]
     },
     "execution_count": 136,
     "metadata": {},
     "output_type": "execute_result"
    }
   ],
   "source": [
    "warnings.filterwarnings(\"ignore\", category=DeprecationWarning) #this command is used to don't visualize the warnings\n",
    "nx.info(G2)"
   ]
  },
  {
   "cell_type": "markdown",
   "id": "0f715a3d",
   "metadata": {},
   "source": [
    "## DATA PREPROCESSING\n",
    "### 1)"
   ]
  },
  {
   "cell_type": "markdown",
   "id": "0f30ae6c",
   "metadata": {},
   "source": [
    "**1.1**"
   ]
  },
  {
   "cell_type": "markdown",
   "id": "425c6636",
   "metadata": {},
   "source": [
    "\"Some heroes' names in 'hero-netowrk.csv' have extra spaces at the end of their names compared to their names in 'edges.csv'\" :"
   ]
  },
  {
   "cell_type": "markdown",
   "id": "4bfc7c32",
   "metadata": {},
   "source": [
    "The following command gets the string of heroes inside column 'hero1' (in dataset heros) that have a space in the last position: '  '. Once we have these heroes, we edit the string by deleting the space in the last position."
   ]
  },
  {
   "cell_type": "code",
   "execution_count": 318,
   "id": "c2c9ab09",
   "metadata": {},
   "outputs": [],
   "source": [
    "for i in range(len(dfheros.hero1)):\n",
    "    if dfheros.hero1[i][-1] == ' ':\n",
    "        dfheros.hero1[i]= dfheros.hero1[i][0:-1]"
   ]
  },
  {
   "cell_type": "markdown",
   "id": "91afb7cc",
   "metadata": {},
   "source": [
    "**1.2**"
   ]
  },
  {
   "cell_type": "markdown",
   "id": "2732b704",
   "metadata": {},
   "source": [
    "Some heroes' names in 'hero-netowrk.csv' have an extra '/' at the end of their names compared to their names in 'edges.csv'."
   ]
  },
  {
   "cell_type": "markdown",
   "id": "bfb12a3f",
   "metadata": {},
   "source": [
    "- We could do the same things of above, but we noticed that in the column hero (dataset edges) we have heros which have in the last position a slash: '/'. So we can't remove these heros but we have to remove only the heroes that within hero1 (in dataset heros) have a slash in the last position, while in hero (dataset edges) they don't.\n",
    "\n",
    "- However, to make things easier, we decided to remove the / in the last position in all heroes even those that are normally registered with the / in the last position (for example 8-BALL/ it is normally registered with the / in the last position because it has it in both the heros and edges datasets, but to make things easier we will remove the / even for 8-BALL/ in both dataset)\n",
    "\n",
    "- The following query, therefore, removes the / in last position (to whoever has it) to all heroes in 'hero1' (dataset heros) and in 'hero' (dataset edges):"
   ]
  },
  {
   "cell_type": "code",
   "execution_count": 308,
   "id": "7bd8a4b3",
   "metadata": {},
   "outputs": [],
   "source": [
    "#for the dataset 'dfheros'\n",
    "for i in range(len(dfheros.hero1)):\n",
    "    if dfheros.hero1[i][-1] == '/':\n",
    "        dfheros.hero1[i]= dfheros.hero1[i][0:-1]\n",
    "        \n",
    "#for the dataset 'dfedges'\n",
    "for i in range(len(dfedges.hero)):\n",
    "    if dfedges.hero[i][-1] == '/':\n",
    "        dfedges.hero[i]= dfedges.hero[i][0:-1]"
   ]
  },
  {
   "cell_type": "markdown",
   "id": "40d2d726",
   "metadata": {},
   "source": [
    "**1.3**"
   ]
  },
  {
   "cell_type": "markdown",
   "id": "385b6ffb",
   "metadata": {},
   "source": [
    "The hero name 'SPIDER-MAN/PETER PARKER' in 'edges.csv' has been changed to 'SPIDER-MAN/PETER PAR' in 'hero-network.csv' due to a string length limit in 'hero-network.csv'"
   ]
  },
  {
   "cell_type": "markdown",
   "id": "08f11de2",
   "metadata": {},
   "source": [
    "We can see inside the dataset edges there are 1577 times the name 'SPIDER-MAN/PETER PARKER' in the column 'hero'."
   ]
  },
  {
   "cell_type": "code",
   "execution_count": 183,
   "id": "13eb7563",
   "metadata": {},
   "outputs": [
    {
     "data": {
      "text/plain": [
       "(1577, 2)"
      ]
     },
     "execution_count": 183,
     "metadata": {},
     "output_type": "execute_result"
    }
   ],
   "source": [
    "dfedges[dfedges.hero == 'SPIDER-MAN/PETER PARKER'].shape"
   ]
  },
  {
   "cell_type": "markdown",
   "id": "6673f839",
   "metadata": {},
   "source": [
    "In order to avoid the problem of having two different name for the same hero in two different dataset, we decided to change inside the dataset edges, the name of the hero 'SPIDER-MAN/PETER PARKER' in 'SPIDER-MAN/PETER PAR'."
   ]
  },
  {
   "cell_type": "code",
   "execution_count": 185,
   "id": "1ebf9a67",
   "metadata": {},
   "outputs": [],
   "source": [
    "dfedges.hero = dfedges.hero.replace('SPIDER-MAN/PETER PARKER', 'SPIDER-MAN/PETER PAR')"
   ]
  },
  {
   "cell_type": "markdown",
   "id": "2057311d",
   "metadata": {},
   "source": [
    "Altought before were 1577 rows, now we can see that 'SPIDER-MAN/PETER PARKER' doesn't appear anymore."
   ]
  },
  {
   "cell_type": "code",
   "execution_count": 186,
   "id": "44e3ec62",
   "metadata": {},
   "outputs": [
    {
     "data": {
      "text/plain": [
       "(0, 2)"
      ]
     },
     "execution_count": 186,
     "metadata": {},
     "output_type": "execute_result"
    }
   ],
   "source": [
    "dfedges[dfedges.hero == 'SPIDER-MAN/PETER PARKER'].shape"
   ]
  },
  {
   "cell_type": "markdown",
   "id": "c8f906fe",
   "metadata": {},
   "source": [
    "### 2)"
   ]
  },
  {
   "cell_type": "markdown",
   "id": "e8c0cf80",
   "metadata": {},
   "source": [
    "Some entries in the 'hero-network.csv' have the same hero in both columns. In the graph, these entries form a self-loop. Because a self-loop makes no sense in this network, you can safely remove those from the dataset."
   ]
  },
  {
   "cell_type": "markdown",
   "id": "adae7bfd",
   "metadata": {},
   "source": [
    "We can observe from the following cell that the rows we need to delete are 2232."
   ]
  },
  {
   "cell_type": "code",
   "execution_count": 269,
   "id": "e2e1fd77",
   "metadata": {},
   "outputs": [
    {
     "name": "stdout",
     "output_type": "stream",
     "text": [
      "The number of total rows are:  574467 \n",
      "Instead the number of lines that have the same hero in 'hero1' and 'hero2' are:  2232\n"
     ]
    }
   ],
   "source": [
    "counter = 0\n",
    "for i in range(len(dfheros.hero1)):\n",
    "    if dfheros.hero1[i] == dfheros.hero2[i]:\n",
    "        counter += 1\n",
    "print('The number of total rows are: ', len(dfheros), \"\\nInstead, the number of rows that have the same hero in 'hero1' and 'hero2' are: \", counter)"
   ]
  },
  {
   "cell_type": "markdown",
   "id": "1425141f",
   "metadata": {},
   "source": [
    "The following code iterates through the heros dataframe, if it encounters a row that has the same name in 'hero1' and 'hero2' then it deletes that row."
   ]
  },
  {
   "cell_type": "code",
   "execution_count": 270,
   "id": "89227f22",
   "metadata": {},
   "outputs": [],
   "source": [
    "for i in range(len(dfheros.hero1)):\n",
    "    if dfheros.hero1[i] == dfheros.hero2[i]:\n",
    "        dfheros = dfheros.drop(i)"
   ]
  },
  {
   "cell_type": "markdown",
   "id": "3992f85c",
   "metadata": {},
   "source": [
    "Let's verify that 2232 rows have actually been deleted!\n",
    "\n",
    "Before we had a length of 574467, subtracting 2232 from it, we should obtain that the length of the dataframe is now equal to 572235:"
   ]
  },
  {
   "cell_type": "code",
   "execution_count": 271,
   "id": "a379f579",
   "metadata": {},
   "outputs": [
    {
     "data": {
      "text/plain": [
       "572235"
      ]
     },
     "execution_count": 271,
     "metadata": {},
     "output_type": "execute_result"
    }
   ],
   "source": [
    "len(dfheros)"
   ]
  },
  {
   "cell_type": "markdown",
   "id": "49cb4633",
   "metadata": {},
   "source": [
    "# QUESTION 2: BACKEND IMPLEMENTATION"
   ]
  },
  {
   "cell_type": "markdown",
   "id": "9c8bdc5f",
   "metadata": {},
   "source": [
    "## Functionality 1 - extract the graph's features"
   ]
  },
  {
   "cell_type": "markdown",
   "id": "8ae60b6a",
   "metadata": {},
   "source": [
    "#### F1.1 The number of nodes in the network (if type 2, report for both node types)"
   ]
  },
  {
   "cell_type": "code",
   "execution_count": null,
   "id": "3123f5b9",
   "metadata": {},
   "outputs": [],
   "source": []
  },
  {
   "cell_type": "markdown",
   "id": "925bb5ee",
   "metadata": {},
   "source": [
    "#### F1.2 The number of collaborations of each superhero with the others (only if type 1)"
   ]
  },
  {
   "cell_type": "code",
   "execution_count": 120,
   "id": "b021bc04",
   "metadata": {},
   "outputs": [],
   "source": [
    "def collaborations(graph, graph_type, N):\n",
    "    if graph_type == 2:\n",
    "        print(\"Sorry, I can't satisfy your request for type 2 graphs, only for type 1 graphs.\")\n",
    "        \n",
    "       \n",
    "    else:\n",
    "        node_degrees = {}\n",
    "    \n",
    "        # Compute the degree of each node\n",
    "        for node in graph:\n",
    "            degree = graph.degree(node)\n",
    "            node_degrees[node] = degree\n",
    "            \n",
    "        # Sort the dictionary by its values\n",
    "        sorted_dict = dict(sorted(node_degrees.items(), key=lambda x: x[1], reverse=True))\n",
    "        \n",
    "        return dict(islice(sorted_dict.items(), N))"
   ]
  },
  {
   "cell_type": "code",
   "execution_count": 149,
   "id": "4fec9453",
   "metadata": {},
   "outputs": [
    {
     "data": {
      "text/plain": [
       "{'CAPTAIN AMERICA': 16499,\n",
       " 'SPIDER-MAN/PETER PAR': 13717,\n",
       " 'IRON MAN/TONY STARK ': 11817,\n",
       " 'THOR/DR. DONALD BLAK': 11427}"
      ]
     },
     "execution_count": 149,
     "metadata": {},
     "output_type": "execute_result"
    }
   ],
   "source": [
    "#PROVA\n",
    "collaborations(G_heros, 1, 4)"
   ]
  },
  {
   "cell_type": "code",
   "execution_count": 169,
   "id": "3d15856a",
   "metadata": {},
   "outputs": [
    {
     "data": {
      "text/plain": [
       "16499"
      ]
     },
     "execution_count": 169,
     "metadata": {},
     "output_type": "execute_result"
    }
   ],
   "source": [
    "#EFFETTIVAMENTE VIENE DAVVERO, GUARDIAMOLO AD ESEMPIO PER DFHEROS (CANCELLARE QUESTA CELLA A FINE HOMEWORK)\n",
    "a = dfheros.hero1.value_counts()[0] #questo è quante volte è presente capitan america in hero1\n",
    "b = dfheros.hero2.value_counts()[0] #questo è quante volte è presente capitan america in hero2\n",
    "a+b\n",
    "#output è 16499, ed è prprio il valore di capitan america nel dizionario sopra"
   ]
  },
  {
   "cell_type": "markdown",
   "id": "c70e66b5",
   "metadata": {},
   "source": [
    "**F1.3 The number of heroes that have appeared in each comic (only if type 2)**"
   ]
  },
  {
   "cell_type": "code",
   "execution_count": null,
   "id": "32ee5643",
   "metadata": {},
   "outputs": [],
   "source": [
    "#questa funzione mi sta chiedendo in sostanza quanti archi ha ogni nodo riferito a un fumetto\n",
    "\n",
    "#COME SE FA?"
   ]
  },
  {
   "cell_type": "markdown",
   "id": "493324bd",
   "metadata": {},
   "source": [
    "**F1.4 The network's density**"
   ]
  },
  {
   "cell_type": "markdown",
   "id": "47b6a203",
   "metadata": {},
   "source": [
    "In a network, density refers to the number of connections or edges in the network compared to the total number of possible connections. A network with a high density has a large number of connections, while a network with a low density has few connections.\n",
    "\n",
    "To compute the density of a network, we need to use the following formula:\n",
    "\n",
    "Density = (Number of connections in the network) / (Total number of possible connections)"
   ]
  },
  {
   "cell_type": "code",
   "execution_count": 180,
   "id": "6455cc71",
   "metadata": {},
   "outputs": [],
   "source": [
    "def density(graph, graph_type):\n",
    "    if graph_type == 1 or 2:\n",
    "        # Compute the total number of arcs\n",
    "        num_edges = graph.number_of_edges()\n",
    "        # Compute the total number of edges\n",
    "        num_possible_edges = (graph.number_of_nodes() * (graph.number_of_nodes() - 1)) / 2\n",
    "        # Compute the density\n",
    "        density = num_edges / num_possible_edges\n",
    "        return round(density,4)"
   ]
  },
  {
   "cell_type": "code",
   "execution_count": 181,
   "id": "20e7ff1b",
   "metadata": {},
   "outputs": [
    {
     "data": {
      "text/plain": [
       "0.0005"
      ]
     },
     "execution_count": 181,
     "metadata": {},
     "output_type": "execute_result"
    }
   ],
   "source": [
    "#PROVA\n",
    "density(G2, 1)"
   ]
  },
  {
   "cell_type": "code",
   "execution_count": 183,
   "id": "777c89b8",
   "metadata": {},
   "outputs": [
    {
     "data": {
      "text/plain": [
       "0.0278"
      ]
     },
     "execution_count": 183,
     "metadata": {},
     "output_type": "execute_result"
    }
   ],
   "source": [
    "#PROVA\n",
    "density(G_heros, 1)"
   ]
  },
  {
   "cell_type": "markdown",
   "id": "262377de",
   "metadata": {},
   "source": [
    "**F1.5 The network's degree distribution**"
   ]
  },
  {
   "cell_type": "code",
   "execution_count": null,
   "id": "cc26e02a",
   "metadata": {},
   "outputs": [],
   "source": []
  },
  {
   "cell_type": "markdown",
   "id": "bbd0daf4",
   "metadata": {},
   "source": [
    "**F1.6 The average degree of the network**"
   ]
  },
  {
   "cell_type": "code",
   "execution_count": null,
   "id": "2a24579e",
   "metadata": {},
   "outputs": [],
   "source": []
  },
  {
   "cell_type": "markdown",
   "id": "09becb8d",
   "metadata": {},
   "source": [
    "**F1.7 The network's Hubs (hubs are nodes having degrees more extensive than the 95th percentile of the degree distribution)**"
   ]
  },
  {
   "cell_type": "code",
   "execution_count": null,
   "id": "03222bfa",
   "metadata": {},
   "outputs": [],
   "source": []
  },
  {
   "cell_type": "markdown",
   "id": "a3506dfe",
   "metadata": {},
   "source": [
    "**F1.8 Whether the Network is sparse or dense**"
   ]
  },
  {
   "cell_type": "code",
   "execution_count": null,
   "id": "fbe314d7",
   "metadata": {},
   "outputs": [],
   "source": []
  },
  {
   "cell_type": "code",
   "execution_count": null,
   "id": "0499795c",
   "metadata": {},
   "outputs": [],
   "source": []
  }
 ],
 "metadata": {
  "kernelspec": {
   "display_name": "Python 3 (ipykernel)",
   "language": "python",
   "name": "python3"
  },
  "language_info": {
   "codemirror_mode": {
    "name": "ipython",
    "version": 3
   },
   "file_extension": ".py",
   "mimetype": "text/x-python",
   "name": "python",
   "nbconvert_exporter": "python",
   "pygments_lexer": "ipython3",
   "version": "3.9.12"
  }
 },
 "nbformat": 4,
 "nbformat_minor": 5
}
