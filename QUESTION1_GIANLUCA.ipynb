{
 "cells": [
  {
   "cell_type": "markdown",
   "id": "8002599b",
   "metadata": {},
   "source": [
    "**ORE SPESE SU QUESTO HOMEWORK**\\\n",
    "- 2 ore il 14-12\n",
    "- 1 ora il 15-12\n",
    "- 2 ore il 16-12\n",
    "- 2 ore il 20-12\n",
    "- 3 ore il 22-12\n",
    "- 2 ore il 23-12\n",
    "- 3 ore il 24-12\n",
    "- 4 ore il 26-12\n",
    "- 2 ore l 27-12\n",
    "- 1 ora il 28-12\n",
    "- 2 ore il 29-12\n",
    "- 3 ore il 30-12\n",
    "- 2 ore il 02-01\n",
    "- 2 ore ll 03-01\n",
    "- 5 ore il 06-01\n",
    "- 5 ore il 07-01"
   ]
  },
  {
   "cell_type": "markdown",
   "id": "9025f49f",
   "metadata": {},
   "source": [
    "# TO DO LIST:\n",
    "\n",
    "\n",
    "\n",
    "# CONTROLLATO TUTTO FINO A:\n",
    "- grapjs set up\n",
    "- vis1 fatta e fun 1 fatta\n",
    "- fun 5 fatta\n",
    "- vis 5"
   ]
  },
  {
   "cell_type": "code",
   "execution_count": 397,
   "id": "894e72ef",
   "metadata": {},
   "outputs": [],
   "source": [
    "import pandas as pd\n",
    "import numpy as np\n",
    "import networkx as nx\n",
    "import matplotlib.pyplot as plt\n",
    "from collections import defaultdict\n",
    "from collections import OrderedDict\n",
    "from itertools import islice\n",
    "import warnings\n",
    "import seaborn as sns\n",
    "import matplotlib.pyplot as plt"
   ]
  },
  {
   "cell_type": "markdown",
   "id": "b357eaa5",
   "metadata": {},
   "source": [
    "## Let's import the datasets\n",
    "**HERO-NETWORK:**\\\n",
    "It contains the network of heroes who have appeared together in the comics."
   ]
  },
  {
   "cell_type": "code",
   "execution_count": 600,
   "id": "d0341305",
   "metadata": {},
   "outputs": [],
   "source": [
    "dfheros = pd.read_csv(r'C:\\Users\\gianl\\Documents\\Università_4°anno(2022-2023\\ADM\\HOMEWORK\\HOMEWORK 5\\hero-network.csv')"
   ]
  },
  {
   "cell_type": "code",
   "execution_count": 601,
   "id": "6cb6ceb5",
   "metadata": {},
   "outputs": [
    {
     "data": {
      "text/html": [
       "<div>\n",
       "<style scoped>\n",
       "    .dataframe tbody tr th:only-of-type {\n",
       "        vertical-align: middle;\n",
       "    }\n",
       "\n",
       "    .dataframe tbody tr th {\n",
       "        vertical-align: top;\n",
       "    }\n",
       "\n",
       "    .dataframe thead th {\n",
       "        text-align: right;\n",
       "    }\n",
       "</style>\n",
       "<table border=\"1\" class=\"dataframe\">\n",
       "  <thead>\n",
       "    <tr style=\"text-align: right;\">\n",
       "      <th></th>\n",
       "      <th>hero1</th>\n",
       "      <th>hero2</th>\n",
       "    </tr>\n",
       "  </thead>\n",
       "  <tbody>\n",
       "    <tr>\n",
       "      <th>0</th>\n",
       "      <td>LITTLE, ABNER</td>\n",
       "      <td>PRINCESS ZANDA</td>\n",
       "    </tr>\n",
       "    <tr>\n",
       "      <th>1</th>\n",
       "      <td>LITTLE, ABNER</td>\n",
       "      <td>BLACK PANTHER/T'CHAL</td>\n",
       "    </tr>\n",
       "    <tr>\n",
       "      <th>2</th>\n",
       "      <td>BLACK PANTHER/T'CHAL</td>\n",
       "      <td>PRINCESS ZANDA</td>\n",
       "    </tr>\n",
       "    <tr>\n",
       "      <th>3</th>\n",
       "      <td>LITTLE, ABNER</td>\n",
       "      <td>PRINCESS ZANDA</td>\n",
       "    </tr>\n",
       "    <tr>\n",
       "      <th>4</th>\n",
       "      <td>LITTLE, ABNER</td>\n",
       "      <td>BLACK PANTHER/T'CHAL</td>\n",
       "    </tr>\n",
       "  </tbody>\n",
       "</table>\n",
       "</div>"
      ],
      "text/plain": [
       "                  hero1                 hero2\n",
       "0         LITTLE, ABNER        PRINCESS ZANDA\n",
       "1         LITTLE, ABNER  BLACK PANTHER/T'CHAL\n",
       "2  BLACK PANTHER/T'CHAL        PRINCESS ZANDA\n",
       "3         LITTLE, ABNER        PRINCESS ZANDA\n",
       "4         LITTLE, ABNER  BLACK PANTHER/T'CHAL"
      ]
     },
     "execution_count": 601,
     "metadata": {},
     "output_type": "execute_result"
    }
   ],
   "source": [
    "dfheros.head(5)"
   ]
  },
  {
   "cell_type": "code",
   "execution_count": 602,
   "id": "28bbbf84",
   "metadata": {},
   "outputs": [
    {
     "data": {
      "text/plain": [
       "(574467, 2)"
      ]
     },
     "execution_count": 602,
     "metadata": {},
     "output_type": "execute_result"
    }
   ],
   "source": [
    "dfheros.shape"
   ]
  },
  {
   "cell_type": "markdown",
   "id": "1fe8f99b",
   "metadata": {},
   "source": [
    "**EDGES:**\\\n",
    "It contains two columns (hero, comic), indicating which comics the heroes appear in."
   ]
  },
  {
   "cell_type": "code",
   "execution_count": 603,
   "id": "a1b1ad43",
   "metadata": {},
   "outputs": [],
   "source": [
    "dfedges = pd.read_csv(r'C:\\Users\\gianl\\Documents\\Università_4°anno(2022-2023\\ADM\\HOMEWORK\\HOMEWORK 5\\edges.csv')"
   ]
  },
  {
   "cell_type": "code",
   "execution_count": 604,
   "id": "ec6a5ab4",
   "metadata": {},
   "outputs": [
    {
     "data": {
      "text/html": [
       "<div>\n",
       "<style scoped>\n",
       "    .dataframe tbody tr th:only-of-type {\n",
       "        vertical-align: middle;\n",
       "    }\n",
       "\n",
       "    .dataframe tbody tr th {\n",
       "        vertical-align: top;\n",
       "    }\n",
       "\n",
       "    .dataframe thead th {\n",
       "        text-align: right;\n",
       "    }\n",
       "</style>\n",
       "<table border=\"1\" class=\"dataframe\">\n",
       "  <thead>\n",
       "    <tr style=\"text-align: right;\">\n",
       "      <th></th>\n",
       "      <th>hero</th>\n",
       "      <th>comic</th>\n",
       "    </tr>\n",
       "  </thead>\n",
       "  <tbody>\n",
       "    <tr>\n",
       "      <th>0</th>\n",
       "      <td>24-HOUR MAN/EMMANUEL</td>\n",
       "      <td>AA2 35</td>\n",
       "    </tr>\n",
       "    <tr>\n",
       "      <th>1</th>\n",
       "      <td>3-D MAN/CHARLES CHAN</td>\n",
       "      <td>AVF 4</td>\n",
       "    </tr>\n",
       "    <tr>\n",
       "      <th>2</th>\n",
       "      <td>3-D MAN/CHARLES CHAN</td>\n",
       "      <td>AVF 5</td>\n",
       "    </tr>\n",
       "    <tr>\n",
       "      <th>3</th>\n",
       "      <td>3-D MAN/CHARLES CHAN</td>\n",
       "      <td>COC 1</td>\n",
       "    </tr>\n",
       "    <tr>\n",
       "      <th>4</th>\n",
       "      <td>3-D MAN/CHARLES CHAN</td>\n",
       "      <td>H2 251</td>\n",
       "    </tr>\n",
       "  </tbody>\n",
       "</table>\n",
       "</div>"
      ],
      "text/plain": [
       "                   hero   comic\n",
       "0  24-HOUR MAN/EMMANUEL  AA2 35\n",
       "1  3-D MAN/CHARLES CHAN   AVF 4\n",
       "2  3-D MAN/CHARLES CHAN   AVF 5\n",
       "3  3-D MAN/CHARLES CHAN   COC 1\n",
       "4  3-D MAN/CHARLES CHAN  H2 251"
      ]
     },
     "execution_count": 604,
     "metadata": {},
     "output_type": "execute_result"
    }
   ],
   "source": [
    "dfedges.head(5)"
   ]
  },
  {
   "cell_type": "code",
   "execution_count": 605,
   "id": "02eafc90",
   "metadata": {},
   "outputs": [
    {
     "data": {
      "text/plain": [
       "(96104, 2)"
      ]
     },
     "execution_count": 605,
     "metadata": {},
     "output_type": "execute_result"
    }
   ],
   "source": [
    "dfedges.shape"
   ]
  },
  {
   "cell_type": "markdown",
   "id": "35c43d95",
   "metadata": {},
   "source": [
    "**NODES:**\\\n",
    "It contains two columns (node, type), indicating the nodes' name and its type (comic, hero)."
   ]
  },
  {
   "cell_type": "code",
   "execution_count": 606,
   "id": "d4cad954",
   "metadata": {},
   "outputs": [],
   "source": [
    "dfnodes = pd.read_csv(r'C:\\Users\\gianl\\Documents\\Università_4°anno(2022-2023\\ADM\\HOMEWORK\\HOMEWORK 5\\nodes.csv')"
   ]
  },
  {
   "cell_type": "code",
   "execution_count": 607,
   "id": "460959ed",
   "metadata": {},
   "outputs": [
    {
     "data": {
      "text/html": [
       "<div>\n",
       "<style scoped>\n",
       "    .dataframe tbody tr th:only-of-type {\n",
       "        vertical-align: middle;\n",
       "    }\n",
       "\n",
       "    .dataframe tbody tr th {\n",
       "        vertical-align: top;\n",
       "    }\n",
       "\n",
       "    .dataframe thead th {\n",
       "        text-align: right;\n",
       "    }\n",
       "</style>\n",
       "<table border=\"1\" class=\"dataframe\">\n",
       "  <thead>\n",
       "    <tr style=\"text-align: right;\">\n",
       "      <th></th>\n",
       "      <th>node</th>\n",
       "      <th>type</th>\n",
       "    </tr>\n",
       "  </thead>\n",
       "  <tbody>\n",
       "    <tr>\n",
       "      <th>0</th>\n",
       "      <td>2001 10</td>\n",
       "      <td>comic</td>\n",
       "    </tr>\n",
       "    <tr>\n",
       "      <th>1</th>\n",
       "      <td>2001 8</td>\n",
       "      <td>comic</td>\n",
       "    </tr>\n",
       "    <tr>\n",
       "      <th>2</th>\n",
       "      <td>2001 9</td>\n",
       "      <td>comic</td>\n",
       "    </tr>\n",
       "    <tr>\n",
       "      <th>3</th>\n",
       "      <td>24-HOUR MAN/EMMANUEL</td>\n",
       "      <td>hero</td>\n",
       "    </tr>\n",
       "    <tr>\n",
       "      <th>4</th>\n",
       "      <td>3-D MAN/CHARLES CHAN</td>\n",
       "      <td>hero</td>\n",
       "    </tr>\n",
       "  </tbody>\n",
       "</table>\n",
       "</div>"
      ],
      "text/plain": [
       "                   node   type\n",
       "0               2001 10  comic\n",
       "1                2001 8  comic\n",
       "2                2001 9  comic\n",
       "3  24-HOUR MAN/EMMANUEL   hero\n",
       "4  3-D MAN/CHARLES CHAN   hero"
      ]
     },
     "execution_count": 607,
     "metadata": {},
     "output_type": "execute_result"
    }
   ],
   "source": [
    "dfnodes.head(5)"
   ]
  },
  {
   "cell_type": "code",
   "execution_count": 608,
   "id": "40261dfe",
   "metadata": {},
   "outputs": [
    {
     "data": {
      "text/plain": [
       "(19090, 2)"
      ]
     },
     "execution_count": 608,
     "metadata": {},
     "output_type": "execute_result"
    }
   ],
   "source": [
    "dfnodes.shape"
   ]
  },
  {
   "cell_type": "markdown",
   "id": "bcc8b693",
   "metadata": {},
   "source": [
    "# QUESTION 1: DATA"
   ]
  },
  {
   "cell_type": "markdown",
   "id": "0f715a3d",
   "metadata": {},
   "source": [
    "## DATA PREPROCESSING\n",
    "### 1)"
   ]
  },
  {
   "cell_type": "markdown",
   "id": "0f30ae6c",
   "metadata": {},
   "source": [
    "**1.1**"
   ]
  },
  {
   "cell_type": "markdown",
   "id": "425c6636",
   "metadata": {},
   "source": [
    "\"Some heroes' names in 'hero-netowrk.csv' have extra spaces at the end of their names compared to their names in 'edges.csv'\" :"
   ]
  },
  {
   "cell_type": "markdown",
   "id": "4bfc7c32",
   "metadata": {},
   "source": [
    "- The following command gets the string of heroes inside column 'hero1' (in dataset heros) that have a space in the last position: '  '. Once we have these heroes, we edit the string by deleting the space in the last position."
   ]
  },
  {
   "cell_type": "code",
   "execution_count": 609,
   "id": "c2c9ab09",
   "metadata": {},
   "outputs": [],
   "source": [
    "for i in range(len(dfheros.hero1)):\n",
    "    if dfheros.hero1[i][-1] == ' ':\n",
    "        dfheros.hero1[i]= dfheros.hero1[i][0:-1]"
   ]
  },
  {
   "cell_type": "markdown",
   "id": "5143f6a1",
   "metadata": {},
   "source": [
    "- The following command does exactly the same of above but for the column 'hero2'"
   ]
  },
  {
   "cell_type": "code",
   "execution_count": 610,
   "id": "deb0ccd6",
   "metadata": {},
   "outputs": [],
   "source": [
    "for i in range(len(dfheros.hero2)):\n",
    "    if dfheros.hero2[i][-1] == ' ':\n",
    "        dfheros.hero2[i]= dfheros.hero2[i][0:-1]"
   ]
  },
  {
   "cell_type": "markdown",
   "id": "91afb7cc",
   "metadata": {},
   "source": [
    "**1.2**"
   ]
  },
  {
   "cell_type": "markdown",
   "id": "2732b704",
   "metadata": {},
   "source": [
    "Some heroes' names in 'hero-netowrk.csv' have an extra '/' at the end of their names compared to their names in 'edges.csv'."
   ]
  },
  {
   "cell_type": "markdown",
   "id": "bfb12a3f",
   "metadata": {},
   "source": [
    "- We could do the same thing of above, but we noticed that in the column hero (dataset edges) we have heros which have in the last position a slash: '/'. So we can't just remove all '/' in last position in hero (dataset edges) otherwise we will end up in the opposite situation, i.e. heroes that have an extra '/' in the heroes dataset but don't have it in the edges dataset. Instead we should remove only the heroes that within hero1 (in dataset heros) have a slash in the last position, while in hero (dataset edges) they don't.\n",
    "\n",
    "- However, to make things easier, we decided to remove the / in the last position in all heroes even those that are normally registered with the / in the last position (for example 8-BALL/ it is normally registered with the / in the last position because it has it in both the heros and edges datasets, but to make things easier we will remove the / even for 8-BALL/ in both dataset)\n",
    "\n",
    "- The following query, therefore, removes the / in last position (to whoever has it) to all heroes in 'hero1' (dataset heros) and in 'hero' (dataset edges):"
   ]
  },
  {
   "cell_type": "code",
   "execution_count": 611,
   "id": "7bd8a4b3",
   "metadata": {},
   "outputs": [],
   "source": [
    "#for the dataset 'dfheros' in column 'hero1'\n",
    "for i in range(len(dfheros.hero1)):\n",
    "    if dfheros.hero1[i][-1] == '/':\n",
    "        dfheros.hero1[i]= dfheros.hero1[i][0:-1]\n",
    "        \n",
    "#for the dataset 'dfheros' in column 'hero2'\n",
    "for i in range(len(dfheros.hero2)):\n",
    "    if dfheros.hero2[i][-1] == '/':\n",
    "        dfheros.hero2[i]= dfheros.hero2[i][0:-1]\n",
    "        \n",
    "#for the dataset 'dfedges' in column 'hero'\n",
    "for i in range(len(dfedges.hero)):\n",
    "    if dfedges.hero[i][-1] == '/':\n",
    "        dfedges.hero[i]= dfedges.hero[i][0:-1]"
   ]
  },
  {
   "cell_type": "markdown",
   "id": "40d2d726",
   "metadata": {},
   "source": [
    "**1.3**"
   ]
  },
  {
   "cell_type": "markdown",
   "id": "385b6ffb",
   "metadata": {},
   "source": [
    "The hero name 'SPIDER-MAN/PETER PARKER' in 'edges.csv' has been changed to 'SPIDER-MAN/PETER PAR' in 'hero-network.csv' due to a string length limit in 'hero-network.csv'"
   ]
  },
  {
   "cell_type": "markdown",
   "id": "08f11de2",
   "metadata": {},
   "source": [
    "We can see inside the dataset edges there are 1577 times the name 'SPIDER-MAN/PETER PARKER' in the column 'hero'."
   ]
  },
  {
   "cell_type": "code",
   "execution_count": 612,
   "id": "13eb7563",
   "metadata": {},
   "outputs": [
    {
     "data": {
      "text/plain": [
       "(1577, 2)"
      ]
     },
     "execution_count": 612,
     "metadata": {},
     "output_type": "execute_result"
    }
   ],
   "source": [
    "dfedges[dfedges.hero == 'SPIDER-MAN/PETER PARKER'].shape"
   ]
  },
  {
   "cell_type": "markdown",
   "id": "6673f839",
   "metadata": {},
   "source": [
    "In order to avoid the problem of having two different name for the same hero in two different dataset, we decided to change inside the dataset edges, the name of the hero 'SPIDER-MAN/PETER PARKER' in 'SPIDER-MAN/PETER PAR'."
   ]
  },
  {
   "cell_type": "code",
   "execution_count": 613,
   "id": "1ebf9a67",
   "metadata": {},
   "outputs": [],
   "source": [
    "dfedges.hero = dfedges.hero.replace('SPIDER-MAN/PETER PARKER', 'SPIDER-MAN/PETER PAR')"
   ]
  },
  {
   "cell_type": "markdown",
   "id": "2057311d",
   "metadata": {},
   "source": [
    "Altought before were 1577 rows, now we can see that 'SPIDER-MAN/PETER PARKER' doesn't appear anymore."
   ]
  },
  {
   "cell_type": "code",
   "execution_count": 614,
   "id": "44e3ec62",
   "metadata": {},
   "outputs": [
    {
     "data": {
      "text/plain": [
       "(0, 2)"
      ]
     },
     "execution_count": 614,
     "metadata": {},
     "output_type": "execute_result"
    }
   ],
   "source": [
    "dfedges[dfedges.hero == 'SPIDER-MAN/PETER PARKER'].shape"
   ]
  },
  {
   "cell_type": "markdown",
   "id": "c8f906fe",
   "metadata": {},
   "source": [
    "### 2)"
   ]
  },
  {
   "cell_type": "markdown",
   "id": "e8c0cf80",
   "metadata": {},
   "source": [
    "Some entries in the 'hero-network.csv' have the same hero in both columns. In the graph, these entries form a self-loop. Because a self-loop makes no sense in this network, you can safely remove those from the dataset."
   ]
  },
  {
   "cell_type": "markdown",
   "id": "adae7bfd",
   "metadata": {},
   "source": [
    "- We can observe from the following cell that the rows we need to delete are 2232."
   ]
  },
  {
   "cell_type": "code",
   "execution_count": 615,
   "id": "e2e1fd77",
   "metadata": {},
   "outputs": [
    {
     "name": "stdout",
     "output_type": "stream",
     "text": [
      "The number of total rows are:  574467 \n",
      "Instead, the number of rows that have the same hero in 'hero1' and 'hero2' are:  2232\n"
     ]
    }
   ],
   "source": [
    "counter = 0\n",
    "for i in range(len(dfheros.hero1)):\n",
    "    if dfheros.hero1[i] == dfheros.hero2[i]:\n",
    "        counter += 1\n",
    "print('The number of total rows are: ', len(dfheros), \"\\nInstead, the number of rows that have the same hero in 'hero1' and 'hero2' are: \", counter)"
   ]
  },
  {
   "cell_type": "markdown",
   "id": "1425141f",
   "metadata": {},
   "source": [
    "- The following code iterates through the heros dataframe, if it encounters a row that has the same name in 'hero1' and 'hero2' then it deletes that row."
   ]
  },
  {
   "cell_type": "code",
   "execution_count": 616,
   "id": "89227f22",
   "metadata": {},
   "outputs": [],
   "source": [
    "for i in range(len(dfheros.hero1)):\n",
    "    if dfheros.hero1[i] == dfheros.hero2[i]:\n",
    "        dfheros = dfheros.drop(i)"
   ]
  },
  {
   "cell_type": "markdown",
   "id": "3992f85c",
   "metadata": {},
   "source": [
    "- Let's verify that 2232 rows have actually been deleted!\n",
    "\n",
    "\n",
    "- Before we had a length of 574467, subtracting 2232 from it, we should obtain that the length of the dataframe is now equal to 572235:"
   ]
  },
  {
   "cell_type": "code",
   "execution_count": 617,
   "id": "a379f579",
   "metadata": {},
   "outputs": [
    {
     "data": {
      "text/plain": [
       "572235"
      ]
     },
     "execution_count": 617,
     "metadata": {},
     "output_type": "execute_result"
    }
   ],
   "source": [
    "len(dfheros)"
   ]
  },
  {
   "cell_type": "markdown",
   "id": "e806b021",
   "metadata": {},
   "source": [
    "## GRAPHS SETUP\n",
    "### 1)"
   ]
  },
  {
   "cell_type": "markdown",
   "id": "cb4a22ec",
   "metadata": {},
   "source": [
    "- An edge between two heroes can be found if they have appeared in the same comic together. We assign a each edge a weight that is the reciprocal of how many times those two heroes have appeared in the same comic. Let's find all edges:"
   ]
  },
  {
   "cell_type": "code",
   "execution_count": 618,
   "id": "98346a29",
   "metadata": {},
   "outputs": [],
   "source": [
    "edges = dfheros.groupby(['hero1', 'hero2']).size().reset_index(name='weight')\n",
    "edges.weight = round(1/ edges.weight,4)\n",
    "G1 = nx.from_pandas_edgelist(edges, 'hero1', 'hero2', edge_attr = 'weight')"
   ]
  },
  {
   "cell_type": "code",
   "execution_count": 845,
   "id": "95e4d7f9",
   "metadata": {},
   "outputs": [
    {
     "data": {
      "text/plain": [
       "'Graph with 6421 nodes and 167100 edges'"
      ]
     },
     "execution_count": 845,
     "metadata": {},
     "output_type": "execute_result"
    }
   ],
   "source": [
    "warnings.filterwarnings(\"ignore\", category=DeprecationWarning) #this command is used to don't visualize the warnings\n",
    "nx.info(G1)"
   ]
  },
  {
   "cell_type": "markdown",
   "id": "e47b14ee",
   "metadata": {},
   "source": [
    "### 2)"
   ]
  },
  {
   "cell_type": "markdown",
   "id": "ddd4c93b",
   "metadata": {},
   "source": [
    "- The following graph has all heroes and comics as nodes, taken from the \"node\" column of the \"dfnodes\" dataset. Here there will not be edges connecting two heroes or two comics together, but just edges connecting hero and comic. A hero is connected by a edge to the comic only if that hero has appeared in that specific comic."
   ]
  },
  {
   "cell_type": "code",
   "execution_count": 621,
   "id": "8af80d9a",
   "metadata": {},
   "outputs": [],
   "source": [
    "G2 = nx.Graph()\n",
    "G2 = nx.from_pandas_edgelist(dfedges, 'comic', 'hero')\n",
    "\n",
    "# we add the type of each node, hero or comic (we will need in functionality 1)\n",
    "for index, row in dfedges.iterrows():\n",
    "    G2.add_node(row['hero'], type='hero')\n",
    "    G2.add_node(row['comic'], type='comic')"
   ]
  },
  {
   "cell_type": "code",
   "execution_count": 622,
   "id": "ce4d1202",
   "metadata": {},
   "outputs": [
    {
     "data": {
      "text/plain": [
       "'Graph with 19087 nodes and 96104 edges'"
      ]
     },
     "execution_count": 622,
     "metadata": {},
     "output_type": "execute_result"
    }
   ],
   "source": [
    "warnings.filterwarnings(\"ignore\", category=DeprecationWarning) #this command is used to hide the warnings\n",
    "nx.info(G2)"
   ]
  },
  {
   "cell_type": "markdown",
   "id": "49cb4633",
   "metadata": {},
   "source": [
    "# QUESTION 2: BACKEND IMPLEMENTATION"
   ]
  },
  {
   "cell_type": "markdown",
   "id": "9c8bdc5f",
   "metadata": {},
   "source": [
    "## Functionality 1 - extract the graph's features"
   ]
  },
  {
   "cell_type": "markdown",
   "id": "deafb30b",
   "metadata": {},
   "source": [
    "How we organize the work in this functionality:\n",
    "- first created a function that returns the top N heroes\n",
    "- created 8 different functions, one for each request\n",
    "- created a final function that groups all the previous functions"
   ]
  },
  {
   "cell_type": "markdown",
   "id": "2adac404",
   "metadata": {},
   "source": [
    "**Top N heroes**: The top N heroes who have appeared in the most number of comics."
   ]
  },
  {
   "cell_type": "code",
   "execution_count": 421,
   "id": "45fc8dc8",
   "metadata": {},
   "outputs": [],
   "source": [
    "def topNsuperherosGraph(G, N=None):\n",
    "    \n",
    "    G_sorted_bydeg = sorted(G, key=lambda x: G.degree(x), reverse=True) \n",
    "    # This sorts our nodes in descending order based on their degree value.\n",
    "    \n",
    "    if N != None: \n",
    "        # If we set the N in the function then we have to return a different graph, if we don't set the N then\n",
    "        # the function will return the same graph.\n",
    "        if G == G2:\n",
    "            # If we have both the 'comic' nodes and the 'hero' nodes we have to create another graph.\n",
    "            G_top_N_def = nx.Graph()\n",
    "            # This will be helpful to check what node is a 'hero' node.\n",
    "            hero_nodes = [node for node in G.nodes(data=True) if node[1]['type'] == 'hero']\n",
    "            for i in G_sorted_bydeg:\n",
    "                if i not in [i[0] for i in hero_nodes]:\n",
    "                    G_sorted_bydeg.remove(i)\n",
    "            G_top_N_def.add_nodes_from(G_sorted_bydeg[:N]) # We add our top N heros nodes.\n",
    "            edges_top_N_superheros = []\n",
    "            for i in G_sorted_bydeg[:N]:\n",
    "                edges_top_N_superheros.append(list(G.edges(i)))\n",
    "            for i in edges_top_N_superheros:\n",
    "                G_top_N_def.add_edges_from(i) \n",
    "                # This adds the edges (so also the 'comic' nodes) connecting the top N heros\n",
    "                # to the comics in which they appear.\n",
    "            return G_top_N_def\n",
    "        else:\n",
    "            # This will work if we have the G1 graph, which is an only heros graph. So we don't have to check if a node\n",
    "            # is a 'hero' node or a 'comic' node.\n",
    "            \n",
    "            # In this case we create a copy of the graph so we don't directly modify the graph we input.\n",
    "            G_top_N_def = G.copy()\n",
    "            for i in list(G_top_N_def.nodes()):\n",
    "                if i not in G_sorted_bydeg[:N]:\n",
    "                    G_top_N_def.remove_node(i) \n",
    "                    # We directly remove the nodes that aren't in the top N superheros list without then removing the edges\n",
    "                    # that connect said top N heros.\n",
    "            return G_top_N_def\n",
    "    else:\n",
    "        # If we don't set the N, then it'll return the full initial graph.\n",
    "        return G"
   ]
  },
  {
   "cell_type": "markdown",
   "id": "8ae60b6a",
   "metadata": {},
   "source": [
    "#### F1.1 The number of nodes in the network (if type 2, report for both node types)"
   ]
  },
  {
   "cell_type": "markdown",
   "id": "ed14e7ff",
   "metadata": {},
   "source": [
    "- The following function takes as input the graph and the type of graph, if the type of graph is 1, it returns the number of total nodes, if instead the type of graph is 2, it returns the number of total nodes that refer to a hero and the number of total nodes that refer to a comic."
   ]
  },
  {
   "cell_type": "code",
   "execution_count": 422,
   "id": "3123f5b9",
   "metadata": {},
   "outputs": [],
   "source": [
    "def nodes(graph, graph_type):\n",
    "    # if graph type is equal to 1, return the total number of nodes\n",
    "    if graph_type == 1:\n",
    "        return (f\"The graph has {graph.number_of_nodes()} nodes\")\n",
    "        \n",
    "    #if instead graph type is equal to 2, count all nodes that refer to a hero and all nodes that refer to a comic and return them.\n",
    "    else:   \n",
    "        attributes = nx.get_node_attributes(graph, 'type')\n",
    "        count_hero = list(attributes.values()).count('hero')\n",
    "        count_comic = list(attributes.values()).count('comic')\n",
    "        return (f\"The graph has {count_hero} nodes referring to heros and {count_comic} nodes referring to comics.\")"
   ]
  },
  {
   "cell_type": "markdown",
   "id": "925bb5ee",
   "metadata": {},
   "source": [
    "#### F1.2 The number of collaborations of each superhero with the others (only if type 1)"
   ]
  },
  {
   "cell_type": "markdown",
   "id": "30fe6dcf",
   "metadata": {},
   "source": [
    "- The following function takes as input the graph, the type of graph and the number of top N heroes to be considered and outputs the number of collaborations of each hero with the others."
   ]
  },
  {
   "cell_type": "code",
   "execution_count": 423,
   "id": "176e570c",
   "metadata": {},
   "outputs": [],
   "source": [
    "def collaborations(graph, graph_type, N= None):\n",
    "    # If graph type is equal to 2 we can't compute it.\n",
    "    if graph_type == 2:\n",
    "        return (\"Sorry, I can't compute the number of collaborations of each superhero with the others for type 2 graphs, only for type 1 graphs.\")\n",
    "        \n",
    "    else:\n",
    "        \n",
    "        # Create a new empty dictionary\n",
    "        node_degrees = {}\n",
    "    \n",
    "        # Compute the degree of each node and add it to the dictionary\n",
    "        for node in graph:\n",
    "            degree = graph.degree(node)\n",
    "            node_degrees[node] = degree\n",
    "            \n",
    "        # Sort the dictionary by its values\n",
    "        sorted_dict = dict(sorted(node_degrees.items(), key=lambda x: x[1], reverse=True))\n",
    "        \n",
    "        \n",
    "        # So far we have created an ordered dictionary where we have heroes as keys and as values the number of collaborations\n",
    "        # they have. How ever we want a dictionary sorted by top N heroes. Let's do it!\n",
    "        \n",
    "        \n",
    "        # Create a new empty dictionary\n",
    "        dizionario_filtrato = {}\n",
    "        \n",
    "        # Go through the list of top N heroes and add hero after hero to the dictionary, with its corresponding value of collaborations.\n",
    "        top_heroes = topNsuperherosGraph(G1, N)\n",
    "        node_list = []\n",
    "        for node in top_heroes.nodes():\n",
    "            node_list.append(node)\n",
    "        for elemento in node_list:\n",
    "            if elemento in sorted_dict:\n",
    "                dizionario_filtrato[elemento] = sorted_dict[elemento]\n",
    "                \n",
    "        # Return the first N element of the dictionary (which are the top N heroes)  \n",
    "        return dict(islice(dizionario_filtrato.items(), N))"
   ]
  },
  {
   "cell_type": "markdown",
   "id": "2341bc78",
   "metadata": {},
   "source": [
    "**F1.3 The number of heroes that have appeared in each comic (only if type 2)**"
   ]
  },
  {
   "cell_type": "markdown",
   "id": "a3faf83e",
   "metadata": {},
   "source": [
    "- The following function takes as input the graph, the type of graph and an integer N and returns as output an ordered dictionary of length N, in which there are comics as key and as values the number of heroes appeared in that comic. \n",
    "\n",
    "\n",
    "- The decision to give N as input (which in the final function 'features' actually indicates the number of top N heroes) is due to the fact that taking the whole dictionary (and not just the first N elements), the function returns a dictionary of length 12651, and in terms of visualization for the final function it wasn't confortable."
   ]
  },
  {
   "cell_type": "code",
   "execution_count": 424,
   "id": "6491e503",
   "metadata": {},
   "outputs": [],
   "source": [
    "def heros_per_comic(graph, graph_type, N= None):\n",
    "    # If graph type is equal to 1 we can't compute it.\n",
    "    if graph_type == 1:\n",
    "        return (\"Sorry, I can't compute the number of heroes that have appeared in each comic for type 1 graphs, only for type 2 graphs.\")\n",
    "    \n",
    "    else:\n",
    "        # Create a dictionary that has the node as the key and the type of that node as the value (comic or hero)\n",
    "        attributes = nx.get_node_attributes(graph, 'type')\n",
    "        \n",
    "        # Crea filtered_d, ovvero un dizionario che ha come elementi solo nodi di tipo 'comic'\n",
    "        filtered_d = {k: v for k, v in attributes.items() if v != 'hero'}\n",
    "        \n",
    "        # Create a new empty dictionary\n",
    "        final_d = {}\n",
    "        \n",
    "        # For each key in filtered_d (which would all be nodes of type comic), calculate the degree and add to the final_d \n",
    "        # dictionary that node as the key and the degree as the value\n",
    "        for i in filtered_d:\n",
    "            final_d[i] = graph.degree(i)\n",
    "            \n",
    "        # Sort the dictionary by its values\n",
    "        sorted_d = dict(sorted(final_d.items(), key=lambda item: item[1], reverse = True))\n",
    "        \n",
    "        # Returns the first N elements of the dictionary\n",
    "        return dict(islice(sorted_d.items(), N))"
   ]
  },
  {
   "cell_type": "markdown",
   "id": "74c2dffb",
   "metadata": {},
   "source": [
    "**F1.4 The network's density**"
   ]
  },
  {
   "cell_type": "markdown",
   "id": "70a227f0",
   "metadata": {},
   "source": [
    "- In a network, density refers to the number of edges in the network compared to the total number of possible edges. A network with a high density has a large number of edges, while a network with a low density has few of them.\n",
    "\n",
    "\n",
    "- To compute the density of a network, we need to use the following formula:\n",
    "  - Density = (Number of edges in the network) / (Total number of possible edges)"
   ]
  },
  {
   "cell_type": "code",
   "execution_count": 425,
   "id": "a4a9ebbc",
   "metadata": {},
   "outputs": [],
   "source": [
    "def density(graph):\n",
    "    # Compute the total number of nodes\n",
    "    num_edges = graph.number_of_edges()\n",
    "    # Compute the total number of edges\n",
    "    num_possible_edges = (graph.number_of_nodes() * (graph.number_of_nodes() - 1)) / 2\n",
    "    # Compute the density\n",
    "    density = num_edges / num_possible_edges\n",
    "    return round(density,4)"
   ]
  },
  {
   "cell_type": "markdown",
   "id": "f5b43f12",
   "metadata": {},
   "source": [
    "**F1.5 The network's degree distribution**"
   ]
  },
  {
   "cell_type": "markdown",
   "id": "4e7c234d",
   "metadata": {},
   "source": [
    "- The distribution degree of a graph is a measure of how often different degrees of nodes appear within the graph. The following function takes the graph as input and returns the degree distribution, i.e. a dictionary whose keys are the degrees of the nodes of the graph and as values it has the number of nodes within the graph that have that degree."
   ]
  },
  {
   "cell_type": "code",
   "execution_count": 426,
   "id": "c41df720",
   "metadata": {},
   "outputs": [],
   "source": [
    "def distribution(graph):\n",
    "  # Create an empty dictionary to count the number of nodes with each degree\n",
    "  degree_count = {}\n",
    "\n",
    "  # Iterate over the nodes of the graph\n",
    "  for node in graph.nodes():\n",
    "    # Get the degree of the current node using the degree method of NetworkX\n",
    "    degree = graph.degree(node)\n",
    "\n",
    "    # If the degree is not yet in the dictionary, add a new entry\n",
    "    if degree not in degree_count:\n",
    "        degree_count[degree] = 0\n",
    "\n",
    "    # Increment the counter for the current degree\n",
    "    degree_count[degree] += 1\n",
    "\n",
    "  # Sort the dictionary by keys (the degrees of the nodes) in ascending order\n",
    "  degree_count = sorted(degree_count.items(), key=lambda x: x[0])\n",
    "\n",
    "  # Return the sorted dictionary\n",
    "  return dict(degree_count)"
   ]
  },
  {
   "cell_type": "markdown",
   "id": "2e796624",
   "metadata": {},
   "source": [
    "**F1.6 The average degree of the network**"
   ]
  },
  {
   "cell_type": "markdown",
   "id": "25faa8ae",
   "metadata": {},
   "source": [
    "- The following function takes a graph as input and returns the average degree of that graph. The average degree would be the sum of all the degrees of the nodes, divided by how many nodes there are within the graph."
   ]
  },
  {
   "cell_type": "code",
   "execution_count": 427,
   "id": "773ce17d",
   "metadata": {},
   "outputs": [],
   "source": [
    "def average_degre(graph):\n",
    "    # Initialize the total degree counter to zero\n",
    "    total_degree = 0\n",
    "  \n",
    "    # Iterate over the nodes of the graph and add the degree of every node to the total degree counter\n",
    "    for node in graph:\n",
    "        total_degree += len(graph[node])\n",
    "  \n",
    "    # Divide the total degree by the number of nodes in the graph and return the rounded result\n",
    "    return round(total_degree / len(graph))"
   ]
  },
  {
   "cell_type": "markdown",
   "id": "e73ef193",
   "metadata": {},
   "source": [
    "**F1.7 The network's Hubs (hubs are nodes having degrees more extensive than the 95th percentile of the degree distribution)**"
   ]
  },
  {
   "cell_type": "code",
   "execution_count": 737,
   "id": "dded811e",
   "metadata": {},
   "outputs": [],
   "source": [
    "def get_hubs(graph):\n",
    "    # Find the distribution of degrees in the graph\n",
    "    distribution_degree = distribution(graph)\n",
    "    c = 0\n",
    "    q = 0\n",
    "\n",
    "    # Iterate over the degree distribution\n",
    "    for i, j in distribution_degree.items():\n",
    "        # If the cumulative count is less than 95th percentile set q as the last degree of iteration. This means that after this\n",
    "        # for loop q will be the degree such that the nodes of the graph having degree > q are the network's hubs\n",
    "        if c <= (95 * (graph.number_of_nodes()) / 100):\n",
    "            c += j\n",
    "            q = i\n",
    "\n",
    "    # Get the degree for each node in the graph\n",
    "    nodes_degree = dict(graph.degree())\n",
    "    hubs = []\n",
    "    # Iterate over the degree of each node\n",
    "    for i, j in nodes_degree.items():\n",
    "        # If the degree of the node is greater than q means that is a hub node, so add it to the list of hubs\n",
    "        if j > q:\n",
    "            hubs.append(i)\n",
    "\n",
    "    # Return the list of hubs\n",
    "    return hubs"
   ]
  },
  {
   "cell_type": "markdown",
   "id": "6dff1c2a",
   "metadata": {},
   "source": [
    "**F1.8 Whether the Network is sparse or dense**"
   ]
  },
  {
   "cell_type": "code",
   "execution_count": 739,
   "id": "c81ff738",
   "metadata": {},
   "outputs": [],
   "source": [
    "def dense_or_sparse(graph):\n",
    "    # if the density graph is < 0.5 return Sparse, otherwise return Dense\n",
    "    if density(graph) < 0.5:\n",
    "        return 'Sparse'\n",
    "    else:\n",
    "        return 'Dense'"
   ]
  },
  {
   "cell_type": "markdown",
   "id": "a39f9d67",
   "metadata": {},
   "source": [
    "### Final function of FUNCIONALITY 1"
   ]
  },
  {
   "cell_type": "code",
   "execution_count": 508,
   "id": "eaab744b",
   "metadata": {},
   "outputs": [],
   "source": [
    "def features(graph, graph_type, N = None):\n",
    "    if (graph_type != 1) & (graph_type != 2):\n",
    "        return 'The type of graph entered is no correct.'\n",
    "    else:\n",
    "        nodi = nodes(graph, graph_type)\n",
    "        n_collaborations = collaborations(graph, graph_type, N)\n",
    "        n_heros_each_comic = heros_per_comic(graph, graph_type, N)\n",
    "        densità = density(graph)\n",
    "        network_degree_distribution = distribution(graph)\n",
    "        average_degree = average_degre(graph)\n",
    "        hubs = get_hubs(graph)\n",
    "        dense_sparse = dense_or_sparse(graph)\n",
    "    print('1)', nodi)\n",
    "    print('*'*120)\n",
    "    print('2)', n_collaborations)\n",
    "    print('*'*120)\n",
    "    print('3) The number of heroes that have appeared in each comic are: ', n_heros_each_comic)\n",
    "    print('*'*120)\n",
    "    print('4) The density of the graph is ', densità)\n",
    "    print('*'*120)\n",
    "    print('5) The network degree distribution is: ', network_degree_distribution)\n",
    "    print('*'*120)\n",
    "    print('6) The average degree of the network is ', average_degree)\n",
    "    print('*'*120)\n",
    "    print('7) The hubs of the graph are: ', hubs)\n",
    "    print('*'*120)\n",
    "    print('8) The graph is ', dense_sparse)"
   ]
  },
  {
   "cell_type": "markdown",
   "id": "2f1ebf6c",
   "metadata": {},
   "source": [
    "**EXAMPLE**"
   ]
  },
  {
   "cell_type": "code",
   "execution_count": 741,
   "id": "0d4b3d72",
   "metadata": {},
   "outputs": [
    {
     "name": "stdout",
     "output_type": "stream",
     "text": [
      "1) The graph has 6421 nodes\n",
      "************************************************************************************************************************\n",
      "2) {'CAPTAIN AMERICA': 1903, 'SCARLET WITCH/WANDA': 1322, 'THING/BENJAMIN J. GR': 1416, 'IRON MAN/TONY STARK': 1521, 'THOR/DR. DONALD BLAK': 1289, 'BEAST/HENRY &HANK& P': 1265, 'MR. FANTASTIC/REED R': 1377, 'WOLVERINE/LOGAN': 1368, 'HUMAN TORCH/JOHNNY S': 1361, 'SPIDER-MAN/PETER PAR': 1737}\n",
      "************************************************************************************************************************\n",
      "3) The number of heroes that have appeared in each comic are:  Sorry, I can't compute the number of heroes that have appeared in each comic for type 1 graphs, only for type 2 graphs.\n",
      "************************************************************************************************************************\n",
      "4) The density of the graph is  0.0081\n",
      "************************************************************************************************************************\n",
      "5) The network degree distribution is:  {1: 52, 2: 86, 3: 104, 4: 150, 5: 182, 6: 178, 7: 185, 8: 230, 9: 224, 10: 246, 11: 254, 12: 186, 13: 193, 14: 160, 15: 193, 16: 123, 17: 143, 18: 123, 19: 109, 20: 131, 21: 118, 22: 84, 23: 94, 24: 85, 25: 111, 26: 70, 27: 85, 28: 64, 29: 72, 30: 65, 31: 49, 32: 43, 33: 46, 34: 56, 35: 44, 36: 45, 37: 39, 38: 60, 39: 61, 40: 38, 41: 46, 42: 39, 43: 30, 44: 38, 45: 27, 46: 39, 47: 20, 48: 57, 49: 33, 50: 30, 51: 18, 52: 21, 53: 20, 54: 27, 55: 25, 56: 25, 57: 18, 58: 24, 59: 30, 60: 25, 61: 22, 62: 14, 63: 10, 64: 22, 65: 20, 66: 20, 67: 16, 68: 23, 69: 22, 70: 16, 71: 14, 72: 14, 73: 28, 74: 10, 75: 6, 76: 13, 77: 17, 78: 16, 79: 21, 80: 13, 81: 16, 82: 7, 83: 11, 84: 14, 85: 11, 86: 16, 87: 11, 88: 8, 89: 18, 90: 11, 91: 9, 92: 9, 93: 6, 94: 12, 95: 5, 96: 9, 97: 8, 98: 8, 99: 4, 100: 9, 101: 6, 102: 8, 103: 3, 104: 4, 105: 7, 106: 9, 107: 4, 108: 8, 109: 6, 110: 10, 111: 6, 112: 3, 113: 4, 114: 5, 115: 2, 116: 4, 117: 7, 118: 9, 119: 6, 120: 11, 121: 2, 122: 8, 123: 9, 124: 5, 125: 5, 126: 7, 127: 6, 128: 9, 129: 3, 130: 8, 131: 4, 132: 2, 133: 4, 134: 5, 135: 4, 136: 5, 137: 5, 138: 6, 139: 6, 140: 6, 141: 4, 142: 11, 143: 4, 144: 3, 145: 7, 146: 4, 147: 4, 148: 4, 149: 4, 150: 4, 151: 4, 152: 7, 153: 3, 154: 1, 156: 4, 157: 4, 158: 3, 159: 2, 161: 3, 162: 4, 163: 2, 164: 6, 165: 1, 166: 4, 167: 3, 169: 5, 170: 1, 171: 5, 172: 3, 173: 1, 175: 5, 176: 3, 177: 1, 178: 2, 179: 1, 180: 2, 181: 3, 182: 3, 183: 3, 184: 3, 185: 3, 186: 1, 187: 5, 188: 2, 189: 3, 190: 3, 191: 3, 192: 1, 193: 1, 195: 4, 196: 2, 197: 1, 198: 1, 199: 1, 200: 4, 201: 3, 203: 1, 204: 3, 205: 1, 206: 7, 208: 4, 209: 1, 210: 3, 211: 2, 212: 2, 213: 1, 214: 2, 215: 1, 216: 1, 217: 1, 218: 1, 220: 1, 221: 2, 222: 2, 224: 1, 225: 2, 226: 2, 228: 6, 229: 1, 230: 1, 231: 1, 232: 1, 233: 2, 234: 2, 235: 3, 236: 2, 238: 3, 239: 1, 241: 1, 242: 2, 243: 1, 244: 3, 246: 2, 249: 1, 250: 2, 251: 2, 252: 1, 253: 2, 254: 1, 255: 1, 257: 2, 258: 3, 260: 1, 261: 2, 262: 2, 263: 2, 265: 1, 266: 1, 268: 1, 270: 1, 271: 1, 273: 1, 275: 2, 277: 3, 279: 2, 280: 2, 281: 3, 282: 3, 283: 1, 284: 1, 286: 1, 289: 1, 292: 1, 294: 1, 296: 3, 298: 1, 299: 3, 300: 2, 301: 1, 302: 3, 304: 2, 310: 1, 311: 1, 316: 1, 317: 1, 319: 1, 321: 1, 323: 1, 324: 1, 329: 2, 330: 1, 332: 1, 333: 3, 334: 1, 335: 1, 337: 1, 343: 1, 344: 1, 349: 1, 350: 2, 352: 2, 355: 2, 359: 1, 365: 1, 366: 1, 370: 2, 371: 1, 376: 1, 377: 1, 379: 1, 380: 1, 384: 1, 389: 1, 393: 3, 394: 1, 395: 3, 397: 2, 398: 1, 402: 1, 406: 1, 407: 1, 410: 1, 411: 1, 414: 1, 420: 2, 421: 1, 423: 2, 425: 2, 429: 1, 432: 1, 435: 1, 438: 1, 439: 2, 442: 1, 444: 2, 445: 1, 446: 1, 449: 2, 451: 1, 452: 1, 456: 1, 457: 1, 460: 1, 465: 1, 476: 1, 481: 1, 484: 1, 488: 1, 489: 1, 497: 2, 502: 1, 503: 1, 516: 1, 520: 1, 522: 1, 526: 2, 531: 1, 534: 1, 537: 2, 539: 2, 541: 1, 550: 1, 563: 1, 572: 1, 581: 1, 585: 2, 595: 1, 607: 1, 610: 1, 613: 1, 635: 1, 641: 1, 643: 1, 648: 1, 667: 1, 679: 1, 692: 1, 701: 1, 711: 1, 718: 1, 731: 1, 740: 1, 779: 1, 800: 1, 829: 1, 857: 1, 875: 1, 920: 2, 922: 1, 944: 1, 967: 1, 977: 1, 986: 1, 989: 1, 1003: 1, 1023: 1, 1031: 1, 1032: 1, 1055: 1, 1065: 1, 1070: 2, 1071: 1, 1078: 1, 1082: 1, 1091: 1, 1175: 1, 1236: 1, 1238: 1, 1265: 1, 1289: 1, 1322: 1, 1361: 1, 1368: 1, 1377: 1, 1416: 1, 1521: 1, 1737: 1, 1903: 1}\n",
      "************************************************************************************************************************\n",
      "6) The average degree of the network is  52\n",
      "************************************************************************************************************************\n",
      "7) The hubs of the graph are:  ['ANGEL/WARREN KENNETH', 'ANT-MAN II/SCOTT HAR', 'AURORA/JEANNE-MARIE', \"BLACK PANTHER/T'CHAL\", 'BLACK WIDOW/NATASHA', 'CAGE, LUKE/CARL LUCA', 'CAPTAIN AMERICA', 'CRYSTAL [INHUMAN]', 'CYCLOPS/SCOTT SUMMER', 'DARKSTAR/LAYNIA SERG', 'DR. DRUID/ANTHONY LU', 'DR. STRANGE/STEPHEN', 'HAWK', 'IGOR', 'IKARIS/IKE HARRIS [E', 'INVISIBLE WOMAN/SUE', 'JACK OF HEARTS/JACK', 'JONES, RICHARD MILHO', 'KARNAK [INHUMAN]', 'LOCKJAW [INHUMAN]', 'MIKHLO', 'MOCKINGBIRD/DR. BARB', 'NORRISS, SISTER BARB', 'PHARAOH RAMA-TUT', 'PROFESSOR X/CHARLES', 'QUICKSILVER/PIETRO M', 'SABRA/RUTH BAT-SERAP', 'SASQUATCH/WALTER LAN', 'SCARLET WITCH/WANDA', 'SHADOWCAT/KATHERINE', 'SHE-HULK/JENNIFER WA', 'THING/BENJAMIN J. GR', 'TORPEDO III/BROCK JO', 'WHIZZER/ROBERT L. FR', 'BALDER [ASGARDIAN]', 'BALLANTINE, KAYLA', 'CAPTAIN MARVEL/CAPTA', 'FANDRAL [ASGARDIAN]', 'FURY, COL. NICHOLAS', 'HEIMDALL [ASGARDIAN]', 'HOGUN [ASGARDIAN]', 'IRON MAN/TONY STARK', 'JAMESON, J. JONAH', 'LOKI [ASGARDIAN]', 'MOONDRAGON/HEATHER D', 'ODIN [ASGARDIAN]', 'SIF', 'THOR/DR. DONALD BLAK', 'VOLSTAGG', 'NIGHTCRAWLER/KURT WA', 'ROGUE ', 'SABRETOOTH/VICTOR CR', 'CAPTAIN BRITAIN/BRIA', 'COLOSSUS II/PETER RA', 'MEGGAN', 'SPIRAL', 'WOLFSBANE/RAHNE SINC', 'DAREDEVIL/MATT MURDO', 'KINGPIN/WILSON FISK', 'BEAST/HENRY &HANK& P', 'GAMBIT/REMY LEBEAU', 'JUBILEE/JUBILATION L', 'MR. FANTASTIC/REED R', 'MYSTIQUE/RAVEN DARKH', 'WOLVERINE/LOGAN', 'BOOMER/TABITHA SMITH', 'CANNONBALL II/SAM GU', 'DOMINO III/BEATRICE', 'THUNDERBIRD II/JAMES', 'ANT-MAN/DR. HENRY J.', 'BANNER, BETTY ROSS T', 'CALLISTO', 'DOC SAMSON/DR. LEONA', 'ELECTRO/MAX DILLON', 'FALCON/SAM WILSON', 'FIREBIRD/BONITA JUAR', 'HAVOK/ALEX SUMMERS', 'HULK/DR. ROBERT BRUC', 'MARROW/SARAH', 'PSYLOCKE/ELISABETH B', 'RHINO', 'RICHARDS, FRANKLIN B', 'ROSS, GEN. THADDEUS', 'SILVER SURFER/NORRIN', 'STINGRAY/DR. WALTER', 'STORM/ORORO MUNROE S', 'SUB-MARINER/NAMOR MA', 'THUNDERSTRIKE/ERIC K', 'TRITON', 'WATSON-PARKER, MARY', 'WONDER MAN/SIMON WIL', 'X-MAN/NATHAN GREY', 'ETERNITY/ADAM QADMON', 'HUMAN TORCH/JOHNNY S', 'UATU', 'MASTER MOLD II', 'RICTOR/JULIO ESTEBAN', 'SHATTERSTAR II/GAVEE', 'SIRYN/THERESA ROURKE', 'SUMMERS, NATHAN CHRI', 'SUNSPOT/ROBERTO DACO', 'ABSORBING MAN/CARL C', 'APOCALYPSE/EN SABAH', 'BEYONDER', 'BINARY/CAROL DANVERS', 'BLACK KNIGHT V/DANE', 'CAPTAIN MARVEL II/MO', 'CITIZEN V II/HELMUT', 'DAZZLER II/ALLISON B', 'DR. DOOM/VICTOR VON', 'DR. OCTOPUS/OTTO OCT', 'DUGAN, TIMOTHY ALOYI', 'ENCHANTRESS/AMORA/HE', 'FIXER II/PAUL NORBER', 'GALACTUS/GALAN', 'GREEN GOBLIN/NORMAN', 'GYRICH, HENRY PETER', 'HERCULES [GREEK GOD]', 'HYDROMAN/MORRIE BENC', 'IRON MAN IV/JAMES R.', 'JARVIS, EDWIN', 'JUGGERNAUT/CAIN MARK', 'KINCAID, DR. JANE FO', 'KLAW/ULYSSES KLAW', 'LEEDS, BETTY BRANT', 'LOCKHEED', 'LYJA LAZERFIST [SKRU', 'MAGNETO/MAGNUS/ERIC', 'MEDUSA/MEDUSALITH AM', 'MISTER HYDE/CALVIN Z', 'MOONSTONE II/KARLA S', 'NELSON, FRANKLIN FOG', \"O'BRIEN, MICHAEL\", 'PAGE, KAREN', 'QUASAR III/WENDELL V', 'RED GHOST/IVAN KRAGO', 'REDWING', 'ROBERTSON, JOE', 'SCREAMING MIMI/MELIS', 'SPIDER-MAN/PETER PAR', 'SPIDER-WOMAN II/JULI', 'THENA', 'THOMPSON, EUGENE FLA', 'THUNDERBALL/DR. ELIO', 'TIGER SHARK/TODD ARL', 'TITANIA II/MARY SKEE', 'VISION', 'WASP/JANET VAN DYNE', 'WIZARD/BENTLEY WITTM', 'WRECKER III/DIRK GAR', 'DEATH', 'NOVA II/FRANKIE RAYE', 'SERSI/SYLVIA', 'CONSTRICTOR/FRANK PA', 'CORSAIR', 'DEADPOOL/JACK/WADE W', 'MEPHISTO', 'TRIATHLON/DELROY GAR', 'HELA [ASGARDIAN]', 'IRON FIST/DANIEL RAN', 'PUNISHER II/FRANK CA', 'MARVEL GIRL/JEAN GRE', 'STARFOX/EROS', 'FORGE', 'GARGOYLE II/ISAAC CH', 'ICEMAN/ROBERT BOBBY', 'ROM, SPACEKNIGHT', 'TIGRA/GREER NELSON', 'VANGUARD/NICOLAI KRY', 'JUSTICE II/VANCE AST', 'MOON KNIGHT/MARC SPE', 'FIRESTAR/ANGELICA JO', 'GEE/ALEX POWER', 'LIGHTSPEED/JULIE POW', 'NAMORITA/NITA PRENTI', 'NOVA/RICHARD RIDER', 'RAGE/ELVIN DARYL HAL', 'SPIDER-MAN CLONE/BEN', 'TURBO II (A)/MICHIKO', 'FIRELORD/PYREUS KRIL', 'HARKNESS, AGATHA', 'JAMESON, COL. JOHN', 'MASTERS, ALICIA REIS', 'DARKHAWK/CHRIS POWEL', 'CLEA', 'PARKER, MAY', 'SPEEDBALL/ROBBIE BAL', 'AVALANCHE/DOMINIC PE', 'BLOB/FRED J. DUKES', 'COOPER, DR. VALERIE', 'DESTINY II/IRENE ADL', 'LONGSHOT', 'MACTAGGERT, MOIRA KI', 'POLARIS/LORNA DANE', 'PYRO/ALLERDYCE JOHNN', 'SUMMERS, MADELYNE MA', 'WILD CHILD/KYLE GIBN', 'BANSHEE/SEAN CASSIDY', 'BOOMERANG/FRED MYERS', 'CHAMBER/JONOTHON STA', 'CLOAK/TYRONE JOHNSON', 'COUNTERWEIGHT II/KAT', 'SKIN/ANGELO ESPINOSA', 'SYNCH/EVERETT THOMAS', 'WHITE QUEEN/EMMA FRO', 'ZEUS', 'BRIDGE, GEORGE WASHI', 'PHOENIX III/RACHEL S', 'WONG', 'GHOST RIDER III/DAN', 'WARLOCK II/ADAM WARL', 'BISHOP ', \"DEATHBIRD [SHI'AR]\", 'HUMAN TORCH ANDROID', 'AJAK/TECUMOTZIN [ETE', 'MAKKARI/MIKE KHARY/I', 'BLACK BOLT/BLACKANTO', 'USAGENT/CAPTAIN JOHN', 'CALIBAN', 'SUNFIRE/SHIRO YOSHID', 'WARLOCK III', 'GORGON [INHUMAN]', 'LUNA/LUNA MAXIMOFF [', 'VASHTI', 'CHARCOAL/CHARLIE BUR', 'HOGAN, VIRGINIA PEPP', 'WHIPLASH/MARK SCARLO', 'NIGHT THRASHER/DUANE', 'SILHOUETTE', 'GRANDMASTER/EN DWI G', 'GUARDIAN/JAMES MACDO', 'HELLCAT/PATSY WALKER', 'HELLSTORM/DAIMON HEL', 'JOCASTA', 'KA-ZAR/KEVIN PLUNDER', 'MACHINE MAN/X-51', 'NORTHSTAR/JEAN-PAUL', 'PEATOR', \"SHANNA/SHANNA O'HARA\", 'SNOWBIRD/NARYA/ANNE', 'SPIDER-WOMAN/JESSICA', 'WEREWOLF BY NIGHT/JA', 'MULTIPLE MAN/JAMES A', 'STRONG GUY/GUIDO CAR', 'SUPREME INTELLIGENCE', 'HUDSON, HEATHER', 'PUCK/EUGENE MILTON J', 'NOMAD III/JACK MONRO', 'FIREFIST/RUSTY COLLI', 'LEECH', 'MADDICKS, ARTHUR ART', 'MIRAGE II/DANIELLE M', 'HOGAN, HAROLD J. HAP', 'KNIGHT, MISTY', 'WING, COLLEEN', 'ZABU', 'CYPHER/DOUG RAMSEY', 'MAGIK/ILLYANA RASPUT', 'TILBY, TRISH/PATRICI', 'TRAPSTER/PETER PETRU', 'BLACK CAT/FELICIA HA', 'GRANT, GLORIA GLORY', 'HOBGOBLIN V/JASON PH', 'PALADIN/PAUL DENNIS', 'SANDMAN/WILLIAM BAKE', 'SILVER SABLE', 'LIVING LIGHTNING/MIG', 'MANDARIN', 'LUMPKIN, WILLIAM WIL', 'DIAMONDBACK II/RACHE', 'ATTUMA', 'NIGHTHAWK II/KYLE RI', 'CARTER, PEGGY', 'COBRA/KLAUS VORHEES', 'VIPER II', 'BETA RAY BILL', 'HIGH EVOLUTIONARY/HE', 'EXECUTIONER II/SKURG', 'GLADIATOR II', 'LILANDRA NERAMANI [S', 'SITWELL, JASPER', 'JONES, GABE', 'OSBORN, LIZ ALLAN', 'TOAD/MORTIMER TOYNBE', 'DAGGER/TANDY BOWEN', \"KISMET/J'RIDIA STARD\", 'URICH, BEN', 'BEETLE/ABNER RONALD', 'JOLT/HALLIE TAKAHAMA', 'POWER MAN/ERIK JOSTE', 'WHIRLWIND/DAVID CANN', 'STANKOWICZ, FABIAN', 'BLACK KING/SEBASTIAN', 'CARGIL/JOANNA CARGIL', 'CITIZEN V III/DALLAS', 'CORBEAU, DR. PETER', 'COUNTERWEIGHT/JACK P', 'DAYTRIPPER/AMANDA SE', 'DRAX/ARTHUR DOUGLAS', 'GAMORA', 'GHOST RIDER II/JOHNN', 'HUSK/PAIGE GUTHRIE', 'KELLY, SEN. ROBERT E', 'MAGUS', 'MOLE MAN/HARVEY RUPE', 'MS. MARVEL II/SHARON', 'PIP/PRINCE GOFERN', 'PUPPET MASTER/PHILLI', 'SHAMAN/MICHAEL TWOYO', 'THANOS', 'THINKER', 'VULTURE/ADRIAN TOOME', 'OSBORN, HARRY', 'RED SKULL/JOHANN SCH', 'CARTER, SHARON', 'DE LA FONTAINE, CONT', 'MAGMA/AMARA AQUILLA', 'JAMESON, MARLA MADIS', 'WATSON, ANNA', 'BARON STRUCKER/WOLFG']\n",
      "************************************************************************************************************************\n",
      "8) The graph is  Sparse\n"
     ]
    }
   ],
   "source": [
    "features(G1, 1, 10)"
   ]
  },
  {
   "cell_type": "markdown",
   "id": "5debd9ce",
   "metadata": {},
   "source": [
    "## Functionality 2 - Find top superheroes!"
   ]
  },
  {
   "cell_type": "markdown",
   "id": "1bbdc1c2",
   "metadata": {},
   "source": [
    "We tried building and/or manipulating some given algorithms for the centrality measures. We could only do 3 out of 4 functions from scratch (DegreeCentrality, PageRank and ClosenessCentrality), meanwhile for the Betweenness we use the built-in function in networkx. These functions will then be implemented in our main function."
   ]
  },
  {
   "cell_type": "markdown",
   "id": "73bee2f0",
   "metadata": {},
   "source": [
    "**Degree Centrality**"
   ]
  },
  {
   "cell_type": "code",
   "execution_count": 435,
   "id": "0fface7d",
   "metadata": {},
   "outputs": [],
   "source": [
    "def degreeCentrality(G):\n",
    "    output_list = []\n",
    "    N = len(G.nodes())\n",
    "    degrees = G.degree()\n",
    "    for i in degrees:\n",
    "        output_sol = i[1]/(N-1)\n",
    "        output = i[0], output_sol\n",
    "        output_list.append(output)\n",
    "    return output_list"
   ]
  },
  {
   "cell_type": "markdown",
   "id": "e559df1f",
   "metadata": {},
   "source": [
    "**PageRank**"
   ]
  },
  {
   "cell_type": "code",
   "execution_count": 436,
   "id": "17b1d195",
   "metadata": {},
   "outputs": [],
   "source": [
    "def pageRank(G):\n",
    "    if len(G) == 0:\n",
    "        return {}\n",
    "    if not G.is_directed():\n",
    "        D = G.to_directed()\n",
    "    else:\n",
    "        D = G\n",
    "    W = nx.stochastic_graph(D, weight = 'weight')\n",
    "    N = W.number_of_nodes()\n",
    "    x = dict.fromkeys(W, 1.0 / N)\n",
    "    p = dict.fromkeys(W, 1.0 / N)\n",
    "    dweights = p\n",
    "    dnodes = [n for n in W if W.out_degree(n, weight = 'weight') == 0.0]\n",
    "    for i in range(100):\n",
    "        xlast = x\n",
    "        x = dict.fromkeys(xlast.keys(), 0)\n",
    "        dsum = 0.85*sum(xlast[n] for n in dnodes)\n",
    "        for n in x:\n",
    "            for number in W[n]:\n",
    "                x[number] += 0.85*xlast[n] * W[n][number]['weight']\n",
    "            x[n] += dsum * dweights[n] + (0.15)*p[n]\n",
    "        err = sum([abs(x[n] - xlast[n]) for n in x])\n",
    "        if err < N*(1.0e-6):\n",
    "            return x"
   ]
  },
  {
   "cell_type": "markdown",
   "id": "ac4b8b83",
   "metadata": {},
   "source": [
    "**Closeness Centrality**"
   ]
  },
  {
   "cell_type": "code",
   "execution_count": 437,
   "id": "70d12af6",
   "metadata": {},
   "outputs": [],
   "source": [
    "def closenessCentrality(G):\n",
    "    path_length = nx.single_source_shortest_path_length\n",
    "    nodes = G.nodes()\n",
    "    closeness_centrality = {}\n",
    "    for n in nodes:\n",
    "        sp = path_length(G,n)\n",
    "        totsp = sum(sp.values())\n",
    "        if totsp > 0.0 and len(G) > 1:\n",
    "            closeness_centrality[n] = (len(sp)-1.0) / totsp\n",
    "            s = (len(sp)-1.0) / ( len(G) - 1 )\n",
    "            closeness_centrality[n] *= s\n",
    "        else:\n",
    "            closeness_centrality[n] = 0.0\n",
    "    return closeness_centrality"
   ]
  },
  {
   "cell_type": "markdown",
   "id": "38faf823",
   "metadata": {},
   "source": [
    "From the exercise request, we understand that we need the data for only the top N superheros. Sometimes this N is given, but it should be set to None, which means that we need to consider the whole graph. If we set up a specific N number, then we need to build a graph which takes only the top N superheros with their data."
   ]
  },
  {
   "cell_type": "markdown",
   "id": "a9696236",
   "metadata": {},
   "source": [
    "Our main function is now ready to be set up."
   ]
  },
  {
   "cell_type": "code",
   "execution_count": 438,
   "id": "42df58d6",
   "metadata": {},
   "outputs": [],
   "source": [
    "def centralityMeasures(G, node, measure, N=None):\n",
    "    \"\"\"\n",
    "    INPUT:\n",
    "    'G' is our graph data\n",
    "    'Node' is the given node (which can be both a comic node or a hero node)\n",
    "    'Measure' is the centrality measure chosen by the user. It can either be: 'Betweenness', 'PageRank',\n",
    "              'ClosenessCentrality' or 'DegreeCentrality'\n",
    "    'N' is the number of top heros that we consider for our calculations\n",
    "    \n",
    "    OUTPUT:\n",
    "    First number is the given node's centrality value.\n",
    "    Second list is the metric's value over the considered graph.\n",
    "    \"\"\"\n",
    "    # We create the top N heros graph with the function we created before.\n",
    "    G_top_N = topNsuperherosGraph(G, N)\n",
    "    \n",
    "    if node in list(G_top_N.nodes()):\n",
    "        # We check if the node we chose is actually in the top N heros list or is a comic connected to a top N hero.\n",
    "        if measure == 'Betweenness':\n",
    "            centrality = nx.betweenness_centrality(G_top_N)\n",
    "            return centrality[node], centrality\n",
    "        elif measure == 'PageRank':\n",
    "            centrality = pageRank(G_top_N)\n",
    "            return centrality[node], centrality\n",
    "        elif measure == 'ClosenessCentrality':\n",
    "            centrality = closenessCentrality(G_top_N)\n",
    "            return centrality[node], centrality\n",
    "        elif measure == 'DegreeCentrality':\n",
    "            centrality = degreeCentrality(G_top_N)\n",
    "            # The degree centrality function returns a different type of list so we cannot\n",
    "            # use 'centrality[node]' because it doesn't work. \n",
    "            # This is what we do to get the centrality for the node instead:\n",
    "            for i in range(len(centrality)):\n",
    "                if centrality[i][0] == node:\n",
    "                    return centrality[i][1], centrality\n",
    "    else:\n",
    "        return 'Node not available'"
   ]
  },
  {
   "cell_type": "markdown",
   "id": "05b758c2",
   "metadata": {},
   "source": [
    "### Betweenness Centrality"
   ]
  },
  {
   "cell_type": "code",
   "execution_count": 472,
   "id": "accd4634",
   "metadata": {},
   "outputs": [],
   "source": [
    "bet_centrality = centralityMeasures(G1, 'SPIDER-MAN/PETER PAR', 'Betweenness', 20)"
   ]
  },
  {
   "cell_type": "markdown",
   "id": "1e46e14d",
   "metadata": {},
   "source": [
    "Let’s run an example for the betweenness centrality for the graph 1 with N=20, also getting the centrality for node ‘SPIDER-MAN/PETER PAR’. We notice that all the nodes have the same centrality values: this makes sense since the Betweenness centrality for each node is the number of the shortest paths that pass through the node, and these nodes are all mutually connected. For the last 2 nodes the betweenness was too low to print any number."
   ]
  },
  {
   "cell_type": "code",
   "execution_count": 473,
   "id": "16607d0e",
   "metadata": {},
   "outputs": [
    {
     "data": {
      "text/plain": [
       "(0.0003248862897985705,\n",
       " {'ANGEL/WARREN KENNETH': 0.0003248862897985705,\n",
       "  'CAPTAIN AMERICA': 0.0003248862897985705,\n",
       "  'CYCLOPS/SCOTT SUMMER': 0.0003248862897985705,\n",
       "  'HAWK': 0.0003248862897985705,\n",
       "  'SHE-HULK/JENNIFER WA': 0.0003248862897985705,\n",
       "  'THING/BENJAMIN J. GR': 0.0003248862897985705,\n",
       "  'THOR/DR. DONALD BLAK': 0.0003248862897985705,\n",
       "  'COLOSSUS II/PETER RA': 0.0003248862897985705,\n",
       "  'BEAST/HENRY &HANK& P': 0.0003248862897985705,\n",
       "  'MR. FANTASTIC/REED R': 0.0003248862897985705,\n",
       "  'ANT-MAN/DR. HENRY J.': 0.0003248862897985705,\n",
       "  'HULK/DR. ROBERT BRUC': 0.0003248862897985705,\n",
       "  'STORM/ORORO MUNROE S': 0.0003248862897985705,\n",
       "  'WONDER MAN/SIMON WIL': 0.0003248862897985705,\n",
       "  'HUMAN TORCH/JOHNNY S': 0.0003248862897985705,\n",
       "  'HERCULES [GREEK GOD]': 0.0003248862897985705,\n",
       "  'SPIDER-MAN/PETER PAR': 0.0003248862897985705,\n",
       "  'MARVEL GIRL/JEAN GRE': 0.0003248862897985705,\n",
       "  'IRON MAN/TONY STARK': 0.0,\n",
       "  'WOLVERINE/LOGAN': 0.0})"
      ]
     },
     "execution_count": 473,
     "metadata": {},
     "output_type": "execute_result"
    }
   ],
   "source": [
    "bet_centrality"
   ]
  },
  {
   "cell_type": "code",
   "execution_count": 474,
   "id": "303da91d",
   "metadata": {},
   "outputs": [],
   "source": [
    "bet_centralities = bet_centrality[1]\n",
    "avg_centrality_bet = sum(bet_centralities.values())/len(bet_centralities)\n",
    "centrality_node_bet = bet_centrality[0]"
   ]
  },
  {
   "cell_type": "markdown",
   "id": "45c13e0e",
   "metadata": {},
   "source": [
    "### PageRank"
   ]
  },
  {
   "cell_type": "code",
   "execution_count": 475,
   "id": "ed78898c",
   "metadata": {},
   "outputs": [],
   "source": [
    "pr_centrality = centralityMeasures(G1, 'SPIDER-MAN/PETER PAR', 'PageRank', 20)"
   ]
  },
  {
   "cell_type": "markdown",
   "id": "b8353c11",
   "metadata": {},
   "source": [
    "Let’s run an example for the pagerank centrality for the graph 1 with N=20, also getting the centrality for node ‘SPIDER-MAN/PETER PAR’. The pagerank centrality quantifies how important a node is, so the value will be higher if the node is linked to other important nodes or if it’s highly linked. Looking at the overall graph centralities and the centrality for the chosen node, we can see that there are no high values."
   ]
  },
  {
   "cell_type": "code",
   "execution_count": 476,
   "id": "5145775b",
   "metadata": {},
   "outputs": [
    {
     "data": {
      "text/plain": [
       "(0.0478774393821525,\n",
       " {'ANGEL/WARREN KENNETH': 0.05400066408541315,\n",
       "  'CAPTAIN AMERICA': 0.028538636998911716,\n",
       "  'CYCLOPS/SCOTT SUMMER': 0.0485751003051934,\n",
       "  'HAWK': 0.05660401427396757,\n",
       "  'SHE-HULK/JENNIFER WA': 0.046839821940995875,\n",
       "  'THING/BENJAMIN J. GR': 0.03441989060295252,\n",
       "  'THOR/DR. DONALD BLAK': 0.04425937717539627,\n",
       "  'COLOSSUS II/PETER RA': 0.06663120307743224,\n",
       "  'BEAST/HENRY &HANK& P': 0.03743839798851418,\n",
       "  'MR. FANTASTIC/REED R': 0.03951450382021051,\n",
       "  'ANT-MAN/DR. HENRY J.': 0.060643238342412344,\n",
       "  'HULK/DR. ROBERT BRUC': 0.04878209072952566,\n",
       "  'STORM/ORORO MUNROE S': 0.05989994136310842,\n",
       "  'WONDER MAN/SIMON WIL': 0.055321691729485846,\n",
       "  'HUMAN TORCH/JOHNNY S': 0.03724234154636447,\n",
       "  'HERCULES [GREEK GOD]': 0.06597056469381696,\n",
       "  'SPIDER-MAN/PETER PAR': 0.0478774393821525,\n",
       "  'MARVEL GIRL/JEAN GRE': 0.07580153024521297,\n",
       "  'IRON MAN/TONY STARK': 0.04448913159008936,\n",
       "  'WOLVERINE/LOGAN': 0.04715042010884425})"
      ]
     },
     "execution_count": 476,
     "metadata": {},
     "output_type": "execute_result"
    }
   ],
   "source": [
    "pr_centrality"
   ]
  },
  {
   "cell_type": "code",
   "execution_count": 477,
   "id": "a7f1ccf8",
   "metadata": {},
   "outputs": [],
   "source": [
    "pr_centralities = pr_centrality[1]\n",
    "avg_centrality_pr = sum(pr_centralities.values())/len(pr_centralities)\n",
    "centrality_node_pr = pr_centrality[0]"
   ]
  },
  {
   "cell_type": "markdown",
   "id": "ce51d7a8",
   "metadata": {},
   "source": [
    "### Closeness Centrality"
   ]
  },
  {
   "cell_type": "code",
   "execution_count": 484,
   "id": "aa9afbc7",
   "metadata": {},
   "outputs": [],
   "source": [
    "cl_centrality = centralityMeasures(G1, 'SPIDER-MAN/PETER PAR', 'ClosenessCentrality', 20)"
   ]
  },
  {
   "cell_type": "markdown",
   "id": "3a67c9bf",
   "metadata": {},
   "source": [
    "Let’s run an example for the closeness centrality for the graph 1 with N=20, also getting the centrality for node ‘SPIDER-MAN/PETER PAR’. We notice most of the graph’s values are equal to 1, but it makes sense if we think that closeness centrality, quite literally, quantifies how central a node is so how close it is to all the other nodes, and these nodes are all mutually connected."
   ]
  },
  {
   "cell_type": "code",
   "execution_count": 485,
   "id": "c50d4c05",
   "metadata": {},
   "outputs": [
    {
     "data": {
      "text/plain": [
       "(1.0,\n",
       " {'ANGEL/WARREN KENNETH': 1.0,\n",
       "  'CAPTAIN AMERICA': 1.0,\n",
       "  'CYCLOPS/SCOTT SUMMER': 1.0,\n",
       "  'HAWK': 1.0,\n",
       "  'SHE-HULK/JENNIFER WA': 1.0,\n",
       "  'THING/BENJAMIN J. GR': 1.0,\n",
       "  'THOR/DR. DONALD BLAK': 1.0,\n",
       "  'COLOSSUS II/PETER RA': 1.0,\n",
       "  'BEAST/HENRY &HANK& P': 1.0,\n",
       "  'MR. FANTASTIC/REED R': 1.0,\n",
       "  'ANT-MAN/DR. HENRY J.': 1.0,\n",
       "  'HULK/DR. ROBERT BRUC': 1.0,\n",
       "  'STORM/ORORO MUNROE S': 1.0,\n",
       "  'WONDER MAN/SIMON WIL': 1.0,\n",
       "  'HUMAN TORCH/JOHNNY S': 1.0,\n",
       "  'HERCULES [GREEK GOD]': 1.0,\n",
       "  'SPIDER-MAN/PETER PAR': 1.0,\n",
       "  'MARVEL GIRL/JEAN GRE': 1.0,\n",
       "  'IRON MAN/TONY STARK': 0.95,\n",
       "  'WOLVERINE/LOGAN': 0.95})"
      ]
     },
     "execution_count": 485,
     "metadata": {},
     "output_type": "execute_result"
    }
   ],
   "source": [
    "cl_centrality"
   ]
  },
  {
   "cell_type": "code",
   "execution_count": 486,
   "id": "46911002",
   "metadata": {},
   "outputs": [],
   "source": [
    "cl_centralities = cl_centrality[1]\n",
    "avg_centrality_cl = sum(cl_centralities.values())/len(cl_centralities)\n",
    "centrality_node_cl = cl_centrality[0]"
   ]
  },
  {
   "cell_type": "markdown",
   "id": "9ab880df",
   "metadata": {},
   "source": [
    "### Degree Centrality"
   ]
  },
  {
   "cell_type": "code",
   "execution_count": 487,
   "id": "a0c5480b",
   "metadata": {},
   "outputs": [],
   "source": [
    "deg_centrality = centralityMeasures(G1, 'SPIDER-MAN/PETER PAR', 'DegreeCentrality', 20)"
   ]
  },
  {
   "cell_type": "markdown",
   "id": "8e386f8a",
   "metadata": {},
   "source": [
    "Let’s run an example for the degree centrality for the graph 1 with N=20, also getting the centrality for node ‘SPIDER-MAN/PETER PAR’. The degree centrality (this one is standardized, so it’s divided by N-1) counts how many links are connected to a node. Since, as we said before, the graph we’re considering has nodes that are all mutually connected, we understand why most of our responses are equal to 1."
   ]
  },
  {
   "cell_type": "code",
   "execution_count": 488,
   "id": "01b6f93f",
   "metadata": {},
   "outputs": [
    {
     "data": {
      "text/plain": [
       "(1.0,\n",
       " [('ANGEL/WARREN KENNETH', 1.0),\n",
       "  ('CAPTAIN AMERICA', 1.0),\n",
       "  ('CYCLOPS/SCOTT SUMMER', 1.0),\n",
       "  ('HAWK', 1.0),\n",
       "  ('SHE-HULK/JENNIFER WA', 1.0),\n",
       "  ('THING/BENJAMIN J. GR', 1.0),\n",
       "  ('THOR/DR. DONALD BLAK', 1.0),\n",
       "  ('COLOSSUS II/PETER RA', 1.0),\n",
       "  ('BEAST/HENRY &HANK& P', 1.0),\n",
       "  ('MR. FANTASTIC/REED R', 1.0),\n",
       "  ('ANT-MAN/DR. HENRY J.', 1.0),\n",
       "  ('HULK/DR. ROBERT BRUC', 1.0),\n",
       "  ('STORM/ORORO MUNROE S', 1.0),\n",
       "  ('WONDER MAN/SIMON WIL', 1.0),\n",
       "  ('HUMAN TORCH/JOHNNY S', 1.0),\n",
       "  ('HERCULES [GREEK GOD]', 1.0),\n",
       "  ('SPIDER-MAN/PETER PAR', 1.0),\n",
       "  ('MARVEL GIRL/JEAN GRE', 1.0),\n",
       "  ('IRON MAN/TONY STARK', 0.9473684210526315),\n",
       "  ('WOLVERINE/LOGAN', 0.9473684210526315)])"
      ]
     },
     "execution_count": 488,
     "metadata": {},
     "output_type": "execute_result"
    }
   ],
   "source": [
    "deg_centrality"
   ]
  },
  {
   "cell_type": "code",
   "execution_count": 489,
   "id": "ea73ec3a",
   "metadata": {},
   "outputs": [],
   "source": [
    "deg_centralities = deg_centrality[1]\n",
    "sum_deg_centralities = 0\n",
    "for i in range(len(deg_centralities)):\n",
    "    sum_deg_centralities += deg_centralities[i][1]\n",
    "avg_centrality_deg = sum_deg_centralities/len(deg_centralities)\n",
    "centrality_node_deg = deg_centrality[0]"
   ]
  },
  {
   "cell_type": "markdown",
   "id": "5aa0075f",
   "metadata": {},
   "source": [
    "## Functionality 3 - Shortest ordered Route"
   ]
  },
  {
   "cell_type": "code",
   "execution_count": null,
   "id": "8e9e2483",
   "metadata": {},
   "outputs": [],
   "source": []
  },
  {
   "cell_type": "code",
   "execution_count": null,
   "id": "747f1e9d",
   "metadata": {},
   "outputs": [],
   "source": []
  },
  {
   "cell_type": "code",
   "execution_count": null,
   "id": "baceac72",
   "metadata": {},
   "outputs": [],
   "source": []
  },
  {
   "cell_type": "code",
   "execution_count": null,
   "id": "f9e65759",
   "metadata": {},
   "outputs": [],
   "source": []
  },
  {
   "cell_type": "code",
   "execution_count": null,
   "id": "3534e997",
   "metadata": {},
   "outputs": [],
   "source": []
  },
  {
   "cell_type": "markdown",
   "id": "7483efcc",
   "metadata": {},
   "source": [
    "## Functionality 4 - Disconnecting Graphs"
   ]
  },
  {
   "cell_type": "markdown",
   "id": "9b839132",
   "metadata": {},
   "source": [
    "Since the function for the point 2.4 only asks how many links are required to disconnect the graph into two subgraphs, the function's output will be a number."
   ]
  },
  {
   "cell_type": "code",
   "execution_count": 490,
   "id": "ce4265ce",
   "metadata": {},
   "outputs": [],
   "source": [
    "def disconnectingGraph(G, heroA, heroB, N = None):\n",
    "    \n",
    "    G_top_N = topNsuperherosGraph(G, N)\n",
    "    G_copy = G_top_N.copy()\n",
    "    start = len(G_top_N.edges()) # Number of edges before removing them\n",
    "    \n",
    "    while nx.has_path(G_copy, heroA, heroB) == True: \n",
    "        # It keeps going until there's no path between heroA and heroB\n",
    "        \n",
    "        shortpath = list(nx.all_shortest_paths(G_copy, heroA, heroB))\n",
    "        # It returns the list of all the shortest paths between the two nodes.\n",
    "        \n",
    "        remove_edges = []\n",
    "            \n",
    "        for i in shortpath:\n",
    "            if len(i) == 2:\n",
    "                G_copy.remove_edge(heroA, heroB)\n",
    "            else:\n",
    "                middle = len(i)//2\n",
    "                app = i[middle], i[middle+1] # Middle node and the one next to it\n",
    "                remove_edges.append(app)\n",
    "                G_copy.remove_edges_from(set(remove_edges))\n",
    "    return start - len(G_copy.edges()) # Count of edges that we removed"
   ]
  },
  {
   "cell_type": "code",
   "execution_count": 492,
   "id": "59c6ac2e",
   "metadata": {},
   "outputs": [
    {
     "data": {
      "text/plain": [
       "98"
      ]
     },
     "execution_count": 492,
     "metadata": {},
     "output_type": "execute_result"
    }
   ],
   "source": [
    "# Example\n",
    "disconnectingGraph(G1, 'VISION', 'SPIDER-MAN/PETER PAR', 100)"
   ]
  },
  {
   "cell_type": "markdown",
   "id": "327b16cd",
   "metadata": {},
   "source": [
    "## Functionality 5 - Extracting Communities"
   ]
  },
  {
   "cell_type": "markdown",
   "id": "a00ea1dd",
   "metadata": {},
   "source": [
    "**F5.1 The minimum number of edges that should be removed to form communities**"
   ]
  },
  {
   "cell_type": "code",
   "execution_count": 672,
   "id": "148f8c81",
   "metadata": {},
   "outputs": [],
   "source": [
    "def edge_to_remove(graph):\n",
    "    G_dict = nx.edge_betweenness_centrality(graph)\n",
    "    edge = ()\n",
    "\n",
    "    # extract the edge with highest edge betweenness centrality score\n",
    "    for key, value in sorted(G_dict.items(), key=lambda item: item[1], reverse = True):\n",
    "        edge = key\n",
    "        break\n",
    "\n",
    "    return edge"
   ]
  },
  {
   "cell_type": "code",
   "execution_count": 673,
   "id": "87a24105",
   "metadata": {},
   "outputs": [],
   "source": [
    "def girvan_newman(graph):\n",
    "    \n",
    "    # find number of connected components\n",
    "    sg = nx.connected_components(graph)\n",
    "    sg_count = nx.number_connected_components(graph)\n",
    "    edges_removed = 0\n",
    "\n",
    "    # continue removing edges until there is more than one connected component\n",
    "    while sg_count == 1:\n",
    "        # remove an edge from the graph\n",
    "        graph.remove_edge(edge_to_remove(graph)[0], edge_to_remove(graph)[1])\n",
    "        # update the connected components\n",
    "        sg = nx.connected_components(graph)\n",
    "        sg_count = nx.number_connected_components(graph)\n",
    "        # increment the count of removed edges\n",
    "        edges_removed += 1\n",
    "\n",
    "    # return the number of removed edges\n",
    "    return edges_removed"
   ]
  },
  {
   "cell_type": "markdown",
   "id": "b69ddf9b",
   "metadata": {},
   "source": [
    "**F5.2 A list of communities, each containing a list of heroes that belong to them.**"
   ]
  },
  {
   "cell_type": "code",
   "execution_count": 751,
   "id": "bf5e4e5c",
   "metadata": {},
   "outputs": [],
   "source": [
    "def list_communities(graph):\n",
    "    girvan_newman(graph)\n",
    "    \n",
    "    # find the connected components in the graph\n",
    "    communities = nx.connected_components(graph)\n",
    "\n",
    "    node_groups = []\n",
    "\n",
    "    # add each community to a empty list called node_groups in order to have a nested list where every sublist i referred to a \n",
    "    #single community\n",
    "    for i in communities:\n",
    "        node_groups.append(list(i))\n",
    "\n",
    "    # return the list of node groups\n",
    "    return node_groups"
   ]
  },
  {
   "cell_type": "markdown",
   "id": "99cfd6d2",
   "metadata": {},
   "source": [
    "**F5.3 If the Hero_1 and Hero_2 belongs to the same community**"
   ]
  },
  {
   "cell_type": "code",
   "execution_count": 752,
   "id": "f5b7d89d",
   "metadata": {},
   "outputs": [],
   "source": [
    "def heroes_same_communities(graph, hero1, hero2):\n",
    "    communities = list_communities(graph)\n",
    "    for i in communities:\n",
    "        if hero1 in i and hero2 in i:\n",
    "            return ('The hero', hero1, 'is in the same communities of the hero', hero2)\n",
    "    return ('The hero', hero1, 'is NOT in the same communities of the hero', hero2)"
   ]
  },
  {
   "cell_type": "markdown",
   "id": "cacd2361",
   "metadata": {},
   "source": [
    "### Final function of FUNCIONALITY 5"
   ]
  },
  {
   "cell_type": "code",
   "execution_count": 753,
   "id": "72002823",
   "metadata": {},
   "outputs": [],
   "source": [
    "def functionality5(graph, N, hero1, hero2):\n",
    "    \n",
    "    top_heroes = topNsuperherosGraph(graph,N)\n",
    "    \n",
    "    min_edges = girvan_newman(top_heroes)\n",
    "    \n",
    "    communities = list_communities(top_heroes)\n",
    "    \n",
    "    same_communities = heroes_same_communities(top_heroes, hero1, hero2)\n",
    "\n",
    "    print ('1) The minimum number of edges that should be removed to form communities are ', min_edges)\n",
    "    print ('*'*120)\n",
    "    print(\"2) The heroes that are found within the communities are :\", communities)\n",
    "    print ('*'*120)\n",
    "    print('3)', same_communities)\n",
    "    "
   ]
  },
  {
   "cell_type": "markdown",
   "id": "354302e7",
   "metadata": {},
   "source": [
    "**EXAMPLE**"
   ]
  },
  {
   "cell_type": "code",
   "execution_count": 754,
   "id": "909db298",
   "metadata": {},
   "outputs": [
    {
     "name": "stdout",
     "output_type": "stream",
     "text": [
      "1) The minimum number of edges that should be removed to form communities are  9\n",
      "************************************************************************************************************************\n",
      "2) The heroes that are found within the communities are : [['CAPTAIN AMERICA'], ['SCARLET WITCH/WANDA', 'MR. FANTASTIC/REED R', 'BEAST/HENRY &HANK& P', 'THOR/DR. DONALD BLAK', 'SPIDER-MAN/PETER PAR', 'THING/BENJAMIN J. GR', 'WOLVERINE/LOGAN', 'IRON MAN/TONY STARK', 'HUMAN TORCH/JOHNNY S']]\n",
      "************************************************************************************************************************\n",
      "3) ('The hero', 'CAPTAIN AMERICA', 'is NOT in the same communities of the hero', 'IRON MAN/TONY STARK')\n"
     ]
    }
   ],
   "source": [
    "functionality5(G1, 10, 'CAPTAIN AMERICA', 'IRON MAN/TONY STARK')"
   ]
  },
  {
   "cell_type": "markdown",
   "id": "46cbcf4d",
   "metadata": {},
   "source": [
    "# QUESTION 3: FRONTED IMPLEMENTATION"
   ]
  },
  {
   "cell_type": "markdown",
   "id": "de37faf8",
   "metadata": {},
   "source": [
    "## Visualization 1 - Visualize some features of the network "
   ]
  },
  {
   "cell_type": "markdown",
   "id": "8fced120",
   "metadata": {},
   "source": [
    "**V1.1  A table containing the following general information about the graph:**\n",
    "\n",
    "- Number of nodes in the network\n",
    "- Density of the network\n",
    "- Average degree of the network\n",
    "- Whether the network is sparse or dense"
   ]
  },
  {
   "cell_type": "code",
   "execution_count": 732,
   "id": "a7002f62",
   "metadata": {},
   "outputs": [],
   "source": [
    "def table(graph):\n",
    "    \n",
    "    #Let's create a dataframe in which there are 4 columns that correspond to the 4 requests    \n",
    "    dataframe = pd.DataFrame([{'nodes' : graph.number_of_nodes(), 'densità' : density(graph),\n",
    "                  'average_degree' : average_degre(graph), 'sparse_dense' : dense_or_sparse(graph)}])\n",
    "    \n",
    "    return dataframe.set_index(['nodes', 'densità', 'average_degree', 'sparse_dense'])"
   ]
  },
  {
   "cell_type": "markdown",
   "id": "35ab903b",
   "metadata": {},
   "source": [
    "**FOR THE FIRST GRAPH**"
   ]
  },
  {
   "cell_type": "code",
   "execution_count": 733,
   "id": "bff099dc",
   "metadata": {},
   "outputs": [
    {
     "data": {
      "text/html": [
       "<div>\n",
       "<style scoped>\n",
       "    .dataframe tbody tr th:only-of-type {\n",
       "        vertical-align: middle;\n",
       "    }\n",
       "\n",
       "    .dataframe tbody tr th {\n",
       "        vertical-align: top;\n",
       "    }\n",
       "\n",
       "    .dataframe thead th {\n",
       "        text-align: right;\n",
       "    }\n",
       "</style>\n",
       "<table border=\"1\" class=\"dataframe\">\n",
       "  <thead>\n",
       "    <tr style=\"text-align: right;\">\n",
       "      <th></th>\n",
       "      <th></th>\n",
       "      <th></th>\n",
       "      <th></th>\n",
       "    </tr>\n",
       "    <tr>\n",
       "      <th>nodes</th>\n",
       "      <th>densità</th>\n",
       "      <th>average_degree</th>\n",
       "      <th>sparse_dense</th>\n",
       "    </tr>\n",
       "  </thead>\n",
       "  <tbody>\n",
       "    <tr>\n",
       "      <th>6421</th>\n",
       "      <th>0.0081</th>\n",
       "      <th>52</th>\n",
       "      <th>Sparse</th>\n",
       "    </tr>\n",
       "  </tbody>\n",
       "</table>\n",
       "</div>"
      ],
      "text/plain": [
       "Empty DataFrame\n",
       "Columns: []\n",
       "Index: [(6421, 0.0081, 52, Sparse)]"
      ]
     },
     "execution_count": 733,
     "metadata": {},
     "output_type": "execute_result"
    }
   ],
   "source": [
    "table(G1)"
   ]
  },
  {
   "cell_type": "markdown",
   "id": "a412316b",
   "metadata": {},
   "source": [
    "**FOR THE SECOND GRAPH**"
   ]
  },
  {
   "cell_type": "code",
   "execution_count": 734,
   "id": "35132a6c",
   "metadata": {},
   "outputs": [
    {
     "data": {
      "text/html": [
       "<div>\n",
       "<style scoped>\n",
       "    .dataframe tbody tr th:only-of-type {\n",
       "        vertical-align: middle;\n",
       "    }\n",
       "\n",
       "    .dataframe tbody tr th {\n",
       "        vertical-align: top;\n",
       "    }\n",
       "\n",
       "    .dataframe thead th {\n",
       "        text-align: right;\n",
       "    }\n",
       "</style>\n",
       "<table border=\"1\" class=\"dataframe\">\n",
       "  <thead>\n",
       "    <tr style=\"text-align: right;\">\n",
       "      <th></th>\n",
       "      <th></th>\n",
       "      <th></th>\n",
       "      <th></th>\n",
       "    </tr>\n",
       "    <tr>\n",
       "      <th>nodes</th>\n",
       "      <th>densità</th>\n",
       "      <th>average_degree</th>\n",
       "      <th>sparse_dense</th>\n",
       "    </tr>\n",
       "  </thead>\n",
       "  <tbody>\n",
       "    <tr>\n",
       "      <th>19087</th>\n",
       "      <th>0.0005</th>\n",
       "      <th>10</th>\n",
       "      <th>Sparse</th>\n",
       "    </tr>\n",
       "  </tbody>\n",
       "</table>\n",
       "</div>"
      ],
      "text/plain": [
       "Empty DataFrame\n",
       "Columns: []\n",
       "Index: [(19087, 0.0005, 10, Sparse)]"
      ]
     },
     "execution_count": 734,
     "metadata": {},
     "output_type": "execute_result"
    }
   ],
   "source": [
    "table(G2)"
   ]
  },
  {
   "cell_type": "markdown",
   "id": "80ca1206",
   "metadata": {},
   "source": [
    "**V1.2  A table that lists the network's hubs**"
   ]
  },
  {
   "cell_type": "code",
   "execution_count": 735,
   "id": "a34095c6",
   "metadata": {},
   "outputs": [],
   "source": [
    "def table_hubs(graph):\n",
    "    # Initialize empty dictionary to store hubs nodes and their degree\n",
    "    d = {}\n",
    "    \n",
    "    # Iterate over list of hubs nodes returned by get_hubs function written in functionality 1\n",
    "    for i in get_hubs(graph):\n",
    "        # Add entry to dictionary with hub node as key and its degree in the graph as value\n",
    "        d[i] = graph.degree(i)\n",
    "    \n",
    "    # Create Pandas DataFrame from dictionary with keys as index\n",
    "    df = pd.DataFrame.from_dict(d, orient='index', columns=['colonna_valori'])\n",
    "    \n",
    "    # Reset index and change column names\n",
    "    df.reset_index(inplace=True)\n",
    "    df.columns = ['hero/comic', 'degree']\n",
    "    \n",
    "    return df"
   ]
  },
  {
   "cell_type": "markdown",
   "id": "e4ed6548",
   "metadata": {},
   "source": [
    "**FOR THE FIRST GRAPH**"
   ]
  },
  {
   "cell_type": "code",
   "execution_count": 731,
   "id": "42ba40bc",
   "metadata": {},
   "outputs": [
    {
     "data": {
      "text/html": [
       "<div>\n",
       "<style scoped>\n",
       "    .dataframe tbody tr th:only-of-type {\n",
       "        vertical-align: middle;\n",
       "    }\n",
       "\n",
       "    .dataframe tbody tr th {\n",
       "        vertical-align: top;\n",
       "    }\n",
       "\n",
       "    .dataframe thead th {\n",
       "        text-align: right;\n",
       "    }\n",
       "</style>\n",
       "<table border=\"1\" class=\"dataframe\">\n",
       "  <thead>\n",
       "    <tr style=\"text-align: right;\">\n",
       "      <th></th>\n",
       "      <th>hero/comic</th>\n",
       "      <th>degree</th>\n",
       "    </tr>\n",
       "  </thead>\n",
       "  <tbody>\n",
       "    <tr>\n",
       "      <th>0</th>\n",
       "      <td>ANGEL/WARREN KENNETH</td>\n",
       "      <td>1070</td>\n",
       "    </tr>\n",
       "    <tr>\n",
       "      <th>1</th>\n",
       "      <td>ANT-MAN II/SCOTT HAR</td>\n",
       "      <td>410</td>\n",
       "    </tr>\n",
       "    <tr>\n",
       "      <th>2</th>\n",
       "      <td>AURORA/JEANNE-MARIE</td>\n",
       "      <td>406</td>\n",
       "    </tr>\n",
       "    <tr>\n",
       "      <th>3</th>\n",
       "      <td>BLACK PANTHER/T'CHAL</td>\n",
       "      <td>711</td>\n",
       "    </tr>\n",
       "    <tr>\n",
       "      <th>4</th>\n",
       "      <td>BLACK WIDOW/NATASHA</td>\n",
       "      <td>920</td>\n",
       "    </tr>\n",
       "    <tr>\n",
       "      <th>...</th>\n",
       "      <td>...</td>\n",
       "      <td>...</td>\n",
       "    </tr>\n",
       "    <tr>\n",
       "      <th>315</th>\n",
       "      <td>DE LA FONTAINE, CONT</td>\n",
       "      <td>261</td>\n",
       "    </tr>\n",
       "    <tr>\n",
       "      <th>316</th>\n",
       "      <td>MAGMA/AMARA AQUILLA</td>\n",
       "      <td>199</td>\n",
       "    </tr>\n",
       "    <tr>\n",
       "      <th>317</th>\n",
       "      <td>JAMESON, MARLA MADIS</td>\n",
       "      <td>251</td>\n",
       "    </tr>\n",
       "    <tr>\n",
       "      <th>318</th>\n",
       "      <td>WATSON, ANNA</td>\n",
       "      <td>277</td>\n",
       "    </tr>\n",
       "    <tr>\n",
       "      <th>319</th>\n",
       "      <td>BARON STRUCKER/WOLFG</td>\n",
       "      <td>206</td>\n",
       "    </tr>\n",
       "  </tbody>\n",
       "</table>\n",
       "<p>320 rows × 2 columns</p>\n",
       "</div>"
      ],
      "text/plain": [
       "               hero/comic  degree\n",
       "0    ANGEL/WARREN KENNETH    1070\n",
       "1    ANT-MAN II/SCOTT HAR     410\n",
       "2     AURORA/JEANNE-MARIE     406\n",
       "3    BLACK PANTHER/T'CHAL     711\n",
       "4     BLACK WIDOW/NATASHA     920\n",
       "..                    ...     ...\n",
       "315  DE LA FONTAINE, CONT     261\n",
       "316   MAGMA/AMARA AQUILLA     199\n",
       "317  JAMESON, MARLA MADIS     251\n",
       "318          WATSON, ANNA     277\n",
       "319  BARON STRUCKER/WOLFG     206\n",
       "\n",
       "[320 rows x 2 columns]"
      ]
     },
     "execution_count": 731,
     "metadata": {},
     "output_type": "execute_result"
    }
   ],
   "source": [
    "table_hubs(G1)"
   ]
  },
  {
   "cell_type": "markdown",
   "id": "d0c977fb",
   "metadata": {},
   "source": [
    "**FOR THE SECOND GRAPH**"
   ]
  },
  {
   "cell_type": "code",
   "execution_count": 730,
   "id": "15d4d429",
   "metadata": {},
   "outputs": [
    {
     "data": {
      "text/html": [
       "<div>\n",
       "<style scoped>\n",
       "    .dataframe tbody tr th:only-of-type {\n",
       "        vertical-align: middle;\n",
       "    }\n",
       "\n",
       "    .dataframe tbody tr th {\n",
       "        vertical-align: top;\n",
       "    }\n",
       "\n",
       "    .dataframe thead th {\n",
       "        text-align: right;\n",
       "    }\n",
       "</style>\n",
       "<table border=\"1\" class=\"dataframe\">\n",
       "  <thead>\n",
       "    <tr style=\"text-align: right;\">\n",
       "      <th></th>\n",
       "      <th>hero/comic</th>\n",
       "      <th>degree</th>\n",
       "    </tr>\n",
       "  </thead>\n",
       "  <tbody>\n",
       "    <tr>\n",
       "      <th>0</th>\n",
       "      <td>COC 1</td>\n",
       "      <td>111</td>\n",
       "    </tr>\n",
       "    <tr>\n",
       "      <th>1</th>\n",
       "      <td>Q 14</td>\n",
       "      <td>27</td>\n",
       "    </tr>\n",
       "    <tr>\n",
       "      <th>2</th>\n",
       "      <td>ABOMINATION/EMIL BLO</td>\n",
       "      <td>45</td>\n",
       "    </tr>\n",
       "    <tr>\n",
       "      <th>3</th>\n",
       "      <td>H2 278</td>\n",
       "      <td>53</td>\n",
       "    </tr>\n",
       "    <tr>\n",
       "      <th>4</th>\n",
       "      <td>SWII 7</td>\n",
       "      <td>41</td>\n",
       "    </tr>\n",
       "    <tr>\n",
       "      <th>...</th>\n",
       "      <td>...</td>\n",
       "      <td>...</td>\n",
       "    </tr>\n",
       "    <tr>\n",
       "      <th>922</th>\n",
       "      <td>ZABU</td>\n",
       "      <td>163</td>\n",
       "    </tr>\n",
       "    <tr>\n",
       "      <th>923</th>\n",
       "      <td>ZARAN/MAXIMILLIAN ZA</td>\n",
       "      <td>24</td>\n",
       "    </tr>\n",
       "    <tr>\n",
       "      <th>924</th>\n",
       "      <td>ZARRKO, ARTHUR</td>\n",
       "      <td>37</td>\n",
       "    </tr>\n",
       "    <tr>\n",
       "      <th>925</th>\n",
       "      <td>ZEUS</td>\n",
       "      <td>44</td>\n",
       "    </tr>\n",
       "    <tr>\n",
       "      <th>926</th>\n",
       "      <td>ZIMMER, ABE</td>\n",
       "      <td>26</td>\n",
       "    </tr>\n",
       "  </tbody>\n",
       "</table>\n",
       "<p>927 rows × 2 columns</p>\n",
       "</div>"
      ],
      "text/plain": [
       "               hero/comic  degree\n",
       "0                   COC 1     111\n",
       "1                    Q 14      27\n",
       "2    ABOMINATION/EMIL BLO      45\n",
       "3                  H2 278      53\n",
       "4                  SWII 7      41\n",
       "..                    ...     ...\n",
       "922                  ZABU     163\n",
       "923  ZARAN/MAXIMILLIAN ZA      24\n",
       "924        ZARRKO, ARTHUR      37\n",
       "925                  ZEUS      44\n",
       "926           ZIMMER, ABE      26\n",
       "\n",
       "[927 rows x 2 columns]"
      ]
     },
     "execution_count": 730,
     "metadata": {},
     "output_type": "execute_result"
    }
   ],
   "source": [
    "table_hubs(G2)"
   ]
  },
  {
   "cell_type": "markdown",
   "id": "edb03e40",
   "metadata": {},
   "source": [
    "**V1.3 A plot depicting the number of collaborations of each hero in descending order (if the graph is type 1)**"
   ]
  },
  {
   "cell_type": "markdown",
   "id": "c8d1a69b",
   "metadata": {},
   "source": [
    "- Inside the 'collaborations' function we have given as input N = 3, so the graph is displayed only for the first top 3 heroes. This choice is due to the fact that an N > 3 made the heroes' names all stick together (in the x-axis of the graph), so in terms of display it was not the best choice."
   ]
  },
  {
   "cell_type": "code",
   "execution_count": 195,
   "id": "41c3afeb",
   "metadata": {},
   "outputs": [
    {
     "data": {
      "image/png": "[encoded data removed]",
      "text/plain": [
       "<Figure size 576x396 with 1 Axes>"
      ]
     },
     "metadata": {},
     "output_type": "display_data"
    }
   ],
   "source": [
    "# We create a list of tuples, where inside each tuple is the name of the hero and the number of collaborations it has made.\n",
    "plot_sort_hero = sorted(collaborations(G1,1,3).items(), key=lambda x: x[1], reverse = True)\n",
    "\n",
    "height = [t[1] for t in plot_sort_hero]\n",
    "bars = [t[0] for t in plot_sort_hero]\n",
    "y_pos = np.arange(len(bars))\n",
    "\n",
    "plt.bar(y_pos, height)\n",
    "plt.xticks(y_pos, bars)\n",
    "plt.show()"
   ]
  },
  {
   "cell_type": "markdown",
   "id": "cac9de5d",
   "metadata": {},
   "source": [
    "**V1.4 A plot depicting the number of heroes who appeared in each comic, sorted in descending order (if the graph is type 2)**"
   ]
  },
  {
   "cell_type": "markdown",
   "id": "19579c64",
   "metadata": {},
   "source": [
    "- Same reason of above, inside the 'heros_per_comic' function we have given as input N = 9, so the graph is displayed only for the first top 9 comics (top in terms of number of heroes appeared). This choice is due to the fact that an N > 9 made the comics' names all stick together (in the x-axis of the graph), so in terms of display it was not the best choice."
   ]
  },
  {
   "cell_type": "code",
   "execution_count": 203,
   "id": "fabcc0fa",
   "metadata": {},
   "outputs": [
    {
     "data": {
      "image/png": "[encoded data removed]",
      "text/plain": [
       "<Figure size 576x396 with 1 Axes>"
      ]
     },
     "metadata": {},
     "output_type": "display_data"
    }
   ],
   "source": [
    "# We create a list of tuples, where inside each tuple is the name of the comic and the number of heroes appeared in that comic.\n",
    "plot_sort_comic = sorted(heros_per_comic(G2, 2, 9).items(), key=lambda x: x[1], reverse = True)\n",
    "\n",
    "height = [t[1] for t in plot_sort_comic]\n",
    "bars = [t[0] for t in plot_sort_comic]\n",
    "y_pos = np.arange(len(bars))\n",
    "\n",
    "plt.bar(y_pos, height)\n",
    "plt.xticks(y_pos, bars)\n",
    "plt.show()"
   ]
  },
  {
   "cell_type": "markdown",
   "id": "aa202b0b",
   "metadata": {},
   "source": [
    "**V1.5 A plot depicting the degree distribution of the network**"
   ]
  },
  {
   "cell_type": "markdown",
   "id": "e4990ec0",
   "metadata": {},
   "source": [
    "- We decided to make two graphs that visualize the degree distribution for each graph:\n",
    "  - Histogram\n",
    "  - Scatter plot"
   ]
  },
  {
   "cell_type": "code",
   "execution_count": 271,
   "id": "59fda732",
   "metadata": {},
   "outputs": [],
   "source": [
    "def histogram(graph):\n",
    "    # Let's recall the distribution function and save it inside plot_v5_G1\n",
    "    plot_v5 = distribution(graph)\n",
    "\n",
    "    # Extract the dictionary keys and values into two separate lists\n",
    "    keys = list(plot_v5.keys())\n",
    "    values = list(plot_v5.values())\n",
    "\n",
    "    # We decided to create the histogram choosing 40 bins\n",
    "    plt.hist(values, bins=40, align='left')\n",
    "    plt.show()"
   ]
  },
  {
   "cell_type": "code",
   "execution_count": 272,
   "id": "4eed92df",
   "metadata": {},
   "outputs": [],
   "source": [
    "def scatter_plot(graph):\n",
    "    plot_v5 = distribution(graph)\n",
    "    \n",
    "    # Extract the dictionary keys and values into two separate lists\n",
    "    keys = list(plot_v5.keys())\n",
    "    values = list(plot_v5.values())\n",
    "\n",
    "    plt.scatter(keys, values)\n",
    "    plt.show()"
   ]
  },
  {
   "cell_type": "markdown",
   "id": "c304e43c",
   "metadata": {},
   "source": [
    "- Let's visualize the histogram for the first graph (G1)"
   ]
  },
  {
   "cell_type": "code",
   "execution_count": 273,
   "id": "dc63cb9c",
   "metadata": {},
   "outputs": [
    {
     "data": {
      "image/png": "[encoded data removed]",
      "text/plain": [
       "<Figure size 576x396 with 1 Axes>"
      ]
     },
     "metadata": {},
     "output_type": "display_data"
    }
   ],
   "source": [
    "histogram(G1)"
   ]
  },
  {
   "cell_type": "markdown",
   "id": "26cd2c07",
   "metadata": {},
   "source": [
    "- Let's visualize the scatter plot for the first graph (G1)"
   ]
  },
  {
   "cell_type": "code",
   "execution_count": 277,
   "id": "f49546bd",
   "metadata": {},
   "outputs": [
    {
     "data": {
      "image/png": "[encoded data removed]",
      "text/plain": [
       "<Figure size 576x396 with 1 Axes>"
      ]
     },
     "metadata": {},
     "output_type": "display_data"
    }
   ],
   "source": [
    "scatter_plot(G1)"
   ]
  },
  {
   "cell_type": "markdown",
   "id": "d0e274a1",
   "metadata": {},
   "source": [
    "- Let's visualize the histogram for the second graph (G2)"
   ]
  },
  {
   "cell_type": "code",
   "execution_count": 279,
   "id": "c61719e0",
   "metadata": {
    "scrolled": true
   },
   "outputs": [
    {
     "data": {
      "image/png": "[encoded data removed]",
      "text/plain": [
       "<Figure size 576x396 with 1 Axes>"
      ]
     },
     "metadata": {},
     "output_type": "display_data"
    }
   ],
   "source": [
    "histogram(G2)"
   ]
  },
  {
   "cell_type": "markdown",
   "id": "c55d6c2b",
   "metadata": {},
   "source": [
    "- Let's visualize the scatter plot for the second graph (G2)"
   ]
  },
  {
   "cell_type": "code",
   "execution_count": 280,
   "id": "defff4e6",
   "metadata": {},
   "outputs": [
    {
     "data": {
      "image/png": "[encoded data removed]",
      "text/plain": [
       "<Figure size 576x396 with 1 Axes>"
      ]
     },
     "metadata": {},
     "output_type": "display_data"
    }
   ],
   "source": [
    "scatter_plot(G2)"
   ]
  },
  {
   "cell_type": "markdown",
   "id": "cc28ca8c",
   "metadata": {},
   "source": [
    "## Visualization 2 - Visualize centrality measures"
   ]
  },
  {
   "cell_type": "code",
   "execution_count": 510,
   "id": "9729beb8",
   "metadata": {},
   "outputs": [],
   "source": [
    "df_vis2 = pd.DataFrame() # We create a new dataframe with all of our needed values."
   ]
  },
  {
   "cell_type": "code",
   "execution_count": 511,
   "id": "98e3ac19",
   "metadata": {},
   "outputs": [],
   "source": [
    "names_centralities = ['Betweenness', 'PageRank', 'Closeness', 'DegreeCentrality']\n",
    "avg_centralities = [avg_centrality_bet, avg_centrality_pr, avg_centrality_cl, avg_centrality_deg]\n",
    "centralities_node = [centrality_node_bet, centrality_node_pr, centrality_node_cl, centrality_node_deg]"
   ]
  },
  {
   "cell_type": "code",
   "execution_count": 512,
   "id": "f0a0da74",
   "metadata": {},
   "outputs": [],
   "source": [
    "df_vis2['Centrality'] = names_centralities"
   ]
  },
  {
   "cell_type": "code",
   "execution_count": 513,
   "id": "9a0d4908",
   "metadata": {},
   "outputs": [],
   "source": [
    "df_vis2['Avg Centrality'] = avg_centralities"
   ]
  },
  {
   "cell_type": "code",
   "execution_count": 514,
   "id": "46021c86",
   "metadata": {},
   "outputs": [],
   "source": [
    "df_vis2['Nodes centrality'] = centralities_node"
   ]
  },
  {
   "cell_type": "code",
   "execution_count": 515,
   "id": "e5697ffc",
   "metadata": {},
   "outputs": [
    {
     "data": {
      "text/html": [
       "<div>\n",
       "<style scoped>\n",
       "    .dataframe tbody tr th:only-of-type {\n",
       "        vertical-align: middle;\n",
       "    }\n",
       "\n",
       "    .dataframe tbody tr th {\n",
       "        vertical-align: top;\n",
       "    }\n",
       "\n",
       "    .dataframe thead th {\n",
       "        text-align: right;\n",
       "    }\n",
       "</style>\n",
       "<table border=\"1\" class=\"dataframe\">\n",
       "  <thead>\n",
       "    <tr style=\"text-align: right;\">\n",
       "      <th></th>\n",
       "      <th>Centrality</th>\n",
       "      <th>Avg Centrality</th>\n",
       "      <th>Nodes centrality</th>\n",
       "    </tr>\n",
       "  </thead>\n",
       "  <tbody>\n",
       "    <tr>\n",
       "      <th>0</th>\n",
       "      <td>Betweenness</td>\n",
       "      <td>0.000292</td>\n",
       "      <td>0.000325</td>\n",
       "    </tr>\n",
       "    <tr>\n",
       "      <th>1</th>\n",
       "      <td>PageRank</td>\n",
       "      <td>0.050000</td>\n",
       "      <td>0.047877</td>\n",
       "    </tr>\n",
       "    <tr>\n",
       "      <th>2</th>\n",
       "      <td>Closeness</td>\n",
       "      <td>0.995000</td>\n",
       "      <td>1.000000</td>\n",
       "    </tr>\n",
       "    <tr>\n",
       "      <th>3</th>\n",
       "      <td>DegreeCentrality</td>\n",
       "      <td>0.994737</td>\n",
       "      <td>1.000000</td>\n",
       "    </tr>\n",
       "  </tbody>\n",
       "</table>\n",
       "</div>"
      ],
      "text/plain": [
       "         Centrality  Avg Centrality  Nodes centrality\n",
       "0       Betweenness        0.000292          0.000325\n",
       "1          PageRank        0.050000          0.047877\n",
       "2         Closeness        0.995000          1.000000\n",
       "3  DegreeCentrality        0.994737          1.000000"
      ]
     },
     "execution_count": 515,
     "metadata": {},
     "output_type": "execute_result"
    }
   ],
   "source": [
    "df_vis2"
   ]
  },
  {
   "cell_type": "markdown",
   "id": "a75a0f22",
   "metadata": {},
   "source": [
    "This dataframe helps us with the visualization of all the centrality measures required for Functionality 2. Keep in mind that we chose Graph 1 with N=20 and node = ‘SPIDER-MAN/PETER PAR’. The results appear quite high for closeness and degree centrality, which makes sense because we’re talking about a graph that has (majority) of nodes connected with each other. Meanwhile, the average pagerank centrality is a lower value because every node in the graph, being a small graph and interconnected, is considered ‘important’, and the same goes for the betweenness. If we get a higher N number these results will probably change. The results will also change if we use Graph 2 instead of Graph 1, since the top N superheroes graph will not only get the top N superheroes but also the comics in which they appear. Anyway, this dataframe is a nice way to visualize every centrality measure (both the average over the whole graph and the chosen node’s centrality value) and to compare."
   ]
  },
  {
   "cell_type": "markdown",
   "id": "306af51e",
   "metadata": {},
   "source": [
    "## Visualization 3 - Visualize the shortest-ordered route"
   ]
  },
  {
   "cell_type": "code",
   "execution_count": null,
   "id": "fec6a6b1",
   "metadata": {},
   "outputs": [],
   "source": []
  },
  {
   "cell_type": "code",
   "execution_count": null,
   "id": "dc865daf",
   "metadata": {},
   "outputs": [],
   "source": []
  },
  {
   "cell_type": "code",
   "execution_count": null,
   "id": "884bdd7c",
   "metadata": {},
   "outputs": [],
   "source": []
  },
  {
   "cell_type": "code",
   "execution_count": null,
   "id": "3a01f7a9",
   "metadata": {},
   "outputs": [],
   "source": []
  },
  {
   "cell_type": "code",
   "execution_count": null,
   "id": "caac429e",
   "metadata": {},
   "outputs": [],
   "source": []
  },
  {
   "cell_type": "code",
   "execution_count": null,
   "id": "1c8a879d",
   "metadata": {},
   "outputs": [],
   "source": []
  },
  {
   "cell_type": "code",
   "execution_count": null,
   "id": "b4094dba",
   "metadata": {},
   "outputs": [],
   "source": []
  },
  {
   "cell_type": "code",
   "execution_count": null,
   "id": "a9ac1708",
   "metadata": {},
   "outputs": [],
   "source": []
  },
  {
   "cell_type": "code",
   "execution_count": null,
   "id": "206fd98b",
   "metadata": {},
   "outputs": [],
   "source": []
  },
  {
   "cell_type": "code",
   "execution_count": null,
   "id": "ebb9e985",
   "metadata": {},
   "outputs": [],
   "source": []
  },
  {
   "cell_type": "markdown",
   "id": "e44876e9",
   "metadata": {},
   "source": [
    "## Visualization 4 - Visualize the disconnected graph"
   ]
  },
  {
   "cell_type": "markdown",
   "id": "19cd4153",
   "metadata": {},
   "source": [
    "**V4.1 Print the number of the links that should be disconnected**"
   ]
  },
  {
   "cell_type": "code",
   "execution_count": 562,
   "id": "16b9444d",
   "metadata": {},
   "outputs": [
    {
     "data": {
      "text/plain": [
       "9"
      ]
     },
     "execution_count": 562,
     "metadata": {},
     "output_type": "execute_result"
    }
   ],
   "source": [
    "# Example\n",
    "disconnectingGraph(G1, 'CAPTAIN AMERICA', 'SPIDER-MAN/PETER PAR', 10)"
   ]
  },
  {
   "cell_type": "markdown",
   "id": "9510c43a",
   "metadata": {},
   "source": [
    "**V4.2 Plot the original graph**"
   ]
  },
  {
   "cell_type": "code",
   "execution_count": 565,
   "id": "208cddaa",
   "metadata": {},
   "outputs": [],
   "source": [
    "G_top_N = topNsuperherosGraph(G1,10)"
   ]
  },
  {
   "cell_type": "code",
   "execution_count": 810,
   "id": "83078990",
   "metadata": {},
   "outputs": [
    {
     "data": {
      "image/png": "[encoded data removed]",
      "text/plain": [
       "<Figure size 432x288 with 1 Axes>"
      ]
     },
     "metadata": {},
     "output_type": "display_data"
    }
   ],
   "source": [
    "pos = nx.shell_layout(G_top_N)\n",
    "nx.draw(G_top_N, pos=pos, with_labels = True, width = 0.2)"
   ]
  },
  {
   "cell_type": "markdown",
   "id": "2a8c133f",
   "metadata": {},
   "source": [
    "**V4.3 Plot the graph after removing the links and identify the two nodes**"
   ]
  },
  {
   "cell_type": "code",
   "execution_count": 570,
   "id": "cf51832f",
   "metadata": {},
   "outputs": [],
   "source": [
    "def disconnectingGraphVisualization(G, heroA, heroB, N = None):\n",
    "    \n",
    "    G_top_N = topNsuperherosGraph(G, N)\n",
    "    G_copy = G_top_N.copy()\n",
    "    start = len(G_top_N.edges()) # Number of edges before removing them\n",
    "    \n",
    "    while nx.has_path(G_copy, heroA, heroB) == True: \n",
    "        # It keeps going until there's no path between heroA and heroB\n",
    "        \n",
    "        shortpath = list(nx.all_shortest_paths(G_copy, heroA, heroB))\n",
    "        # It returns the list of all the shortest paths between the two nodes.\n",
    "        \n",
    "        remove_edges = []\n",
    "            \n",
    "        for i in shortpath:\n",
    "            if len(i) == 2:\n",
    "                G_copy.remove_edge(heroA, heroB)\n",
    "            else:\n",
    "                middle = len(i)//2\n",
    "                app = i[middle], i[middle+1] # Middle node and the one next to it\n",
    "                remove_edges.append(app)\n",
    "                G_copy.remove_edges_from(set(remove_edges))\n",
    "    return G_copy # Count of edges that we removed"
   ]
  },
  {
   "cell_type": "code",
   "execution_count": 571,
   "id": "390d342f",
   "metadata": {},
   "outputs": [],
   "source": [
    "fun_4_graph = disconnectingGraphVisualization(G1, 'CAPTAIN AMERICA', 'SPIDER-MAN/PETER PAR', 10)"
   ]
  },
  {
   "cell_type": "code",
   "execution_count": 574,
   "id": "f9a68a52",
   "metadata": {},
   "outputs": [],
   "source": [
    "node_colors = ['red' if n in ['SPIDER-MAN/PETER PAR', 'CAPTAIN AMERICA'] else 'blue' for n in list(fun_4_graph.nodes())]\n",
    "node_sizes = [200 if n in ['SPIDER-MAN/PETER PAR', 'CAPTAIN AMERICA'] else 50 for n in list(fun_4_graph.nodes())]"
   ]
  },
  {
   "cell_type": "code",
   "execution_count": 809,
   "id": "d2fc7f7d",
   "metadata": {},
   "outputs": [
    {
     "data": {
      "image/png": "[encoded data removed]",
      "text/plain": [
       "<Figure size 504x504 with 1 Axes>"
      ]
     },
     "metadata": {},
     "output_type": "display_data"
    }
   ],
   "source": [
    "plt.figure(figsize=(7,7))\n",
    "pos = nx.shell_layout(G_top_N)\n",
    "nx.draw(fun_4_graph, with_labels=True, pos = pos, node_size = node_sizes, node_color = node_colors, width = 0.2)"
   ]
  },
  {
   "cell_type": "markdown",
   "id": "52a76d12",
   "metadata": {},
   "source": [
    "## Visualization 5 - Visualize the communities"
   ]
  },
  {
   "cell_type": "markdown",
   "id": "6358634e",
   "metadata": {},
   "source": [
    "For the visualization we have decided to take the graph containing only the top 20 heroes, in order to have a better visualization. So, in the following cell we call 'G_visualization' a graph containing only the first top 20 heroes."
   ]
  },
  {
   "cell_type": "code",
   "execution_count": 836,
   "id": "2ab1ec33",
   "metadata": {},
   "outputs": [],
   "source": [
    "G_visualization_original = topNsuperherosGraph(G1, 10)"
   ]
  },
  {
   "cell_type": "markdown",
   "id": "e76d5f4c",
   "metadata": {},
   "source": [
    "**Print the number of links that should be removed to have the communities**"
   ]
  },
  {
   "cell_type": "code",
   "execution_count": 838,
   "id": "5b6423cc",
   "metadata": {},
   "outputs": [
    {
     "data": {
      "text/plain": [
       "9"
      ]
     },
     "execution_count": 838,
     "metadata": {},
     "output_type": "execute_result"
    }
   ],
   "source": [
    "G_visualization_community = topNsuperherosGraph(G1, 10)\n",
    "girvan_newman(G_visualization_community)"
   ]
  },
  {
   "cell_type": "markdown",
   "id": "65ecbd23",
   "metadata": {},
   "source": [
    "**A table depicting the communities and the heroes that belong to each community**"
   ]
  },
  {
   "cell_type": "code",
   "execution_count": 842,
   "id": "c7530cf1",
   "metadata": {},
   "outputs": [
    {
     "data": {
      "text/html": [
       "<div>\n",
       "<style scoped>\n",
       "    .dataframe tbody tr th:only-of-type {\n",
       "        vertical-align: middle;\n",
       "    }\n",
       "\n",
       "    .dataframe tbody tr th {\n",
       "        vertical-align: top;\n",
       "    }\n",
       "\n",
       "    .dataframe thead th {\n",
       "        text-align: right;\n",
       "    }\n",
       "</style>\n",
       "<table border=\"1\" class=\"dataframe\">\n",
       "  <thead>\n",
       "    <tr style=\"text-align: right;\">\n",
       "      <th></th>\n",
       "      <th>hero</th>\n",
       "      <th>community</th>\n",
       "    </tr>\n",
       "  </thead>\n",
       "  <tbody>\n",
       "    <tr>\n",
       "      <th>0</th>\n",
       "      <td>CAPTAIN AMERICA</td>\n",
       "      <td>1</td>\n",
       "    </tr>\n",
       "    <tr>\n",
       "      <th>1</th>\n",
       "      <td>SCARLET WITCH/WANDA</td>\n",
       "      <td>2</td>\n",
       "    </tr>\n",
       "    <tr>\n",
       "      <th>2</th>\n",
       "      <td>MR. FANTASTIC/REED R</td>\n",
       "      <td>2</td>\n",
       "    </tr>\n",
       "    <tr>\n",
       "      <th>3</th>\n",
       "      <td>BEAST/HENRY &amp;HANK&amp; P</td>\n",
       "      <td>2</td>\n",
       "    </tr>\n",
       "    <tr>\n",
       "      <th>4</th>\n",
       "      <td>THOR/DR. DONALD BLAK</td>\n",
       "      <td>2</td>\n",
       "    </tr>\n",
       "    <tr>\n",
       "      <th>5</th>\n",
       "      <td>SPIDER-MAN/PETER PAR</td>\n",
       "      <td>2</td>\n",
       "    </tr>\n",
       "    <tr>\n",
       "      <th>6</th>\n",
       "      <td>THING/BENJAMIN J. GR</td>\n",
       "      <td>2</td>\n",
       "    </tr>\n",
       "    <tr>\n",
       "      <th>7</th>\n",
       "      <td>WOLVERINE/LOGAN</td>\n",
       "      <td>2</td>\n",
       "    </tr>\n",
       "    <tr>\n",
       "      <th>8</th>\n",
       "      <td>IRON MAN/TONY STARK</td>\n",
       "      <td>2</td>\n",
       "    </tr>\n",
       "    <tr>\n",
       "      <th>9</th>\n",
       "      <td>HUMAN TORCH/JOHNNY S</td>\n",
       "      <td>2</td>\n",
       "    </tr>\n",
       "  </tbody>\n",
       "</table>\n",
       "</div>"
      ],
      "text/plain": [
       "                   hero  community\n",
       "0       CAPTAIN AMERICA          1\n",
       "1   SCARLET WITCH/WANDA          2\n",
       "2  MR. FANTASTIC/REED R          2\n",
       "3  BEAST/HENRY &HANK& P          2\n",
       "4  THOR/DR. DONALD BLAK          2\n",
       "5  SPIDER-MAN/PETER PAR          2\n",
       "6  THING/BENJAMIN J. GR          2\n",
       "7       WOLVERINE/LOGAN          2\n",
       "8   IRON MAN/TONY STARK          2\n",
       "9  HUMAN TORCH/JOHNNY S          2"
      ]
     },
     "execution_count": 842,
     "metadata": {},
     "output_type": "execute_result"
    }
   ],
   "source": [
    "lista_com = list_communities(G_visualization_community)\n",
    "\n",
    "data = []\n",
    "c = 1\n",
    "for i in lista_com:\n",
    "    for j in i:\n",
    "        # Add a tuple to the list        \n",
    "        data.append((j, c))\n",
    "    c += 1\n",
    "\n",
    "# We transform the list into a dataframe\n",
    "df = pd.DataFrame(data, columns=['hero', 'community'])\n",
    "df"
   ]
  },
  {
   "cell_type": "markdown",
   "id": "b404fc62",
   "metadata": {},
   "source": [
    "So in this graph where we are considering only the first 10 top heroes, once the communities have been formed it can be seen that there are two communities, the first contains only Captain America, the second all the others heroes."
   ]
  },
  {
   "cell_type": "markdown",
   "id": "ce73b336",
   "metadata": {},
   "source": [
    "**Plot the original graph**"
   ]
  },
  {
   "cell_type": "code",
   "execution_count": 840,
   "id": "609aedcc",
   "metadata": {},
   "outputs": [
    {
     "data": {
      "image/png": "[encoded data removed]",
      "text/plain": [
       "<Figure size 936x576 with 1 Axes>"
      ]
     },
     "metadata": {},
     "output_type": "display_data"
    }
   ],
   "source": [
    "plt.figure(figsize=(13,8))\n",
    "plt.title('Original graph')\n",
    "pos = nx.circular_layout(G_visualization_original)\n",
    "nx.draw(G_visualization_original, with_labels=True,pos = pos, edge_color='green', width=0.2)\n",
    "plt.show()"
   ]
  },
  {
   "cell_type": "markdown",
   "id": "e68a92df",
   "metadata": {},
   "source": [
    "**Plot the graph showing the communities in the network**"
   ]
  },
  {
   "cell_type": "code",
   "execution_count": 843,
   "id": "245d643b",
   "metadata": {},
   "outputs": [
    {
     "data": {
      "image/png": "[encoded data removed]",
      "text/plain": [
       "<Figure size 1008x576 with 1 Axes>"
      ]
     },
     "metadata": {},
     "output_type": "display_data"
    }
   ],
   "source": [
    "plt.figure(figsize=(14,8))\n",
    "connected_subgraphs = [G_visualization_community.subgraph(c).copy() for c in nx.connected_components(G_visualization)]\n",
    "pos = nx.circular_layout(G_visualization_community)\n",
    "\n",
    "\n",
    "colors = ['red', 'blue']\n",
    "for i, g in enumerate(connected_subgraphs):\n",
    "    nx.draw(g, with_labels=True, pos = pos, width = 0.2, edge_color='green', node_color=colors[i % len(colors)])\n",
    "\n",
    "plt.show()"
   ]
  },
  {
   "cell_type": "markdown",
   "id": "97cb5b4d",
   "metadata": {},
   "source": [
    "**Plot the final graph and identify the community/communities of Hero_1 and Hero_2**"
   ]
  },
  {
   "cell_type": "code",
   "execution_count": 192,
   "id": "3bcff0ca",
   "metadata": {},
   "outputs": [],
   "source": [
    "hero_1 = 'CAPTAIN AMERICA'\n",
    "hero_2 = 'IRON MAN/TONY STARK'"
   ]
  },
  {
   "cell_type": "code",
   "execution_count": null,
   "id": "7484eb8f",
   "metadata": {},
   "outputs": [],
   "source": []
  },
  {
   "cell_type": "code",
   "execution_count": null,
   "id": "8272f149",
   "metadata": {},
   "outputs": [],
   "source": []
  },
  {
   "cell_type": "code",
   "execution_count": null,
   "id": "6a3c29ae",
   "metadata": {},
   "outputs": [],
   "source": []
  },
  {
   "cell_type": "code",
   "execution_count": 188,
   "id": "cf2a3e70",
   "metadata": {},
   "outputs": [
    {
     "data": {
      "image/png": "[encoded data removed]",
      "text/plain": [
       "<Figure size 432x288 with 1 Axes>"
      ]
     },
     "metadata": {},
     "output_type": "display_data"
    }
   ],
   "source": [
    "\n",
    "community_1 = lista_[0]\n",
    "community_2 = lista_[1]\n",
    "pos = nx.spring_layout(G_visualization)\n",
    "nx.draw_networkx_nodes(G_visualization, pos, nodelist=community_1, node_color='r')\n",
    "nx.draw_networkx_nodes(G_visualization, pos, nodelist=community_2, node_color='b')\n",
    "nx.draw_networkx_edges(G_visualization, pos)\n",
    "\n",
    "plt.show()"
   ]
  },
  {
   "cell_type": "code",
   "execution_count": null,
   "id": "7b77a993",
   "metadata": {},
   "outputs": [],
   "source": []
  },
  {
   "cell_type": "code",
   "execution_count": null,
   "id": "d96ccf8a",
   "metadata": {},
   "outputs": [],
   "source": []
  },
  {
   "cell_type": "code",
   "execution_count": null,
   "id": "de446582",
   "metadata": {},
   "outputs": [],
   "source": []
  },
  {
   "cell_type": "code",
   "execution_count": null,
   "id": "fac06794",
   "metadata": {},
   "outputs": [],
   "source": []
  },
  {
   "cell_type": "code",
   "execution_count": null,
   "id": "5d7c3a25",
   "metadata": {},
   "outputs": [],
   "source": []
  },
  {
   "cell_type": "code",
   "execution_count": null,
   "id": "8051821d",
   "metadata": {},
   "outputs": [],
   "source": []
  },
  {
   "cell_type": "markdown",
   "id": "c1159f2e",
   "metadata": {},
   "source": [
    "# QUESTION 6: ALGORITHMIC QUESTION"
   ]
  },
  {
   "cell_type": "code",
   "execution_count": 77,
   "id": "4a28269c",
   "metadata": {},
   "outputs": [],
   "source": [
    "def password(directions):\n",
    "    # This first part will be helpful for len(directions) equal to 5 and 6.\n",
    "    # If the number of UNIQUE directions, for each type of direction, exceeds 2 then it's not possible because\n",
    "    # that wouldn't fit in the 3x3 grid.\n",
    "    count_D = 0\n",
    "    count_L = 0\n",
    "    count_R = 0\n",
    "    count_U = 0\n",
    "    for i in directions:\n",
    "        if i == 'D':\n",
    "            count_D += 1\n",
    "        elif i == 'L':\n",
    "            count_L += 1\n",
    "        elif i == 'R':\n",
    "            count_R += 1\n",
    "        elif i == 'U':\n",
    "            count_U += 1\n",
    "    # We notice that for the len(directions) > 6 the solution would always be 0, because it's impossible\n",
    "    # to find a password that has 7 different unique directions without them ever intersecting. So we study every possible\n",
    "    # length from 1 to 6.\n",
    "    if len(directions) == 1 or len(directions) == 2:\n",
    "        return 9\n",
    "    elif len(directions) == 3:\n",
    "        return 15\n",
    "    elif len(directions) == 4:\n",
    "        if directions[0] == directions[2] and directions[1] == directions[3]:\n",
    "            return 1\n",
    "        # Examples: 'DRDR', 'LULU', 'DLDL'.\n",
    "        # These have only one option (each 'step' has the length of 1 segment)\n",
    "        # because the grid wouldn't fit more than 2 segments.\n",
    "        else:\n",
    "            return 5\n",
    "        # Examples: 'DRDL', 'URDR', 'DLUL', 'RULD', 'DLUR', 'LDRU'\n",
    "    elif len(directions) == 5:\n",
    "        if count_D > 2 or count_L > 2 or count_R > 2 or count_U > 2:\n",
    "            return 0\n",
    "        if directions == directions[::-1]:\n",
    "            return 8\n",
    "        # Examples: 'DRURD', 'LDRDL', 'RULUR'\n",
    "        # For this option we have 8 different options: this is because if the string is equal to its reverse then it creates\n",
    "        # a sort of 'S'. So we have 8 different options, counting if we decide to start from the top (for examples) or\n",
    "        # from the middle.\n",
    "        else:\n",
    "            if directions[0] == directions[-1]:\n",
    "                return 4\n",
    "            # Examples: 'DLURD', 'LDRUL', 'ULDRU'\n",
    "            # These directions have 4 possibilities without the line intersecting.\n",
    "            else:\n",
    "                return 2\n",
    "            # Examples: 'DLDRU', 'LDRUR', 'RDRUL'.\n",
    "            # Two different options for these directions. Mostly because we can only have either 1 or 2 directions of\n",
    "            # length = 2 segments, because then the 'busy' points, so the points where a segment has already passed through\n",
    "            # would be 8 (and 9, in these cases, is impossible).\n",
    "    elif len(directions) == 6:\n",
    "        if count_D > 2 or count_L > 2 or count_R > 2 or count_U > 2:\n",
    "            return 0\n",
    "        else:\n",
    "            if directions[0] != directions[4] and directions[1] == directions[5]:\n",
    "                return 2\n",
    "            # Example: 'DRULUR' = first D can either be 1 segment long or 2 segments long.\n",
    "            elif directions[0] != directions[4] and directions[1] != directions[5] and directions[0:1] == directions[2:3]:\n",
    "                return 1\n",
    "            elif directions[0] == directions[4] and directions[1] != directions[5]:\n",
    "                return 1\n",
    "            elif directions[0] != directions[4] and directions[1] != directions[5] and directions[0:1] != directions[2:3]:\n",
    "                return 3\n",
    "            # Examples: 'DRDRUL' = 1 option, 'RDLDLU' = 3 options, 'DRULUR' = 2 options.\n",
    "            elif directions[0] == directions[4] and directions[1] == directions[5]:\n",
    "                return 0\n",
    "    elif len(directions) > 6:\n",
    "        return 0"
   ]
  },
  {
   "cell_type": "markdown",
   "id": "71b53383",
   "metadata": {},
   "source": [
    "**Let's do some examples..**"
   ]
  },
  {
   "cell_type": "code",
   "execution_count": 78,
   "id": "5b3ab2ae",
   "metadata": {},
   "outputs": [
    {
     "data": {
      "text/plain": [
       "5"
      ]
     },
     "execution_count": 78,
     "metadata": {},
     "output_type": "execute_result"
    }
   ],
   "source": [
    "directions = 'DRDL'\n",
    "password(directions)"
   ]
  },
  {
   "cell_type": "code",
   "execution_count": 79,
   "id": "297fe3a2",
   "metadata": {},
   "outputs": [
    {
     "data": {
      "text/plain": [
       "8"
      ]
     },
     "execution_count": 79,
     "metadata": {},
     "output_type": "execute_result"
    }
   ],
   "source": [
    "directions = 'DRURD'\n",
    "password(directions)"
   ]
  },
  {
   "cell_type": "code",
   "execution_count": 80,
   "id": "00dd5b5b",
   "metadata": {},
   "outputs": [
    {
     "data": {
      "text/plain": [
       "15"
      ]
     },
     "execution_count": 80,
     "metadata": {},
     "output_type": "execute_result"
    }
   ],
   "source": [
    "directions = 'DRU'\n",
    "password(directions)"
   ]
  },
  {
   "cell_type": "code",
   "execution_count": 81,
   "id": "f8c29e96",
   "metadata": {},
   "outputs": [
    {
     "data": {
      "text/plain": [
       "0"
      ]
     },
     "execution_count": 81,
     "metadata": {},
     "output_type": "execute_result"
    }
   ],
   "source": [
    "directions = 'DRULDR'\n",
    "password(directions)"
   ]
  },
  {
   "cell_type": "code",
   "execution_count": null,
   "id": "efb06217",
   "metadata": {},
   "outputs": [],
   "source": []
  },
  {
   "cell_type": "code",
   "execution_count": null,
   "id": "aa71d443",
   "metadata": {},
   "outputs": [],
   "source": []
  },
  {
   "cell_type": "code",
   "execution_count": null,
   "id": "1f696397",
   "metadata": {},
   "outputs": [],
   "source": []
  },
  {
   "cell_type": "code",
   "execution_count": null,
   "id": "994b4fe4",
   "metadata": {},
   "outputs": [],
   "source": []
  },
  {
   "cell_type": "code",
   "execution_count": null,
   "id": "f04466e0",
   "metadata": {},
   "outputs": [],
   "source": []
  },
  {
   "cell_type": "code",
   "execution_count": 624,
   "id": "06869949",
   "metadata": {},
   "outputs": [
    {
     "data": {
      "text/html": [
       "<div>\n",
       "<style scoped>\n",
       "    .dataframe tbody tr th:only-of-type {\n",
       "        vertical-align: middle;\n",
       "    }\n",
       "\n",
       "    .dataframe tbody tr th {\n",
       "        vertical-align: top;\n",
       "    }\n",
       "\n",
       "    .dataframe thead th {\n",
       "        text-align: right;\n",
       "    }\n",
       "</style>\n",
       "<table border=\"1\" class=\"dataframe\">\n",
       "  <thead>\n",
       "    <tr style=\"text-align: right;\">\n",
       "      <th></th>\n",
       "      <th>hero1</th>\n",
       "      <th>hero2</th>\n",
       "    </tr>\n",
       "  </thead>\n",
       "  <tbody>\n",
       "  </tbody>\n",
       "</table>\n",
       "</div>"
      ],
      "text/plain": [
       "Empty DataFrame\n",
       "Columns: [hero1, hero2]\n",
       "Index: []"
      ]
     },
     "execution_count": 624,
     "metadata": {},
     "output_type": "execute_result"
    }
   ],
   "source": [
    "dfheros[dfheros.hero2 == 'IRON MAN/TONY STARK ']"
   ]
  },
  {
   "cell_type": "code",
   "execution_count": null,
   "id": "a668c6e3",
   "metadata": {},
   "outputs": [],
   "source": []
  }
 ],
 "metadata": {
  "kernelspec": {
   "display_name": "Python 3 (ipykernel)",
   "language": "python",
   "name": "python3"
  },
  "language_info": {
   "codemirror_mode": {
    "name": "ipython",
    "version": 3
   },
   "file_extension": ".py",
   "mimetype": "text/x-python",
   "name": "python",
   "nbconvert_exporter": "python",
   "pygments_lexer": "ipython3",
   "version": "3.9.12"
  }
 },
 "nbformat": 4,
 "nbformat_minor": 5
}
