{
 "cells": [
  {
   "cell_type": "markdown",
   "id": "8002599b",
   "metadata": {},
   "source": [
    "**ORE SPESE SU QUESTO HOMEWORK**\\\n",
    "- 2 ore il 14-12\n",
    "- 1 ora il 15-12\n",
    "- 2 ore il 16-12\n",
    "- 2 ore il 20-12\n",
    "- 3 ore il 22-12\n",
    "- 2 ore il 23-12\n",
    "- 3 ore il 24-12\n",
    "- 4 ore il 26-12\n",
    "- 2 ore l 27-12\n",
    "- 1 ora il 28-12\n",
    "- 2 ore il 29-12\n",
    "- 3 ore il 30-12\n",
    "- 2 ore il 02-01"
   ]
  },
  {
   "cell_type": "markdown",
   "id": "9025f49f",
   "metadata": {},
   "source": [
    "# TO DO LIST:\n",
    "- cancella le prime librerie importate a fine homewrok, stanno li solo per comodita\n",
    "- sistemare i pesi nel grafo 1\n",
    "\n",
    "\n",
    "# CONTROLLATO TUTTO FINO A:\n",
    "- dall'inizio alla fun 7 (esclusa) è tutto ricontrollato alla perfezione , tranne la parte di graphs set up\n",
    "- vis1: tutto ricontrollato tranne il punto 2 della vis1"
   ]
  },
  {
   "cell_type": "code",
   "execution_count": 13,
   "id": "5f72eb6b",
   "metadata": {},
   "outputs": [],
   "source": [
    "#DA CANCELLARE\n",
    "\n",
    "import pandas as pd\n",
    "from datetime import datetime\n",
    "import numpy as np\n",
    "import seaborn as sns\n",
    "import matplotlib.pyplot as plt\n",
    "from sklearn import preprocessing\n",
    "from sklearn.decomposition import PCA\n",
    "from matplotlib.pyplot import figure\n",
    "from scipy.spatial.distance import cdist\n",
    "from random import randint\n",
    "from sklearn.cluster import KMeans\n",
    "from yellowbrick.cluster import KElbowVisualizer\n",
    "from collections import defaultdict\n",
    "from operator import itemgetter\n",
    "from yellowbrick.cluster import SilhouetteVisualizer\n",
    "from sklearn.metrics import calinski_harabasz_score\n",
    "from sklearn.metrics import silhouette_score\n",
    "from sklearn.metrics import davies_bouldin_score\n",
    "from sklearn.cluster import MiniBatchKMeans\n",
    "from sklearn_extra.robust import RobustWeightedKMeans"
   ]
  },
  {
   "cell_type": "code",
   "execution_count": 14,
   "id": "894e72ef",
   "metadata": {},
   "outputs": [],
   "source": [
    "import pandas as pd\n",
    "import numpy as np\n",
    "import networkx as nx\n",
    "import matplotlib.pyplot as plt\n",
    "from collections import defaultdict\n",
    "from collections import OrderedDict\n",
    "from itertools import islice\n",
    "import warnings\n",
    "import seaborn as sns\n",
    "import matplotlib.pyplot as plt"
   ]
  },
  {
   "cell_type": "markdown",
   "id": "b357eaa5",
   "metadata": {},
   "source": [
    "## Let's import the datasets\n",
    "**HERO-NETWORK:**\\\n",
    "It contains the network of heroes who have appeared together in the comics."
   ]
  },
  {
   "cell_type": "code",
   "execution_count": 15,
   "id": "d0341305",
   "metadata": {},
   "outputs": [],
   "source": [
    "dfheros = pd.read_csv(r'C:\\Users\\gianl\\Documents\\Università_4°anno(2022-2023\\ADM\\HOMEWORK\\HOMEWORK 5\\hero-network.csv')"
   ]
  },
  {
   "cell_type": "code",
   "execution_count": 16,
   "id": "6cb6ceb5",
   "metadata": {},
   "outputs": [
    {
     "data": {
      "text/html": [
       "<div>\n",
       "<style scoped>\n",
       "    .dataframe tbody tr th:only-of-type {\n",
       "        vertical-align: middle;\n",
       "    }\n",
       "\n",
       "    .dataframe tbody tr th {\n",
       "        vertical-align: top;\n",
       "    }\n",
       "\n",
       "    .dataframe thead th {\n",
       "        text-align: right;\n",
       "    }\n",
       "</style>\n",
       "<table border=\"1\" class=\"dataframe\">\n",
       "  <thead>\n",
       "    <tr style=\"text-align: right;\">\n",
       "      <th></th>\n",
       "      <th>hero1</th>\n",
       "      <th>hero2</th>\n",
       "    </tr>\n",
       "  </thead>\n",
       "  <tbody>\n",
       "    <tr>\n",
       "      <th>0</th>\n",
       "      <td>LITTLE, ABNER</td>\n",
       "      <td>PRINCESS ZANDA</td>\n",
       "    </tr>\n",
       "    <tr>\n",
       "      <th>1</th>\n",
       "      <td>LITTLE, ABNER</td>\n",
       "      <td>BLACK PANTHER/T'CHAL</td>\n",
       "    </tr>\n",
       "    <tr>\n",
       "      <th>2</th>\n",
       "      <td>BLACK PANTHER/T'CHAL</td>\n",
       "      <td>PRINCESS ZANDA</td>\n",
       "    </tr>\n",
       "    <tr>\n",
       "      <th>3</th>\n",
       "      <td>LITTLE, ABNER</td>\n",
       "      <td>PRINCESS ZANDA</td>\n",
       "    </tr>\n",
       "    <tr>\n",
       "      <th>4</th>\n",
       "      <td>LITTLE, ABNER</td>\n",
       "      <td>BLACK PANTHER/T'CHAL</td>\n",
       "    </tr>\n",
       "  </tbody>\n",
       "</table>\n",
       "</div>"
      ],
      "text/plain": [
       "                  hero1                 hero2\n",
       "0         LITTLE, ABNER        PRINCESS ZANDA\n",
       "1         LITTLE, ABNER  BLACK PANTHER/T'CHAL\n",
       "2  BLACK PANTHER/T'CHAL        PRINCESS ZANDA\n",
       "3         LITTLE, ABNER        PRINCESS ZANDA\n",
       "4         LITTLE, ABNER  BLACK PANTHER/T'CHAL"
      ]
     },
     "execution_count": 16,
     "metadata": {},
     "output_type": "execute_result"
    }
   ],
   "source": [
    "dfheros.head(5)"
   ]
  },
  {
   "cell_type": "code",
   "execution_count": 17,
   "id": "28bbbf84",
   "metadata": {},
   "outputs": [
    {
     "data": {
      "text/plain": [
       "(574467, 2)"
      ]
     },
     "execution_count": 17,
     "metadata": {},
     "output_type": "execute_result"
    }
   ],
   "source": [
    "dfheros.shape"
   ]
  },
  {
   "cell_type": "markdown",
   "id": "1fe8f99b",
   "metadata": {},
   "source": [
    "**EDGES:**\\\n",
    "It contains two columns (hero, comic), indicating which comics the heroes appear in."
   ]
  },
  {
   "cell_type": "code",
   "execution_count": 18,
   "id": "a1b1ad43",
   "metadata": {},
   "outputs": [],
   "source": [
    "dfedges = pd.read_csv(r'C:\\Users\\gianl\\Documents\\Università_4°anno(2022-2023\\ADM\\HOMEWORK\\HOMEWORK 5\\edges.csv')"
   ]
  },
  {
   "cell_type": "code",
   "execution_count": 19,
   "id": "ec6a5ab4",
   "metadata": {},
   "outputs": [
    {
     "data": {
      "text/html": [
       "<div>\n",
       "<style scoped>\n",
       "    .dataframe tbody tr th:only-of-type {\n",
       "        vertical-align: middle;\n",
       "    }\n",
       "\n",
       "    .dataframe tbody tr th {\n",
       "        vertical-align: top;\n",
       "    }\n",
       "\n",
       "    .dataframe thead th {\n",
       "        text-align: right;\n",
       "    }\n",
       "</style>\n",
       "<table border=\"1\" class=\"dataframe\">\n",
       "  <thead>\n",
       "    <tr style=\"text-align: right;\">\n",
       "      <th></th>\n",
       "      <th>hero</th>\n",
       "      <th>comic</th>\n",
       "    </tr>\n",
       "  </thead>\n",
       "  <tbody>\n",
       "    <tr>\n",
       "      <th>0</th>\n",
       "      <td>24-HOUR MAN/EMMANUEL</td>\n",
       "      <td>AA2 35</td>\n",
       "    </tr>\n",
       "    <tr>\n",
       "      <th>1</th>\n",
       "      <td>3-D MAN/CHARLES CHAN</td>\n",
       "      <td>AVF 4</td>\n",
       "    </tr>\n",
       "    <tr>\n",
       "      <th>2</th>\n",
       "      <td>3-D MAN/CHARLES CHAN</td>\n",
       "      <td>AVF 5</td>\n",
       "    </tr>\n",
       "    <tr>\n",
       "      <th>3</th>\n",
       "      <td>3-D MAN/CHARLES CHAN</td>\n",
       "      <td>COC 1</td>\n",
       "    </tr>\n",
       "    <tr>\n",
       "      <th>4</th>\n",
       "      <td>3-D MAN/CHARLES CHAN</td>\n",
       "      <td>H2 251</td>\n",
       "    </tr>\n",
       "  </tbody>\n",
       "</table>\n",
       "</div>"
      ],
      "text/plain": [
       "                   hero   comic\n",
       "0  24-HOUR MAN/EMMANUEL  AA2 35\n",
       "1  3-D MAN/CHARLES CHAN   AVF 4\n",
       "2  3-D MAN/CHARLES CHAN   AVF 5\n",
       "3  3-D MAN/CHARLES CHAN   COC 1\n",
       "4  3-D MAN/CHARLES CHAN  H2 251"
      ]
     },
     "execution_count": 19,
     "metadata": {},
     "output_type": "execute_result"
    }
   ],
   "source": [
    "dfedges.head(5)"
   ]
  },
  {
   "cell_type": "code",
   "execution_count": 20,
   "id": "02eafc90",
   "metadata": {},
   "outputs": [
    {
     "data": {
      "text/plain": [
       "(96104, 2)"
      ]
     },
     "execution_count": 20,
     "metadata": {},
     "output_type": "execute_result"
    }
   ],
   "source": [
    "dfedges.shape"
   ]
  },
  {
   "cell_type": "markdown",
   "id": "35c43d95",
   "metadata": {},
   "source": [
    "**NODES:**\\\n",
    "It contains two columns (node, type), indicating the nodes' name and its type (comic, hero)."
   ]
  },
  {
   "cell_type": "code",
   "execution_count": 21,
   "id": "d4cad954",
   "metadata": {},
   "outputs": [],
   "source": [
    "dfnodes = pd.read_csv(r'C:\\Users\\gianl\\Documents\\Università_4°anno(2022-2023\\ADM\\HOMEWORK\\HOMEWORK 5\\nodes.csv')"
   ]
  },
  {
   "cell_type": "code",
   "execution_count": 22,
   "id": "460959ed",
   "metadata": {},
   "outputs": [
    {
     "data": {
      "text/html": [
       "<div>\n",
       "<style scoped>\n",
       "    .dataframe tbody tr th:only-of-type {\n",
       "        vertical-align: middle;\n",
       "    }\n",
       "\n",
       "    .dataframe tbody tr th {\n",
       "        vertical-align: top;\n",
       "    }\n",
       "\n",
       "    .dataframe thead th {\n",
       "        text-align: right;\n",
       "    }\n",
       "</style>\n",
       "<table border=\"1\" class=\"dataframe\">\n",
       "  <thead>\n",
       "    <tr style=\"text-align: right;\">\n",
       "      <th></th>\n",
       "      <th>node</th>\n",
       "      <th>type</th>\n",
       "    </tr>\n",
       "  </thead>\n",
       "  <tbody>\n",
       "    <tr>\n",
       "      <th>0</th>\n",
       "      <td>2001 10</td>\n",
       "      <td>comic</td>\n",
       "    </tr>\n",
       "    <tr>\n",
       "      <th>1</th>\n",
       "      <td>2001 8</td>\n",
       "      <td>comic</td>\n",
       "    </tr>\n",
       "    <tr>\n",
       "      <th>2</th>\n",
       "      <td>2001 9</td>\n",
       "      <td>comic</td>\n",
       "    </tr>\n",
       "    <tr>\n",
       "      <th>3</th>\n",
       "      <td>24-HOUR MAN/EMMANUEL</td>\n",
       "      <td>hero</td>\n",
       "    </tr>\n",
       "    <tr>\n",
       "      <th>4</th>\n",
       "      <td>3-D MAN/CHARLES CHAN</td>\n",
       "      <td>hero</td>\n",
       "    </tr>\n",
       "  </tbody>\n",
       "</table>\n",
       "</div>"
      ],
      "text/plain": [
       "                   node   type\n",
       "0               2001 10  comic\n",
       "1                2001 8  comic\n",
       "2                2001 9  comic\n",
       "3  24-HOUR MAN/EMMANUEL   hero\n",
       "4  3-D MAN/CHARLES CHAN   hero"
      ]
     },
     "execution_count": 22,
     "metadata": {},
     "output_type": "execute_result"
    }
   ],
   "source": [
    "dfnodes.head(5)"
   ]
  },
  {
   "cell_type": "code",
   "execution_count": 23,
   "id": "40261dfe",
   "metadata": {},
   "outputs": [
    {
     "data": {
      "text/plain": [
       "(19090, 2)"
      ]
     },
     "execution_count": 23,
     "metadata": {},
     "output_type": "execute_result"
    }
   ],
   "source": [
    "dfnodes.shape"
   ]
  },
  {
   "cell_type": "markdown",
   "id": "bcc8b693",
   "metadata": {},
   "source": [
    "# QUESTION 1: DATA"
   ]
  },
  {
   "cell_type": "markdown",
   "id": "0f715a3d",
   "metadata": {},
   "source": [
    "## DATA PREPROCESSING\n",
    "### 1)"
   ]
  },
  {
   "cell_type": "markdown",
   "id": "0f30ae6c",
   "metadata": {},
   "source": [
    "**1.1**"
   ]
  },
  {
   "cell_type": "markdown",
   "id": "425c6636",
   "metadata": {},
   "source": [
    "\"Some heroes' names in 'hero-netowrk.csv' have extra spaces at the end of their names compared to their names in 'edges.csv'\" :"
   ]
  },
  {
   "cell_type": "markdown",
   "id": "4bfc7c32",
   "metadata": {},
   "source": [
    "- The following command gets the string of heroes inside column 'hero1' (in dataset heros) that have a space in the last position: '  '. Once we have these heroes, we edit the string by deleting the space in the last position."
   ]
  },
  {
   "cell_type": "code",
   "execution_count": 12,
   "id": "c2c9ab09",
   "metadata": {},
   "outputs": [],
   "source": [
    "for i in range(len(dfheros.hero1)):\n",
    "    if dfheros.hero1[i][-1] == ' ':\n",
    "        dfheros.hero1[i]= dfheros.hero1[i][0:-1]"
   ]
  },
  {
   "cell_type": "markdown",
   "id": "91afb7cc",
   "metadata": {},
   "source": [
    "**1.2**"
   ]
  },
  {
   "cell_type": "markdown",
   "id": "2732b704",
   "metadata": {},
   "source": [
    "Some heroes' names in 'hero-netowrk.csv' have an extra '/' at the end of their names compared to their names in 'edges.csv'."
   ]
  },
  {
   "cell_type": "markdown",
   "id": "bfb12a3f",
   "metadata": {},
   "source": [
    "- We could do the same thing of above, but we noticed that in the column hero (dataset edges) we have heros which have in the last position a slash: '/'. So we can't just remove all '/' in last position in hero (dataset edges) otherwise we will end up in the opposite situation, i.e. heroes that have an extra '/' in the heroes dataset but don't have it in the edges dataset. Instead we should remove only the heroes that within hero1 (in dataset heros) have a slash in the last position, while in hero (dataset edges) they don't.\n",
    "\n",
    "- However, to make things easier, we decided to remove the / in the last position in all heroes even those that are normally registered with the / in the last position (for example 8-BALL/ it is normally registered with the / in the last position because it has it in both the heros and edges datasets, but to make things easier we will remove the / even for 8-BALL/ in both dataset)\n",
    "\n",
    "- The following query, therefore, removes the / in last position (to whoever has it) to all heroes in 'hero1' (dataset heros) and in 'hero' (dataset edges):"
   ]
  },
  {
   "cell_type": "code",
   "execution_count": 13,
   "id": "7bd8a4b3",
   "metadata": {},
   "outputs": [],
   "source": [
    "#for the dataset 'dfheros' in column 'hero1'\n",
    "for i in range(len(dfheros.hero1)):\n",
    "    if dfheros.hero1[i][-1] == '/':\n",
    "        dfheros.hero1[i]= dfheros.hero1[i][0:-1]\n",
    "        \n",
    "#for the dataset 'dfheros' in column 'hero2'\n",
    "for i in range(len(dfheros.hero2)):\n",
    "    if dfheros.hero2[i][-1] == '/':\n",
    "        dfheros.hero2[i]= dfheros.hero2[i][0:-1]\n",
    "        \n",
    "#for the dataset 'dfedges' in column 'hero'\n",
    "for i in range(len(dfedges.hero)):\n",
    "    if dfedges.hero[i][-1] == '/':\n",
    "        dfedges.hero[i]= dfedges.hero[i][0:-1]"
   ]
  },
  {
   "cell_type": "markdown",
   "id": "40d2d726",
   "metadata": {},
   "source": [
    "**1.3**"
   ]
  },
  {
   "cell_type": "markdown",
   "id": "385b6ffb",
   "metadata": {},
   "source": [
    "The hero name 'SPIDER-MAN/PETER PARKER' in 'edges.csv' has been changed to 'SPIDER-MAN/PETER PAR' in 'hero-network.csv' due to a string length limit in 'hero-network.csv'"
   ]
  },
  {
   "cell_type": "markdown",
   "id": "08f11de2",
   "metadata": {},
   "source": [
    "We can see inside the dataset edges there are 1577 times the name 'SPIDER-MAN/PETER PARKER' in the column 'hero'."
   ]
  },
  {
   "cell_type": "code",
   "execution_count": 14,
   "id": "13eb7563",
   "metadata": {},
   "outputs": [
    {
     "data": {
      "text/plain": [
       "(1577, 2)"
      ]
     },
     "execution_count": 14,
     "metadata": {},
     "output_type": "execute_result"
    }
   ],
   "source": [
    "dfedges[dfedges.hero == 'SPIDER-MAN/PETER PARKER'].shape"
   ]
  },
  {
   "cell_type": "markdown",
   "id": "6673f839",
   "metadata": {},
   "source": [
    "In order to avoid the problem of having two different name for the same hero in two different dataset, we decided to change inside the dataset edges, the name of the hero 'SPIDER-MAN/PETER PARKER' in 'SPIDER-MAN/PETER PAR'."
   ]
  },
  {
   "cell_type": "code",
   "execution_count": 15,
   "id": "1ebf9a67",
   "metadata": {},
   "outputs": [],
   "source": [
    "dfedges.hero = dfedges.hero.replace('SPIDER-MAN/PETER PARKER', 'SPIDER-MAN/PETER PAR')"
   ]
  },
  {
   "cell_type": "markdown",
   "id": "2057311d",
   "metadata": {},
   "source": [
    "Altought before were 1577 rows, now we can see that 'SPIDER-MAN/PETER PARKER' doesn't appear anymore."
   ]
  },
  {
   "cell_type": "code",
   "execution_count": 16,
   "id": "44e3ec62",
   "metadata": {},
   "outputs": [
    {
     "data": {
      "text/plain": [
       "(0, 2)"
      ]
     },
     "execution_count": 16,
     "metadata": {},
     "output_type": "execute_result"
    }
   ],
   "source": [
    "dfedges[dfedges.hero == 'SPIDER-MAN/PETER PARKER'].shape"
   ]
  },
  {
   "cell_type": "markdown",
   "id": "c8f906fe",
   "metadata": {},
   "source": [
    "### 2)"
   ]
  },
  {
   "cell_type": "markdown",
   "id": "e8c0cf80",
   "metadata": {},
   "source": [
    "Some entries in the 'hero-network.csv' have the same hero in both columns. In the graph, these entries form a self-loop. Because a self-loop makes no sense in this network, you can safely remove those from the dataset."
   ]
  },
  {
   "cell_type": "markdown",
   "id": "adae7bfd",
   "metadata": {},
   "source": [
    "- We can observe from the following cell that the rows we need to delete are 2232."
   ]
  },
  {
   "cell_type": "code",
   "execution_count": 17,
   "id": "e2e1fd77",
   "metadata": {},
   "outputs": [
    {
     "name": "stdout",
     "output_type": "stream",
     "text": [
      "The number of total rows are:  574467 \n",
      "Instead, the number of rows that have the same hero in 'hero1' and 'hero2' are:  2232\n"
     ]
    }
   ],
   "source": [
    "counter = 0\n",
    "for i in range(len(dfheros.hero1)):\n",
    "    if dfheros.hero1[i] == dfheros.hero2[i]:\n",
    "        counter += 1\n",
    "print('The number of total rows are: ', len(dfheros), \"\\nInstead, the number of rows that have the same hero in 'hero1' and 'hero2' are: \", counter)"
   ]
  },
  {
   "cell_type": "markdown",
   "id": "1425141f",
   "metadata": {},
   "source": [
    "- The following code iterates through the heros dataframe, if it encounters a row that has the same name in 'hero1' and 'hero2' then it deletes that row."
   ]
  },
  {
   "cell_type": "code",
   "execution_count": 18,
   "id": "89227f22",
   "metadata": {},
   "outputs": [],
   "source": [
    "for i in range(len(dfheros.hero1)):\n",
    "    if dfheros.hero1[i] == dfheros.hero2[i]:\n",
    "        dfheros = dfheros.drop(i)"
   ]
  },
  {
   "cell_type": "markdown",
   "id": "3992f85c",
   "metadata": {},
   "source": [
    "- Let's verify that 2232 rows have actually been deleted!\n",
    "\n",
    "\n",
    "- Before we had a length of 574467, subtracting 2232 from it, we should obtain that the length of the dataframe is now equal to 572235:"
   ]
  },
  {
   "cell_type": "code",
   "execution_count": 19,
   "id": "a379f579",
   "metadata": {},
   "outputs": [
    {
     "data": {
      "text/plain": [
       "572235"
      ]
     },
     "execution_count": 19,
     "metadata": {},
     "output_type": "execute_result"
    }
   ],
   "source": [
    "len(dfheros)"
   ]
  },
  {
   "cell_type": "markdown",
   "id": "e806b021",
   "metadata": {},
   "source": [
    "## GRAPHS SETUP\n",
    "### 1)"
   ]
  },
  {
   "cell_type": "markdown",
   "id": "cb4a22ec",
   "metadata": {},
   "source": [
    "- An edge between two heroes can be found if they have appeared in the same comic together. DIRE QUALCOSA SUI PESI!!!! Let's find all edges"
   ]
  },
  {
   "cell_type": "code",
   "execution_count": 24,
   "id": "98346a29",
   "metadata": {},
   "outputs": [],
   "source": [
    "#SISTEMARE I PESI, NON CAPISCO COME CAZZO DOBBIAMO FARLI, LEGGI ANCHE SLACK NEL CASO\n",
    "edges = dfheros.groupby(['hero1', 'hero2']).size().reset_index(name='weight')\n",
    "\n",
    "# QUESTO COMANDO MI RENDE I PESI INVERSAMENTE PROPORZIONALI\n",
    "edges.weight = round(1/ edges.weight,4)\n",
    "\n",
    "# crea il grafo\n",
    "G1 = nx.from_pandas_edgelist(edges, 'hero1', 'hero2', edge_attr = 'weight')"
   ]
  },
  {
   "cell_type": "code",
   "execution_count": 25,
   "id": "95e4d7f9",
   "metadata": {},
   "outputs": [
    {
     "data": {
      "text/plain": [
       "'Graph with 6426 nodes and 167219 edges'"
      ]
     },
     "execution_count": 25,
     "metadata": {},
     "output_type": "execute_result"
    }
   ],
   "source": [
    "warnings.filterwarnings(\"ignore\", category=DeprecationWarning) #this command is used to don't visualize the warnings\n",
    "nx.info(G1)"
   ]
  },
  {
   "cell_type": "code",
   "execution_count": 26,
   "id": "c5e25522",
   "metadata": {},
   "outputs": [],
   "source": [
    "#PROVA\n",
    "for u, v, d in G1.edges(data=True):\n",
    "    if (d['weight']) == 0.0045:\n",
    "        print(f\"L'arco ({u}, {v}) ha peso {d['weight']}\")"
   ]
  },
  {
   "cell_type": "markdown",
   "id": "e47b14ee",
   "metadata": {},
   "source": [
    "### 2)"
   ]
  },
  {
   "cell_type": "markdown",
   "id": "ddd4c93b",
   "metadata": {},
   "source": [
    "- The following graph has all heroes and comics as nodes, taken from the \"node\" column of the \"dfnodes\" dataset. Here there will not be edges connecting two heroes or two comics together, but just edges connecting hero and comic. A hero is connected by a edge to the comic only if that hero has appeared in that specific comic."
   ]
  },
  {
   "cell_type": "code",
   "execution_count": 23,
   "id": "8af80d9a",
   "metadata": {},
   "outputs": [],
   "source": [
    "G2 = nx.Graph()\n",
    "G2 = nx.from_pandas_edgelist(dfedges, 'comic', 'hero')\n",
    "\n",
    "# we add the type of each node, hero or comic (we will need in functionality 1)\n",
    "for index, row in dfedges.iterrows():\n",
    "    G2.add_node(row['hero'], type='hero')\n",
    "    G2.add_node(row['comic'], type='comic')"
   ]
  },
  {
   "cell_type": "code",
   "execution_count": 24,
   "id": "ce4d1202",
   "metadata": {},
   "outputs": [
    {
     "data": {
      "text/plain": [
       "'Graph with 19087 nodes and 96104 edges'"
      ]
     },
     "execution_count": 24,
     "metadata": {},
     "output_type": "execute_result"
    }
   ],
   "source": [
    "warnings.filterwarnings(\"ignore\", category=DeprecationWarning) #this command is used to hide the warnings\n",
    "nx.info(G2)"
   ]
  },
  {
   "cell_type": "markdown",
   "id": "49cb4633",
   "metadata": {},
   "source": [
    "# QUESTION 2: BACKEND IMPLEMENTATION"
   ]
  },
  {
   "cell_type": "markdown",
   "id": "9c8bdc5f",
   "metadata": {},
   "source": [
    "## Functionality 1 - extract the graph's features"
   ]
  },
  {
   "cell_type": "markdown",
   "id": "2adac404",
   "metadata": {},
   "source": [
    "**Top N heroes**: The top N heroes who have appeared in the most number of comics."
   ]
  },
  {
   "cell_type": "code",
   "execution_count": 28,
   "id": "e4067272",
   "metadata": {},
   "outputs": [],
   "source": [
    "def top_N_heroes(df, N = None):\n",
    "    if N == None:\n",
    "        N = len(df)\n",
    "    \n",
    "    # group by 'hero' and count the number of comics where each hero has appeared\n",
    "    df_counts = df.groupby('hero').comic.count().reset_index(name='count')\n",
    "    df_counts = df_counts.sort_values(by='count', ascending=False)\n",
    "    \n",
    "    # take the N heroes who have appeared in the most number of comics\n",
    "    top_N = df_counts[:N]\n",
    "    \n",
    "    # names of top N heroes\n",
    "    names_topN = top_N['hero']\n",
    "    \n",
    "    return list(names_topN)"
   ]
  },
  {
   "cell_type": "markdown",
   "id": "8ae60b6a",
   "metadata": {},
   "source": [
    "#### F1.1 The number of nodes in the network (if type 2, report for both node types)"
   ]
  },
  {
   "cell_type": "markdown",
   "id": "ed14e7ff",
   "metadata": {},
   "source": [
    "- The following function takes as input the graph and the type of graph, if the type of graph is 1, it returns the number of total nodes, if instead the type of graph is 2, it returns the number of total nodes that refer to a hero and the number of total nodes that refer to a comic."
   ]
  },
  {
   "cell_type": "code",
   "execution_count": 26,
   "id": "3123f5b9",
   "metadata": {},
   "outputs": [],
   "source": [
    "def nodes(graph, graph_type):\n",
    "    # if graph type is equal to 1, return the total number of nodes\n",
    "    if graph_type == 1:\n",
    "        return (f\"The graph has {graph.number_of_nodes()} nodes\")\n",
    "        \n",
    "    #if instead graph type is equal to 2, count all nodes that refer to a hero and all nodes that refer to a comic and return them.\n",
    "    else:   \n",
    "        attributes = nx.get_node_attributes(graph, 'type')\n",
    "        count_hero = list(attributes.values()).count('hero')\n",
    "        count_comic = list(attributes.values()).count('comic')\n",
    "        return (f\"The graph has {count_hero} nodes referring to heros and {count_comic} nodes referring to comics.\")"
   ]
  },
  {
   "cell_type": "markdown",
   "id": "925bb5ee",
   "metadata": {},
   "source": [
    "#### F1.2 The number of collaborations of each superhero with the others (only if type 1)"
   ]
  },
  {
   "cell_type": "markdown",
   "id": "30fe6dcf",
   "metadata": {},
   "source": [
    "- The following function takes as input the graph, the type of graph and the number of top N heroes to be considered and outputs the number of collaborations of each hero with the others."
   ]
  },
  {
   "cell_type": "code",
   "execution_count": 27,
   "id": "176e570c",
   "metadata": {},
   "outputs": [],
   "source": [
    "def collaborations(graph, graph_type, N= None):\n",
    "    # If graph type is equal to 2 we can't compute it.\n",
    "    if graph_type == 2:\n",
    "        return (\"Sorry, I can't compute the number of collaborations of each superhero with the others for type 2 graphs, only for type 1 graphs.\")\n",
    "        \n",
    "    else:\n",
    "        \n",
    "        # Create a new empty dictionary\n",
    "        node_degrees = {}\n",
    "    \n",
    "        # Compute the degree of each node and add it to the dictionary\n",
    "        for node in graph:\n",
    "            degree = graph.degree(node)\n",
    "            node_degrees[node] = degree\n",
    "            \n",
    "        # Sort the dictionary by its values\n",
    "        sorted_dict = dict(sorted(node_degrees.items(), key=lambda x: x[1], reverse=True))\n",
    "        \n",
    "        \n",
    "        # So far we have created an ordered dictionary where we have heroes as keys and as values the number of collaborations\n",
    "        # they have. How ever we want a dictionary sorted by top N heroes. Let's do it!\n",
    "        \n",
    "        \n",
    "        # Create a new empty dictionary\n",
    "        dizionario_filtrato = {}\n",
    "        \n",
    "        # Go through the list of top N heroes and add hero after hero to the dictionary, with its corresponding value of collaborations.\n",
    "        for elemento in top_N_heroes(dfedges, N = None):\n",
    "            if elemento in sorted_dict:\n",
    "                dizionario_filtrato[elemento] = sorted_dict[elemento]\n",
    "                \n",
    "        # Return the first N element of the dictionary (which are the top N heroes)  \n",
    "        return dict(islice(dizionario_filtrato.items(), N))"
   ]
  },
  {
   "cell_type": "markdown",
   "id": "2341bc78",
   "metadata": {},
   "source": [
    "**F1.3 The number of heroes that have appeared in each comic (only if type 2)**"
   ]
  },
  {
   "cell_type": "markdown",
   "id": "a3faf83e",
   "metadata": {},
   "source": [
    "- The following function takes as input the graph, the type of graph and an integer N and returns as output an ordered dictionary of length N, in which there are comics as key and as values the number of heroes appeared in that comic. \n",
    "\n",
    "\n",
    "- The decision to give N as input (which in the final function 'features' actually indicates the number of top N heroes) is due to the fact that taking the whole dictionary (and not just the first N elements), the function returns a dictionary of length 12651, and in terms of visualization for the final function it wasn't confortable."
   ]
  },
  {
   "cell_type": "code",
   "execution_count": 28,
   "id": "6491e503",
   "metadata": {},
   "outputs": [],
   "source": [
    "def heros_per_comic(graph, graph_type, N= None):\n",
    "    # If graph type is equal to 1 we can't compute it.\n",
    "    if graph_type == 1:\n",
    "        return (\"Sorry, I can't compute the number of heroes that have appeared in each comic for type 1 graphs, only for type 2 graphs.\")\n",
    "    \n",
    "    else:\n",
    "        # Create a dictionary that has the node as the key and the type of that node as the value (comic or hero)\n",
    "        attributes = nx.get_node_attributes(graph, 'type')\n",
    "        \n",
    "        # Crea filtered_d, ovvero un dizionario che ha come elementi solo nodi di tipo 'comic'\n",
    "        filtered_d = {k: v for k, v in attributes.items() if v != 'hero'}\n",
    "        \n",
    "        # Create a new empty dictionary\n",
    "        final_d = {}\n",
    "        \n",
    "        # For each key in filtered_d (which would all be nodes of type comic), calculate the degree and add to the final_d \n",
    "        # dictionary that node as the key and the degree as the value\n",
    "        for i in filtered_d:\n",
    "            final_d[i] = graph.degree(i)\n",
    "            \n",
    "        # Sort the dictionary by its values\n",
    "        sorted_d = dict(sorted(final_d.items(), key=lambda item: item[1], reverse = True))\n",
    "        \n",
    "        # Returns the first N elements of the dictionary\n",
    "        return dict(islice(sorted_d.items(), N))"
   ]
  },
  {
   "cell_type": "markdown",
   "id": "74c2dffb",
   "metadata": {},
   "source": [
    "**F1.4 The network's density**"
   ]
  },
  {
   "cell_type": "markdown",
   "id": "70a227f0",
   "metadata": {},
   "source": [
    "- In a network, density refers to the number of edges in the network compared to the total number of possible edges. A network with a high density has a large number of edges, while a network with a low density has few of them.\n",
    "\n",
    "\n",
    "- To compute the density of a network, we need to use the following formula:\n",
    "  - Density = (Number of edges in the network) / (Total number of possible edges)"
   ]
  },
  {
   "cell_type": "code",
   "execution_count": 29,
   "id": "a4a9ebbc",
   "metadata": {},
   "outputs": [],
   "source": [
    "def density(graph):\n",
    "    # Compute the total number of nodes\n",
    "    num_edges = graph.number_of_edges()\n",
    "    # Compute the total number of edges\n",
    "    num_possible_edges = (graph.number_of_nodes() * (graph.number_of_nodes() - 1)) / 2\n",
    "    # Compute the density\n",
    "    density = num_edges / num_possible_edges\n",
    "    return round(density,4)"
   ]
  },
  {
   "cell_type": "markdown",
   "id": "f5b43f12",
   "metadata": {},
   "source": [
    "**F1.5 The network's degree distribution**"
   ]
  },
  {
   "cell_type": "markdown",
   "id": "4e7c234d",
   "metadata": {},
   "source": [
    "- The distribution degree of a graph is a measure of how often different degrees of nodes appear within the graph. The following function takes the graph as input and returns the degree distribution, i.e. a dictionary whose keys are the degrees of the nodes of the graph and as values it has the number of nodes within the graph that have that degree."
   ]
  },
  {
   "cell_type": "code",
   "execution_count": 30,
   "id": "c41df720",
   "metadata": {},
   "outputs": [],
   "source": [
    "def distribution(graph):\n",
    "  # Create an empty dictionary to count the number of nodes with each degree\n",
    "  degree_count = {}\n",
    "\n",
    "  # Iterate over the nodes of the graph\n",
    "  for node in graph.nodes():\n",
    "    # Get the degree of the current node using the degree method of NetworkX\n",
    "    degree = graph.degree(node)\n",
    "\n",
    "    # If the degree is not yet in the dictionary, add a new entry\n",
    "    if degree not in degree_count:\n",
    "        degree_count[degree] = 0\n",
    "\n",
    "    # Increment the counter for the current degree\n",
    "    degree_count[degree] += 1\n",
    "\n",
    "  # Sort the dictionary by keys (the degrees of the nodes) in ascending order\n",
    "  degree_count = sorted(degree_count.items(), key=lambda x: x[0])\n",
    "\n",
    "  # Return the sorted dictionary\n",
    "  return dict(degree_count)"
   ]
  },
  {
   "cell_type": "markdown",
   "id": "2e796624",
   "metadata": {},
   "source": [
    "**F1.6 The average degree of the network**"
   ]
  },
  {
   "cell_type": "markdown",
   "id": "25faa8ae",
   "metadata": {},
   "source": [
    "- The following function takes a graph as input and returns the average degree of that graph. The average degree would be the sum of all the degrees of the nodes, divided by how many nodes there are within the graph."
   ]
  },
  {
   "cell_type": "code",
   "execution_count": 31,
   "id": "773ce17d",
   "metadata": {},
   "outputs": [],
   "source": [
    "def average_degre(graph):\n",
    "    # Initialize the total degree counter to zero\n",
    "    total_degree = 0\n",
    "  \n",
    "    # Iterate over the nodes of the graph and add the degree of every node to the total degree counter\n",
    "    for node in graph:\n",
    "        total_degree += len(graph[node])\n",
    "  \n",
    "    # Divide the total degree by the number of nodes in the graph and return the rounded result\n",
    "    return round(total_degree / len(graph))"
   ]
  },
  {
   "cell_type": "markdown",
   "id": "e73ef193",
   "metadata": {},
   "source": [
    "**F1.7 The network's Hubs (hubs are nodes having degrees more extensive than the 95th percentile of the degree distribution)**"
   ]
  },
  {
   "cell_type": "code",
   "execution_count": 32,
   "id": "a23d81c8",
   "metadata": {},
   "outputs": [],
   "source": [
    "#cambia nomi ecc\n",
    "def get_hubs(graph, percentile = 95):\n",
    "    dist = distribution(graph)\n",
    "\n",
    "    threshold = np.percentile(dist.degree, percentile)\n",
    "\n",
    "    return list(dist[dist.degree >= threshold].node.values)"
   ]
  },
  {
   "cell_type": "markdown",
   "id": "6dff1c2a",
   "metadata": {},
   "source": [
    "**F1.8 Whether the Network is sparse or dense**"
   ]
  },
  {
   "cell_type": "code",
   "execution_count": 33,
   "id": "c81ff738",
   "metadata": {},
   "outputs": [],
   "source": [
    "def dense_or_sparse(graph):\n",
    "    if density(graph) < 0.5:\n",
    "        return 'Sparse'\n",
    "    else:\n",
    "        return 'Dense'"
   ]
  },
  {
   "cell_type": "markdown",
   "id": "a39f9d67",
   "metadata": {},
   "source": [
    "# **ADESSO CHE HO DEFINITO TUTTE LE FUNZIONI, FACCIAMO UN'UNICA FUNZIONE PER PLOTTARCI TUTTO QUANTO INSIEME**"
   ]
  },
  {
   "cell_type": "code",
   "execution_count": 34,
   "id": "eaab744b",
   "metadata": {},
   "outputs": [],
   "source": [
    "def features(graph, graph_type, N = None):\n",
    "    if (graph_type != 1) & (graph_type != 2):\n",
    "        return 'The type of graph entered is no correct.'\n",
    "    else:\n",
    "        nodi = nodes(graph, graph_type)\n",
    "        n_collaborations = collaborations(graph, graph_type, N)\n",
    "        n_heros_each_comic = heros_per_comic(graph, graph_type, N)\n",
    "        densità = density(graph)\n",
    "        network_degree_distribution = distribution(graph)\n",
    "        average_degree = average_degre(graph)\n",
    "        #hubs = get_hubs(graph, percentile = 95)\n",
    "        dense_sparse = dense_or_sparse(graph)\n",
    "    print('1)', nodi)\n",
    "    print('****'*25)\n",
    "    print('2)', n_collaborations)\n",
    "    print('****'*25)\n",
    "    print('3) The number of heroes that have appeared in each comic are: ', n_heros_each_comic)\n",
    "    print('****'*25)\n",
    "    print('4) The density of the graph is ', densità)\n",
    "    print('****'*25)\n",
    "    print('5) The network degree distribution is: ', network_degree_distribution)\n",
    "    print('****'*25)\n",
    "    print('6) The average degree of the network is ', average_degree)\n",
    "    print('****'*25)\n",
    "    #SCRCIVI CHE PRINTI GLI HUBS\n",
    "    print('****'*25)\n",
    "    print('7) The graph is ', dense_sparse)\n",
    "    #return nodi, n_collaborations, 'The number of heroes that have appeared in each comic are: ',  n_heros_each_comic, 'The density of the graph is ' + str(densità), 'The average degree of the network is ' + str(average_degree), 'The average degree of the network is ' + dense_sparse"
   ]
  },
  {
   "cell_type": "code",
   "execution_count": 35,
   "id": "0d4b3d72",
   "metadata": {},
   "outputs": [
    {
     "name": "stdout",
     "output_type": "stream",
     "text": [
      "1) The graph has 6436 nodes referring to heros and 12651 nodes referring to comics.\n",
      "****************************************************************************************************\n",
      "2) Sorry, I can't compute the number of collaborations of each superhero with the others for type 2 graphs, only for type 1 graphs.\n",
      "****************************************************************************************************\n",
      "3) The number of heroes that have appeared in each comic are:  {'COC 1': 111, 'IW 3': 91, 'IW 1': 90, 'H2 279': 87, 'IW 4': 80, 'IW 2': 76, 'MAXSEC 3': 72, 'FF 370': 62, 'IW 6': 60, 'M/GN 1': 60}\n",
      "****************************************************************************************************\n",
      "4) The density of the graph is  0.0005\n",
      "****************************************************************************************************\n",
      "5) The network degree distribution is:  {1: 3274, 2: 2027, 3: 1738, 4: 1469, 5: 1409, 6: 1223, 7: 1027, 8: 990, 9: 803, 10: 688, 11: 608, 12: 559, 13: 427, 14: 375, 15: 287, 16: 256, 17: 221, 18: 201, 19: 163, 20: 147, 21: 113, 22: 89, 23: 66, 24: 61, 25: 41, 26: 55, 27: 32, 28: 37, 29: 30, 30: 26, 31: 23, 32: 30, 33: 23, 34: 13, 35: 29, 36: 20, 37: 21, 38: 18, 39: 17, 40: 13, 41: 12, 42: 14, 43: 5, 44: 8, 45: 10, 46: 11, 47: 4, 48: 10, 49: 12, 50: 7, 51: 5, 52: 6, 53: 3, 54: 6, 55: 8, 56: 6, 57: 6, 58: 10, 59: 3, 60: 5, 61: 2, 62: 3, 63: 3, 64: 4, 65: 6, 66: 5, 67: 3, 68: 1, 69: 3, 70: 2, 71: 8, 72: 5, 73: 3, 74: 4, 75: 1, 76: 2, 78: 3, 79: 3, 80: 3, 81: 2, 82: 4, 83: 2, 84: 5, 85: 3, 86: 2, 87: 5, 88: 3, 90: 1, 91: 5, 92: 1, 93: 2, 94: 1, 95: 1, 96: 4, 97: 4, 99: 2, 100: 1, 101: 2, 102: 2, 103: 3, 104: 1, 105: 2, 107: 2, 108: 1, 110: 1, 111: 3, 113: 5, 114: 5, 115: 3, 116: 1, 117: 1, 119: 3, 120: 3, 121: 3, 124: 1, 126: 2, 127: 1, 129: 3, 130: 1, 131: 4, 132: 1, 134: 2, 135: 3, 136: 1, 139: 2, 141: 3, 143: 1, 145: 2, 151: 1, 154: 1, 156: 1, 158: 1, 160: 1, 163: 3, 165: 1, 167: 1, 169: 1, 172: 3, 174: 3, 175: 1, 176: 2, 177: 1, 179: 1, 182: 1, 184: 1, 187: 1, 188: 1, 189: 1, 191: 1, 192: 1, 197: 1, 199: 1, 206: 1, 211: 1, 212: 1, 213: 1, 215: 1, 221: 2, 223: 1, 224: 1, 225: 1, 227: 1, 232: 1, 233: 1, 234: 2, 240: 1, 243: 1, 248: 1, 249: 1, 250: 1, 253: 1, 255: 2, 258: 1, 259: 1, 262: 1, 270: 2, 278: 1, 279: 1, 299: 1, 307: 1, 310: 1, 318: 1, 320: 1, 321: 1, 322: 1, 329: 1, 342: 1, 353: 1, 377: 1, 380: 1, 384: 1, 390: 1, 399: 1, 415: 1, 427: 1, 444: 2, 452: 1, 466: 1, 471: 1, 496: 1, 523: 1, 530: 1, 561: 1, 577: 1, 581: 1, 585: 1, 603: 1, 605: 1, 619: 1, 622: 1, 631: 1, 635: 1, 643: 1, 762: 1, 819: 1, 835: 1, 854: 1, 886: 1, 956: 1, 963: 1, 1150: 1, 1334: 1, 1577: 1}\n",
      "****************************************************************************************************\n",
      "6) The average degree of the network is  10\n",
      "****************************************************************************************************\n",
      "****************************************************************************************************\n",
      "7) The graph is  Sparse\n"
     ]
    }
   ],
   "source": [
    "features(G2, 2, 10)"
   ]
  },
  {
   "cell_type": "markdown",
   "id": "5debd9ce",
   "metadata": {},
   "source": [
    "## Functionality 2 - Find top superheroes!"
   ]
  },
  {
   "cell_type": "code",
   "execution_count": 59,
   "id": "c2b83e27",
   "metadata": {},
   "outputs": [],
   "source": [
    "G_fun2 = nx.Graph()"
   ]
  },
  {
   "cell_type": "code",
   "execution_count": 60,
   "id": "fddf7df7",
   "metadata": {},
   "outputs": [],
   "source": [
    "G_fun2 = nx.from_pandas_edgelist(dfedges, 'comic', 'hero')"
   ]
  },
  {
   "cell_type": "code",
   "execution_count": 61,
   "id": "76e79835",
   "metadata": {},
   "outputs": [],
   "source": [
    "ln_N = len(G_fun2.nodes()) # This will be helpful to set up our main function"
   ]
  },
  {
   "cell_type": "markdown",
   "id": "1bbdc1c2",
   "metadata": {},
   "source": [
    "We tried building and/or manipulating some given algorithms for the centrality measures. We could only do 3 out of 4 functions from scratch (DegreeCentrality, PageRank and ClosenessCentrality), meanwhile for the Betweenness we use the built-in function in networkx. These functions will then be implemented in our main function."
   ]
  },
  {
   "cell_type": "markdown",
   "id": "73bee2f0",
   "metadata": {},
   "source": [
    "**Degree Centrality**"
   ]
  },
  {
   "cell_type": "code",
   "execution_count": 62,
   "id": "0fface7d",
   "metadata": {},
   "outputs": [],
   "source": [
    "def degreeCentrality(G):\n",
    "    output_list = []\n",
    "    N = len(G.nodes())\n",
    "    degrees = G.degree()\n",
    "    for i in degrees:\n",
    "        output_sol = i[1]/(N-1)\n",
    "        output = i[0], output_sol\n",
    "        output_list.append(output)\n",
    "    return output_list"
   ]
  },
  {
   "cell_type": "markdown",
   "id": "e559df1f",
   "metadata": {},
   "source": [
    "**PageRank**"
   ]
  },
  {
   "cell_type": "code",
   "execution_count": 63,
   "id": "17b1d195",
   "metadata": {},
   "outputs": [],
   "source": [
    "def pageRank(G):\n",
    "    if len(G) == 0:\n",
    "        return {}\n",
    "    if not G.is_directed():\n",
    "        D = G.to_directed()\n",
    "    else:\n",
    "        D = G\n",
    "    W = nx.stochastic_graph(D, weight = 'weight')\n",
    "    N = W.number_of_nodes()\n",
    "    x = dict.fromkeys(W, 1.0 / N)\n",
    "    p = dict.fromkeys(W, 1.0 / N)\n",
    "    dweights = p\n",
    "    dnodes = [n for n in W if W.out_degree(n, weight = 'weight') == 0.0]\n",
    "    for i in range(100):\n",
    "        xlast = x\n",
    "        x = dict.fromkeys(xlast.keys(), 0)\n",
    "        dsum = 0.85*sum(xlast[n] for n in dnodes)\n",
    "        for n in x:\n",
    "            for number in W[n]:\n",
    "                x[number] += 0.85*xlast[n] * W[n][number]['weight']\n",
    "            x[n] += dsum * dweights[n] + (0.15)*p[n]\n",
    "        err = sum([abs(x[n] - xlast[n]) for n in x])\n",
    "        if err < N*(1.0e-6):\n",
    "            return x"
   ]
  },
  {
   "cell_type": "markdown",
   "id": "ac4b8b83",
   "metadata": {},
   "source": [
    "**Closeness Centrality**"
   ]
  },
  {
   "cell_type": "code",
   "execution_count": 64,
   "id": "70d12af6",
   "metadata": {},
   "outputs": [],
   "source": [
    "def closenessCentrality(G):\n",
    "    path_length = nx.single_source_shortest_path_length\n",
    "    nodes = G.nodes()\n",
    "    closeness_centrality = {}\n",
    "    for n in nodes:\n",
    "        sp = path_length(G,n)\n",
    "        totsp = sum(sp.values())\n",
    "        if totsp > 0.0 and len(G) > 1:\n",
    "            closeness_centrality[n] = (len(sp)-1.0) / totsp\n",
    "            s = (len(sp)-1.0) / ( len(G) - 1 )\n",
    "            closeness_centrality[n] *= s\n",
    "        else:\n",
    "            closeness_centrality[n] = 0.0\n",
    "    return closeness_centrality"
   ]
  },
  {
   "cell_type": "markdown",
   "id": "38faf823",
   "metadata": {},
   "source": [
    "From the exercise request, we understand that we need the data for only the top N superheros. Sometimes this N is given, but it should be set to ln_N, which means that we need to consider the whole graph. If we set up a specific N number, then we need to build a graph which takes only the top N superheros with their data (so their edges with 'comic' nodes)."
   ]
  },
  {
   "cell_type": "code",
   "execution_count": 65,
   "id": "256463d9",
   "metadata": {},
   "outputs": [],
   "source": [
    "def topNsuperherosGraph(G, N=ln_N):\n",
    "    \n",
    "    G_top_N_def = nx.Graph()\n",
    "    ln_N = len(G.nodes())\n",
    "    \n",
    "    if N != ln_N:\n",
    "        G_sorted_bydeg = sorted(G, key=lambda x: G.degree(x), reverse=True)\n",
    "        top_N_superheros = []\n",
    "        for i in G_sorted_bydeg:\n",
    "            if i in list(dfedges.hero):\n",
    "                top_N_superheros.append(i)\n",
    "            if len(top_N_superheros) >= N:\n",
    "                break\n",
    "\n",
    "        edges_top_N_superheros = []\n",
    "        for i in top_N_superheros:\n",
    "            edges_top_N_superheros.append(list(G.edges(i)))\n",
    "    \n",
    "        G_top_N_def.add_nodes_from(top_N_superheros)\n",
    "        for i in edges_top_N_superheros:\n",
    "            G_top_N_def.add_edges_from(i)\n",
    "        return G_top_N_def\n",
    "    \n",
    "    else:\n",
    "        G_top_N_def = G\n",
    "        return G_top_N_def"
   ]
  },
  {
   "cell_type": "markdown",
   "id": "a9696236",
   "metadata": {},
   "source": [
    "Our main function is now ready to be set up."
   ]
  },
  {
   "cell_type": "code",
   "execution_count": 66,
   "id": "42df58d6",
   "metadata": {},
   "outputs": [],
   "source": [
    "def centralityMeasures(G, node, measure, N=ln_N):\n",
    "    \"\"\"\n",
    "    INPUT:\n",
    "    'G' is our graph data\n",
    "    'Node' is the given node (which can be both a comic node or a hero node)\n",
    "    'Measure' is the centrality measure chosen by the user. It can either be: 'Betweenness', 'PageRank',\n",
    "              'ClosenessCentrality' or 'DegreeCentrality'\n",
    "    'N' is the number of top heros that we consider for our calculations\n",
    "    \n",
    "    OUTPUT:\n",
    "    First number is the given node's centrality value.\n",
    "    Second list is the metric's value over the considered graph.\n",
    "    \"\"\"\n",
    "    # We create the top N heros graph with the function we created before.\n",
    "    G_top_N = topNsuperherosGraph(G, N)\n",
    "    \n",
    "    if node in list(G_top_N.nodes()):\n",
    "        # We check if the node we chose is actually in the top N heros list or is a comic connected to a top N hero.\n",
    "        if measure == 'Betweenness':\n",
    "            centrality = nx.betweenness_centrality(G_top_N)\n",
    "            return centrality[node], centrality\n",
    "        elif measure == 'PageRank':\n",
    "            centrality = pageRank(G_top_N)\n",
    "            return centrality[node], centrality\n",
    "        elif measure == 'ClosenessCentrality':\n",
    "            centrality = closenessCentrality(G_top_N)\n",
    "            return centrality[node], centrality\n",
    "        elif measure == 'DegreeCentrality':\n",
    "            centrality = degreeCentrality(G_top_N)\n",
    "            # The degree centrality function returns a different type of list so we cannot\n",
    "            # use 'centrality[node]' because it doesn't work. \n",
    "            # This is what we do to get the centrality for the node instead:\n",
    "            for i in range(len(centrality)):\n",
    "                if centrality[i][0] == node:\n",
    "                    return centrality[i][1], centrality\n",
    "    else:\n",
    "        return 'Node not available'"
   ]
  },
  {
   "cell_type": "markdown",
   "id": "05b758c2",
   "metadata": {},
   "source": [
    "### Betweenness Centrality"
   ]
  },
  {
   "cell_type": "code",
   "execution_count": 67,
   "id": "accd4634",
   "metadata": {},
   "outputs": [
    {
     "ename": "KeyboardInterrupt",
     "evalue": "",
     "output_type": "error",
     "traceback": [
      "\u001b[1;31m---------------------------------------------------------------------------\u001b[0m",
      "\u001b[1;31mKeyboardInterrupt\u001b[0m                         Traceback (most recent call last)",
      "Input \u001b[1;32mIn [67]\u001b[0m, in \u001b[0;36m<cell line: 1>\u001b[1;34m()\u001b[0m\n\u001b[1;32m----> 1\u001b[0m bet_centrality \u001b[38;5;241m=\u001b[39m \u001b[43mcentralityMeasures\u001b[49m\u001b[43m(\u001b[49m\u001b[43mG_fun2\u001b[49m\u001b[43m,\u001b[49m\u001b[43m \u001b[49m\u001b[38;5;124;43m'\u001b[39;49m\u001b[38;5;124;43mSPIDER-MAN/PETER PARKER\u001b[39;49m\u001b[38;5;124;43m'\u001b[39;49m\u001b[43m,\u001b[49m\u001b[43m \u001b[49m\u001b[38;5;124;43m'\u001b[39;49m\u001b[38;5;124;43mBetweenness\u001b[39;49m\u001b[38;5;124;43m'\u001b[39;49m\u001b[43m,\u001b[49m\u001b[43m \u001b[49m\u001b[38;5;241;43m1000\u001b[39;49m\u001b[43m)\u001b[49m\n",
      "Input \u001b[1;32mIn [66]\u001b[0m, in \u001b[0;36mcentralityMeasures\u001b[1;34m(G, node, measure, N)\u001b[0m\n\u001b[0;32m      1\u001b[0m \u001b[38;5;28;01mdef\u001b[39;00m \u001b[38;5;21mcentralityMeasures\u001b[39m(G, node, measure, N\u001b[38;5;241m=\u001b[39mln_N):\n\u001b[0;32m      2\u001b[0m     \u001b[38;5;124;03m\"\"\"\u001b[39;00m\n\u001b[0;32m      3\u001b[0m \u001b[38;5;124;03m    INPUT:\u001b[39;00m\n\u001b[0;32m      4\u001b[0m \u001b[38;5;124;03m    'G' is our graph data\u001b[39;00m\n\u001b[1;32m   (...)\u001b[0m\n\u001b[0;32m     11\u001b[0m \u001b[38;5;124;03m    Second list is the metric's value over the considered graph.\u001b[39;00m\n\u001b[0;32m     12\u001b[0m \u001b[38;5;124;03m    \"\"\"\u001b[39;00m\n\u001b[1;32m---> 14\u001b[0m     G_top_N \u001b[38;5;241m=\u001b[39m \u001b[43mtopNsuperherosGraph\u001b[49m\u001b[43m(\u001b[49m\u001b[43mG\u001b[49m\u001b[43m,\u001b[49m\u001b[43m \u001b[49m\u001b[43mN\u001b[49m\u001b[43m)\u001b[49m\n\u001b[0;32m     16\u001b[0m     \u001b[38;5;28;01mif\u001b[39;00m node \u001b[38;5;129;01min\u001b[39;00m \u001b[38;5;28mlist\u001b[39m(G_top_N\u001b[38;5;241m.\u001b[39mnodes()):\n\u001b[0;32m     17\u001b[0m         \u001b[38;5;28;01mif\u001b[39;00m measure \u001b[38;5;241m==\u001b[39m \u001b[38;5;124m'\u001b[39m\u001b[38;5;124mBetweenness\u001b[39m\u001b[38;5;124m'\u001b[39m:\n",
      "Input \u001b[1;32mIn [65]\u001b[0m, in \u001b[0;36mtopNsuperherosGraph\u001b[1;34m(G, N)\u001b[0m\n\u001b[0;32m     10\u001b[0m     \u001b[38;5;28;01mif\u001b[39;00m i \u001b[38;5;129;01min\u001b[39;00m \u001b[38;5;28mlist\u001b[39m(dfedges\u001b[38;5;241m.\u001b[39mhero):\n\u001b[0;32m     11\u001b[0m         top_N_superheros\u001b[38;5;241m.\u001b[39mappend(i)\n\u001b[1;32m---> 12\u001b[0m     \u001b[38;5;28;01mif\u001b[39;00m \u001b[38;5;28;43mlen\u001b[39;49m(top_N_superheros) \u001b[38;5;241m>\u001b[39m\u001b[38;5;241m=\u001b[39m N:\n\u001b[0;32m     13\u001b[0m         \u001b[38;5;28;01mbreak\u001b[39;00m\n\u001b[0;32m     15\u001b[0m edges_top_N_superheros \u001b[38;5;241m=\u001b[39m []\n",
      "\u001b[1;31mKeyboardInterrupt\u001b[0m: "
     ]
    }
   ],
   "source": [
    "bet_centrality = centralityMeasures(G_fun2, 'CAPTAIN AMERICA', 'Betweenness', 5)"
   ]
  },
  {
   "cell_type": "code",
   "execution_count": null,
   "id": "444d4c97",
   "metadata": {},
   "outputs": [],
   "source": [
    "bet_centrality"
   ]
  },
  {
   "cell_type": "code",
   "execution_count": null,
   "id": "303da91d",
   "metadata": {},
   "outputs": [],
   "source": [
    "bet_centralities = bet_centrality[1]\n",
    "avg_centrality_bet = sum(bet_centralities.values())/len(bet_centralities)\n",
    "centrality_node_bet = bet_centrality[0]"
   ]
  },
  {
   "cell_type": "markdown",
   "id": "45c13e0e",
   "metadata": {},
   "source": [
    "### PageRank"
   ]
  },
  {
   "cell_type": "code",
   "execution_count": null,
   "id": "ed78898c",
   "metadata": {},
   "outputs": [],
   "source": [
    "pr_centrality = centralityMeasures(G_fun2, 'CAPTAIN AMERICA', 'PageRank', 5)"
   ]
  },
  {
   "cell_type": "code",
   "execution_count": null,
   "id": "0728c130",
   "metadata": {},
   "outputs": [],
   "source": [
    "pr_centrality"
   ]
  },
  {
   "cell_type": "code",
   "execution_count": null,
   "id": "a7f1ccf8",
   "metadata": {},
   "outputs": [],
   "source": [
    "pr_centralities = pr_centrality[1]\n",
    "avg_centrality_pr = sum(pr_centralities.values())/len(pr_centralities)\n",
    "centrality_node_pr = pr_centrality[0]"
   ]
  },
  {
   "cell_type": "markdown",
   "id": "ce51d7a8",
   "metadata": {},
   "source": [
    "### Closeness Centrality"
   ]
  },
  {
   "cell_type": "code",
   "execution_count": null,
   "id": "aa9afbc7",
   "metadata": {},
   "outputs": [],
   "source": [
    "cl_centrality = centralityMeasures(G_fun2, 'CAPTAIN AMERICA', 'ClosenessCentrality', 5)"
   ]
  },
  {
   "cell_type": "code",
   "execution_count": null,
   "id": "b9e12f76",
   "metadata": {},
   "outputs": [],
   "source": [
    "cl_centrality"
   ]
  },
  {
   "cell_type": "code",
   "execution_count": null,
   "id": "46911002",
   "metadata": {},
   "outputs": [],
   "source": [
    "cl_centralities = cl_centrality[1]\n",
    "avg_centrality_cl = sum(cl_centralities.values())/len(cl_centralities)\n",
    "centrality_node_cl = cl_centrality[0]"
   ]
  },
  {
   "cell_type": "markdown",
   "id": "9ab880df",
   "metadata": {},
   "source": [
    "### Degree Centrality"
   ]
  },
  {
   "cell_type": "code",
   "execution_count": null,
   "id": "a0c5480b",
   "metadata": {},
   "outputs": [],
   "source": [
    "deg_centrality = centralityMeasures(G_fun2, 'CAPTAIN AMERICA', 'DegreeCentrality', 5)"
   ]
  },
  {
   "cell_type": "code",
   "execution_count": null,
   "id": "9b46992d",
   "metadata": {},
   "outputs": [],
   "source": [
    "deg_centrality"
   ]
  },
  {
   "cell_type": "code",
   "execution_count": null,
   "id": "ea73ec3a",
   "metadata": {},
   "outputs": [],
   "source": [
    "deg_centralities = deg_centrality[1]\n",
    "sum_deg_centralities = 0\n",
    "for i in range(len(deg_centralities)):\n",
    "    sum_deg_centralities += deg_centralities[i][1]\n",
    "avg_centrality_deg = sum_deg_centralities/len(deg_centralities)\n",
    "centrality_node_deg = deg_centrality[0]"
   ]
  },
  {
   "cell_type": "markdown",
   "id": "5aa0075f",
   "metadata": {},
   "source": [
    "## Functionality 3 - Shortest ordered Route"
   ]
  },
  {
   "cell_type": "code",
   "execution_count": null,
   "id": "8e9e2483",
   "metadata": {},
   "outputs": [],
   "source": []
  },
  {
   "cell_type": "code",
   "execution_count": null,
   "id": "747f1e9d",
   "metadata": {},
   "outputs": [],
   "source": []
  },
  {
   "cell_type": "code",
   "execution_count": null,
   "id": "baceac72",
   "metadata": {},
   "outputs": [],
   "source": []
  },
  {
   "cell_type": "code",
   "execution_count": null,
   "id": "f9e65759",
   "metadata": {},
   "outputs": [],
   "source": []
  },
  {
   "cell_type": "code",
   "execution_count": null,
   "id": "3534e997",
   "metadata": {},
   "outputs": [],
   "source": []
  },
  {
   "cell_type": "markdown",
   "id": "7483efcc",
   "metadata": {},
   "source": [
    "## Functionality 4 - Disconnecting Graphs"
   ]
  },
  {
   "cell_type": "code",
   "execution_count": 68,
   "id": "a8fbe006",
   "metadata": {},
   "outputs": [],
   "source": [
    "G_fun4 = nx.Graph()"
   ]
  },
  {
   "cell_type": "code",
   "execution_count": 71,
   "id": "4e3008f7",
   "metadata": {},
   "outputs": [],
   "source": [
    "G_fun4 = nx.from_pandas_edgelist(dfedges, 'comic', 'hero')"
   ]
  },
  {
   "cell_type": "code",
   "execution_count": 72,
   "id": "158ff2b8",
   "metadata": {},
   "outputs": [],
   "source": [
    "ln_N = len(G_fun4.nodes())"
   ]
  },
  {
   "cell_type": "markdown",
   "id": "9b839132",
   "metadata": {},
   "source": [
    "Since the function for the point 2.4 only asks how many links are required to disconnect the graph into two subgraphs, the function's output will be a number. So, for every 'comic' node that the two heros have in common, it will add 1 to a count set to 0 at the beginning. If we remove all the nodes 'in common', then the graph will be disconnected. For this function we will also implement the 'topNsuperherosGraph' function written and used for Functionality 2."
   ]
  },
  {
   "cell_type": "code",
   "execution_count": 73,
   "id": "ce4265ce",
   "metadata": {},
   "outputs": [],
   "source": [
    "def minimumCut(G, heroA, heroB, N=ln_N):\n",
    "    \"\"\"\n",
    "    INPUT:\n",
    "    'G' is the graph data\n",
    "    'heroA' is the superhero to which will relate sub-graph G_a\n",
    "    'heroB' is the superhero to which will relate sub-graph G_b\n",
    "    'N' is the number of top heros that we consider for our calculations\n",
    "    \n",
    "    OUTPUT:\n",
    "    A number that represents the links we should remove to disconnect the graph into the two subgraphs\n",
    "    \"\"\"\n",
    "    # We create the top N superheros graph with the function written before.\n",
    "    G_top_N = topNsuperherosGraph(G, N)\n",
    "    \n",
    "    G_copy = G_top_N.copy()\n",
    "    \n",
    "    minCut = float('inf') # Initialized minimum cut to the maximum value possible\n",
    "    \n",
    "    G_copy.add_edge(heroA, heroB)\n",
    "    \n",
    "    component = nx.node_connected_component(G_copy, heroA)  # This gets the set of nodes in the same component as heroA\n",
    "    cutSize = sum([G_copy.degree(x) for x in component]) # Calculate the size of the cut\n",
    "    minCut = min(minCut, cutSize) # Update the minimum cut\n",
    "    \n",
    "    G_copy.remove_edge(heroA, heroB)\n",
    "    \n",
    "    G_a = list(component) # Create a list of the nodes in the first subgraph\n",
    "    G_b = [x for x in G_top_N.nodes() if x not in component] # Create a list of the nodes in the second subgraph\n",
    "    \n",
    "    return minCut, G_a, G_b"
   ]
  },
  {
   "cell_type": "markdown",
   "id": "4e0b4b12",
   "metadata": {},
   "source": [
    "The function first creates a copy of the top N vertices subgraph and adds an edge between heroA and heroB. It then calculates the size of the cut as the sum of the degrees of all the vertices in the same connected component as heroA. The minimum cut is then updated to the minimum of the current minimum cut and the size of the cut. The function then removes the edge between heroA and heroB and creates lists of the vertices in each of the two subgraphs. Finally, the function returns the minimum cut and the two subgraphs.\n",
    "\n",
    "However, keep in mind that it only finds the minimum cut between heroA and heroB, but it does not find the minimum cut between any other pairs of vertices."
   ]
  },
  {
   "cell_type": "code",
   "execution_count": 76,
   "id": "59c6ac2e",
   "metadata": {},
   "outputs": [
    {
     "ename": "KeyboardInterrupt",
     "evalue": "",
     "output_type": "error",
     "traceback": [
      "\u001b[1;31m---------------------------------------------------------------------------\u001b[0m",
      "\u001b[1;31mKeyboardInterrupt\u001b[0m                         Traceback (most recent call last)",
      "Input \u001b[1;32mIn [76]\u001b[0m, in \u001b[0;36m<cell line: 2>\u001b[1;34m()\u001b[0m\n\u001b[0;32m      1\u001b[0m \u001b[38;5;66;03m# Example\u001b[39;00m\n\u001b[1;32m----> 2\u001b[0m \u001b[43mdisconnectGraph\u001b[49m\u001b[43m(\u001b[49m\u001b[43mG_fun4\u001b[49m\u001b[43m,\u001b[49m\u001b[43m \u001b[49m\u001b[38;5;124;43m'\u001b[39;49m\u001b[38;5;124;43mVISION\u001b[39;49m\u001b[38;5;124;43m'\u001b[39;49m\u001b[43m,\u001b[49m\u001b[43m \u001b[49m\u001b[38;5;124;43m'\u001b[39;49m\u001b[38;5;124;43mSPIDER-MAN/PETER PARKER\u001b[39;49m\u001b[38;5;124;43m'\u001b[39;49m\u001b[43m,\u001b[49m\u001b[43m \u001b[49m\u001b[38;5;241;43m1000\u001b[39;49m\u001b[43m)\u001b[49m\n",
      "Input \u001b[1;32mIn [73]\u001b[0m, in \u001b[0;36mdisconnectGraph\u001b[1;34m(G, heroA, heroB, N)\u001b[0m\n\u001b[0;32m      1\u001b[0m \u001b[38;5;28;01mdef\u001b[39;00m \u001b[38;5;21mdisconnectGraph\u001b[39m(G, heroA, heroB, N\u001b[38;5;241m=\u001b[39mln_N):\n\u001b[0;32m      2\u001b[0m     \u001b[38;5;124;03m\"\"\"\u001b[39;00m\n\u001b[0;32m      3\u001b[0m \u001b[38;5;124;03m    INPUT:\u001b[39;00m\n\u001b[0;32m      4\u001b[0m \u001b[38;5;124;03m    'G' is the graph data\u001b[39;00m\n\u001b[1;32m   (...)\u001b[0m\n\u001b[0;32m     10\u001b[0m \u001b[38;5;124;03m    A number that represents the links we should remove to disconnect the graph into the two subgraphs\u001b[39;00m\n\u001b[0;32m     11\u001b[0m \u001b[38;5;124;03m    \"\"\"\u001b[39;00m\n\u001b[1;32m---> 13\u001b[0m     G_top_N \u001b[38;5;241m=\u001b[39m \u001b[43mtopNsuperherosGraph\u001b[49m\u001b[43m(\u001b[49m\u001b[43mG\u001b[49m\u001b[43m,\u001b[49m\u001b[43m \u001b[49m\u001b[43mN\u001b[49m\u001b[43m)\u001b[49m\n\u001b[0;32m     15\u001b[0m     count \u001b[38;5;241m=\u001b[39m \u001b[38;5;241m0\u001b[39m\n\u001b[0;32m     17\u001b[0m     \u001b[38;5;28;01mif\u001b[39;00m heroA \u001b[38;5;129;01min\u001b[39;00m G_top_N\u001b[38;5;241m.\u001b[39mnodes() \u001b[38;5;129;01mand\u001b[39;00m heroB \u001b[38;5;129;01min\u001b[39;00m G_top_N\u001b[38;5;241m.\u001b[39mnodes():\n",
      "Input \u001b[1;32mIn [65]\u001b[0m, in \u001b[0;36mtopNsuperherosGraph\u001b[1;34m(G, N)\u001b[0m\n\u001b[0;32m      9\u001b[0m \u001b[38;5;28;01mfor\u001b[39;00m i \u001b[38;5;129;01min\u001b[39;00m G_sorted_bydeg:\n\u001b[0;32m     10\u001b[0m     \u001b[38;5;28;01mif\u001b[39;00m i \u001b[38;5;129;01min\u001b[39;00m \u001b[38;5;28mlist\u001b[39m(dfedges\u001b[38;5;241m.\u001b[39mhero):\n\u001b[1;32m---> 11\u001b[0m         \u001b[43mtop_N_superheros\u001b[49m\u001b[38;5;241;43m.\u001b[39;49m\u001b[43mappend\u001b[49m(i)\n\u001b[0;32m     12\u001b[0m     \u001b[38;5;28;01mif\u001b[39;00m \u001b[38;5;28mlen\u001b[39m(top_N_superheros) \u001b[38;5;241m>\u001b[39m\u001b[38;5;241m=\u001b[39m N:\n\u001b[0;32m     13\u001b[0m         \u001b[38;5;28;01mbreak\u001b[39;00m\n",
      "\u001b[1;31mKeyboardInterrupt\u001b[0m: "
     ]
    }
   ],
   "source": [
    "# Example\n",
    "minimumCut(G_fun4, 'VISION', 'SPIDER-MAN/PETER PARKER', 100)"
   ]
  },
  {
   "cell_type": "markdown",
   "id": "327b16cd",
   "metadata": {},
   "source": [
    "## Functionality 5 - Extracting Communities"
   ]
  },
  {
   "cell_type": "markdown",
   "id": "a00ea1dd",
   "metadata": {},
   "source": [
    "**F5.1 The minimum number of edges that should be removed to form communities**"
   ]
  },
  {
   "cell_type": "markdown",
   "id": "b69ddf9b",
   "metadata": {},
   "source": [
    "**F5.2 A list of communities, each containing a list of heroes that belong to them.**"
   ]
  },
  {
   "cell_type": "markdown",
   "id": "99cfd6d2",
   "metadata": {},
   "source": [
    "**F5.3 If the Hero_1 and Hero_2 belongs to the same community**"
   ]
  },
  {
   "cell_type": "code",
   "execution_count": 182,
   "id": "88184b21",
   "metadata": {},
   "outputs": [],
   "source": [
    "def edge_to_remove(graph):\n",
    "    G_dict = nx.edge_betweenness_centrality(graph)\n",
    "    edge = ()\n",
    "\n",
    "    # extract the edge with highest edge betweenness centrality score\n",
    "    for key, value in sorted(G_dict.items(), key=lambda item: item[1], reverse = True):\n",
    "        edge = key\n",
    "        break\n",
    "\n",
    "    return edge"
   ]
  },
  {
   "cell_type": "code",
   "execution_count": 183,
   "id": "c51a3ba6",
   "metadata": {},
   "outputs": [],
   "source": [
    "def girvan_newman(graph):\n",
    "    # find number of connected components\n",
    "    sg = nx.connected_components(graph)\n",
    "    sg_count = nx.number_connected_components(graph)\n",
    "\n",
    "    while(sg_count == 1):\n",
    "        graph.remove_edge(edge_to_remove(graph)[0], edge_to_remove(graph)[1])\n",
    "        sg = nx.connected_components(graph)\n",
    "        sg_count = nx.number_connected_components(graph)\n",
    "\n",
    "    return sg"
   ]
  },
  {
   "cell_type": "code",
   "execution_count": 184,
   "id": "9e79cac2",
   "metadata": {},
   "outputs": [],
   "source": [
    "# find communities in the graph\n",
    "c = girvan_newman(G1.copy())\n",
    "\n",
    "# find the nodes forming the communities\n",
    "node_groups = []\n",
    "\n",
    "for i in c:\n",
    "    node_groups.append(list(i))"
   ]
  },
  {
   "cell_type": "code",
   "execution_count": 187,
   "id": "5103160b",
   "metadata": {
    "collapsed": true
   },
   "outputs": [
    {
     "data": {
      "text/plain": [
       "[['SAXON, STARR',\n",
       "  'ANIMUS',\n",
       "  'CANNONBALL/SAM GUTHR',\n",
       "  'LANE, LOIS',\n",
       "  'DONNELY, VICTORIA TO',\n",
       "  'JAWBREAKER/',\n",
       "  'PUDDLEGULP',\n",
       "  'SCREAM',\n",
       "  'HAWKEYE | MUTANT X-V',\n",
       "  'MERCURY III/',\n",
       "  'MASTERS, DR. AUGUST',\n",
       "  'NEPTUNE [OLYMPIAN]',\n",
       "  'RANDI',\n",
       "  'GRIFFIN III',\n",
       "  'GOLDDIGGER',\n",
       "  'JILL',\n",
       "  'GREEN GOBLIN/NORMAN ',\n",
       "  'CALEDONIA/ALISANDE S',\n",
       "  \"MAN-APE/M'BAKU\",\n",
       "  'STEEL WIND',\n",
       "  \"K'AD-MON\",\n",
       "  'CAT BURGLAR',\n",
       "  'CYCLOPS/SCOTT SUMMER',\n",
       "  'SUPREMOR',\n",
       "  'GENTRY',\n",
       "  \"M'SHULLA\",\n",
       "  'PROSH',\n",
       "  'ANANASTASIA/ANNA',\n",
       "  'ZANKOR/JAY STEVENSON',\n",
       "  'THERMAL MAN',\n",
       "  'MASQUE',\n",
       "  'IRIDIA [INHUMAN]',\n",
       "  'BIANDU',\n",
       "  'DR. HYDRO',\n",
       "  'NIGHTWIND/',\n",
       "  'MATADOR/MANUEL ELOGA',\n",
       "  'CRIMSON DAFFODIL',\n",
       "  'GRANT, MARY MEEKS',\n",
       "  'SAVANNAH, LOU-ANN',\n",
       "  'OGRESS',\n",
       "  'DE LA SALLE, BEATRIC',\n",
       "  'PRINCESS ZANDA',\n",
       "  'HYDROMAN/MORRIE BENC',\n",
       "  'DR. DRUID/ANTHONY LU',\n",
       "  'GONZALEZ, RAYMOND',\n",
       "  'BORAKU',\n",
       "  'INFINITY THRALL',\n",
       "  'DR. SPECTRUM/JOSEPH ',\n",
       "  'ELATHAN',\n",
       "  'KING GEORGE VI',\n",
       "  'JANSON, DR. ANDREA',\n",
       "  'BLACK MORAY',\n",
       "  'GLOUCESTER',\n",
       "  'ZZZAX',\n",
       "  'WEASEL/JACK HAMMER',\n",
       "  'DR. DOOM CLONE/VICTO',\n",
       "  'LUMINOR',\n",
       "  'ANACONDA/BLANCHE SIT',\n",
       "  'RECORDER II',\n",
       "  'CARPENTER, RACHEL',\n",
       "  'SORROW',\n",
       "  'WHITE KING',\n",
       "  'DOMO',\n",
       "  'STINGER II',\n",
       "  'SCAR THE STALKER/BRI',\n",
       "  'FLINT, LT.',\n",
       "  'DEUTSCH, GEN.',\n",
       "  'ELECTRON',\n",
       "  'RAMBEAU, FRANK',\n",
       "  'STEEPLEJACK II/MAXWE',\n",
       "  'LU, MR.',\n",
       "  'FIREFIST II',\n",
       "  'CONUNDRUM',\n",
       "  'MCKENZIE, LYDIA',\n",
       "  'SUWAN',\n",
       "  'CHAKRA II',\n",
       "  'SENSATIONAL HYDRA/A',\n",
       "  'SATANA',\n",
       "  'STERN, ROGER',\n",
       "  'GREER, DAVID',\n",
       "  'VIRAGO',\n",
       "  'RHINO',\n",
       "  'RED WOLF/WILDRUN',\n",
       "  'WOO, SONIA',\n",
       "  'NUKE',\n",
       "  'WATTS',\n",
       "  'KELLEHER, MARY',\n",
       "  'WORTHINGTON, ELIZABE',\n",
       "  'CORAL',\n",
       "  'STALYENKO, COL. YURI',\n",
       "  'NOX',\n",
       "  'PEACEMONGER',\n",
       "  'PILEDRIVER',\n",
       "  'TILLIE THE HUN/MATIL',\n",
       "  'CANNONBALL/JACK PULV',\n",
       "  'POUNDCAKES/MARIAN PO',\n",
       "  'FLAG-SMASHER',\n",
       "  'MENTALLO',\n",
       "  'NORTHSTAR | MUTANT X',\n",
       "  'DEATHSHIELD/',\n",
       "  'HAWKSHAW',\n",
       "  'THREADGOLD',\n",
       "  'LORD LEADER',\n",
       "  'ARMADA',\n",
       "  'BATTERING RAM',\n",
       "  'FORTUNE, DOMINIC',\n",
       "  'WAR MACHINE II/PARNE',\n",
       "  'REM-RAM/',\n",
       "  'HULK IV',\n",
       "  'HENSHAW, CURTIS',\n",
       "  'CARDIAC/DR. ELI WIRT',\n",
       "  'CORONER',\n",
       "  'RAVEN, SABBATH II/EL',\n",
       "  'BURKE, JACK',\n",
       "  'SIDEWINDER/SETH VOEL',\n",
       "  'YONDU/YONDU UDONTA',\n",
       "  'NIGHTSTICK/',\n",
       "  'STELLARAX',\n",
       "  'CONTONI, PAUL',\n",
       "  'BENTLEY, MILES',\n",
       "  'DELGADO, RUFUS',\n",
       "  'TOSHI',\n",
       "  'NAPIER, RAMONA DR.',\n",
       "  'COMANCHE',\n",
       "  'OVERRIDER/',\n",
       "  'SALTZ',\n",
       "  'DR. ANGST/FLOYD MANG',\n",
       "  'EMPATH/MANUEL ALFONS',\n",
       "  'HARRISON, COL. EDWAR',\n",
       "  'MAINSPRING',\n",
       "  'VINDIKTOR/',\n",
       "  'OX III',\n",
       "  'POWER PRINCESS/ZARDA',\n",
       "  'MINISTER TOME',\n",
       "  'BYRNE, JOHN',\n",
       "  'VANISHER',\n",
       "  'JAMESON, J. JONAH',\n",
       "  'TABUR',\n",
       "  'ATTRACTIVE LAD/AUNDR',\n",
       "  'KAMIKAZE',\n",
       "  'THANOS DOPPELGANGER',\n",
       "  'JIOMO',\n",
       "  'COY, GENERAL NGUYEN',\n",
       "  'CHAKRA',\n",
       "  'JORDAN, HAL',\n",
       "  'COLDHEART',\n",
       "  'QUAGMIRE',\n",
       "  'VINCENT, DANNY',\n",
       "  'PHANTOM EAGLE',\n",
       "  'WATKINS, MELODY',\n",
       "  'STERLING, SID',\n",
       "  'MARTINEZ, ISADORA',\n",
       "  'SARACEN',\n",
       "  'GARTHAN SAAL',\n",
       "  'NOVA-PRIME',\n",
       "  'GAUNTLET',\n",
       "  'REAVES, VERNON',\n",
       "  'LOBO II',\n",
       "  'DRACULA | MUTANT X-V',\n",
       "  'CARLISLE, PHILLIP',\n",
       "  'LEIGHTON, BRIAN',\n",
       "  'KREE CAPTAIN AMERICA',\n",
       "  'MORDO, ASTRID',\n",
       "  'KRAVEN THE HUNTER/SE',\n",
       "  'THANE ECTOR',\n",
       "  'SIGMAR',\n",
       "  'WATER WITCH',\n",
       "  'NIGHT PHANTOM II',\n",
       "  \"G'RATH\",\n",
       "  'BALE, EMERSON',\n",
       "  'WRECKER II',\n",
       "  'CYBERSLIK',\n",
       "  'APOCALYPSE | MUTANT ',\n",
       "  'MEACHUM, JOY',\n",
       "  'ARVAK',\n",
       "  'LEVIN, MAJOR DEBRA',\n",
       "  'FREEMAN, DUANE JEROM',\n",
       "  'PATCHWORK/KYLE BARKE',\n",
       "  'CLAYTON, KATRINKA JA',\n",
       "  'WIZARD/BENTLEY WITTM',\n",
       "  'MCCOY, NORTON',\n",
       "  'THUNDERSTRIKE/ERIC K',\n",
       "  'UNION JACK III/JOEY ',\n",
       "  'JAMESON, MARLA MADIS',\n",
       "  'CHURCH, LYNN',\n",
       "  'GREEN, LILA',\n",
       "  'KUROKO/',\n",
       "  'WISDOM, ROMANY',\n",
       "  'TILBY, TRISH/PATRICI',\n",
       "  'AENTAROS',\n",
       "  'OUTRIDER II/MARTIN Z',\n",
       "  'LOMENZO, NICOLE',\n",
       "  'OLD WOMAN',\n",
       "  'BARON ZEBEK',\n",
       "  \"P'KAR\",\n",
       "  'XEMNU',\n",
       "  'KRISTOFF/KRISTOFF VE',\n",
       "  'SCICLUNA, MICHELE',\n",
       "  'COVEY, LAWRENCE K.',\n",
       "  'SUVOROV, ADMIRAL GRI',\n",
       "  'ROWEN, MIKE',\n",
       "  'MEAGHER, TYLER',\n",
       "  'YLA',\n",
       "  'MISSING LINK II/RAY ',\n",
       "  'DAGGER/TANDY BOWEN |',\n",
       "  'MEGGAN',\n",
       "  'FIELDS, TODD',\n",
       "  'ANT-MAN/DR. HENRY J.',\n",
       "  'MUSTANG/',\n",
       "  'ANDREWS, DARYL TROOP',\n",
       "  'RAPTAR',\n",
       "  'ANTIQUARY',\n",
       "  'REBEL',\n",
       "  'SHEFFIELD, LEAH',\n",
       "  \"DEATHCRY [SHI'AR]\",\n",
       "  'ZABO',\n",
       "  'TOTEM',\n",
       "  'MONSTROID/BALIOX/7NH',\n",
       "  'LANIEGE, BIANCA',\n",
       "  'THERNON',\n",
       "  'RAKIM, SEN. KAMAL',\n",
       "  'PLEX INTELLIGENCE',\n",
       "  'BURKE, RICKY',\n",
       "  'SYNRAITH',\n",
       "  'MERCURY II',\n",
       "  'DAGGER/TANDY BOWEN',\n",
       "  'MANDARIN, JAMES',\n",
       "  'BRUTACUS',\n",
       "  'UGLY JOHN/STEVE',\n",
       "  'RAGE/ELVIN DARYL HAL',\n",
       "  'LILANDRA NERAMANI [S',\n",
       "  'NOVA II/FRANKIE RAYE',\n",
       "  'LOBO, CARLOS',\n",
       "  'BRADLEY, JESSICA',\n",
       "  'TIGRA/GREER NELSON',\n",
       "  'ANGEL II/THOMAS HALL',\n",
       "  'PROWLER/HOBIE BROWN',\n",
       "  'DEATH ADDER',\n",
       "  'GROVES, GEN. MCALLIS',\n",
       "  'SANDOVAL, JULIANA',\n",
       "  'WEISENTHAL, DR. JONA',\n",
       "  'KRUMA, TALIA',\n",
       "  'COY, GENERAL NGUYEN ',\n",
       "  'WANG, LI',\n",
       "  'MISS ITCH/BLISS',\n",
       "  'NEKRA/ADRIENNE HATRO',\n",
       "  'BUSHKIN, BARNEY',\n",
       "  'BRANNEX, ALLESSANDRO',\n",
       "  'X-RAY II/',\n",
       "  \"N'GASSI\",\n",
       "  'AFTERLIFE',\n",
       "  'JACK SERIOUS/DR. JOH',\n",
       "  'DARE, ROSSALYN',\n",
       "  'LANDSLIDE II/LEE BRO',\n",
       "  'GALADRIEL',\n",
       "  'GHOST RIDER III/DAN',\n",
       "  'SZARDOS, MARGALI',\n",
       "  'UTGARD-LOKI',\n",
       "  'STRANG, COL./LT. GAR',\n",
       "  \"W'KANDRO\",\n",
       "  'PRODIGAL/',\n",
       "  'CAPTAIN RECTITUDE',\n",
       "  'BIRD MAN III',\n",
       "  'TAKIMOTO, RON',\n",
       "  'INES, DR. DIDIER',\n",
       "  'SAWYER, GENERAL SAMU',\n",
       "  'MORAN, KEVIN',\n",
       "  'MOOMJI, INDRIES',\n",
       "  'EPSTEIN, MORRIS',\n",
       "  'SENSATIONAL HYDRA/A ',\n",
       "  'TRACKER',\n",
       "  'VIRTUAL REALITY',\n",
       "  'GAMORA',\n",
       "  'AGENT 18/JACK TRUMAN',\n",
       "  'DEATHWATCH/STEPHAN L',\n",
       "  'POWER, DR. MAX',\n",
       "  'NOBLE',\n",
       "  'RYKER, GENERAL',\n",
       "  \"WHEELER, M'KONI MARY\",\n",
       "  'DEMONSTAFF',\n",
       "  'COPPER',\n",
       "  'FAITH',\n",
       "  'MAKKARI/MIKE KHARY/I',\n",
       "  'CUTTER',\n",
       "  'CAPTAIN MARVEL III/G',\n",
       "  'STYRAK',\n",
       "  'VULCAN/',\n",
       "  'YANKEE CLIPPER/PAT C',\n",
       "  'BIG CASINO/',\n",
       "  'DELPHOS',\n",
       "  'DOVER, DONNA-LEE',\n",
       "  'FARREL, MIKE',\n",
       "  'INVISIBLE WOMAN DOPP',\n",
       "  'ARTEMIS',\n",
       "  'AGAMEMNON',\n",
       "  'GALLAGHER, BOB',\n",
       "  'OLALLA',\n",
       "  'BLACK RACER',\n",
       "  'LILLIAN, BEA',\n",
       "  'PIGSKIN/',\n",
       "  'LEGS II/',\n",
       "  'AI-CHIA',\n",
       "  'COLLINS, BRADBURY',\n",
       "  'HUMBUG/PROF. B. MITT',\n",
       "  'MALAN Sometimes spel',\n",
       "  'NEUROTAP/MICHELLE BA',\n",
       "  'WRECKER III/DIRK GAR',\n",
       "  'POWELL, OFFICER MIKE',\n",
       "  'SHADOW-HAND/LI CHUN',\n",
       "  'HAMILTON, PAUL',\n",
       "  'LURKING UNKNOWN',\n",
       "  'BURKE, JOB',\n",
       "  'HUNTER, STEVIE',\n",
       "  'HALFTREE, HORACE',\n",
       "  'PURL, DR. NOAH',\n",
       "  'FRANKENSURFER/BORGO',\n",
       "  'GREY, JEAN | MUTANT ',\n",
       "  'CRIME-WAVE/HOLLIS',\n",
       "  'PARKER, MAY III',\n",
       "  'GANNON, RICH',\n",
       "  'TERMINUS',\n",
       "  'TEMPLE, CLAIRE',\n",
       "  'TENELLE',\n",
       "  'CAIRN, DET.',\n",
       "  'AJAX II',\n",
       "  'GARGOYLE | MUTANT X-',\n",
       "  'MURDOCK, BATTLING JA',\n",
       "  'LYLLA',\n",
       "  'VILIVEN',\n",
       "  'THRAXON',\n",
       "  'ALOUETTE, GENARD',\n",
       "  'PHANTAZIA/',\n",
       "  'NORRISS, SISTER BARB',\n",
       "  'BLACK, RACHEL',\n",
       "  'MOTHER NIGHT/SUSAN S',\n",
       "  'SAWYER, RYAN',\n",
       "  'QUESADA, JOE',\n",
       "  'AZURE',\n",
       "  'PIRANHA II',\n",
       "  'GRIEFSAVOR',\n",
       "  'GALACTUS/GALAN',\n",
       "  'MCMURRAY, YVONNE',\n",
       "  'SHAITAN, AL',\n",
       "  'PERSEPHONE',\n",
       "  'RAZOR',\n",
       "  'THUNDERBALL/DR. ELIO',\n",
       "  'SPINNERET',\n",
       "  'BLACK GOLIATH/DR. WI',\n",
       "  'NICODEMUS II',\n",
       "  'DANIELS, BRIE',\n",
       "  'DEZOAN, JOHN',\n",
       "  'WILD ONE',\n",
       "  'NUMBER NINE',\n",
       "  'RAYMOND, ANN',\n",
       "  'MAJOWSKI, SAM MOTHER',\n",
       "  'PARKER, HORACE',\n",
       "  'ADAM 3,031',\n",
       "  'SLUG/ULYSSES X. LUGM',\n",
       "  'CONKLIN, CAPT.',\n",
       "  'CHANGELING',\n",
       "  'TEMPEST/GRANNZ',\n",
       "  'DICE/ROB FORTUNE',\n",
       "  'CLARISSA',\n",
       "  'FANDRAL [ASGARDIAN]',\n",
       "  'MACKAY, MURDO',\n",
       "  'KONIEV, DMITRI',\n",
       "  'SPITZ, BARRY',\n",
       "  'CROSS/',\n",
       "  'MERCADO, JOY',\n",
       "  'ATOM SMASHER/',\n",
       "  'FOXFIRE/OLIVIA UNDER',\n",
       "  'STINGER/',\n",
       "  'CUMMINGS, DIANE',\n",
       "  'FAYRELYTE STRONGHEAR',\n",
       "  'TILDA',\n",
       "  'BATTLEAXE/',\n",
       "  'DOLLAR BILL',\n",
       "  'TARGET',\n",
       "  'AYALA, AWILDA',\n",
       "  'SABRETOOTH | MUTANT',\n",
       "  'SOUSA, PAUL',\n",
       "  'SOTO, BERNARD',\n",
       "  'GUNTHAR II',\n",
       "  'HAMMER IV',\n",
       "  'ARROW',\n",
       "  'PARETSKY, DR. GARY',\n",
       "  'UNCLE PYKO',\n",
       "  'BALDER [ASGARDIAN]',\n",
       "  'ZOMBIE/SIMON GARTH',\n",
       "  'GLEASON, KAREN',\n",
       "  'MARVEL BOY VII/DAVID',\n",
       "  'BARONESS ZEMO/HEIKE',\n",
       "  'IMP/PANDORA DESTINE',\n",
       "  'TSKAROV, GENERAL',\n",
       "  'SCRIPPS, LAHOYA',\n",
       "  'JEKUAKKEKT',\n",
       "  'SEEKER III',\n",
       "  'RAZOR WIRE/',\n",
       "  'BRAWN, TRISTAN',\n",
       "  'BOUDREAUX, BELLA DON',\n",
       "  'SEA URCHIN/JEREMY SW',\n",
       "  'KANGAROO II/',\n",
       "  'SCANLON, COMMANDER',\n",
       "  'FURY, DAWN',\n",
       "  'WINTHROP, DESIREE',\n",
       "  'GRUNCH, ALESTAIRE FI',\n",
       "  'AGAMOTTO',\n",
       "  'BENNETT, MITCH',\n",
       "  'AGAMEMNON III/',\n",
       "  'DEMEITYR',\n",
       "  'SQUIRE',\n",
       "  'ROBERTS, TED',\n",
       "  'PIRANHA II/',\n",
       "  'BLOCKBUSTER II',\n",
       "  'ASTROVIK, ARNOLD',\n",
       "  'ROGUE DOPPELGANGER',\n",
       "  'MADISON, TAYLOR',\n",
       "  'KELLY, SARA',\n",
       "  'MCCABE, NINA',\n",
       "  'CRULE',\n",
       "  'RASPUTIN, LUCIFER',\n",
       "  'CRIMEBUSTER/FRANK MO',\n",
       "  'CROIX, ASHLEY',\n",
       "  'METABO',\n",
       "  \"R'TEE\",\n",
       "  'GALE, SHERIFF',\n",
       "  'ATLAS III',\n",
       "  'RAPTOR II/PROFESSOR',\n",
       "  'HIGHNOTE/RAOUL HERNA',\n",
       "  'FLYING FOX',\n",
       "  'REINHOLDT',\n",
       "  'SKOOKA',\n",
       "  'SILVERCLOUD, SAM',\n",
       "  'DOMINA',\n",
       "  'SHADES',\n",
       "  'WITCHFIRE',\n",
       "  'MISS LOCKE',\n",
       "  'BASILISK II',\n",
       "  'TOLLIVER',\n",
       "  'FIREWALL/THEARY/MIN ',\n",
       "  'PALADIN/PAUL DENNIS',\n",
       "  'VANGUARD/NICOLAI KRY',\n",
       "  'SHADOW QUEEN/SHIALMA',\n",
       "  'CHAKARA, MADAN',\n",
       "  'CRIMSON DYNAMO VI/VA',\n",
       "  'SPITE/',\n",
       "  'IGOE, MAX',\n",
       "  'SCENE STEALER',\n",
       "  'TRI-SENTINEL',\n",
       "  \"IRON FIST H'YLTHRI I\",\n",
       "  'ZIRCONIUM',\n",
       "  'WILFORD, ETHAN',\n",
       "  'AMPERE',\n",
       "  'FATH',\n",
       "  'FIREFIST II/',\n",
       "  'LIFEFORCE',\n",
       "  'KLAER',\n",
       "  'THUMBELLINA',\n",
       "  'ABOMINATION | MUTANT',\n",
       "  'TRITON DOPPELGANGER ',\n",
       "  'LEAD-IN',\n",
       "  'SCOURGE',\n",
       "  'KIRIGI',\n",
       "  'WIRETAP',\n",
       "  'BARON MACABRE/',\n",
       "  'STARK, HOWARD',\n",
       "  \"SHANNA/SHANNA O'HARA\",\n",
       "  'SABINI, JERRY THE WH',\n",
       "  'DRUMM, JERICHO',\n",
       "  'BOOKWORM/NELSON GRUB',\n",
       "  'GIDEON, GREGORY HUNG',\n",
       "  'QUAYLE, DAN',\n",
       "  'RYCHENKO, MAJ. VALEN',\n",
       "  'BIRD, TUESDAY',\n",
       "  'HAGER, GENERAL',\n",
       "  'SHELLSHOCK',\n",
       "  'BIG MAN/FREDERICK FO',\n",
       "  'COFFY, DET.',\n",
       "  'CHANEY, AMANDA',\n",
       "  'ERG',\n",
       "  'TANAKA, GEORGE',\n",
       "  'MACTAGGERT, MOIRA KI',\n",
       "  'BULLDOZER/HENRY CAMP',\n",
       "  'THOMPSON, ROSIE',\n",
       "  'BEETLE II/LEILA DAVI',\n",
       "  'VERITUS',\n",
       "  'BROWN, FRANK',\n",
       "  'REMIPED',\n",
       "  'SMITH, MANDY',\n",
       "  'SAINT, AMANDA',\n",
       "  'VOID',\n",
       "  'BARRON, RICK',\n",
       "  'INFERNO',\n",
       "  \"MUNROE, N'DARE\",\n",
       "  'PIXIE II/',\n",
       "  'BROWSER',\n",
       "  'MAGRUDER, ALLIE',\n",
       "  'MORETTI',\n",
       "  'VESPER',\n",
       "  'HIGGINS, RICHIE',\n",
       "  'GYRICH, HENRY PETER ',\n",
       "  'CALLAHAN, MIKE',\n",
       "  'CIRE, MANUEL',\n",
       "  'KINGMAN, BILL',\n",
       "  'CHEEVER, JOHN',\n",
       "  'GIGANTO',\n",
       "  'IMPALA/',\n",
       "  'SCRATCH',\n",
       "  \"M'KUMBA\",\n",
       "  'HONEY LEMON',\n",
       "  'GLOB/DR. SUMNER BECK',\n",
       "  'MACKENZIE, AL',\n",
       "  'STRONG, MARTIN HENRY',\n",
       "  'FIREBIRD/BONITA JUAR',\n",
       "  'LORD OF LIGHT/BOWEN',\n",
       "  'HOPKINS, STEVE',\n",
       "  'BEAST 2013',\n",
       "  'SKINNER',\n",
       "  'GLEEG',\n",
       "  'WARKOVSKY, SEN.',\n",
       "  'CHARLIE 27',\n",
       "  'BEL-DANN, GEN.',\n",
       "  'HSU, CHEN',\n",
       "  'MADSDEN, TREVOR',\n",
       "  'PIP/PRINCE GOFERN',\n",
       "  'MADAME MENACE/SUNSET',\n",
       "  'THOMAS, ROY',\n",
       "  'KAA',\n",
       "  'FORRESTER, DR. CEDRI',\n",
       "  'BLOODVESSEL, BUSTA',\n",
       "  'DELAZNY, DORIAN',\n",
       "  'LEWIS, DEVON',\n",
       "  'LUCAS',\n",
       "  'MALACHI',\n",
       "  'LLYRA/LLYRA MORRIS',\n",
       "  'ASHEMA [CELESTIAL]',\n",
       "  'TULLY, DEREK',\n",
       "  'YUAN, BILLY',\n",
       "  'TUVO',\n",
       "  'NIXON, RICHARD',\n",
       "  'CALDRONE, JAVIER',\n",
       "  'TEMPLAR/IAN FITZWILL',\n",
       "  'AVRIL, SALLY',\n",
       "  'CANDRA',\n",
       "  'VOLCANA ASH',\n",
       "  'TINAC',\n",
       "  'PUNCHOUT',\n",
       "  'KITAGOWA, DR. KITTY',\n",
       "  'MASTER MOLD',\n",
       "  'FORD, GERALD',\n",
       "  'VIBRO/DR. FRANCIS VI',\n",
       "  'ASTRA',\n",
       "  'YMIR',\n",
       "  'BOWEN, FATHER MICHAE',\n",
       "  'AZRAEL',\n",
       "  'CUSSLER, PHILLIP',\n",
       "  'CASSADA, MICHAEL',\n",
       "  'SCARPETTI, ALPHONSE',\n",
       "  'GREY, ELAINE',\n",
       "  'THINKER',\n",
       "  'GAUNT/MENDEL STROMM',\n",
       "  'KIKO',\n",
       "  'THUNDERFIST/',\n",
       "  'TRITON DOPPELGANGER',\n",
       "  'UNA',\n",
       "  'SISTER AGONY',\n",
       "  'BARON BRIMSTONE/',\n",
       "  'KAREL',\n",
       "  'CEREBRO MARK XIII |',\n",
       "  'MASTERMIND/JASON WYN',\n",
       "  'KASEMA',\n",
       "  'TWIT',\n",
       "  'MONTESI, VICTORIA',\n",
       "  'FEUER',\n",
       "  'VOLGA BELLE/',\n",
       "  'TITAN',\n",
       "  'VISION DOPPELGANGER',\n",
       "  'MURDOCK, MATT | TIME',\n",
       "  'STROUD, SIMON',\n",
       "  'HANRAHAN, GORDON',\n",
       "  'HILDY [ASGARDIAN]',\n",
       "  'FAMINE/AUTUMN ROLFSO',\n",
       "  'LLOIGOROTH',\n",
       "  'SENYAKA',\n",
       "  'MASTER MONARCH',\n",
       "  'RACAL, CONSTANTIN',\n",
       "  'PUENTES, DONNA MARIA',\n",
       "  'SPARK',\n",
       "  'WU, SONIA',\n",
       "  'KANGAROO/FRANK OLIVE',\n",
       "  'CHROMIUM',\n",
       "  'KING CADAVER',\n",
       "  'BLANDING, HALEY',\n",
       "  'MAGMA/AMARA AQUILLA/',\n",
       "  'CITIZEN V/JOHN WATKI',\n",
       "  'OCULUS, LT.',\n",
       "  'CHIEF EXAMINER',\n",
       "  'RAINBOW, BECKY',\n",
       "  'SAI',\n",
       "  'JEMIAH',\n",
       "  'WOLVERINE SKRULL',\n",
       "  'MINOR DOMO',\n",
       "  'FIREFLY',\n",
       "  'THORSON, DR. WALTER',\n",
       "  'BAXTER, NOAH',\n",
       "  'PHANTOM RIDER II/HAM',\n",
       "  'RAMBEAU, MARIA',\n",
       "  'STITCH/',\n",
       "  'CUTTHROAT/DANIEL LEI',\n",
       "  'EIGHTBALL',\n",
       "  'JEFFERSON, DR.',\n",
       "  'FIDDLER, BARNEY',\n",
       "  'HARRIGAN, CHESTER CH',\n",
       "  'RAMIREZ, LUIS',\n",
       "  'PEARSON, MARCY',\n",
       "  'SYNAPSE/',\n",
       "  'KINCAID, JIMMY',\n",
       "  'HANRANSHA/ASAHI',\n",
       "  'RED SKULL/JOHANN SCH',\n",
       "  'KOLE, JOHN',\n",
       "  'GRIFFIN',\n",
       "  'LIPSCOMB, DR. ANGELA',\n",
       "  'KID/E.B. FARRELL',\n",
       "  'HUNTSMAN',\n",
       "  'COMET MAN/DR. STEPHE',\n",
       "  'GILBERT, PROFESSOR G',\n",
       "  'BACILLUS',\n",
       "  'THOR II/ROGER RED NO',\n",
       "  'MISSING LINK',\n",
       "  'ANDERSON, MARJORIE',\n",
       "  'LOCUS',\n",
       "  'PAYNE, EDWARD',\n",
       "  'HOTAMITANIO',\n",
       "  'SMUGGLER II/CONRAD J',\n",
       "  'VERSCHLAGEN, FRAU',\n",
       "  'PYRON/',\n",
       "  'MORBIUS/DR. MICHAEL ',\n",
       "  'BLACK, CYRUS',\n",
       "  'PENDRAGON, ARTHUR',\n",
       "  'MESSENGER, TOBIAS',\n",
       "  'MAGOG',\n",
       "  'WOODS, TIMOTHY',\n",
       "  'MOONDANCER',\n",
       "  'RAMIREZ, ALMA',\n",
       "  'BOULDER',\n",
       "  'GRANT, SILAS',\n",
       "  'ROCKETLAUNCHER',\n",
       "  'BLACK BOLT | MUTANT ',\n",
       "  'FLYING DUTCHMAN',\n",
       "  \"ELEC'TRIX\",\n",
       "  'MUTO, JUNZO',\n",
       "  'HATE-MONGER IV',\n",
       "  'TAKAHASHI, REI',\n",
       "  'LANDSCAPE/BRETT',\n",
       "  'JOCASTA II',\n",
       "  'KRYZEWSKI, LEONARD M',\n",
       "  'LAVENDER, MAXINE',\n",
       "  'SALOME',\n",
       "  'INSHALLAH, KHALID',\n",
       "  'CITIZEN V II/HELMUT ',\n",
       "  'CAPTAIN AMERICA IV/S',\n",
       "  \"D'SPRYTE\",\n",
       "  'SLOAN, FRED',\n",
       "  'RIPSTER',\n",
       "  'ATOM-SMASHER/',\n",
       "  'SLADE',\n",
       "  'CHI DEMON/PROFESSOR',\n",
       "  'MOTHER INFERIOR',\n",
       "  'MULDOON, TEXAS JACK',\n",
       "  'DON, GAI NO',\n",
       "  \"O'DONNELL\",\n",
       "  'CITIZEN V II/HELMUT',\n",
       "  'BATTLE, MONTGOMERY',\n",
       "  'ADMIRAL PROTOCOL/',\n",
       "  'MINOTAURUS',\n",
       "  'TAREE',\n",
       "  'DRACCHISS',\n",
       "  'PARKER, MAY | TIMESL',\n",
       "  'KAMINARI',\n",
       "  'OSBORN, NORMIE',\n",
       "  'SCOURGE II/',\n",
       "  'MACTAGGART, JOE',\n",
       "  'SUB-MARINER/NAMOR MA',\n",
       "  'BARNACLE',\n",
       "  'VORZEN',\n",
       "  'FILLMORE, SHERIFF DO',\n",
       "  'SHERMAN, GEN.',\n",
       "  'KEEVER',\n",
       "  'CRIMSON DYNAMO II/BO',\n",
       "  'SUMMERS, NATHAN CHRI',\n",
       "  'BARON STRUCKER/WOLFG',\n",
       "  'TOLLIVER, EMMA',\n",
       "  'MANTLO, BILL',\n",
       "  'LITTLETREE, LINDA',\n",
       "  'KELLY, SEN. ROBERT E',\n",
       "  'LEOPOLD, ARCHER',\n",
       "  'BLAZE, CRAIG',\n",
       "  'STINGRAY | MUTANT X-',\n",
       "  'DANNING, SHEILA',\n",
       "  'JENKINS, WALTER',\n",
       "  'BARON BLOOD/JOHN FAL',\n",
       "  'SIN-EATER/STAN CARTE',\n",
       "  'WILBURN, MYRON',\n",
       "  'KHAN',\n",
       "  'THOMAS, DR. JOHN',\n",
       "  'POMEROY, SYLVIA',\n",
       "  'ANUBIA',\n",
       "  'FROG MAN/FROG LE BLA',\n",
       "  'PISTON/ANDREI SEMYAN',\n",
       "  'LECLAIRE, PROFESSOR ',\n",
       "  'MUTAURUS',\n",
       "  'CAPTAIN GLORY',\n",
       "  'IVANOVA, ELENA',\n",
       "  'ADORA CLONE',\n",
       "  'LA NUIT',\n",
       "  'CROSSBONES II/',\n",
       "  'STINGRAY/DR. WALTER ',\n",
       "  'STEWART, MARY',\n",
       "  'GORR',\n",
       "  'LONGARM',\n",
       "  'ACHILLES',\n",
       "  'OCCULUS',\n",
       "  'SLAB/KRIS ANDERSON',\n",
       "  'SANDERS, DET. NAPOLE',\n",
       "  'OVERRIDE/DR. GREGORY',\n",
       "  'FORGE | MUTANT X-VER',\n",
       "  'ANGEL IV',\n",
       "  'CEREBRITE BETA',\n",
       "  'TUMOLO, DR. JOANNE',\n",
       "  'HURDLER, THOMAS',\n",
       "  'AQUARIUS III',\n",
       "  'SHADOW KING/AMAHL FA',\n",
       "  'HARKER, QUINCY',\n",
       "  'JARVIS, EDWIN',\n",
       "  'SWIFT/',\n",
       "  'ROMA',\n",
       "  'TRASK, LAWRENCE LARR',\n",
       "  'FIN/PETER NOBLE',\n",
       "  'HOBBS, HARRIS',\n",
       "  'DESIGNATE/TARENE',\n",
       "  'HIGH EVOLUTIONARY/HE',\n",
       "  'STARSHINE II/BRANDY',\n",
       "  'SIMBUS',\n",
       "  'STORM DOPPELGANGER I',\n",
       "  'DUBOIS, HERVE',\n",
       "  'MOLTO',\n",
       "  'FIRELORD/PYREUS KRIL',\n",
       "  'CRAWLEY, BETRAND',\n",
       "  'FALZON',\n",
       "  'CHIANG, PROF.',\n",
       "  'KREE GIANT MAN [KREE',\n",
       "  'ASYLUM/',\n",
       "  'COPPERHEAD III/DAVIS',\n",
       "  'MANGOG',\n",
       "  'SISTER SOPHIA',\n",
       "  'CAPRICORN/WILLARD WE',\n",
       "  'KASTYX',\n",
       "  'BLAQUESMITH',\n",
       "  'VISALIA',\n",
       "  'WARLORD',\n",
       "  'MR. FANTASTIC/REED R',\n",
       "  'ARMBRUSTER, COLONEL',\n",
       "  'IRON MAN/TONY STARK ',\n",
       "  'CAPTAIN AMERICA | MU',\n",
       "  'SLUGANSKI, ERNIE',\n",
       "  'IKARIS | MUTANT X-VE',\n",
       "  'EVERWRAITH/',\n",
       "  'BLOODSTORM | MUTANT',\n",
       "  'DIAMOND LIL/LILLIAN ',\n",
       "  'HAVOK/ALEX SUMMERS ',\n",
       "  'COUNTERWEIGHT/JACK P',\n",
       "  'WISDOM, HAROLD',\n",
       "  'ZEY-ROGG',\n",
       "  'STYGIAN STARBENDER',\n",
       "  'FIREFALL III/ARCHIE ',\n",
       "  'FAWKES',\n",
       "  'MARCEAUX, BELIZE',\n",
       "  'ERIC THE RED II',\n",
       "  'GUTHRIE, JOSH',\n",
       "  'STALLIOR',\n",
       "  'SLEEPWALKER',\n",
       "  'LOVECCHIO, ARGUS',\n",
       "  'RINGLET',\n",
       "  'BRUKNER, ILANEY',\n",
       "  'GOLEM III',\n",
       "  'SKULLCRASHER/',\n",
       "  'MARTINEZ, CARMELLO',\n",
       "  'KRAGG, GEN.',\n",
       "  'MAGDALENE/MARISSA DA',\n",
       "  'CAPTAIN WINGS/',\n",
       "  'MASTER PANDEMONIUM/M',\n",
       "  'JEROME, JASON',\n",
       "  'MAULER/BRENDAN DOYLE',\n",
       "  'HARNESS/ERIKA BENSON',\n",
       "  'MASTIFF',\n",
       "  'PECOS BILL',\n",
       "  'CREED, GRAYDON',\n",
       "  'GOONER, MELVIN',\n",
       "  'LASHER/',\n",
       "  'BLOODSTRIKE/ERIC CON',\n",
       "  'KHADIJAH',\n",
       "  'POWELL, JASON',\n",
       "  'KHOON',\n",
       "  'HOLOCAUST',\n",
       "  'WALTERS, CHAP',\n",
       "  'MAHONEY, GINNY',\n",
       "  'FERON',\n",
       "  'TINKERER',\n",
       "  'DAMAGE',\n",
       "  'MCELROY, JAMES',\n",
       "  'ROTH, DR. GERALD',\n",
       "  'SUNTURION II/MIKE ST',\n",
       "  'TOMMY LIGHTNING/',\n",
       "  'PULASKI, JOSEPHINE J',\n",
       "  'PEATOR',\n",
       "  'DAKESIAN, NANCI',\n",
       "  'GOGO TAMAGO/',\n",
       "  'HERMES [GREEK GOD]',\n",
       "  'AYESHA',\n",
       "  'NEWMARK, LOTUS',\n",
       "  'PROUST, PAUL',\n",
       "  'MACON, ANGELO',\n",
       "  'BEETLE ROBOT',\n",
       "  'MASKED MARAUDER/FRAN',\n",
       "  'BRAIN CELL',\n",
       "  'MICROMAX/SCOTT WRIGH',\n",
       "  'DOLMAN',\n",
       "  'BLACK RAZER',\n",
       "  'WATSON, ANNA',\n",
       "  'STINKY',\n",
       "  'TAYLOR, JENNA',\n",
       "  'DIBDEB',\n",
       "  'BROTHER VOODOO/DANIE',\n",
       "  'HOYT, TONY',\n",
       "  'REXEL TOIVEN',\n",
       "  'MIBA',\n",
       "  'VIBRAVORE',\n",
       "  'SERSI | MUTANT X-VER',\n",
       "  'ACHILLES II/HELMUT',\n",
       "  'SIGYN',\n",
       "  'EL TORO ROJO',\n",
       "  'METALSLASH',\n",
       "  'RASPUTINA, ILLYANA I',\n",
       "  'SHOTGUN III',\n",
       "  'STALKING FOX',\n",
       "  'BERNIE',\n",
       "  'NIGHTCRAWLER | MUTAN',\n",
       "  'MAHA YOGI',\n",
       "  'MULTIPLE MAN/JAMES A',\n",
       "  'PICO',\n",
       "  'WILD CHILD DOPPELGAN',\n",
       "  'JASON II',\n",
       "  'FROSTBITE/DR. SLOANE',\n",
       "  'DUSK III',\n",
       "  'ZARRKO, ARTHUR',\n",
       "  'OSHTUR',\n",
       "  'ICEMASTER/',\n",
       "  'STRIDER',\n",
       "  'WONDER MAN 2010/SIMO',\n",
       "  \"STARDUST/T'URIN G'AR\",\n",
       "  'SAT-YR-9',\n",
       "  'SUPREME INTELLIGENCE',\n",
       "  'WARHAWK III/TOM NAKA',\n",
       "  'MOONSTONE/LLOYD BLOC',\n",
       "  'DR. MIME',\n",
       "  'HUNTER IN DARKNESS',\n",
       "  'MCCOURT, ALLISON',\n",
       "  'MOONGLOW',\n",
       "  'MASTERMIND V',\n",
       "  'DEANGELO, DEVLIN',\n",
       "  'ANTEUS',\n",
       "  'SIROCCO',\n",
       "  'BLACK FOX/ROBERT W. ',\n",
       "  'STOCKBRIDGE, CHARLES',\n",
       "  'FIRESTAR DOPPELGANGE',\n",
       "  'RITTER, DONALD',\n",
       "  'JACK',\n",
       "  'MUNIPOOR',\n",
       "  'LADONNA, HOLLY',\n",
       "  'GARGOYLE II/ISAAC CH',\n",
       "  'VIGILANT/PSTUN-RAGE',\n",
       "  'SABOTEUR',\n",
       "  'MR. FX/',\n",
       "  'MINOTAUR II',\n",
       "  'LORD BALDAR',\n",
       "  'WORD II/',\n",
       "  'STONE-FACE',\n",
       "  'POWERSURGE/ILLARION',\n",
       "  'KAISHEK, YOLYN',\n",
       "  'ROBERTSON, PROF. BOB',\n",
       "  'SHINCHUKO, LOTUS',\n",
       "  'VISION',\n",
       "  'STURDY, PROF. KENNET',\n",
       "  'YEAGER, CALLIE',\n",
       "  'FONTANELLE/GLORIA DA',\n",
       "  'VEDA',\n",
       "  'VEEG',\n",
       "  'BARON BLOOD II/VICTO',\n",
       "  'AUSTIN, TERRY',\n",
       "  'TOLLIVER, REV. JACKS',\n",
       "  'ARYAN',\n",
       "  'JAMESON, COL. JOHN ',\n",
       "  'CADUCEUS',\n",
       "  'NANABOZHO',\n",
       "  'LIGHTSPEED/JULIE POW',\n",
       "  'BENJAMIN, BYRON',\n",
       "  'PAINE, DR.',\n",
       "  'VOYAGER',\n",
       "  'AUTHORITY/',\n",
       "  'SHADOWCAT 2013',\n",
       "  'JESSUP, DR.',\n",
       "  'KING BEDLAM/CHRISTOP',\n",
       "  'UNION JACK/LORD MONT',\n",
       "  'BLOCKBUSTER/',\n",
       "  'MOLE',\n",
       "  'DAHN, FARNOQ',\n",
       "  'DUBOIS, NOAH',\n",
       "  'ARMSTRONG, MYRA',\n",
       "  'SUMMERS, DEBORAH',\n",
       "  'STRONGHOLD/',\n",
       "  'FAIRMONT, AMANDA MAN',\n",
       "  'DESTINE, NEWTON',\n",
       "  'DANTES, DR. EDWINA',\n",
       "  'ARSENAL',\n",
       "  'NEVILLE, KATE',\n",
       "  'ENDO, DR. SUZI',\n",
       "  'RIDDLEY, HIRAM RAM',\n",
       "  'OBLITERATOR II',\n",
       "  'OSIRIS',\n",
       "  'SEBASTIAN, MARISSA',\n",
       "  'FILLMORE, GARRET',\n",
       "  'DRAX | MUTANT X-VERS',\n",
       "  'BULLSEYE | MUTANT X-',\n",
       "  'MASTER ELO',\n",
       "  'DUGAN, DUM DUM | MUT',\n",
       "  'SAINT ELMO',\n",
       "  'WRAITH II/HECTOR REN',\n",
       "  'PIERSON, FRED',\n",
       "  'JONES, RICHARD MILHO',\n",
       "  'FALCONER, CALVIN',\n",
       "  'MOJO II',\n",
       "  'CORONA/DAGNY FORREST',\n",
       "  'PATILIO, MARIE',\n",
       "  'KNIGHT, MISTY',\n",
       "  'SEWARD, ELISABETH',\n",
       "  'ROSE, JUSTICE',\n",
       "  'FORTUNE',\n",
       "  'VIXEN',\n",
       "  'JOSEPH, SHEVA',\n",
       "  'TROLL',\n",
       "  'GRYPHON/COMMANDER EK',\n",
       "  'THUNDERBIRD/JOHN PRO',\n",
       "  'TIMEBOMB/LOUIS JOUBE',\n",
       "  'PURSUER',\n",
       "  'WATSON, KEVIN',\n",
       "  'RAVEN, MATTHEW',\n",
       "  'FOOLKILLER III/KURT',\n",
       "  'GALANNAN, BILL',\n",
       "  'JACK OF HEARTS/JACK ',\n",
       "  'CAESAR',\n",
       "  'SAMEDAR',\n",
       "  'KEL, JANOTH',\n",
       "  'CARTER, BRAD',\n",
       "  'MALTESE',\n",
       "  'NYLES, JENNIFER',\n",
       "  'CAESAR, JULIUS',\n",
       "  'FIM',\n",
       "  'GUARDIAN V/JAMES MAC',\n",
       "  'COSMIC MESSIAH',\n",
       "  'SNIPER/VON BURIAN',\n",
       "  'MO MONEY',\n",
       "  'CARNIVORE/COUNT ANDR',\n",
       "  'JUGGERNAUT | MUTANT',\n",
       "  'MARTINEZ, MR.',\n",
       "  'HEADHUNTER',\n",
       "  '24-HOUR MAN/EMMANUEL',\n",
       "  'HEYWERTH, GENERAL',\n",
       "  'UNSEEN/UNAM',\n",
       "  'SHAW, OBADIAH',\n",
       "  'COMMANDER COURAGE',\n",
       "  'DEATHRAVEN/JOSHUA RA',\n",
       "  'FURY, NICK | MUTANT ',\n",
       "  'KANNOR, ORLANDO',\n",
       "  'DAKOR, YOGI',\n",
       "  'VAKUME',\n",
       "  'BLACK RACER/',\n",
       "  'GATTLING/',\n",
       "  'PSYKLOP',\n",
       "  'MAGNETO/MAGNUS/ERIC ',\n",
       "  'GAMBONNO, ERNESTO',\n",
       "  'YORK, SANDY',\n",
       "  'TIGER WYLDE',\n",
       "  'SMITH, DR. ARMSTRONG',\n",
       "  'GRAVEMOSS',\n",
       "  'MARLES, DR. THOMAS',\n",
       "  'MAGNESIUM',\n",
       "  'INFECTIA/JOSEPHINE',\n",
       "  'EDWARDS, MARTIN/DR.',\n",
       "  'DABUTA, NIGEL',\n",
       "  '4-D MAN/MERCURIO',\n",
       "  ...],\n",
       " ['MANT/ERNEST',\n",
       "  'AMAZO-MAXI-WOMAN/',\n",
       "  'SWORDSMAN IV',\n",
       "  'SWORDSMAN IV/',\n",
       "  'MISS THING/MARY',\n",
       "  'STERLING',\n",
       "  'DARLEGUNG, GEN.',\n",
       "  'PANTHER CUB',\n",
       "  'AMAZO-MAXI-WOMAN'],\n",
       " ['ASHER, DONNA',\n",
       "  'FAGIN',\n",
       "  'ORWELL',\n",
       "  'NILES, SEN. CATHERIN',\n",
       "  'HOFFMAN',\n",
       "  'OSWALD',\n",
       "  'ASHER, CARL',\n",
       "  'ASHER, MICHAEL',\n",
       "  'LUDLUM, ROSS'],\n",
       " ['STEEL SPIDER/OLLIE O', 'MASTER OF VENGEANCE']]"
      ]
     },
     "execution_count": 187,
     "metadata": {},
     "output_type": "execute_result"
    }
   ],
   "source": [
    "node_groups"
   ]
  },
  {
   "cell_type": "code",
   "execution_count": 185,
   "id": "fa2a496a",
   "metadata": {},
   "outputs": [
    {
     "data": {
      "text/plain": [
       "2"
      ]
     },
     "execution_count": 185,
     "metadata": {},
     "output_type": "execute_result"
    }
   ],
   "source": [
    "len(node_groups[3])"
   ]
  },
  {
   "cell_type": "code",
   "execution_count": 186,
   "id": "23ed47a8",
   "metadata": {
    "collapsed": true
   },
   "outputs": [
    {
     "ename": "KeyboardInterrupt",
     "evalue": "",
     "output_type": "error",
     "traceback": [
      "\u001b[1;31m---------------------------------------------------------------------------\u001b[0m",
      "\u001b[1;31mKeyboardInterrupt\u001b[0m                         Traceback (most recent call last)",
      "Input \u001b[1;32mIn [186]\u001b[0m, in \u001b[0;36m<cell line: 9>\u001b[1;34m()\u001b[0m\n\u001b[0;32m      6\u001b[0m     \u001b[38;5;28;01melse\u001b[39;00m: \n\u001b[0;32m      7\u001b[0m         color_map\u001b[38;5;241m.\u001b[39mappend(\u001b[38;5;124m'\u001b[39m\u001b[38;5;124mgreen\u001b[39m\u001b[38;5;124m'\u001b[39m)  \n\u001b[1;32m----> 9\u001b[0m \u001b[43mnx\u001b[49m\u001b[38;5;241;43m.\u001b[39;49m\u001b[43mdraw\u001b[49m\u001b[43m(\u001b[49m\u001b[43mG1\u001b[49m\u001b[43m,\u001b[49m\u001b[43m \u001b[49m\u001b[43mnode_color\u001b[49m\u001b[38;5;241;43m=\u001b[39;49m\u001b[43mcolor_map\u001b[49m\u001b[43m,\u001b[49m\u001b[43m \u001b[49m\u001b[43mwith_labels\u001b[49m\u001b[38;5;241;43m=\u001b[39;49m\u001b[38;5;28;43;01mTrue\u001b[39;49;00m\u001b[43m)\u001b[49m\n\u001b[0;32m     10\u001b[0m plt\u001b[38;5;241m.\u001b[39mshow()\n",
      "File \u001b[1;32m~\\anaconda3\\lib\\site-packages\\networkx\\drawing\\nx_pylab.py:120\u001b[0m, in \u001b[0;36mdraw\u001b[1;34m(G, pos, ax, **kwds)\u001b[0m\n\u001b[0;32m    117\u001b[0m \u001b[38;5;28;01mif\u001b[39;00m \u001b[38;5;124m\"\u001b[39m\u001b[38;5;124mwith_labels\u001b[39m\u001b[38;5;124m\"\u001b[39m \u001b[38;5;129;01mnot\u001b[39;00m \u001b[38;5;129;01min\u001b[39;00m kwds:\n\u001b[0;32m    118\u001b[0m     kwds[\u001b[38;5;124m\"\u001b[39m\u001b[38;5;124mwith_labels\u001b[39m\u001b[38;5;124m\"\u001b[39m] \u001b[38;5;241m=\u001b[39m \u001b[38;5;124m\"\u001b[39m\u001b[38;5;124mlabels\u001b[39m\u001b[38;5;124m\"\u001b[39m \u001b[38;5;129;01min\u001b[39;00m kwds\n\u001b[1;32m--> 120\u001b[0m draw_networkx(G, pos\u001b[38;5;241m=\u001b[39mpos, ax\u001b[38;5;241m=\u001b[39max, \u001b[38;5;241m*\u001b[39m\u001b[38;5;241m*\u001b[39mkwds)\n\u001b[0;32m    121\u001b[0m ax\u001b[38;5;241m.\u001b[39mset_axis_off()\n\u001b[0;32m    122\u001b[0m plt\u001b[38;5;241m.\u001b[39mdraw_if_interactive()\n",
      "File \u001b[1;32m~\\anaconda3\\lib\\site-packages\\networkx\\drawing\\nx_pylab.py:331\u001b[0m, in \u001b[0;36mdraw_networkx\u001b[1;34m(G, pos, arrows, with_labels, **kwds)\u001b[0m\n\u001b[0;32m    328\u001b[0m label_kwds \u001b[38;5;241m=\u001b[39m {k: v \u001b[38;5;28;01mfor\u001b[39;00m k, v \u001b[38;5;129;01min\u001b[39;00m kwds\u001b[38;5;241m.\u001b[39mitems() \u001b[38;5;28;01mif\u001b[39;00m k \u001b[38;5;129;01min\u001b[39;00m valid_label_kwds}\n\u001b[0;32m    330\u001b[0m \u001b[38;5;28;01mif\u001b[39;00m pos \u001b[38;5;129;01mis\u001b[39;00m \u001b[38;5;28;01mNone\u001b[39;00m:\n\u001b[1;32m--> 331\u001b[0m     pos \u001b[38;5;241m=\u001b[39m \u001b[43mnx\u001b[49m\u001b[38;5;241;43m.\u001b[39;49m\u001b[43mdrawing\u001b[49m\u001b[38;5;241;43m.\u001b[39;49m\u001b[43mspring_layout\u001b[49m\u001b[43m(\u001b[49m\u001b[43mG\u001b[49m\u001b[43m)\u001b[49m  \u001b[38;5;66;03m# default to spring layout\u001b[39;00m\n\u001b[0;32m    333\u001b[0m draw_networkx_nodes(G, pos, \u001b[38;5;241m*\u001b[39m\u001b[38;5;241m*\u001b[39mnode_kwds)\n\u001b[0;32m    334\u001b[0m draw_networkx_edges(G, pos, arrows\u001b[38;5;241m=\u001b[39marrows, \u001b[38;5;241m*\u001b[39m\u001b[38;5;241m*\u001b[39medge_kwds)\n",
      "File \u001b[1;32m<class 'networkx.utils.decorators.argmap'> compilation 16:4\u001b[0m, in \u001b[0;36margmap_spring_layout_13\u001b[1;34m(G, k, pos, fixed, iterations, threshold, weight, scale, center, dim, seed)\u001b[0m\n\u001b[0;32m      2\u001b[0m \u001b[38;5;28;01mfrom\u001b[39;00m \u001b[38;5;21;01mos\u001b[39;00m\u001b[38;5;21;01m.\u001b[39;00m\u001b[38;5;21;01mpath\u001b[39;00m \u001b[38;5;28;01mimport\u001b[39;00m splitext\n\u001b[0;32m      3\u001b[0m \u001b[38;5;28;01mfrom\u001b[39;00m \u001b[38;5;21;01mcontextlib\u001b[39;00m \u001b[38;5;28;01mimport\u001b[39;00m contextmanager\n\u001b[1;32m----> 4\u001b[0m \u001b[38;5;28;01mfrom\u001b[39;00m \u001b[38;5;21;01mpathlib\u001b[39;00m \u001b[38;5;28;01mimport\u001b[39;00m Path\n\u001b[0;32m      6\u001b[0m \u001b[38;5;28;01mimport\u001b[39;00m \u001b[38;5;21;01mnetworkx\u001b[39;00m \u001b[38;5;28;01mas\u001b[39;00m \u001b[38;5;21;01mnx\u001b[39;00m\n\u001b[0;32m      7\u001b[0m \u001b[38;5;28;01mfrom\u001b[39;00m \u001b[38;5;21;01mnetworkx\u001b[39;00m\u001b[38;5;21;01m.\u001b[39;00m\u001b[38;5;21;01mutils\u001b[39;00m \u001b[38;5;28;01mimport\u001b[39;00m create_random_state, create_py_random_state\n",
      "File \u001b[1;32m~\\anaconda3\\lib\\site-packages\\networkx\\drawing\\layout.py:481\u001b[0m, in \u001b[0;36mspring_layout\u001b[1;34m(G, k, pos, fixed, iterations, threshold, weight, scale, center, dim, seed)\u001b[0m\n\u001b[0;32m    479\u001b[0m         nnodes, _ \u001b[38;5;241m=\u001b[39m A\u001b[38;5;241m.\u001b[39mshape\n\u001b[0;32m    480\u001b[0m         k \u001b[38;5;241m=\u001b[39m dom_size \u001b[38;5;241m/\u001b[39m np\u001b[38;5;241m.\u001b[39msqrt(nnodes)\n\u001b[1;32m--> 481\u001b[0m     pos \u001b[38;5;241m=\u001b[39m \u001b[43m_sparse_fruchterman_reingold\u001b[49m\u001b[43m(\u001b[49m\n\u001b[0;32m    482\u001b[0m \u001b[43m        \u001b[49m\u001b[43mA\u001b[49m\u001b[43m,\u001b[49m\u001b[43m \u001b[49m\u001b[43mk\u001b[49m\u001b[43m,\u001b[49m\u001b[43m \u001b[49m\u001b[43mpos_arr\u001b[49m\u001b[43m,\u001b[49m\u001b[43m \u001b[49m\u001b[43mfixed\u001b[49m\u001b[43m,\u001b[49m\u001b[43m \u001b[49m\u001b[43miterations\u001b[49m\u001b[43m,\u001b[49m\u001b[43m \u001b[49m\u001b[43mthreshold\u001b[49m\u001b[43m,\u001b[49m\u001b[43m \u001b[49m\u001b[43mdim\u001b[49m\u001b[43m,\u001b[49m\u001b[43m \u001b[49m\u001b[43mseed\u001b[49m\n\u001b[0;32m    483\u001b[0m \u001b[43m    \u001b[49m\u001b[43m)\u001b[49m\n\u001b[0;32m    484\u001b[0m \u001b[38;5;28;01mexcept\u001b[39;00m \u001b[38;5;167;01mValueError\u001b[39;00m:\n\u001b[0;32m    485\u001b[0m     A \u001b[38;5;241m=\u001b[39m nx\u001b[38;5;241m.\u001b[39mto_numpy_array(G, weight\u001b[38;5;241m=\u001b[39mweight)\n",
      "File \u001b[1;32m<class 'networkx.utils.decorators.argmap'> compilation 20:4\u001b[0m, in \u001b[0;36margmap__sparse_fruchterman_reingold_17\u001b[1;34m(A, k, pos, fixed, iterations, threshold, dim, seed)\u001b[0m\n\u001b[0;32m      2\u001b[0m \u001b[38;5;28;01mfrom\u001b[39;00m \u001b[38;5;21;01mos\u001b[39;00m\u001b[38;5;21;01m.\u001b[39;00m\u001b[38;5;21;01mpath\u001b[39;00m \u001b[38;5;28;01mimport\u001b[39;00m splitext\n\u001b[0;32m      3\u001b[0m \u001b[38;5;28;01mfrom\u001b[39;00m \u001b[38;5;21;01mcontextlib\u001b[39;00m \u001b[38;5;28;01mimport\u001b[39;00m contextmanager\n\u001b[1;32m----> 4\u001b[0m \u001b[38;5;28;01mfrom\u001b[39;00m \u001b[38;5;21;01mpathlib\u001b[39;00m \u001b[38;5;28;01mimport\u001b[39;00m Path\n\u001b[0;32m      6\u001b[0m \u001b[38;5;28;01mimport\u001b[39;00m \u001b[38;5;21;01mnetworkx\u001b[39;00m \u001b[38;5;28;01mas\u001b[39;00m \u001b[38;5;21;01mnx\u001b[39;00m\n\u001b[0;32m      7\u001b[0m \u001b[38;5;28;01mfrom\u001b[39;00m \u001b[38;5;21;01mnetworkx\u001b[39;00m\u001b[38;5;21;01m.\u001b[39;00m\u001b[38;5;21;01mutils\u001b[39;00m \u001b[38;5;28;01mimport\u001b[39;00m create_random_state, create_py_random_state\n",
      "File \u001b[1;32m~\\anaconda3\\lib\\site-packages\\networkx\\drawing\\layout.py:623\u001b[0m, in \u001b[0;36m_sparse_fruchterman_reingold\u001b[1;34m(A, k, pos, fixed, iterations, threshold, dim, seed)\u001b[0m\n\u001b[0;32m    621\u001b[0m     Ai \u001b[38;5;241m=\u001b[39m A\u001b[38;5;241m.\u001b[39mgetrowview(i)\u001b[38;5;241m.\u001b[39mtoarray()  \u001b[38;5;66;03m# TODO: revisit w/ sparse 1D container\u001b[39;00m\n\u001b[0;32m    622\u001b[0m     \u001b[38;5;66;03m# displacement \"force\"\u001b[39;00m\n\u001b[1;32m--> 623\u001b[0m     displacement[:, i] \u001b[38;5;241m+\u001b[39m\u001b[38;5;241m=\u001b[39m \u001b[43m(\u001b[49m\n\u001b[0;32m    624\u001b[0m \u001b[43m        \u001b[49m\u001b[43mdelta\u001b[49m\u001b[43m \u001b[49m\u001b[38;5;241;43m*\u001b[39;49m\u001b[43m \u001b[49m\u001b[43m(\u001b[49m\u001b[43mk\u001b[49m\u001b[43m \u001b[49m\u001b[38;5;241;43m*\u001b[39;49m\u001b[43m \u001b[49m\u001b[43mk\u001b[49m\u001b[43m \u001b[49m\u001b[38;5;241;43m/\u001b[39;49m\u001b[43m \u001b[49m\u001b[43mdistance\u001b[49m\u001b[43m \u001b[49m\u001b[38;5;241;43m*\u001b[39;49m\u001b[38;5;241;43m*\u001b[39;49m\u001b[43m \u001b[49m\u001b[38;5;241;43m2\u001b[39;49m\u001b[43m \u001b[49m\u001b[38;5;241;43m-\u001b[39;49m\u001b[43m \u001b[49m\u001b[43mAi\u001b[49m\u001b[43m \u001b[49m\u001b[38;5;241;43m*\u001b[39;49m\u001b[43m \u001b[49m\u001b[43mdistance\u001b[49m\u001b[43m \u001b[49m\u001b[38;5;241;43m/\u001b[39;49m\u001b[43m \u001b[49m\u001b[43mk\u001b[49m\u001b[43m)\u001b[49m\n\u001b[0;32m    625\u001b[0m \u001b[43m    \u001b[49m\u001b[43m)\u001b[49m\u001b[38;5;241;43m.\u001b[39;49m\u001b[43msum\u001b[49m\u001b[43m(\u001b[49m\u001b[43maxis\u001b[49m\u001b[38;5;241;43m=\u001b[39;49m\u001b[38;5;241;43m1\u001b[39;49m\u001b[43m)\u001b[49m\n\u001b[0;32m    626\u001b[0m \u001b[38;5;66;03m# update positions\u001b[39;00m\n\u001b[0;32m    627\u001b[0m length \u001b[38;5;241m=\u001b[39m np\u001b[38;5;241m.\u001b[39msqrt((displacement \u001b[38;5;241m*\u001b[39m\u001b[38;5;241m*\u001b[39m \u001b[38;5;241m2\u001b[39m)\u001b[38;5;241m.\u001b[39msum(axis\u001b[38;5;241m=\u001b[39m\u001b[38;5;241m0\u001b[39m))\n",
      "File \u001b[1;32m~\\anaconda3\\lib\\site-packages\\numpy\\core\\_methods.py:48\u001b[0m, in \u001b[0;36m_sum\u001b[1;34m(a, axis, dtype, out, keepdims, initial, where)\u001b[0m\n\u001b[0;32m     46\u001b[0m \u001b[38;5;28;01mdef\u001b[39;00m \u001b[38;5;21m_sum\u001b[39m(a, axis\u001b[38;5;241m=\u001b[39m\u001b[38;5;28;01mNone\u001b[39;00m, dtype\u001b[38;5;241m=\u001b[39m\u001b[38;5;28;01mNone\u001b[39;00m, out\u001b[38;5;241m=\u001b[39m\u001b[38;5;28;01mNone\u001b[39;00m, keepdims\u001b[38;5;241m=\u001b[39m\u001b[38;5;28;01mFalse\u001b[39;00m,\n\u001b[0;32m     47\u001b[0m          initial\u001b[38;5;241m=\u001b[39m_NoValue, where\u001b[38;5;241m=\u001b[39m\u001b[38;5;28;01mTrue\u001b[39;00m):\n\u001b[1;32m---> 48\u001b[0m     \u001b[38;5;28;01mreturn\u001b[39;00m \u001b[43mumr_sum\u001b[49m\u001b[43m(\u001b[49m\u001b[43ma\u001b[49m\u001b[43m,\u001b[49m\u001b[43m \u001b[49m\u001b[43maxis\u001b[49m\u001b[43m,\u001b[49m\u001b[43m \u001b[49m\u001b[43mdtype\u001b[49m\u001b[43m,\u001b[49m\u001b[43m \u001b[49m\u001b[43mout\u001b[49m\u001b[43m,\u001b[49m\u001b[43m \u001b[49m\u001b[43mkeepdims\u001b[49m\u001b[43m,\u001b[49m\u001b[43m \u001b[49m\u001b[43minitial\u001b[49m\u001b[43m,\u001b[49m\u001b[43m \u001b[49m\u001b[43mwhere\u001b[49m\u001b[43m)\u001b[49m\n",
      "\u001b[1;31mKeyboardInterrupt\u001b[0m: "
     ]
    },
    {
     "data": {
      "image/png": "[encoded data removed]",
      "text/plain": [
       "<Figure size 576x396 with 1 Axes>"
      ]
     },
     "metadata": {},
     "output_type": "display_data"
    }
   ],
   "source": [
    "# plot the communities\n",
    "color_map = []\n",
    "for node in G1:\n",
    "    if node in node_groups[0]:\n",
    "        color_map.append('blue')\n",
    "    else: \n",
    "        color_map.append('green')  \n",
    "\n",
    "nx.draw(G1, node_color=color_map, with_labels=True)\n",
    "plt.show()"
   ]
  },
  {
   "cell_type": "code",
   "execution_count": 5,
   "id": "cc43686c",
   "metadata": {
    "scrolled": true
   },
   "outputs": [
    {
     "name": "stdout",
     "output_type": "stream",
     "text": [
      "Requirement already satisfied: backend in c:\\users\\gianl\\anaconda3\\lib\\site-packages (0.2.4.1)\n",
      "Note: you may need to restart the kernel to use updated packages.\n"
     ]
    }
   ],
   "source": [
    "pip install backend"
   ]
  },
  {
   "cell_type": "code",
   "execution_count": 9,
   "id": "93abff08",
   "metadata": {},
   "outputs": [],
   "source": [
    "import networkx as nx"
   ]
  },
  {
   "cell_type": "code",
   "execution_count": 10,
   "id": "e5096f8b",
   "metadata": {},
   "outputs": [
    {
     "ename": "ModuleNotFoundError",
     "evalue": "No module named 'backend.service'",
     "output_type": "error",
     "traceback": [
      "\u001b[1;31m---------------------------------------------------------------------------\u001b[0m",
      "\u001b[1;31mModuleNotFoundError\u001b[0m                       Traceback (most recent call last)",
      "Input \u001b[1;32mIn [10]\u001b[0m, in \u001b[0;36m<cell line: 2>\u001b[1;34m()\u001b[0m\n\u001b[0;32m      1\u001b[0m \u001b[38;5;66;03m#from backend.graph import get_n_heroes_per_comic, get_subgraph_with, get_hero_collabs\u001b[39;00m\n\u001b[1;32m----> 2\u001b[0m \u001b[38;5;28;01mfrom\u001b[39;00m \u001b[38;5;21;01mbackend\u001b[39;00m\u001b[38;5;21;01m.\u001b[39;00m\u001b[38;5;21;01mservice\u001b[39;00m \u001b[38;5;28;01mimport\u001b[39;00m TopHeroService\n\u001b[0;32m      3\u001b[0m \u001b[38;5;28;01mfrom\u001b[39;00m \u001b[38;5;21;01m.\u001b[39;00m\u001b[38;5;21;01mdescribe\u001b[39;00m \u001b[38;5;28;01mimport\u001b[39;00m GraphType, GraphFeatures, get_degree_dist, get_hubs, get_graph_mode\n\u001b[0;32m      4\u001b[0m \u001b[38;5;28;01mfrom\u001b[39;00m \u001b[38;5;21;01m.\u001b[39;00m\u001b[38;5;21;01mdomain\u001b[39;00m \u001b[38;5;28;01mimport\u001b[39;00m Disconnection\n",
      "\u001b[1;31mModuleNotFoundError\u001b[0m: No module named 'backend.service'"
     ]
    }
   ],
   "source": [
    "#from backend.graph import get_n_heroes_per_comic, get_subgraph_with, get_hero_collabs\n",
    "from backend.service import TopHeroService\n",
    "from .describe import GraphType, GraphFeatures, get_degree_dist, get_hubs, get_graph_mode\n",
    "from .domain import Disconnection\n"
   ]
  },
  {
   "cell_type": "code",
   "execution_count": 30,
   "id": "05599dcc",
   "metadata": {},
   "outputs": [],
   "source": [
    "def _edge_to_remove(graph):\n",
    "    G_dict = nx.edge_betweenness_centrality(graph)\n",
    "    edge = ()\n",
    "\n",
    "    # extract the edge with highest edge betweenness centrality score\n",
    "    for key, value in sorted(G_dict.items(), key=lambda item: item[1], reverse=True):\n",
    "        edge = key\n",
    "        break\n",
    "\n",
    "    return edge\n",
    "\n",
    "\n",
    "def _girvan_newman(graph):\n",
    "    # find number of connected components\n",
    "    sg = nx.connected_components(graph)\n",
    "    sg_count = nx.number_connected_components(graph)\n",
    "\n",
    "    while (sg_count == 1):\n",
    "        graph.remove_edge(_edge_to_remove(graph)[0], _edge_to_remove(graph)[1])\n",
    "        sg = nx.connected_components(graph)\n",
    "        sg_count = nx.number_connected_components(graph)\n",
    "\n",
    "    return sg\n",
    "\n",
    "\n",
    "def extract_communities(graph: nx.Graph):\n",
    "    \"\"\"Cuts the given graph into separate communities.\n",
    "    :arg\n",
    "    graph (nx.Graph) - a networkx graph where heroes are connected to heroes.\n",
    "    top_n (int) - the top n heroes to consider.\n",
    "    **hero_1 (str) - the hero to be checked if it is in the same community as hero_2.\n",
    "    **hero_2 (str) - the hero to be checked if it is in the same community as hero_1.\n",
    "    :return\n",
    "    (int, list, bool) - the lenght of the minimum cut that separates communities, the found communities, whether the\n",
    "    two heroes are in the same community.\n",
    "    \"\"\"\n",
    "\n",
    "    #hero_1, hero_2 = kwargs.get('hero_1'), kwargs.get('hero_2')\n",
    "\n",
    "    #if not hero_1:\n",
    "    #    raise ValueError(f'The hero_1 kwargs needs to be set.')\n",
    "    #if not hero_2:\n",
    "    #    raise ValueError(f'The hero_2 kwargs needs to be set.')\n",
    "\n",
    "\n",
    "    #get_subgraph_with(top_heroes, neighbours=False)\n",
    "\n",
    "    min_cut = nx.minimum_edge_cut(graph)\n",
    "\n",
    "    # Find the communities using girvan_newman function\n",
    "    unf = nx.Graph(graph)\n",
    "    communities = list(_girvan_newman(unf))\n",
    "\n",
    "    # Check if the hero_1 and hero_2 belong to the same community\n",
    "    #same_community = False\n",
    "    #for community in communities:\n",
    "     #   if hero_1 in community and hero_2 in community:\n",
    "      #      same_community = True\n",
    "       #     break\n",
    "\n",
    "    return len(min_cut), communities"
   ]
  },
  {
   "cell_type": "code",
   "execution_count": 32,
   "id": "d0f62f94",
   "metadata": {},
   "outputs": [
    {
     "ename": "NetworkXError",
     "evalue": "Input graph is not connected",
     "output_type": "error",
     "traceback": [
      "\u001b[1;31m---------------------------------------------------------------------------\u001b[0m",
      "\u001b[1;31mNetworkXError\u001b[0m                             Traceback (most recent call last)",
      "Input \u001b[1;32mIn [32]\u001b[0m, in \u001b[0;36m<cell line: 1>\u001b[1;34m()\u001b[0m\n\u001b[1;32m----> 1\u001b[0m \u001b[43mextract_communities\u001b[49m\u001b[43m(\u001b[49m\u001b[43mG1\u001b[49m\u001b[43m)\u001b[49m\n",
      "Input \u001b[1;32mIn [30]\u001b[0m, in \u001b[0;36mextract_communities\u001b[1;34m(graph)\u001b[0m\n\u001b[0;32m     27\u001b[0m \u001b[38;5;124;03m\"\"\"Cuts the given graph into separate communities.\u001b[39;00m\n\u001b[0;32m     28\u001b[0m \u001b[38;5;124;03m:arg\u001b[39;00m\n\u001b[0;32m     29\u001b[0m \u001b[38;5;124;03mgraph (nx.Graph) - a networkx graph where heroes are connected to heroes.\u001b[39;00m\n\u001b[1;32m   (...)\u001b[0m\n\u001b[0;32m     35\u001b[0m \u001b[38;5;124;03mtwo heroes are in the same community.\u001b[39;00m\n\u001b[0;32m     36\u001b[0m \u001b[38;5;124;03m\"\"\"\u001b[39;00m\n\u001b[0;32m     38\u001b[0m \u001b[38;5;66;03m#hero_1, hero_2 = kwargs.get('hero_1'), kwargs.get('hero_2')\u001b[39;00m\n\u001b[0;32m     39\u001b[0m \n\u001b[0;32m     40\u001b[0m \u001b[38;5;66;03m#if not hero_1:\u001b[39;00m\n\u001b[1;32m   (...)\u001b[0m\n\u001b[0;32m     45\u001b[0m \n\u001b[0;32m     46\u001b[0m \u001b[38;5;66;03m#get_subgraph_with(top_heroes, neighbours=False)\u001b[39;00m\n\u001b[1;32m---> 48\u001b[0m min_cut \u001b[38;5;241m=\u001b[39m \u001b[43mnx\u001b[49m\u001b[38;5;241;43m.\u001b[39;49m\u001b[43mminimum_edge_cut\u001b[49m\u001b[43m(\u001b[49m\u001b[43mgraph\u001b[49m\u001b[43m)\u001b[49m\n\u001b[0;32m     50\u001b[0m \u001b[38;5;66;03m# Find the communities using girvan_newman function\u001b[39;00m\n\u001b[0;32m     51\u001b[0m unf \u001b[38;5;241m=\u001b[39m nx\u001b[38;5;241m.\u001b[39mGraph(graph)\n",
      "File \u001b[1;32m~\\anaconda3\\lib\\site-packages\\networkx\\algorithms\\connectivity\\cuts.py:577\u001b[0m, in \u001b[0;36mminimum_edge_cut\u001b[1;34m(G, s, t, flow_func)\u001b[0m\n\u001b[0;32m    574\u001b[0m \u001b[38;5;28;01melse\u001b[39;00m:  \u001b[38;5;66;03m# undirected\u001b[39;00m\n\u001b[0;32m    575\u001b[0m     \u001b[38;5;66;03m# Based on algorithm 6 in [1]\u001b[39;00m\n\u001b[0;32m    576\u001b[0m     \u001b[38;5;28;01mif\u001b[39;00m \u001b[38;5;129;01mnot\u001b[39;00m nx\u001b[38;5;241m.\u001b[39mis_connected(G):\n\u001b[1;32m--> 577\u001b[0m         \u001b[38;5;28;01mraise\u001b[39;00m nx\u001b[38;5;241m.\u001b[39mNetworkXError(\u001b[38;5;124m\"\u001b[39m\u001b[38;5;124mInput graph is not connected\u001b[39m\u001b[38;5;124m\"\u001b[39m)\n\u001b[0;32m    579\u001b[0m     \u001b[38;5;66;03m# Initial cutset is all edges of a node with minimum degree\u001b[39;00m\n\u001b[0;32m    580\u001b[0m     node \u001b[38;5;241m=\u001b[39m \u001b[38;5;28mmin\u001b[39m(G, key\u001b[38;5;241m=\u001b[39mG\u001b[38;5;241m.\u001b[39mdegree)\n",
      "\u001b[1;31mNetworkXError\u001b[0m: Input graph is not connected"
     ]
    }
   ],
   "source": [
    "extract_communities(G1)"
   ]
  },
  {
   "cell_type": "code",
   "execution_count": 33,
   "id": "cc6a7006",
   "metadata": {},
   "outputs": [
    {
     "data": {
      "text/plain": [
       "<networkx.classes.graph.Graph at 0x1da14dd95b0>"
      ]
     },
     "execution_count": 33,
     "metadata": {},
     "output_type": "execute_result"
    }
   ],
   "source": []
  },
  {
   "cell_type": "markdown",
   "id": "46cbcf4d",
   "metadata": {},
   "source": [
    "# QUESTION 3: FRONTED IMPLEMENTATION"
   ]
  },
  {
   "cell_type": "markdown",
   "id": "de37faf8",
   "metadata": {},
   "source": [
    "## Visualization 1 - Visualize some features of the network "
   ]
  },
  {
   "cell_type": "markdown",
   "id": "8fced120",
   "metadata": {},
   "source": [
    "**V1.1  A table containing the following general information about the graph:**\n",
    "\n",
    "- Number of nodes in the network\n",
    "- Density of the network\n",
    "- Average degree of the network\n",
    "- Whether the network is sparse or dense"
   ]
  },
  {
   "cell_type": "code",
   "execution_count": 165,
   "id": "a7002f62",
   "metadata": {},
   "outputs": [],
   "source": [
    "def table(graph):\n",
    "    dataframe = pd.DataFrame([{'nodes' : G1.number_of_nodes(), 'densità' : density(graph),\n",
    "                  'average_degree' : average_degre(graph), 'sparse_dense' : dense_or_sparse(graph)}])\n",
    "    return dataframe.set_index(['nodes', 'densità', 'average_degree', 'sparse_dense'])"
   ]
  },
  {
   "cell_type": "code",
   "execution_count": 166,
   "id": "bff099dc",
   "metadata": {},
   "outputs": [
    {
     "data": {
      "text/html": [
       "<div>\n",
       "<style scoped>\n",
       "    .dataframe tbody tr th:only-of-type {\n",
       "        vertical-align: middle;\n",
       "    }\n",
       "\n",
       "    .dataframe tbody tr th {\n",
       "        vertical-align: top;\n",
       "    }\n",
       "\n",
       "    .dataframe thead th {\n",
       "        text-align: right;\n",
       "    }\n",
       "</style>\n",
       "<table border=\"1\" class=\"dataframe\">\n",
       "  <thead>\n",
       "    <tr style=\"text-align: right;\">\n",
       "      <th></th>\n",
       "      <th></th>\n",
       "      <th></th>\n",
       "      <th></th>\n",
       "    </tr>\n",
       "    <tr>\n",
       "      <th>nodes</th>\n",
       "      <th>densità</th>\n",
       "      <th>average_degree</th>\n",
       "      <th>sparse_dense</th>\n",
       "    </tr>\n",
       "  </thead>\n",
       "  <tbody>\n",
       "    <tr>\n",
       "      <th>6947</th>\n",
       "      <th>0.0075</th>\n",
       "      <th>52</th>\n",
       "      <th>Sparse</th>\n",
       "    </tr>\n",
       "  </tbody>\n",
       "</table>\n",
       "</div>"
      ],
      "text/plain": [
       "Empty DataFrame\n",
       "Columns: []\n",
       "Index: [(6947, 0.0075, 52, Sparse)]"
      ]
     },
     "execution_count": 166,
     "metadata": {},
     "output_type": "execute_result"
    }
   ],
   "source": [
    "table(G1)"
   ]
  },
  {
   "cell_type": "markdown",
   "id": "80ca1206",
   "metadata": {},
   "source": [
    "**V1.2  A table that lists the network's hubs**"
   ]
  },
  {
   "cell_type": "code",
   "execution_count": null,
   "id": "a34095c6",
   "metadata": {},
   "outputs": [],
   "source": []
  },
  {
   "cell_type": "markdown",
   "id": "edb03e40",
   "metadata": {},
   "source": [
    "**V1.3 A plot depicting the number of collaborations of each hero in descending order (if the graph is type 1)**"
   ]
  },
  {
   "cell_type": "markdown",
   "id": "c8d1a69b",
   "metadata": {},
   "source": [
    "- Inside the 'collaborations' function we have given as input N = 3, so the graph is displayed only for the first top 3 heroes. This choice is due to the fact that an N > 3 made the heroes' names all stick together (in the x-axis of the graph), so in terms of display it was not the best choice."
   ]
  },
  {
   "cell_type": "code",
   "execution_count": 195,
   "id": "41c3afeb",
   "metadata": {},
   "outputs": [
    {
     "data": {
      "image/png": "[encoded data removed]",
      "text/plain": [
       "<Figure size 576x396 with 1 Axes>"
      ]
     },
     "metadata": {},
     "output_type": "display_data"
    }
   ],
   "source": [
    "# We create a list of tuples, where inside each tuple is the name of the hero and the number of collaborations it has made.\n",
    "plot_sort_hero = sorted(collaborations(G1,1,3).items(), key=lambda x: x[1], reverse = True)\n",
    "\n",
    "height = [t[1] for t in plot_sort_hero]\n",
    "bars = [t[0] for t in plot_sort_hero]\n",
    "y_pos = np.arange(len(bars))\n",
    "\n",
    "plt.bar(y_pos, height)\n",
    "plt.xticks(y_pos, bars)\n",
    "plt.show()"
   ]
  },
  {
   "cell_type": "markdown",
   "id": "cac9de5d",
   "metadata": {},
   "source": [
    "**V1.4 A plot depicting the number of heroes who appeared in each comic, sorted in descending order (if the graph is type 2)**"
   ]
  },
  {
   "cell_type": "markdown",
   "id": "19579c64",
   "metadata": {},
   "source": [
    "- Same reason of above, inside the 'heros_per_comic' function we have given as input N = 9, so the graph is displayed only for the first top 9 comics (top in terms of number of heroes appeared). This choice is due to the fact that an N > 9 made the comics' names all stick together (in the x-axis of the graph), so in terms of display it was not the best choice."
   ]
  },
  {
   "cell_type": "code",
   "execution_count": 203,
   "id": "fabcc0fa",
   "metadata": {},
   "outputs": [
    {
     "data": {
      "image/png": "[encoded data removed]",
      "text/plain": [
       "<Figure size 576x396 with 1 Axes>"
      ]
     },
     "metadata": {},
     "output_type": "display_data"
    }
   ],
   "source": [
    "# We create a list of tuples, where inside each tuple is the name of the comic and the number of heroes appeared in that comic.\n",
    "plot_sort_comic = sorted(heros_per_comic(G2, 2, 9).items(), key=lambda x: x[1], reverse = True)\n",
    "\n",
    "height = [t[1] for t in plot_sort_comic]\n",
    "bars = [t[0] for t in plot_sort_comic]\n",
    "y_pos = np.arange(len(bars))\n",
    "\n",
    "plt.bar(y_pos, height)\n",
    "plt.xticks(y_pos, bars)\n",
    "plt.show()"
   ]
  },
  {
   "cell_type": "markdown",
   "id": "aa202b0b",
   "metadata": {},
   "source": [
    "**V1.5 A plot depicting the degree distribution of the network**"
   ]
  },
  {
   "cell_type": "markdown",
   "id": "e4990ec0",
   "metadata": {},
   "source": [
    "- We decided to make two graphs that visualize the degree distribution for each graph:\n",
    "  - Histogram\n",
    "  - Scatter plot"
   ]
  },
  {
   "cell_type": "code",
   "execution_count": 271,
   "id": "59fda732",
   "metadata": {},
   "outputs": [],
   "source": [
    "def histogram(graph):\n",
    "    # Let's recall the distribution function and save it inside plot_v5_G1\n",
    "    plot_v5 = distribution(graph)\n",
    "\n",
    "    # Extract the dictionary keys and values into two separate lists\n",
    "    keys = list(plot_v5.keys())\n",
    "    values = list(plot_v5.values())\n",
    "\n",
    "    # We decided to create the histogram choosing 40 bins\n",
    "    plt.hist(values, bins=40, align='left')\n",
    "    plt.show()"
   ]
  },
  {
   "cell_type": "code",
   "execution_count": 272,
   "id": "4eed92df",
   "metadata": {},
   "outputs": [],
   "source": [
    "def scatter_plot(graph):\n",
    "    plot_v5 = distribution(graph)\n",
    "    \n",
    "    # Extract the dictionary keys and values into two separate lists\n",
    "    keys = list(plot_v5.keys())\n",
    "    values = list(plot_v5.values())\n",
    "\n",
    "    plt.scatter(keys, values)\n",
    "    plt.show()"
   ]
  },
  {
   "cell_type": "markdown",
   "id": "c304e43c",
   "metadata": {},
   "source": [
    "- Let's visualize the histogram for the first graph (G1)"
   ]
  },
  {
   "cell_type": "code",
   "execution_count": 273,
   "id": "dc63cb9c",
   "metadata": {},
   "outputs": [
    {
     "data": {
      "image/png": "[encoded data removed]",
      "text/plain": [
       "<Figure size 576x396 with 1 Axes>"
      ]
     },
     "metadata": {},
     "output_type": "display_data"
    }
   ],
   "source": [
    "histogram(G1)"
   ]
  },
  {
   "cell_type": "markdown",
   "id": "26cd2c07",
   "metadata": {},
   "source": [
    "- Let's visualize the scatter plot for the first graph (G1)"
   ]
  },
  {
   "cell_type": "code",
   "execution_count": 277,
   "id": "f49546bd",
   "metadata": {},
   "outputs": [
    {
     "data": {
      "image/png": "[encoded data removed]",
      "text/plain": [
       "<Figure size 576x396 with 1 Axes>"
      ]
     },
     "metadata": {},
     "output_type": "display_data"
    }
   ],
   "source": [
    "scatter_plot(G1)"
   ]
  },
  {
   "cell_type": "markdown",
   "id": "d0e274a1",
   "metadata": {},
   "source": [
    "- Let's visualize the histogram for the second graph (G2)"
   ]
  },
  {
   "cell_type": "code",
   "execution_count": 279,
   "id": "c61719e0",
   "metadata": {
    "scrolled": true
   },
   "outputs": [
    {
     "data": {
      "image/png": "[encoded data removed]",
      "text/plain": [
       "<Figure size 576x396 with 1 Axes>"
      ]
     },
     "metadata": {},
     "output_type": "display_data"
    }
   ],
   "source": [
    "histogram(G2)"
   ]
  },
  {
   "cell_type": "markdown",
   "id": "c55d6c2b",
   "metadata": {},
   "source": [
    "- Let's visualize the scatter plot for the second graph (G2)"
   ]
  },
  {
   "cell_type": "code",
   "execution_count": 280,
   "id": "defff4e6",
   "metadata": {},
   "outputs": [
    {
     "data": {
      "image/png": "[encoded data removed]",
      "text/plain": [
       "<Figure size 576x396 with 1 Axes>"
      ]
     },
     "metadata": {},
     "output_type": "display_data"
    }
   ],
   "source": [
    "scatter_plot(G2)"
   ]
  },
  {
   "cell_type": "markdown",
   "id": "cc28ca8c",
   "metadata": {},
   "source": [
    "## Visualization 2 - Visualize centrality measures"
   ]
  },
  {
   "cell_type": "code",
   "execution_count": null,
   "id": "9729beb8",
   "metadata": {},
   "outputs": [],
   "source": [
    "df_vis2 = pd.DataFrame() # We create a new dataframe with all of our needed values."
   ]
  },
  {
   "cell_type": "code",
   "execution_count": null,
   "id": "98e3ac19",
   "metadata": {},
   "outputs": [],
   "source": [
    "names_centralities = ['Betweenness', 'PageRank', 'Closeness', 'DegreeCentrality']\n",
    "avg_centralities = [avg_centrality_bet, avg_centrality_pr, avg_centrality_cl, avg_centrality_deg]\n",
    "centralities_node = [centrality_node_bet, centrality_node_pr, centrality_node_cl, centrality_node_deg]"
   ]
  },
  {
   "cell_type": "code",
   "execution_count": null,
   "id": "f0a0da74",
   "metadata": {},
   "outputs": [],
   "source": [
    "df_vis2['Centrality'] = names_centralities"
   ]
  },
  {
   "cell_type": "code",
   "execution_count": null,
   "id": "9a0d4908",
   "metadata": {},
   "outputs": [],
   "source": [
    "df_vis2['Avg Centrality'] = avg_centralities"
   ]
  },
  {
   "cell_type": "code",
   "execution_count": null,
   "id": "46021c86",
   "metadata": {},
   "outputs": [],
   "source": [
    "df_vis2['Nodes centrality'] = centralities_node"
   ]
  },
  {
   "cell_type": "code",
   "execution_count": null,
   "id": "e5697ffc",
   "metadata": {},
   "outputs": [],
   "source": [
    "df_vis2"
   ]
  },
  {
   "cell_type": "markdown",
   "id": "422e38a2",
   "metadata": {},
   "source": [
    "Since we used the node 'CAPTAIN AMERICA' which is one of the top 5 superheros in the Marvel universe, we can understand why our closeness value is higher than the rest of our measures, since it represents the average length of the shortest path between the node and all the other nodes in the graph.\n",
    "But if we look at the rest of the centrality measures used, we understand that all of them have a way lower value regarding the average centrality. This probably means that there are way less 'central' nodes (which makes sense because there are more 'comic' nodes than 'hero' nodes, and they have a lower centrality value).\n",
    "We notice that the betweeness centrality value for this given node is also a high number, since it quantifies the number of times the node acts as a bridge along the shortest path between two other nodes, and it makes sense because we used the node 'CAPTAIN AMERICA', which appears in a lot of comics. The pagerank value, though, is lower: it means that every node is pretty important so it takes the value down by a bunch.\n",
    "\n",
    "We understand that this analysis we did will change if we choose a 'comic' node, instead of a 'hero' node."
   ]
  },
  {
   "cell_type": "code",
   "execution_count": null,
   "id": "8b2610d0",
   "metadata": {},
   "outputs": [],
   "source": []
  },
  {
   "cell_type": "code",
   "execution_count": null,
   "id": "70285e9e",
   "metadata": {},
   "outputs": [],
   "source": []
  },
  {
   "cell_type": "markdown",
   "id": "306af51e",
   "metadata": {},
   "source": [
    "## Visualization 3 - Visualize the shortest-ordered route"
   ]
  },
  {
   "cell_type": "code",
   "execution_count": null,
   "id": "fec6a6b1",
   "metadata": {},
   "outputs": [],
   "source": []
  },
  {
   "cell_type": "code",
   "execution_count": null,
   "id": "dc865daf",
   "metadata": {},
   "outputs": [],
   "source": []
  },
  {
   "cell_type": "code",
   "execution_count": null,
   "id": "884bdd7c",
   "metadata": {},
   "outputs": [],
   "source": []
  },
  {
   "cell_type": "code",
   "execution_count": null,
   "id": "3a01f7a9",
   "metadata": {},
   "outputs": [],
   "source": []
  },
  {
   "cell_type": "code",
   "execution_count": null,
   "id": "caac429e",
   "metadata": {},
   "outputs": [],
   "source": []
  },
  {
   "cell_type": "code",
   "execution_count": null,
   "id": "1c8a879d",
   "metadata": {},
   "outputs": [],
   "source": []
  },
  {
   "cell_type": "code",
   "execution_count": null,
   "id": "b4094dba",
   "metadata": {},
   "outputs": [],
   "source": []
  },
  {
   "cell_type": "code",
   "execution_count": null,
   "id": "a9ac1708",
   "metadata": {},
   "outputs": [],
   "source": []
  },
  {
   "cell_type": "code",
   "execution_count": null,
   "id": "206fd98b",
   "metadata": {},
   "outputs": [],
   "source": []
  },
  {
   "cell_type": "code",
   "execution_count": null,
   "id": "ebb9e985",
   "metadata": {},
   "outputs": [],
   "source": []
  },
  {
   "cell_type": "markdown",
   "id": "e44876e9",
   "metadata": {},
   "source": [
    "## Visualization 4 - Visualize the disconnected graph"
   ]
  },
  {
   "cell_type": "markdown",
   "id": "19cd4153",
   "metadata": {},
   "source": [
    "**First request**"
   ]
  },
  {
   "cell_type": "code",
   "execution_count": null,
   "id": "16b9444d",
   "metadata": {},
   "outputs": [],
   "source": [
    "# Example\n",
    "disconnectGraph(G_fun4, 'CAPTAIN AMERICA', 'SPIDER-MAN/PETER PARKER', 1000)"
   ]
  },
  {
   "cell_type": "markdown",
   "id": "9510c43a",
   "metadata": {},
   "source": [
    "**Second request: before disconnecting graph**"
   ]
  },
  {
   "cell_type": "code",
   "execution_count": null,
   "id": "83078990",
   "metadata": {},
   "outputs": [],
   "source": [
    "# Takes a while to run\n",
    "plt.plot()\n",
    "nx.draw(G_fun4)\n",
    "plt.show()"
   ]
  },
  {
   "cell_type": "markdown",
   "id": "2a8c133f",
   "metadata": {},
   "source": [
    "**Third request: after disconnecting graph**"
   ]
  },
  {
   "cell_type": "markdown",
   "id": "be7dadb7",
   "metadata": {},
   "source": [
    "To disconnect the graph, we need to remove the edge (for one of the two nodes) that connects the nodes to a common node (which is a 'comic' node). This way we create two subgraphs for the two heros."
   ]
  },
  {
   "cell_type": "code",
   "execution_count": null,
   "id": "cf51832f",
   "metadata": {},
   "outputs": [],
   "source": [
    "## SBAGLIATO... DEVO CAMBIARLO! \n",
    "\n",
    "def disconnectGraphPlot(G, heroA, heroB, N=ln_N):\n",
    "    \"\"\"\n",
    "    INPUT:\n",
    "    'G' is the graph data\n",
    "    'heroA' is the superhero to which will relate sub-graph G_a\n",
    "    'heroB' is the superhero to which will relate sub-graph G_b\n",
    "    'N' is the number of top heros that we consider for our calculations\n",
    "    \n",
    "    OUTPUT:\n",
    "    The graph divided into the two subgraphs\n",
    "    \"\"\"\n",
    "    \n",
    "    G_top_N = topNsuperherosGraph(G, N)\n",
    "    \n",
    "    if heroA in G_top_N.nodes() and heroB in G_top_N.nodes():\n",
    "        edges_A = list(G_top_N.edges(heroA))\n",
    "        edges_B = list(G_top_N.edges(heroB))\n",
    "        for i in edges_A:\n",
    "            for j in edges_B:\n",
    "                if i[1] == j[1]:\n",
    "                    G_top_N.remove_edge(i[0], i[1])\n",
    "                \n",
    "    return G_top_N"
   ]
  },
  {
   "cell_type": "code",
   "execution_count": null,
   "id": "5767aad5",
   "metadata": {},
   "outputs": [],
   "source": []
  },
  {
   "cell_type": "code",
   "execution_count": null,
   "id": "91099b7a",
   "metadata": {},
   "outputs": [],
   "source": []
  },
  {
   "cell_type": "code",
   "execution_count": null,
   "id": "5b6423cc",
   "metadata": {},
   "outputs": [],
   "source": []
  },
  {
   "cell_type": "code",
   "execution_count": null,
   "id": "8d0f0ec2",
   "metadata": {},
   "outputs": [],
   "source": []
  },
  {
   "cell_type": "code",
   "execution_count": null,
   "id": "449e2170",
   "metadata": {},
   "outputs": [],
   "source": []
  },
  {
   "cell_type": "code",
   "execution_count": null,
   "id": "92ea787b",
   "metadata": {},
   "outputs": [],
   "source": []
  },
  {
   "cell_type": "code",
   "execution_count": null,
   "id": "609aedcc",
   "metadata": {},
   "outputs": [],
   "source": []
  },
  {
   "cell_type": "code",
   "execution_count": null,
   "id": "097e80ea",
   "metadata": {},
   "outputs": [],
   "source": []
  },
  {
   "cell_type": "code",
   "execution_count": null,
   "id": "d7446296",
   "metadata": {},
   "outputs": [],
   "source": []
  },
  {
   "cell_type": "code",
   "execution_count": null,
   "id": "da0dff34",
   "metadata": {},
   "outputs": [],
   "source": []
  },
  {
   "cell_type": "code",
   "execution_count": null,
   "id": "70445fc2",
   "metadata": {},
   "outputs": [],
   "source": []
  },
  {
   "cell_type": "code",
   "execution_count": null,
   "id": "1063fa48",
   "metadata": {},
   "outputs": [],
   "source": []
  },
  {
   "cell_type": "code",
   "execution_count": null,
   "id": "ffda9b64",
   "metadata": {},
   "outputs": [],
   "source": []
  },
  {
   "cell_type": "code",
   "execution_count": null,
   "id": "c6125df8",
   "metadata": {},
   "outputs": [],
   "source": []
  },
  {
   "cell_type": "code",
   "execution_count": null,
   "id": "3d2f77f2",
   "metadata": {},
   "outputs": [],
   "source": []
  },
  {
   "cell_type": "code",
   "execution_count": null,
   "id": "cf2a3e70",
   "metadata": {},
   "outputs": [],
   "source": []
  },
  {
   "cell_type": "markdown",
   "id": "c1159f2e",
   "metadata": {},
   "source": [
    "# QUESTION 6: ALGORITHMIC QUESTION"
   ]
  },
  {
   "cell_type": "code",
   "execution_count": 77,
   "id": "4a28269c",
   "metadata": {},
   "outputs": [],
   "source": [
    "def password(directions):\n",
    "    # This first part will be helpful for len(directions) equal to 5 and 6.\n",
    "    # If the number of UNIQUE directions, for each type of direction, exceeds 2 then it's not possible because\n",
    "    # that wouldn't fit in the 3x3 grid.\n",
    "    count_D = 0\n",
    "    count_L = 0\n",
    "    count_R = 0\n",
    "    count_U = 0\n",
    "    for i in directions:\n",
    "        if i == 'D':\n",
    "            count_D += 1\n",
    "        elif i == 'L':\n",
    "            count_L += 1\n",
    "        elif i == 'R':\n",
    "            count_R += 1\n",
    "        elif i == 'U':\n",
    "            count_U += 1\n",
    "    # We notice that for the len(directions) > 6 the solution would always be 0, because it's impossible\n",
    "    # to find a password that has 7 different unique directions without them ever intersecting. So we study every possible\n",
    "    # length from 1 to 6.\n",
    "    if len(directions) == 1 or len(directions) == 2:\n",
    "        return 9\n",
    "    elif len(directions) == 3:\n",
    "        return 15\n",
    "    elif len(directions) == 4:\n",
    "        if directions[0] == directions[2] and directions[1] == directions[3]:\n",
    "            return 1\n",
    "        # Examples: 'DRDR', 'LULU', 'DLDL'.\n",
    "        # These have only one option (each 'step' has the length of 1 segment)\n",
    "        # because the grid wouldn't fit more than 2 segments.\n",
    "        else:\n",
    "            return 5\n",
    "        # Examples: 'DRDL', 'URDR', 'DLUL', 'RULD', 'DLUR', 'LDRU'\n",
    "    elif len(directions) == 5:\n",
    "        if count_D > 2 or count_L > 2 or count_R > 2 or count_U > 2:\n",
    "            return 0\n",
    "        if directions == directions[::-1]:\n",
    "            return 8\n",
    "        # Examples: 'DRURD', 'LDRDL', 'RULUR'\n",
    "        # For this option we have 8 different options: this is because if the string is equal to its reverse then it creates\n",
    "        # a sort of 'S'. So we have 8 different options, counting if we decide to start from the top (for examples) or\n",
    "        # from the middle.\n",
    "        else:\n",
    "            if directions[0] == directions[-1]:\n",
    "                return 4\n",
    "            # Examples: 'DLURD', 'LDRUL', 'ULDRU'\n",
    "            # These directions have 4 possibilities without the line intersecting.\n",
    "            else:\n",
    "                return 2\n",
    "            # Examples: 'DLDRU', 'LDRUR', 'RDRUL'.\n",
    "            # Two different options for these directions. Mostly because we can only have either 1 or 2 directions of\n",
    "            # length = 2 segments, because then the 'busy' points, so the points where a segment has already passed through\n",
    "            # would be 8 (and 9, in these cases, is impossible).\n",
    "    elif len(directions) == 6:\n",
    "        if count_D > 2 or count_L > 2 or count_R > 2 or count_U > 2:\n",
    "            return 0\n",
    "        else:\n",
    "            if directions[0] != directions[4] and directions[1] == directions[5]:\n",
    "                return 2\n",
    "            # Example: 'DRULUR' = first D can either be 1 segment long or 2 segments long.\n",
    "            elif directions[0] != directions[4] and directions[1] != directions[5] and directions[0:1] == directions[2:3]:\n",
    "                return 1\n",
    "            elif directions[0] == directions[4] and directions[1] != directions[5]:\n",
    "                return 1\n",
    "            elif directions[0] != directions[4] and directions[1] != directions[5] and directions[0:1] != directions[2:3]:\n",
    "                return 3\n",
    "            # Examples: 'DRDRUL' = 1 option, 'RDLDLU' = 3 options, 'DRULUR' = 2 options.\n",
    "            elif directions[0] == directions[4] and directions[1] == directions[5]:\n",
    "                return 0\n",
    "    elif len(directions) > 6:\n",
    "        return 0"
   ]
  },
  {
   "cell_type": "markdown",
   "id": "71b53383",
   "metadata": {},
   "source": [
    "**Let's do some examples..**"
   ]
  },
  {
   "cell_type": "code",
   "execution_count": 78,
   "id": "5b3ab2ae",
   "metadata": {},
   "outputs": [
    {
     "data": {
      "text/plain": [
       "5"
      ]
     },
     "execution_count": 78,
     "metadata": {},
     "output_type": "execute_result"
    }
   ],
   "source": [
    "directions = 'DRDL'\n",
    "password(directions)"
   ]
  },
  {
   "cell_type": "code",
   "execution_count": 79,
   "id": "297fe3a2",
   "metadata": {},
   "outputs": [
    {
     "data": {
      "text/plain": [
       "8"
      ]
     },
     "execution_count": 79,
     "metadata": {},
     "output_type": "execute_result"
    }
   ],
   "source": [
    "directions = 'DRURD'\n",
    "password(directions)"
   ]
  },
  {
   "cell_type": "code",
   "execution_count": 80,
   "id": "00dd5b5b",
   "metadata": {},
   "outputs": [
    {
     "data": {
      "text/plain": [
       "15"
      ]
     },
     "execution_count": 80,
     "metadata": {},
     "output_type": "execute_result"
    }
   ],
   "source": [
    "directions = 'DRU'\n",
    "password(directions)"
   ]
  },
  {
   "cell_type": "code",
   "execution_count": 81,
   "id": "f8c29e96",
   "metadata": {},
   "outputs": [
    {
     "data": {
      "text/plain": [
       "0"
      ]
     },
     "execution_count": 81,
     "metadata": {},
     "output_type": "execute_result"
    }
   ],
   "source": [
    "directions = 'DRULDR'\n",
    "password(directions)"
   ]
  }
 ],
 "metadata": {
  "kernelspec": {
   "display_name": "Python 3 (ipykernel)",
   "language": "python",
   "name": "python3"
  },
  "language_info": {
   "codemirror_mode": {
    "name": "ipython",
    "version": 3
   },
   "file_extension": ".py",
   "mimetype": "text/x-python",
   "name": "python",
   "nbconvert_exporter": "python",
   "pygments_lexer": "ipython3",
   "version": "3.9.12"
  }
 },
 "nbformat": 4,
 "nbformat_minor": 5
}
