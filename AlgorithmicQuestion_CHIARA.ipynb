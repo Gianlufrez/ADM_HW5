{
 "cells": [
  {
   "cell_type": "markdown",
   "id": "e66cd0a4",
   "metadata": {},
   "source": [
    "# ALGORITHMIC QUESTION"
   ]
  },
  {
   "cell_type": "code",
   "execution_count": 57,
   "id": "238daef0",
   "metadata": {},
   "outputs": [],
   "source": [
    "def password(directions):\n",
    "    # This first part will be helpful for len(directions) equal to 5 and 6.\n",
    "    # If the number of UNIQUE directions, for each type of direction, exceeds 2 then it's not possible because\n",
    "    # that wouldn't fit in the 3x3 grid.\n",
    "    count_D = 0\n",
    "    count_L = 0\n",
    "    count_R = 0\n",
    "    count_U = 0\n",
    "    for i in directions:\n",
    "        if i == 'D':\n",
    "            count_D += 1\n",
    "        elif i == 'L':\n",
    "            count_L += 1\n",
    "        elif i == 'R':\n",
    "            count_R += 1\n",
    "        elif i == 'U':\n",
    "            count_U += 1\n",
    "    # We notice that for the len(directions) > 6 the solution would always be 0, because it's impossible\n",
    "    # to find a password that has 7 different unique directions without them ever intersecting. So we study every possible\n",
    "    # length from 1 to 6.\n",
    "    if len(directions) == 1 or len(directions) == 2:\n",
    "        return 9\n",
    "    elif len(directions) == 3:\n",
    "        return 15\n",
    "    elif len(directions) == 4:\n",
    "        if directions[0] == directions[2] and directions[1] == directions[3]:\n",
    "            return 1\n",
    "        # Examples: 'DRDR', 'LULU', 'DLDL'.\n",
    "        # These have only one option (each 'step' has the length of 1 segment)\n",
    "        # because the grid wouldn't fit more than 2 segments.\n",
    "        else:\n",
    "            return 5\n",
    "        # Examples: 'DRDL', 'URDR', 'DLUL', 'RULD', 'DLUR', 'LDRU'\n",
    "    elif len(directions) == 5:\n",
    "        if count_D > 2 or count_L > 2 or count_R > 2 or count_U > 2:\n",
    "            return 0\n",
    "        if directions == directions[::-1]:\n",
    "            return 8\n",
    "        # Examples: 'DRURD', 'LDRDL', 'RULUR'\n",
    "        # For this option we have 8 different options: this is because if the string is equal to its reverse then it creates\n",
    "        # a sort of 'S'. So we have 8 different options, counting if we decide to start from the top (for examples) or\n",
    "        # from the middle.\n",
    "        else:\n",
    "            if directions[0] == directions[-1]:\n",
    "                return 4\n",
    "            # Examples: 'DLURD', 'LDRUL', 'ULDRU'\n",
    "            # These directions have 4 possibilities without the line intersecting.\n",
    "            else:\n",
    "                return 2\n",
    "            # Examples: 'DLDRU', 'LDRUR', 'RDRUL'.\n",
    "            # Two different options for these directions. Mostly because we can only have either 1 or 2 directions of\n",
    "            # length = 2 segments, because then the 'busy' points, so the points where a segment has already passed through\n",
    "            # would be 8 (and 9, in these cases, is impossible).\n",
    "    elif len(directions) == 6:\n",
    "        if count_D > 2 or count_L > 2 or count_R > 2 or count_U > 2:\n",
    "            return 0\n",
    "        else:\n",
    "            if directions[0] != directions[4] and directions[1] == directions[5]:\n",
    "                return 2\n",
    "            # Example: 'DRULUR' = first D can either be 1 segment long or 2 segments long.\n",
    "            elif directions[0] != directions[4] and directions[1] != directions[5] and directions[0:1] == directions[2:3]:\n",
    "                return 1\n",
    "            elif directions[0] == directions[4] and directions[1] != directions[5]:\n",
    "                return 1\n",
    "            elif directions[0] != directions[4] and directions[1] != directions[5] and directions[0:1] != directions[2:3]:\n",
    "                return 3\n",
    "            # Examples: 'DRDRUL' = 1 option, 'RDLDLU' = 3 options, 'DRULUR' = 2 options.\n",
    "            elif directions[0] == directions[4] and directions[1] == directions[5]:\n",
    "                return 0\n",
    "    elif len(directions) > 6:\n",
    "        return 0"
   ]
  },
  {
   "cell_type": "markdown",
   "id": "13151c32",
   "metadata": {},
   "source": [
    "### Let's do some examples..."
   ]
  },
  {
   "cell_type": "code",
   "execution_count": 58,
   "id": "e9a96bd0",
   "metadata": {},
   "outputs": [
    {
     "data": {
      "text/plain": [
       "5"
      ]
     },
     "execution_count": 58,
     "metadata": {},
     "output_type": "execute_result"
    }
   ],
   "source": [
    "directions = 'DRDL'\n",
    "password(directions)"
   ]
  },
  {
   "cell_type": "code",
   "execution_count": 59,
   "id": "f6c88993",
   "metadata": {},
   "outputs": [
    {
     "data": {
      "text/plain": [
       "8"
      ]
     },
     "execution_count": 59,
     "metadata": {},
     "output_type": "execute_result"
    }
   ],
   "source": [
    "directions = 'DRURD'\n",
    "password(directions)"
   ]
  },
  {
   "cell_type": "code",
   "execution_count": 60,
   "id": "8c98fa17",
   "metadata": {},
   "outputs": [
    {
     "data": {
      "text/plain": [
       "4"
      ]
     },
     "execution_count": 60,
     "metadata": {},
     "output_type": "execute_result"
    }
   ],
   "source": [
    "directions = 'RULDR'\n",
    "password(directions)"
   ]
  },
  {
   "cell_type": "code",
   "execution_count": 61,
   "id": "e30c6c0e",
   "metadata": {},
   "outputs": [
    {
     "data": {
      "text/plain": [
       "0"
      ]
     },
     "execution_count": 61,
     "metadata": {},
     "output_type": "execute_result"
    }
   ],
   "source": [
    "directions = 'LDRDRUL'\n",
    "password(directions)"
   ]
  },
  {
   "cell_type": "code",
   "execution_count": 62,
   "id": "fdcbba2d",
   "metadata": {},
   "outputs": [
    {
     "data": {
      "text/plain": [
       "9"
      ]
     },
     "execution_count": 62,
     "metadata": {},
     "output_type": "execute_result"
    }
   ],
   "source": [
    "directions = 'R'\n",
    "password(directions)"
   ]
  },
  {
   "cell_type": "code",
   "execution_count": 63,
   "id": "b5863786",
   "metadata": {},
   "outputs": [
    {
     "data": {
      "text/plain": [
       "15"
      ]
     },
     "execution_count": 63,
     "metadata": {},
     "output_type": "execute_result"
    }
   ],
   "source": [
    "directions = 'DRU'\n",
    "password(directions)"
   ]
  },
  {
   "cell_type": "code",
   "execution_count": 64,
   "id": "08484842",
   "metadata": {},
   "outputs": [
    {
     "data": {
      "text/plain": [
       "1"
      ]
     },
     "execution_count": 64,
     "metadata": {},
     "output_type": "execute_result"
    }
   ],
   "source": [
    "directions = 'DRDRUL'\n",
    "password(directions)"
   ]
  },
  {
   "cell_type": "code",
   "execution_count": 65,
   "id": "8862a39e",
   "metadata": {},
   "outputs": [
    {
     "data": {
      "text/plain": [
       "2"
      ]
     },
     "execution_count": 65,
     "metadata": {},
     "output_type": "execute_result"
    }
   ],
   "source": [
    "directions = 'DRULUR'\n",
    "password(directions)"
   ]
  },
  {
   "cell_type": "code",
   "execution_count": 66,
   "id": "868f45dd",
   "metadata": {},
   "outputs": [
    {
     "data": {
      "text/plain": [
       "2"
      ]
     },
     "execution_count": 66,
     "metadata": {},
     "output_type": "execute_result"
    }
   ],
   "source": [
    "directions = 'DLDRU'\n",
    "password(directions)"
   ]
  },
  {
   "cell_type": "code",
   "execution_count": 67,
   "id": "434ebba6",
   "metadata": {},
   "outputs": [
    {
     "data": {
      "text/plain": [
       "0"
      ]
     },
     "execution_count": 67,
     "metadata": {},
     "output_type": "execute_result"
    }
   ],
   "source": [
    "directions = 'DRULDR'\n",
    "password(directions)"
   ]
  }
 ],
 "metadata": {
  "kernelspec": {
   "display_name": "Python 3 (ipykernel)",
   "language": "python",
   "name": "python3"
  },
  "language_info": {
   "codemirror_mode": {
    "name": "ipython",
    "version": 3
   },
   "file_extension": ".py",
   "mimetype": "text/x-python",
   "name": "python",
   "nbconvert_exporter": "python",
   "pygments_lexer": "ipython3",
   "version": "3.9.12"
  }
 },
 "nbformat": 4,
 "nbformat_minor": 5
}
