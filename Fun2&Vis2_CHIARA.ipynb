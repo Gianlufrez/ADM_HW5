{
 "cells": [
  {
   "cell_type": "markdown",
   "id": "1335c393",
   "metadata": {},
   "source": [
    "## QUESTION 2 FUNCTIONALITY 2"
   ]
  },
  {
   "cell_type": "code",
   "execution_count": 1,
   "id": "33b532e9",
   "metadata": {},
   "outputs": [],
   "source": [
    "import networkx as nx\n",
    "import pandas as pd\n",
    "import matplotlib.pyplot as plt"
   ]
  },
  {
   "cell_type": "code",
   "execution_count": 2,
   "id": "e893e1a1",
   "metadata": {},
   "outputs": [],
   "source": [
    "heros = pd.read_csv('C:/Users/Chiara Sammarco/Desktop/Università/DATA SCIENCE - Magistrale/Esami da fare/ALGORITHMIC METHODS IN DATA MINING/HW 5/edges.csv')"
   ]
  },
  {
   "cell_type": "code",
   "execution_count": 3,
   "id": "58423ded",
   "metadata": {},
   "outputs": [],
   "source": [
    "G = nx.Graph()"
   ]
  },
  {
   "cell_type": "code",
   "execution_count": 4,
   "id": "348cdbbc",
   "metadata": {},
   "outputs": [],
   "source": [
    "G = nx.from_pandas_edgelist(heros, 'comic', 'hero')"
   ]
  },
  {
   "cell_type": "code",
   "execution_count": 5,
   "id": "c5a22e41",
   "metadata": {},
   "outputs": [
    {
     "name": "stderr",
     "output_type": "stream",
     "text": [
      "C:\\Users\\Chiara Sammarco\\AppData\\Local\\Temp\\ipykernel_3560\\1064119803.py:1: DeprecationWarning: info is deprecated and will be removed in version 3.0.\n",
      "\n",
      "  nx.info(G)\n"
     ]
    },
    {
     "data": {
      "text/plain": [
       "'Graph with 19090 nodes and 96104 edges'"
      ]
     },
     "execution_count": 5,
     "metadata": {},
     "output_type": "execute_result"
    }
   ],
   "source": [
    "nx.info(G)"
   ]
  },
  {
   "cell_type": "code",
   "execution_count": 6,
   "id": "6462e791",
   "metadata": {},
   "outputs": [],
   "source": [
    "# Top N heros. We choose N = 100.\n",
    "\n",
    "N = 100"
   ]
  },
  {
   "cell_type": "code",
   "execution_count": 7,
   "id": "f14355ba",
   "metadata": {},
   "outputs": [],
   "source": [
    "degrees = G.degree(list(set(heros.hero)))"
   ]
  },
  {
   "cell_type": "code",
   "execution_count": 14,
   "id": "869bac8d",
   "metadata": {},
   "outputs": [],
   "source": [
    "# Computing the degree for each superhero in our graph to get the top superheros (which are the top \n",
    "# N heroes who have appeared in the most number of comics).\n",
    "\n",
    "# list_of_degrees is the list of every degree\n",
    "\n",
    "list_of_degrees = []\n",
    "for i in list(set(heros.hero)):\n",
    "    output = degrees[i], i\n",
    "    list_of_degrees.append(output)\n",
    "list_of_degrees = sorted(list_of_degrees, key=lambda data: data[0], reverse=True)"
   ]
  },
  {
   "cell_type": "code",
   "execution_count": 87,
   "id": "3d9768b2",
   "metadata": {},
   "outputs": [],
   "source": [
    "only_names = []\n",
    "for i in range(len(list_of_degrees)):\n",
    "    only_names.append(list_of_degrees[i][1])"
   ]
  },
  {
   "cell_type": "code",
   "execution_count": 88,
   "id": "e186e247",
   "metadata": {},
   "outputs": [],
   "source": [
    "only_degrees = []\n",
    "for i in range(len(list_of_degrees)):\n",
    "    only_degrees.append(list_of_degrees[i][0])"
   ]
  },
  {
   "cell_type": "code",
   "execution_count": 89,
   "id": "c72212a9",
   "metadata": {},
   "outputs": [],
   "source": [
    "# We get the top N heros after sorting the list_of_degrees and getting only the first N elements.\n",
    "\n",
    "top_N_heros = list_of_degrees[:N] # 100 is our N number (but whatever number works)"
   ]
  },
  {
   "cell_type": "code",
   "execution_count": 90,
   "id": "92c2ad7c",
   "metadata": {},
   "outputs": [],
   "source": [
    "def standardizedDegreeCentrality(degrees, N):\n",
    "    output = []\n",
    "    for i in degrees:\n",
    "        output.append(i/(N-1))\n",
    "    return output"
   ]
  },
  {
   "cell_type": "code",
   "execution_count": 91,
   "id": "5e800d56",
   "metadata": {},
   "outputs": [],
   "source": [
    "# To make things easier we get the list of ONLY the names of the top N heros.\n",
    "\n",
    "names_heros = []\n",
    "for i in range(len(top_N_heros)):\n",
    "    names_heros.append(top_N_heros[i][1])"
   ]
  },
  {
   "cell_type": "code",
   "execution_count": 92,
   "id": "2c34c509",
   "metadata": {},
   "outputs": [],
   "source": [
    "# We create a new dataframe with 2 columns: one with the name of the superhero/comic and another with the centrality measure.\n",
    "\n",
    "df = pd.DataFrame()"
   ]
  },
  {
   "cell_type": "code",
   "execution_count": 93,
   "id": "57a7d022",
   "metadata": {},
   "outputs": [],
   "source": [
    "df['superhero'] = only_names"
   ]
  },
  {
   "cell_type": "code",
   "execution_count": 94,
   "id": "b959562b",
   "metadata": {},
   "outputs": [],
   "source": [
    "# Computing the DegreeCentrality on the (entire) graph.\n",
    "\n",
    "df['centrality'] = standardizedDegreeCentrality(only_degrees, len(G.nodes()))"
   ]
  },
  {
   "cell_type": "code",
   "execution_count": 95,
   "id": "c826ccf6",
   "metadata": {},
   "outputs": [
    {
     "data": {
      "text/html": [
       "<div>\n",
       "<style scoped>\n",
       "    .dataframe tbody tr th:only-of-type {\n",
       "        vertical-align: middle;\n",
       "    }\n",
       "\n",
       "    .dataframe tbody tr th {\n",
       "        vertical-align: top;\n",
       "    }\n",
       "\n",
       "    .dataframe thead th {\n",
       "        text-align: right;\n",
       "    }\n",
       "</style>\n",
       "<table border=\"1\" class=\"dataframe\">\n",
       "  <thead>\n",
       "    <tr style=\"text-align: right;\">\n",
       "      <th></th>\n",
       "      <th>superhero</th>\n",
       "      <th>centrality</th>\n",
       "    </tr>\n",
       "  </thead>\n",
       "  <tbody>\n",
       "    <tr>\n",
       "      <th>0</th>\n",
       "      <td>SPIDER-MAN/PETER PARKER</td>\n",
       "      <td>0.082613</td>\n",
       "    </tr>\n",
       "    <tr>\n",
       "      <th>1</th>\n",
       "      <td>CAPTAIN AMERICA</td>\n",
       "      <td>0.069883</td>\n",
       "    </tr>\n",
       "    <tr>\n",
       "      <th>2</th>\n",
       "      <td>IRON MAN/TONY STARK</td>\n",
       "      <td>0.060244</td>\n",
       "    </tr>\n",
       "    <tr>\n",
       "      <th>3</th>\n",
       "      <td>THING/BENJAMIN J. GR</td>\n",
       "      <td>0.050448</td>\n",
       "    </tr>\n",
       "    <tr>\n",
       "      <th>4</th>\n",
       "      <td>THOR/DR. DONALD BLAK</td>\n",
       "      <td>0.050081</td>\n",
       "    </tr>\n",
       "    <tr>\n",
       "      <th>...</th>\n",
       "      <td>...</td>\n",
       "      <td>...</td>\n",
       "    </tr>\n",
       "    <tr>\n",
       "      <th>6434</th>\n",
       "      <td>RAMROD III/</td>\n",
       "      <td>0.000052</td>\n",
       "    </tr>\n",
       "    <tr>\n",
       "      <th>6435</th>\n",
       "      <td>MEDUSA II</td>\n",
       "      <td>0.000052</td>\n",
       "    </tr>\n",
       "    <tr>\n",
       "      <th>6436</th>\n",
       "      <td>RUIZ, RHYTHM</td>\n",
       "      <td>0.000052</td>\n",
       "    </tr>\n",
       "    <tr>\n",
       "      <th>6437</th>\n",
       "      <td>STEWART, MARY</td>\n",
       "      <td>0.000052</td>\n",
       "    </tr>\n",
       "    <tr>\n",
       "      <th>6438</th>\n",
       "      <td>QUASAR</td>\n",
       "      <td>0.000052</td>\n",
       "    </tr>\n",
       "  </tbody>\n",
       "</table>\n",
       "<p>6439 rows × 2 columns</p>\n",
       "</div>"
      ],
      "text/plain": [
       "                    superhero  centrality\n",
       "0     SPIDER-MAN/PETER PARKER    0.082613\n",
       "1             CAPTAIN AMERICA    0.069883\n",
       "2         IRON MAN/TONY STARK    0.060244\n",
       "3        THING/BENJAMIN J. GR    0.050448\n",
       "4        THOR/DR. DONALD BLAK    0.050081\n",
       "...                       ...         ...\n",
       "6434              RAMROD III/    0.000052\n",
       "6435                MEDUSA II    0.000052\n",
       "6436             RUIZ, RHYTHM    0.000052\n",
       "6437            STEWART, MARY    0.000052\n",
       "6438                   QUASAR    0.000052\n",
       "\n",
       "[6439 rows x 2 columns]"
      ]
     },
     "execution_count": 95,
     "metadata": {},
     "output_type": "execute_result"
    }
   ],
   "source": [
    "df"
   ]
  },
  {
   "cell_type": "code",
   "execution_count": 96,
   "id": "3e1e6ddb",
   "metadata": {},
   "outputs": [],
   "source": [
    "# And now we only get the centralities for the top N heros.\n",
    "\n",
    "centralities_topHeros = []\n",
    "for i in range(len(df)):\n",
    "    if df.superhero[i] in names_heros:\n",
    "        output = df.centrality[i], df.superhero[i]\n",
    "        centralities_topHeros.append(output)"
   ]
  },
  {
   "cell_type": "code",
   "execution_count": 97,
   "id": "0ae7a167",
   "metadata": {},
   "outputs": [
    {
     "name": "stdout",
     "output_type": "stream",
     "text": [
      "0.031588873173031586\n"
     ]
    }
   ],
   "source": [
    "# Example for 'The given node's value'\n",
    "\n",
    "node = 'VISION'\n",
    "for i in range(len(centralities_topHeros)):\n",
    "    if centralities_topHeros[i][1] == node:\n",
    "        print(centralities_topHeros[i][0])"
   ]
  },
  {
   "cell_type": "code",
   "execution_count": 98,
   "id": "7fc5c790",
   "metadata": {},
   "outputs": [],
   "source": [
    "df_1 = pd.DataFrame(centralities_topHeros)"
   ]
  },
  {
   "cell_type": "code",
   "execution_count": 99,
   "id": "2f99b02e",
   "metadata": {},
   "outputs": [],
   "source": [
    "df_1['centrality'] = df_1[0]"
   ]
  },
  {
   "cell_type": "code",
   "execution_count": 100,
   "id": "0bef73ae",
   "metadata": {},
   "outputs": [],
   "source": [
    "df_1['hero'] = df_1[1]"
   ]
  },
  {
   "cell_type": "code",
   "execution_count": 101,
   "id": "346f7672",
   "metadata": {},
   "outputs": [],
   "source": [
    "df_1 = df_1.drop(df_1.columns[0], axis=1)"
   ]
  },
  {
   "cell_type": "code",
   "execution_count": 102,
   "id": "bf72e51e",
   "metadata": {},
   "outputs": [],
   "source": [
    "df_1 = df_1.drop(df_1.columns[0], axis=1)"
   ]
  },
  {
   "cell_type": "code",
   "execution_count": 103,
   "id": "87dc07fa",
   "metadata": {},
   "outputs": [
    {
     "data": {
      "text/html": [
       "<div>\n",
       "<style scoped>\n",
       "    .dataframe tbody tr th:only-of-type {\n",
       "        vertical-align: middle;\n",
       "    }\n",
       "\n",
       "    .dataframe tbody tr th {\n",
       "        vertical-align: top;\n",
       "    }\n",
       "\n",
       "    .dataframe thead th {\n",
       "        text-align: right;\n",
       "    }\n",
       "</style>\n",
       "<table border=\"1\" class=\"dataframe\">\n",
       "  <thead>\n",
       "    <tr style=\"text-align: right;\">\n",
       "      <th></th>\n",
       "      <th>centrality</th>\n",
       "      <th>hero</th>\n",
       "    </tr>\n",
       "  </thead>\n",
       "  <tbody>\n",
       "    <tr>\n",
       "      <th>0</th>\n",
       "      <td>0.082613</td>\n",
       "      <td>SPIDER-MAN/PETER PARKER</td>\n",
       "    </tr>\n",
       "    <tr>\n",
       "      <th>1</th>\n",
       "      <td>0.069883</td>\n",
       "      <td>CAPTAIN AMERICA</td>\n",
       "    </tr>\n",
       "    <tr>\n",
       "      <th>2</th>\n",
       "      <td>0.060244</td>\n",
       "      <td>IRON MAN/TONY STARK</td>\n",
       "    </tr>\n",
       "    <tr>\n",
       "      <th>3</th>\n",
       "      <td>0.050448</td>\n",
       "      <td>THING/BENJAMIN J. GR</td>\n",
       "    </tr>\n",
       "    <tr>\n",
       "      <th>4</th>\n",
       "      <td>0.050081</td>\n",
       "      <td>THOR/DR. DONALD BLAK</td>\n",
       "    </tr>\n",
       "    <tr>\n",
       "      <th>...</th>\n",
       "      <td>...</td>\n",
       "      <td>...</td>\n",
       "    </tr>\n",
       "    <tr>\n",
       "      <th>95</th>\n",
       "      <td>0.009010</td>\n",
       "      <td>MIRAGE II/DANIELLE M</td>\n",
       "    </tr>\n",
       "    <tr>\n",
       "      <th>96</th>\n",
       "      <td>0.008853</td>\n",
       "      <td>TIGRA/GREER NELSON</td>\n",
       "    </tr>\n",
       "    <tr>\n",
       "      <th>97</th>\n",
       "      <td>0.008748</td>\n",
       "      <td>SPIDER-MAN CLONE/BEN</td>\n",
       "    </tr>\n",
       "    <tr>\n",
       "      <th>98</th>\n",
       "      <td>0.008644</td>\n",
       "      <td>PAGE, KAREN</td>\n",
       "    </tr>\n",
       "    <tr>\n",
       "      <th>99</th>\n",
       "      <td>0.008539</td>\n",
       "      <td>ZABU</td>\n",
       "    </tr>\n",
       "  </tbody>\n",
       "</table>\n",
       "<p>100 rows × 2 columns</p>\n",
       "</div>"
      ],
      "text/plain": [
       "    centrality                     hero\n",
       "0     0.082613  SPIDER-MAN/PETER PARKER\n",
       "1     0.069883          CAPTAIN AMERICA\n",
       "2     0.060244      IRON MAN/TONY STARK\n",
       "3     0.050448     THING/BENJAMIN J. GR\n",
       "4     0.050081     THOR/DR. DONALD BLAK\n",
       "..         ...                      ...\n",
       "95    0.009010     MIRAGE II/DANIELLE M\n",
       "96    0.008853       TIGRA/GREER NELSON\n",
       "97    0.008748     SPIDER-MAN CLONE/BEN\n",
       "98    0.008644              PAGE, KAREN\n",
       "99    0.008539                     ZABU\n",
       "\n",
       "[100 rows x 2 columns]"
      ]
     },
     "execution_count": 103,
     "metadata": {},
     "output_type": "execute_result"
    }
   ],
   "source": [
    "# We create a new dataframe with only the centralities of the top N heros and their names.\n",
    "\n",
    "df_1"
   ]
  },
  {
   "cell_type": "code",
   "execution_count": 85,
   "id": "f6b8ed6a",
   "metadata": {},
   "outputs": [],
   "source": [
    "# I don't know if we also need this, but I'll add it just in case\n",
    "\n",
    "avg_centrality = sum(df_1['centrality'])/N # Average of all the centralities\n",
    "centrality_node = centralities_topHeros[index_node][0] # Centrality for the given node"
   ]
  },
  {
   "cell_type": "code",
   "execution_count": null,
   "id": "6379b2d7",
   "metadata": {},
   "outputs": [],
   "source": []
  },
  {
   "cell_type": "code",
   "execution_count": null,
   "id": "e4f7af2e",
   "metadata": {},
   "outputs": [],
   "source": []
  }
 ],
 "metadata": {
  "kernelspec": {
   "display_name": "Python 3 (ipykernel)",
   "language": "python",
   "name": "python3"
  },
  "language_info": {
   "codemirror_mode": {
    "name": "ipython",
    "version": 3
   },
   "file_extension": ".py",
   "mimetype": "text/x-python",
   "name": "python",
   "nbconvert_exporter": "python",
   "pygments_lexer": "ipython3",
   "version": "3.9.12"
  }
 },
 "nbformat": 4,
 "nbformat_minor": 5
}
