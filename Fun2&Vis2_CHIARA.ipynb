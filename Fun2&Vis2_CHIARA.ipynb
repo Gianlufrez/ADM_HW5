{
 "cells": [
  {
   "cell_type": "markdown",
   "id": "1335c393",
   "metadata": {},
   "source": [
    "## QUESTION 2 FUNCTIONALITY 2"
   ]
  },
  {
   "cell_type": "code",
   "execution_count": 5,
   "id": "33b532e9",
   "metadata": {},
   "outputs": [],
   "source": [
    "import networkx as nx\n",
    "import pandas as pd\n",
    "import matplotlib.pyplot as plt"
   ]
  },
  {
   "cell_type": "code",
   "execution_count": 6,
   "id": "e893e1a1",
   "metadata": {},
   "outputs": [],
   "source": [
    "heros = pd.read_csv('C:/Users/Chiara Sammarco/Desktop/Università/DATA SCIENCE - Magistrale/Esami da fare/ALGORITHMIC METHODS IN DATA MINING/HW 5/edges.csv')"
   ]
  },
  {
   "cell_type": "code",
   "execution_count": 7,
   "id": "58423ded",
   "metadata": {},
   "outputs": [],
   "source": [
    "G = nx.Graph()"
   ]
  },
  {
   "cell_type": "code",
   "execution_count": 8,
   "id": "348cdbbc",
   "metadata": {},
   "outputs": [],
   "source": [
    "G = nx.from_pandas_edgelist(heros, 'comic', 'hero')"
   ]
  },
  {
   "cell_type": "code",
   "execution_count": 9,
   "id": "c5a22e41",
   "metadata": {},
   "outputs": [
    {
     "name": "stderr",
     "output_type": "stream",
     "text": [
      "C:\\Users\\Chiara Sammarco\\AppData\\Local\\Temp\\ipykernel_8304\\1064119803.py:1: DeprecationWarning: info is deprecated and will be removed in version 3.0.\n",
      "\n",
      "  nx.info(G)\n"
     ]
    },
    {
     "data": {
      "text/plain": [
       "'Graph with 19090 nodes and 96104 edges'"
      ]
     },
     "execution_count": 9,
     "metadata": {},
     "output_type": "execute_result"
    }
   ],
   "source": [
    "nx.info(G)"
   ]
  },
  {
   "cell_type": "code",
   "execution_count": 10,
   "id": "6462e791",
   "metadata": {},
   "outputs": [],
   "source": [
    "# Top N heros. We choose N = 100.\n",
    "\n",
    "N = 100"
   ]
  },
  {
   "cell_type": "code",
   "execution_count": 11,
   "id": "f14355ba",
   "metadata": {},
   "outputs": [],
   "source": [
    "degrees = G.degree(list(set(heros.hero)))"
   ]
  },
  {
   "cell_type": "code",
   "execution_count": 12,
   "id": "869bac8d",
   "metadata": {},
   "outputs": [],
   "source": [
    "# Computing the degree for each superhero in our graph to get the top superheros (which are the top \n",
    "# N heroes who have appeared in the most number of comics).\n",
    "\n",
    "# list_of_degrees is the list of every degree\n",
    "\n",
    "list_of_degrees = []\n",
    "for i in list(set(heros.hero)):\n",
    "    output = degrees[i], i\n",
    "    list_of_degrees.append(output)\n",
    "list_of_degrees = sorted(list_of_degrees, key=lambda data: data[0], reverse=True)"
   ]
  },
  {
   "cell_type": "code",
   "execution_count": 13,
   "id": "c72212a9",
   "metadata": {},
   "outputs": [],
   "source": [
    "# We get the top N heros after sorting the list_of_degrees and getting only the first N elements.\n",
    "\n",
    "top_N_heros = list_of_degrees[:N] # 100 is our N number (but whatever number works)"
   ]
  },
  {
   "cell_type": "code",
   "execution_count": 14,
   "id": "f0df5194",
   "metadata": {},
   "outputs": [],
   "source": [
    "centrality = pd.DataFrame.from_dict(nx.degree_centrality(G), orient='index')"
   ]
  },
  {
   "cell_type": "code",
   "execution_count": 15,
   "id": "5e800d56",
   "metadata": {},
   "outputs": [],
   "source": [
    "# To make things easier we get the list of ONLY the names of the top N heros.\n",
    "\n",
    "names_heros = []\n",
    "for i in range(len(top_N_heros)):\n",
    "    names_heros.append(top_N_heros[i][1])"
   ]
  },
  {
   "cell_type": "code",
   "execution_count": 16,
   "id": "2c34c509",
   "metadata": {},
   "outputs": [],
   "source": [
    "# We create a new dataframe with 2 columns: one with the name of the superhero/comic and another with the centrality measure.\n",
    "\n",
    "df = pd.DataFrame()"
   ]
  },
  {
   "cell_type": "code",
   "execution_count": 17,
   "id": "57a7d022",
   "metadata": {},
   "outputs": [],
   "source": [
    "df['superhero'] = G.nodes()"
   ]
  },
  {
   "cell_type": "code",
   "execution_count": 18,
   "id": "b959562b",
   "metadata": {},
   "outputs": [],
   "source": [
    "# Computing the DegreeCentrality on the (entire) graph.\n",
    "\n",
    "df['centrality'] = pd.DataFrame.from_dict(nx.degree_centrality(G), orient='index')"
   ]
  },
  {
   "cell_type": "code",
   "execution_count": 19,
   "id": "3e1e6ddb",
   "metadata": {},
   "outputs": [],
   "source": [
    "# And now we only get the centralities for the top N heros.\n",
    "\n",
    "centralities_topHeros = []\n",
    "for i in list(df.superhero):\n",
    "    if i in names_heros:\n",
    "        output = df.centrality[i], i\n",
    "        centralities_topHeros.append(output)"
   ]
  },
  {
   "cell_type": "code",
   "execution_count": 31,
   "id": "0ae7a167",
   "metadata": {},
   "outputs": [
    {
     "data": {
      "text/plain": [
       "(0.031588873173031586, 'VISION')"
      ]
     },
     "execution_count": 31,
     "metadata": {},
     "output_type": "execute_result"
    }
   ],
   "source": [
    "# Example for 'The given node's value'\n",
    "\n",
    "node = 'VISION'\n",
    "index_node = sorted(names_heros).index(node)\n",
    "centralities_topHeros[index_node]"
   ]
  },
  {
   "cell_type": "code",
   "execution_count": 21,
   "id": "7fc5c790",
   "metadata": {},
   "outputs": [],
   "source": [
    "df_1 = pd.DataFrame(centralities_topHeros)"
   ]
  },
  {
   "cell_type": "code",
   "execution_count": 22,
   "id": "2f99b02e",
   "metadata": {},
   "outputs": [],
   "source": [
    "df_1['centrality'] = df_1[0]"
   ]
  },
  {
   "cell_type": "code",
   "execution_count": 23,
   "id": "0bef73ae",
   "metadata": {},
   "outputs": [],
   "source": [
    "df_1['hero'] = df_1[1]"
   ]
  },
  {
   "cell_type": "code",
   "execution_count": 24,
   "id": "346f7672",
   "metadata": {},
   "outputs": [],
   "source": [
    "df_1 = df_1.drop(df_1.columns[0], axis=1)"
   ]
  },
  {
   "cell_type": "code",
   "execution_count": 25,
   "id": "bf72e51e",
   "metadata": {},
   "outputs": [],
   "source": [
    "df_1 = df_1.drop(df_1.columns[0], axis=1)"
   ]
  },
  {
   "cell_type": "code",
   "execution_count": 26,
   "id": "87dc07fa",
   "metadata": {},
   "outputs": [
    {
     "data": {
      "text/html": [
       "<div>\n",
       "<style scoped>\n",
       "    .dataframe tbody tr th:only-of-type {\n",
       "        vertical-align: middle;\n",
       "    }\n",
       "\n",
       "    .dataframe tbody tr th {\n",
       "        vertical-align: top;\n",
       "    }\n",
       "\n",
       "    .dataframe thead th {\n",
       "        text-align: right;\n",
       "    }\n",
       "</style>\n",
       "<table border=\"1\" class=\"dataframe\">\n",
       "  <thead>\n",
       "    <tr style=\"text-align: right;\">\n",
       "      <th></th>\n",
       "      <th>centrality</th>\n",
       "      <th>hero</th>\n",
       "    </tr>\n",
       "  </thead>\n",
       "  <tbody>\n",
       "    <tr>\n",
       "      <th>0</th>\n",
       "      <td>0.023259</td>\n",
       "      <td>ANGEL/WARREN KENNETH</td>\n",
       "    </tr>\n",
       "    <tr>\n",
       "      <th>1</th>\n",
       "      <td>0.029389</td>\n",
       "      <td>ANT-MAN/DR. HENRY J.</td>\n",
       "    </tr>\n",
       "    <tr>\n",
       "      <th>2</th>\n",
       "      <td>0.013358</td>\n",
       "      <td>BALDER [ASGARDIAN]</td>\n",
       "    </tr>\n",
       "    <tr>\n",
       "      <th>3</th>\n",
       "      <td>0.013254</td>\n",
       "      <td>BANNER, BETTY ROSS T</td>\n",
       "    </tr>\n",
       "    <tr>\n",
       "      <th>4</th>\n",
       "      <td>0.011682</td>\n",
       "      <td>BANSHEE/SEAN CASSIDY</td>\n",
       "    </tr>\n",
       "    <tr>\n",
       "      <th>...</th>\n",
       "      <td>...</td>\n",
       "      <td>...</td>\n",
       "    </tr>\n",
       "    <tr>\n",
       "      <th>95</th>\n",
       "      <td>0.011787</td>\n",
       "      <td>WOLFSBANE/RAHNE SINC</td>\n",
       "    </tr>\n",
       "    <tr>\n",
       "      <th>96</th>\n",
       "      <td>0.042904</td>\n",
       "      <td>WOLVERINE/LOGAN</td>\n",
       "    </tr>\n",
       "    <tr>\n",
       "      <th>97</th>\n",
       "      <td>0.020431</td>\n",
       "      <td>WONDER MAN/SIMON WIL</td>\n",
       "    </tr>\n",
       "    <tr>\n",
       "      <th>98</th>\n",
       "      <td>0.011577</td>\n",
       "      <td>WONG</td>\n",
       "    </tr>\n",
       "    <tr>\n",
       "      <th>99</th>\n",
       "      <td>0.008539</td>\n",
       "      <td>ZABU</td>\n",
       "    </tr>\n",
       "  </tbody>\n",
       "</table>\n",
       "<p>100 rows × 2 columns</p>\n",
       "</div>"
      ],
      "text/plain": [
       "    centrality                  hero\n",
       "0     0.023259  ANGEL/WARREN KENNETH\n",
       "1     0.029389  ANT-MAN/DR. HENRY J.\n",
       "2     0.013358    BALDER [ASGARDIAN]\n",
       "3     0.013254  BANNER, BETTY ROSS T\n",
       "4     0.011682  BANSHEE/SEAN CASSIDY\n",
       "..         ...                   ...\n",
       "95    0.011787  WOLFSBANE/RAHNE SINC\n",
       "96    0.042904       WOLVERINE/LOGAN\n",
       "97    0.020431  WONDER MAN/SIMON WIL\n",
       "98    0.011577                  WONG\n",
       "99    0.008539                  ZABU\n",
       "\n",
       "[100 rows x 2 columns]"
      ]
     },
     "execution_count": 26,
     "metadata": {},
     "output_type": "execute_result"
    }
   ],
   "source": [
    "# We create a new dataframe with only the centralities of the top N heros and their names.\n",
    "\n",
    "df_1"
   ]
  },
  {
   "cell_type": "code",
   "execution_count": 33,
   "id": "f6b8ed6a",
   "metadata": {},
   "outputs": [],
   "source": [
    "# I don't know if we also need this, but I'll add it just in case\n",
    "\n",
    "avg_centrality = sum(df_1['centrality'])/N # Average of all the centralities\n",
    "centrality_node = centralities_topHeros[index_node][0] # Centrality for the given node"
   ]
  },
  {
   "cell_type": "code",
   "execution_count": null,
   "id": "6379b2d7",
   "metadata": {},
   "outputs": [],
   "source": []
  },
  {
   "cell_type": "code",
   "execution_count": null,
   "id": "e4f7af2e",
   "metadata": {},
   "outputs": [],
   "source": []
  }
 ],
 "metadata": {
  "kernelspec": {
   "display_name": "Python 3 (ipykernel)",
   "language": "python",
   "name": "python3"
  },
  "language_info": {
   "codemirror_mode": {
    "name": "ipython",
    "version": 3
   },
   "file_extension": ".py",
   "mimetype": "text/x-python",
   "name": "python",
   "nbconvert_exporter": "python",
   "pygments_lexer": "ipython3",
   "version": "3.9.12"
  }
 },
 "nbformat": 4,
 "nbformat_minor": 5
}
